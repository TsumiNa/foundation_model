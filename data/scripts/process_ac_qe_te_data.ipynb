{
 "cells": [
  {
   "cell_type": "code",
   "execution_count": 1,
   "id": "4ab89bda-1265-42d6-a748-0f8caca3fd08",
   "metadata": {},
   "outputs": [],
   "source": [
    "import pandas as pd\n",
    "import numpy as np\n",
    "import seaborn as sns\n",
    "import joblib\n",
    "\n",
    "import matplotlib.pyplot as plt\n",
    "from scipy.interpolate import interp1d\n",
    "from pathlib import Path\n",
    "from pymatgen.core import Structure, Composition, Element\n",
    "\n",
    "# user-friendly print\n",
    "from IPython.core.interactiveshell import InteractiveShell\n",
    "InteractiveShell.ast_node_interactivity = \"all\""
   ]
  },
  {
   "cell_type": "code",
   "execution_count": 2,
   "id": "7cd3dd2a-a98f-4a3e-babe-ffaa33d63a88",
   "metadata": {},
   "outputs": [],
   "source": [
    "def convert_mass_magnetization(comp: Composition, mass_magnetization: float, cgs_to_si: bool = True) -> float:\n",
    "    \"\"\"\n",
    "    转换质量磁化率的单位，根据布尔参数决定转换方向。\n",
    "\n",
    "    参数:\n",
    "        comp: pymatgen.core.composition.Composition\n",
    "            物质的化学组成，用于计算摩尔质量 (g/mol)。\n",
    "        mass_magnetization: float\n",
    "            当 cgs_to_si 为 True 时，表示 CGS 制的质量磁化率 (emu/g)；\n",
    "            当 cgs_to_si 为 False 时，表示 SI 制的摩尔磁矩 (A·m²/mol)。\n",
    "        cgs_to_si: bool, 默认 True\n",
    "            转换方向选择：\n",
    "                True  : 从 CGS (emu/g) 转换到 SI (A·m²/mol)\n",
    "                False : 从 SI (A·m²/mol) 转换到 CGS (emu/g)\n",
    "\n",
    "    返回:\n",
    "        float: 转换后的磁化率数值，\n",
    "               如果 cgs_to_si=True，单位为 A·m²/mol；\n",
    "               如果 cgs_to_si=False，单位为 emu/g。\n",
    "    \"\"\"\n",
    "    molar_mass = comp.weight  # 单位：g/mol\n",
    "\n",
    "    if cgs_to_si:\n",
    "        # 从 CGS 转换到 SI:\n",
    "        # mass_magnetization (emu/g) * molar_mass (g/mol) = emu/mol\n",
    "        # 1 emu = 1e-3 A·m², 所以转换为 SI 得到 A·m²/mol\n",
    "        result = mass_magnetization * molar_mass * 1e-3\n",
    "    else:\n",
    "        # 从 SI 转换到 CGS:\n",
    "        # mass_magnetization 表示 SI 制 (A·m²/mol)\n",
    "        # 先转换为 emu/mol: 1 A·m² = 1e3 emu, 然后除以 molar_mass (g/mol) 得到 emu/g\n",
    "        result = mass_magnetization * 1e3 / molar_mass\n",
    "\n",
    "    return result\n",
    "\n",
    "def convert_composition(comp: str) -> Composition:\n",
    "    try:\n",
    "        return Composition(comp)\n",
    "    except:\n",
    "        return None\n",
    "\n",
    "def format_title(text, to_snake=False, skip_list=None):\n",
    "    \"\"\"\n",
    "    将输入文本格式化为首字母大写格式或转换为蛇形命名法，并支持指定不需要格式化的单词\n",
    "    例如: 'aaa_xxxx' -> 'Aaa xxxx' 或 'AaaXxxx' -> 'aaa_xxxx'\n",
    "\n",
    "    Parameters\n",
    "    ----------\n",
    "    text : str\n",
    "        输入文本\n",
    "    to_snake : bool, optional\n",
    "        是否转换为蛇形命名法，默认为 False\n",
    "    skip_list : list of str, optional\n",
    "        指定部分单词不做格式化，默认为 None\n",
    "\n",
    "    Returns\n",
    "    -------\n",
    "    str\n",
    "        格式化后的文本\n",
    "    \"\"\"\n",
    "    if not isinstance(text, str):\n",
    "        raise ValueError(\"Input must be a string\")\n",
    "\n",
    "    if text is None or text.strip() == \"\":\n",
    "        return text\n",
    "\n",
    "    if skip_list is None:\n",
    "        skip_list = []\n",
    "\n",
    "    if to_snake:\n",
    "        # 将空格拆分为单词，并转换为蛇形命名法，保留skip_list中的单词不变\n",
    "        words = text.strip().split()\n",
    "        formatted = [word if word in skip_list else word.lower() for word in words]\n",
    "        return \"_\".join(formatted)\n",
    "    else:\n",
    "        # 将下划线替换为空格，并分割成单词\n",
    "        words = text.replace(\"_\", \" \").strip().split()\n",
    "        if not words:\n",
    "            return text\n",
    "        # 格式化：第一个单词首字母大写，其他单词全部小写（除非在skip_list中）\n",
    "        formatted = []\n",
    "        for i, word in enumerate(words):\n",
    "            if word in skip_list:\n",
    "                formatted.append(word)\n",
    "            else:\n",
    "                formatted.append(word.capitalize() if i == 0 else word.lower())\n",
    "        return \" \".join(formatted)"
   ]
  },
  {
   "cell_type": "markdown",
   "id": "fcb8e8a6-71d6-430c-af54-62c5f331e3db",
   "metadata": {},
   "source": [
    "#### QC AC data"
   ]
  },
  {
   "cell_type": "code",
   "execution_count": 4,
   "id": "7e545f1b-f424-485e-a247-e42e830afbb0",
   "metadata": {},
   "outputs": [
    {
     "data": {
      "text/html": [
       "<div>\n",
       "<style scoped>\n",
       "    .dataframe tbody tr th:only-of-type {\n",
       "        vertical-align: middle;\n",
       "    }\n",
       "\n",
       "    .dataframe tbody tr th {\n",
       "        vertical-align: top;\n",
       "    }\n",
       "\n",
       "    .dataframe thead th {\n",
       "        text-align: right;\n",
       "    }\n",
       "</style>\n",
       "<table border=\"1\" class=\"dataframe\">\n",
       "  <thead>\n",
       "    <tr style=\"text-align: right;\">\n",
       "      <th></th>\n",
       "      <th>formula</th>\n",
       "      <th>hypermaterial_type</th>\n",
       "      <th>prop_x</th>\n",
       "      <th>prop_y</th>\n",
       "      <th>unit_x</th>\n",
       "      <th>unit_y</th>\n",
       "      <th>x</th>\n",
       "      <th>y</th>\n",
       "      <th>sample_id</th>\n",
       "      <th>DOI</th>\n",
       "      <th>composition</th>\n",
       "      <th>elements</th>\n",
       "    </tr>\n",
       "  </thead>\n",
       "  <tbody>\n",
       "    <tr>\n",
       "      <th>0</th>\n",
       "      <td>Y12Mg29Zn59</td>\n",
       "      <td>IQC</td>\n",
       "      <td>Temperature</td>\n",
       "      <td>Electrical resistivity</td>\n",
       "      <td>K</td>\n",
       "      <td>ohm*m</td>\n",
       "      <td>9.608498</td>\n",
       "      <td>0.000002</td>\n",
       "      <td>17976</td>\n",
       "      <td>10.1063/1.1406555</td>\n",
       "      <td>(Y, Mg, Zn)</td>\n",
       "      <td>(Y, Mg, Zn)</td>\n",
       "    </tr>\n",
       "    <tr>\n",
       "      <th>1</th>\n",
       "      <td>Y12Mg29Zn59</td>\n",
       "      <td>IQC</td>\n",
       "      <td>Temperature</td>\n",
       "      <td>Electrical resistivity</td>\n",
       "      <td>K</td>\n",
       "      <td>ohm*m</td>\n",
       "      <td>19.835030</td>\n",
       "      <td>0.000002</td>\n",
       "      <td>17976</td>\n",
       "      <td>10.1063/1.1406555</td>\n",
       "      <td>(Y, Mg, Zn)</td>\n",
       "      <td>(Y, Mg, Zn)</td>\n",
       "    </tr>\n",
       "    <tr>\n",
       "      <th>2</th>\n",
       "      <td>Y12Mg29Zn59</td>\n",
       "      <td>IQC</td>\n",
       "      <td>Temperature</td>\n",
       "      <td>Electrical resistivity</td>\n",
       "      <td>K</td>\n",
       "      <td>ohm*m</td>\n",
       "      <td>31.782880</td>\n",
       "      <td>0.000002</td>\n",
       "      <td>17976</td>\n",
       "      <td>10.1063/1.1406555</td>\n",
       "      <td>(Y, Mg, Zn)</td>\n",
       "      <td>(Y, Mg, Zn)</td>\n",
       "    </tr>\n",
       "  </tbody>\n",
       "</table>\n",
       "</div>"
      ],
      "text/plain": [
       "       formula hypermaterial_type       prop_x                  prop_y unit_x  \\\n",
       "0  Y12Mg29Zn59                IQC  Temperature  Electrical resistivity      K   \n",
       "1  Y12Mg29Zn59                IQC  Temperature  Electrical resistivity      K   \n",
       "2  Y12Mg29Zn59                IQC  Temperature  Electrical resistivity      K   \n",
       "\n",
       "  unit_y          x         y sample_id                DOI  composition  \\\n",
       "0  ohm*m   9.608498  0.000002     17976  10.1063/1.1406555  (Y, Mg, Zn)   \n",
       "1  ohm*m  19.835030  0.000002     17976  10.1063/1.1406555  (Y, Mg, Zn)   \n",
       "2  ohm*m  31.782880  0.000002     17976  10.1063/1.1406555  (Y, Mg, Zn)   \n",
       "\n",
       "      elements  \n",
       "0  (Y, Mg, Zn)  \n",
       "1  (Y, Mg, Zn)  \n",
       "2  (Y, Mg, Zn)  "
      ]
     },
     "execution_count": 4,
     "metadata": {},
     "output_type": "execute_result"
    },
    {
     "data": {
      "text/plain": [
       "(50129, 12)"
      ]
     },
     "execution_count": 4,
     "metadata": {},
     "output_type": "execute_result"
    }
   ],
   "source": [
    "qc_ac_dataset = pd.read_csv('../raw/properties_dataset.csv').dropna().drop(columns=['sample_name', 'figure_id', 'degree_of_approximant', 'SID'])\n",
    "qc_ac_dataset = qc_ac_dataset.rename(columns={'composition': 'formula'})\n",
    "\n",
    "# Drop Specific heat since these value is to describe the temperature derivative of the molar heat capacity or the second-order temperature effects\n",
    "qc_ac_dataset = qc_ac_dataset[~qc_ac_dataset.prop_y.isin(['Specific heat', 'Specific heat capacity'])]\n",
    "\n",
    "# Try to convert the composition string to the Composition object\n",
    "qc_ac_dataset = qc_ac_dataset.assign(composition=qc_ac_dataset['formula'].apply(convert_composition)).dropna()\n",
    "qc_ac_dataset = qc_ac_dataset.assign(elements=qc_ac_dataset.composition.apply(lambda c: tuple([str(e) for e in c.elements])))\n",
    "\n",
    "# Align unit of Magnetic susceptibility\n",
    "tmp = qc_ac_dataset[qc_ac_dataset.unit_y == 'emu*g^(-1)']\n",
    "tmp = tmp.assign(\n",
    "    unit_y='A*m**2/mol',\n",
    "    y=[convert_mass_magnetization(comp, y) for comp, y in zip(tmp.composition, tmp.y)]\n",
    ")\n",
    "qc_ac_dataset.loc[tmp.index] = tmp\n",
    "\n",
    "qc_ac_dataset.head(3)\n",
    "qc_ac_dataset.shape"
   ]
  },
  {
   "cell_type": "raw",
   "id": "6e53f647-52f8-434d-a2f8-363f821f1028",
   "metadata": {},
   "source": [
    "qc_ac_dataset[qc_ac_dataset.prop_y == 'Magnetic susceptibility'].unit_y.unique()\n",
    "qc_ac_dataset[qc_ac_dataset.prop_y == 'Magnetic susceptibility']"
   ]
  },
  {
   "cell_type": "code",
   "execution_count": 5,
   "id": "8bb69ede-bba5-47e4-a174-234ab8eb836f",
   "metadata": {},
   "outputs": [
    {
     "data": {
      "text/html": [
       "<div>\n",
       "<style scoped>\n",
       "    .dataframe tbody tr th:only-of-type {\n",
       "        vertical-align: middle;\n",
       "    }\n",
       "\n",
       "    .dataframe tbody tr th {\n",
       "        vertical-align: top;\n",
       "    }\n",
       "\n",
       "    .dataframe thead th {\n",
       "        text-align: right;\n",
       "    }\n",
       "</style>\n",
       "<table border=\"1\" class=\"dataframe\">\n",
       "  <thead>\n",
       "    <tr style=\"text-align: right;\">\n",
       "      <th></th>\n",
       "      <th>formula</th>\n",
       "      <th>hypermaterial_type</th>\n",
       "      <th>property</th>\n",
       "      <th>unit</th>\n",
       "      <th>temperature</th>\n",
       "      <th>property_value</th>\n",
       "      <th>sample_id</th>\n",
       "      <th>DOI</th>\n",
       "      <th>composition</th>\n",
       "      <th>elements</th>\n",
       "    </tr>\n",
       "  </thead>\n",
       "  <tbody>\n",
       "    <tr>\n",
       "      <th>qa_0</th>\n",
       "      <td>Al61.5Cu26.5Fe12</td>\n",
       "      <td>IQC</td>\n",
       "      <td>Seebeck coefficient</td>\n",
       "      <td>V*K^(-1)</td>\n",
       "      <td>290</td>\n",
       "      <td>-1.1863527516689362e-05</td>\n",
       "      <td>57966</td>\n",
       "      <td>10.1007/s11664-014-3204-4</td>\n",
       "      <td>(Al, Cu, Fe)</td>\n",
       "      <td>(Al, Cu, Fe)</td>\n",
       "    </tr>\n",
       "    <tr>\n",
       "      <th>qa_1</th>\n",
       "      <td>Al61.5Cu26.5Fe12</td>\n",
       "      <td>IQC</td>\n",
       "      <td>Thermal conductivity</td>\n",
       "      <td>W*m^(-1)*K^(-1)</td>\n",
       "      <td>290</td>\n",
       "      <td>1.4258964578008275</td>\n",
       "      <td>57966</td>\n",
       "      <td>10.1007/s11664-014-3204-4</td>\n",
       "      <td>(Al, Cu, Fe)</td>\n",
       "      <td>(Al, Cu, Fe)</td>\n",
       "    </tr>\n",
       "    <tr>\n",
       "      <th>qa_2</th>\n",
       "      <td>Ag42.25In42.25Yb15.5</td>\n",
       "      <td>IQC</td>\n",
       "      <td>Electrical resistivity</td>\n",
       "      <td>ohm*m</td>\n",
       "      <td>290</td>\n",
       "      <td>2.0436187897844928e-06</td>\n",
       "      <td>35352</td>\n",
       "      <td>10.1103/physrevb.72.054202</td>\n",
       "      <td>(Ag, In, Yb)</td>\n",
       "      <td>(Ag, In, Yb)</td>\n",
       "    </tr>\n",
       "  </tbody>\n",
       "</table>\n",
       "</div>"
      ],
      "text/plain": [
       "                   formula hypermaterial_type                property  \\\n",
       "qa_0      Al61.5Cu26.5Fe12                IQC     Seebeck coefficient   \n",
       "qa_1      Al61.5Cu26.5Fe12                IQC    Thermal conductivity   \n",
       "qa_2  Ag42.25In42.25Yb15.5                IQC  Electrical resistivity   \n",
       "\n",
       "                 unit  temperature           property_value sample_id  \\\n",
       "qa_0         V*K^(-1)          290  -1.1863527516689362e-05     57966   \n",
       "qa_1  W*m^(-1)*K^(-1)          290       1.4258964578008275     57966   \n",
       "qa_2            ohm*m          290   2.0436187897844928e-06     35352   \n",
       "\n",
       "                             DOI   composition      elements  \n",
       "qa_0   10.1007/s11664-014-3204-4  (Al, Cu, Fe)  (Al, Cu, Fe)  \n",
       "qa_1   10.1007/s11664-014-3204-4  (Al, Cu, Fe)  (Al, Cu, Fe)  \n",
       "qa_2  10.1103/physrevb.72.054202  (Ag, In, Yb)  (Ag, In, Yb)  "
      ]
     },
     "execution_count": 5,
     "metadata": {},
     "output_type": "execute_result"
    },
    {
     "data": {
      "text/plain": [
       "(416, 10)"
      ]
     },
     "execution_count": 5,
     "metadata": {},
     "output_type": "execute_result"
    },
    {
     "data": {
      "text/plain": [
       "property\n",
       "Electrical resistivity     250\n",
       "Seebeck coefficient         56\n",
       "Thermal conductivity        53\n",
       "Magnetic susceptibility     34\n",
       "Hall coefficient            11\n",
       "Power factor                 7\n",
       "ZT                           5\n",
       "Name: count, dtype: int64"
      ]
     },
     "execution_count": 5,
     "metadata": {},
     "output_type": "execute_result"
    }
   ],
   "source": [
    "# temperature == 290 K\n",
    "T = 290\n",
    "\n",
    "qc_ac_dataset_rebuild = []\n",
    "for _, data in qc_ac_dataset.groupby(['formula', 'prop_y', 'sample_id']):\n",
    "    if data.x.min() <= T <= data.x.max():\n",
    "        interp_func = interp1d(data.x, data.y, kind='linear')\n",
    "        \n",
    "        tmp = data.iloc[0].copy()\n",
    "        tmp.x = T\n",
    "        tmp.y = interp_func(T)\n",
    "\n",
    "        qc_ac_dataset_rebuild.append(tmp)\n",
    "\n",
    "qc_ac_dataset_rebuild = pd.DataFrame(qc_ac_dataset_rebuild).rename(\n",
    "    columns={'prop_y': 'property', 'unit_y': 'unit', 'x': 'temperature', 'y': 'property_value'}\n",
    ").drop(columns=['prop_x', 'unit_x'])\n",
    "\n",
    "tmp = []\n",
    "for _, data in qc_ac_dataset_rebuild.groupby(['formula', 'property']):\n",
    "    tmp.append(data.max())\n",
    "\n",
    "qc_ac_dataset_rebuild = pd.DataFrame(tmp)\n",
    "qc_ac_dataset_rebuild = qc_ac_dataset_rebuild.set_index([[f'qa_{i}' for i in qc_ac_dataset_rebuild.index]], drop=True)\n",
    "qc_ac_dataset_rebuild.head(3)\n",
    "qc_ac_dataset_rebuild.shape\n",
    "qc_ac_dataset_rebuild.property.value_counts()"
   ]
  },
  {
   "cell_type": "raw",
   "id": "dc83ca9f-73be-44a6-be0b-d60bc96517e3",
   "metadata": {},
   "source": [
    "plt.plot(eval(starry_dataset.loc[105477].x), eval(starry_dataset.loc[105477].y))"
   ]
  },
  {
   "cell_type": "raw",
   "id": "efc49194-6243-4a57-b394-104b781fe06c",
   "metadata": {},
   "source": [
    "starry_dataset[starry_dataset.prop_y.apply(lambda s: 'Specific' in  s)].drop(columns=['x', 'y'])"
   ]
  },
  {
   "cell_type": "raw",
   "id": "99fc3e61-160b-4ebf-ad79-e273b9912c41",
   "metadata": {},
   "source": [
    "starry_dataset[starry_dataset.prop_y.apply(lambda s: 'Specific' in  s)].prop_y.unique()"
   ]
  },
  {
   "cell_type": "markdown",
   "id": "c6fe956b-f835-457e-aec9-fccd0f6849ee",
   "metadata": {},
   "source": [
    "#### starry data"
   ]
  },
  {
   "cell_type": "code",
   "execution_count": 7,
   "id": "acdbdf08-ff5d-495c-8f62-6b855785a543",
   "metadata": {},
   "outputs": [
    {
     "data": {
      "text/html": [
       "<div>\n",
       "<style scoped>\n",
       "    .dataframe tbody tr th:only-of-type {\n",
       "        vertical-align: middle;\n",
       "    }\n",
       "\n",
       "    .dataframe tbody tr th {\n",
       "        vertical-align: top;\n",
       "    }\n",
       "\n",
       "    .dataframe thead th {\n",
       "        text-align: right;\n",
       "    }\n",
       "</style>\n",
       "<table border=\"1\" class=\"dataframe\">\n",
       "  <thead>\n",
       "    <tr style=\"text-align: right;\">\n",
       "      <th></th>\n",
       "      <th>formula</th>\n",
       "      <th>hypermaterial_type</th>\n",
       "      <th>prop_x</th>\n",
       "      <th>prop_y</th>\n",
       "      <th>unit_x</th>\n",
       "      <th>unit_y</th>\n",
       "      <th>x</th>\n",
       "      <th>y</th>\n",
       "      <th>sample_id</th>\n",
       "      <th>DOI</th>\n",
       "      <th>composition</th>\n",
       "      <th>elements</th>\n",
       "    </tr>\n",
       "  </thead>\n",
       "  <tbody>\n",
       "    <tr>\n",
       "      <th>0</th>\n",
       "      <td>Pb1.00025Zn0.02Te1.02I0.0005</td>\n",
       "      <td>others</td>\n",
       "      <td>Temperature</td>\n",
       "      <td>Seebeck coefficient</td>\n",
       "      <td>K</td>\n",
       "      <td>V*k^(-1)</td>\n",
       "      <td>[299.8597,324.8683,349.8757,375.2454,399.8985,...</td>\n",
       "      <td>[-0.0001484452,-0.0001602763,-0.0001729511,-0....</td>\n",
       "      <td>113</td>\n",
       "      <td>10.1021/am405410e</td>\n",
       "      <td>(Pb, Zn, Te, I)</td>\n",
       "      <td>(Pb, Zn, Te, I)</td>\n",
       "    </tr>\n",
       "    <tr>\n",
       "      <th>1</th>\n",
       "      <td>Na0.0035Pb0.9965Se1</td>\n",
       "      <td>others</td>\n",
       "      <td>Temperature</td>\n",
       "      <td>Seebeck coefficient</td>\n",
       "      <td>K</td>\n",
       "      <td>V*k^(-1)</td>\n",
       "      <td>[317.7914,379.1411,384.0491,431.9018,452.7607,...</td>\n",
       "      <td>[0.0000727595,0.00007374922,0.00009257471,0.00...</td>\n",
       "      <td>147</td>\n",
       "      <td>10.1002/adma.201004200</td>\n",
       "      <td>(Na, Pb, Se)</td>\n",
       "      <td>(Na, Pb, Se)</td>\n",
       "    </tr>\n",
       "    <tr>\n",
       "      <th>2</th>\n",
       "      <td>Pb1.03Sb0.03Te1</td>\n",
       "      <td>others</td>\n",
       "      <td>Temperature</td>\n",
       "      <td>Seebeck coefficient</td>\n",
       "      <td>K</td>\n",
       "      <td>V*k^(-1)</td>\n",
       "      <td>[333.1159,340.5494,347.983,355.4166,362.8501,3...</td>\n",
       "      <td>[-0.0000235374,-0.00002455838,-0.00002681692,-...</td>\n",
       "      <td>434</td>\n",
       "      <td>10.1002/anie.200803934</td>\n",
       "      <td>(Pb, Sb, Te)</td>\n",
       "      <td>(Pb, Sb, Te)</td>\n",
       "    </tr>\n",
       "  </tbody>\n",
       "</table>\n",
       "</div>"
      ],
      "text/plain": [
       "                        formula hypermaterial_type       prop_x  \\\n",
       "0  Pb1.00025Zn0.02Te1.02I0.0005             others  Temperature   \n",
       "1           Na0.0035Pb0.9965Se1             others  Temperature   \n",
       "2               Pb1.03Sb0.03Te1             others  Temperature   \n",
       "\n",
       "                prop_y unit_x    unit_y  \\\n",
       "0  Seebeck coefficient      K  V*k^(-1)   \n",
       "1  Seebeck coefficient      K  V*k^(-1)   \n",
       "2  Seebeck coefficient      K  V*k^(-1)   \n",
       "\n",
       "                                                   x  \\\n",
       "0  [299.8597,324.8683,349.8757,375.2454,399.8985,...   \n",
       "1  [317.7914,379.1411,384.0491,431.9018,452.7607,...   \n",
       "2  [333.1159,340.5494,347.983,355.4166,362.8501,3...   \n",
       "\n",
       "                                                   y  sample_id  \\\n",
       "0  [-0.0001484452,-0.0001602763,-0.0001729511,-0....        113   \n",
       "1  [0.0000727595,0.00007374922,0.00009257471,0.00...        147   \n",
       "2  [-0.0000235374,-0.00002455838,-0.00002681692,-...        434   \n",
       "\n",
       "                      DOI      composition         elements  \n",
       "0       10.1021/am405410e  (Pb, Zn, Te, I)  (Pb, Zn, Te, I)  \n",
       "1  10.1002/adma.201004200     (Na, Pb, Se)     (Na, Pb, Se)  \n",
       "2  10.1002/anie.200803934     (Pb, Sb, Te)     (Pb, Sb, Te)  "
      ]
     },
     "execution_count": 7,
     "metadata": {},
     "output_type": "execute_result"
    },
    {
     "data": {
      "text/plain": [
       "(137677, 12)"
      ]
     },
     "execution_count": 7,
     "metadata": {},
     "output_type": "execute_result"
    }
   ],
   "source": [
    "starry_dataset = pd.read_csv('../raw/starrydata_curves_20250201.csv')\n",
    "starry_dataset = starry_dataset.rename(columns={'composition': 'formula'})\n",
    "starry_dataset = starry_dataset.assign(\n",
    "    prop_x=starry_dataset.prop_x.apply(lambda s: format_title(s, to_snake=False)),\n",
    "    prop_y=starry_dataset.prop_y.apply(lambda s: format_title(s, to_snake=False, skip_list=['ZT'])),\n",
    "    unit_x=starry_dataset.unit_x.apply(lambda s: format_title(s, to_snake=False)),\n",
    "    unit_y=starry_dataset.unit_y.apply(lambda s: format_title(s, to_snake=False)),\n",
    ")\n",
    "\n",
    "# Drop extremely small data\n",
    "starry_dataset = starry_dataset[starry_dataset.unit_x == 'K']\n",
    "starry_dataset = starry_dataset[~starry_dataset.prop_y.isin(['Carrier thermal conductivity', 'Phonon thermal conductance'])]\n",
    "starry_dataset = starry_dataset[starry_dataset.prop_y.isin(starry_dataset.prop_y.unique()[starry_dataset.prop_y.value_counts() >= 500])]\n",
    "\n",
    "starry_dataset = starry_dataset[~starry_dataset.sample_id.isin([int(i) for i in qc_ac_dataset.sample_id if not i.startswith('hmt')])].assign(hypermaterial_type='others')\n",
    "starry_dataset = starry_dataset[[\n",
    "    'formula', 'hypermaterial_type', 'prop_x', 'prop_y', 'unit_x', 'unit_y', 'x', 'y', 'sample_id', 'DOI'\n",
    "]].dropna()\n",
    "\n",
    "# Try to convert the composition string to the Composition object\n",
    "starry_dataset = starry_dataset.assign(composition=starry_dataset['formula'].apply(convert_composition)).dropna()\n",
    "starry_dataset = starry_dataset.assign(elements=starry_dataset.composition.apply(lambda c: tuple([str(e) for e in c.elements])))\n",
    "\n",
    "starry_dataset.head(3)\n",
    "starry_dataset.shape"
   ]
  },
  {
   "cell_type": "raw",
   "id": "7df0f5da-9262-49fb-98f4-006c007f58fb",
   "metadata": {},
   "source": [
    "dois = pd.Series(starry_dataset.DOI.unique()).sample(n=20, random_state=0)\n",
    "starry_dataset[starry_dataset.DOI.isin(dois)].to_csv('starrydata_checking_dataset.csv')"
   ]
  },
  {
   "cell_type": "code",
   "execution_count": 8,
   "id": "19f7b811-fe2f-4a4f-a926-c501268d7e45",
   "metadata": {},
   "outputs": [
    {
     "data": {
      "text/html": [
       "<div>\n",
       "<style scoped>\n",
       "    .dataframe tbody tr th:only-of-type {\n",
       "        vertical-align: middle;\n",
       "    }\n",
       "\n",
       "    .dataframe tbody tr th {\n",
       "        vertical-align: top;\n",
       "    }\n",
       "\n",
       "    .dataframe thead th {\n",
       "        text-align: right;\n",
       "    }\n",
       "</style>\n",
       "<table border=\"1\" class=\"dataframe\">\n",
       "  <thead>\n",
       "    <tr style=\"text-align: right;\">\n",
       "      <th></th>\n",
       "      <th>formula</th>\n",
       "      <th>hypermaterial_type</th>\n",
       "      <th>property</th>\n",
       "      <th>unit</th>\n",
       "      <th>temperature</th>\n",
       "      <th>property_value</th>\n",
       "      <th>sample_id</th>\n",
       "      <th>DOI</th>\n",
       "      <th>composition</th>\n",
       "      <th>elements</th>\n",
       "    </tr>\n",
       "  </thead>\n",
       "  <tbody>\n",
       "    <tr>\n",
       "      <th>starry_0</th>\n",
       "      <td>(ErAs)0.003InGaAs</td>\n",
       "      <td>others</td>\n",
       "      <td>Thermal conductivity</td>\n",
       "      <td>W*m^(-1)*k^(-1)</td>\n",
       "      <td>290</td>\n",
       "      <td>3.2670491071158483</td>\n",
       "      <td>19588</td>\n",
       "      <td>10.1063/1.2207829</td>\n",
       "      <td>(Er, As, In, Ga)</td>\n",
       "      <td>(Er, As, In, Ga)</td>\n",
       "    </tr>\n",
       "    <tr>\n",
       "      <th>starry_1</th>\n",
       "      <td>Bi2Te2.4Se0.6</td>\n",
       "      <td>others</td>\n",
       "      <td>Carrier concentration</td>\n",
       "      <td>M^(-3)</td>\n",
       "      <td>290</td>\n",
       "      <td>-5.436073908332581e+24</td>\n",
       "      <td>9003</td>\n",
       "      <td>10.1103/physrevb.89.125416</td>\n",
       "      <td>(Bi, Te, Se)</td>\n",
       "      <td>(Bi, Te, Se)</td>\n",
       "    </tr>\n",
       "    <tr>\n",
       "      <th>starry_2</th>\n",
       "      <td>Bi2Te2.4Se0.6</td>\n",
       "      <td>others</td>\n",
       "      <td>Electrical conductivity</td>\n",
       "      <td>Ohm^(-1)*m^(-1)</td>\n",
       "      <td>290</td>\n",
       "      <td>1063.8779641515926</td>\n",
       "      <td>9003</td>\n",
       "      <td>10.1103/physrevb.89.125416</td>\n",
       "      <td>(Bi, Te, Se)</td>\n",
       "      <td>(Bi, Te, Se)</td>\n",
       "    </tr>\n",
       "  </tbody>\n",
       "</table>\n",
       "</div>"
      ],
      "text/plain": [
       "                     formula hypermaterial_type                 property  \\\n",
       "starry_0   (ErAs)0.003InGaAs             others     Thermal conductivity   \n",
       "starry_1       Bi2Te2.4Se0.6             others    Carrier concentration   \n",
       "starry_2       Bi2Te2.4Se0.6             others  Electrical conductivity   \n",
       "\n",
       "                     unit  temperature          property_value  sample_id  \\\n",
       "starry_0  W*m^(-1)*k^(-1)          290      3.2670491071158483      19588   \n",
       "starry_1           M^(-3)          290  -5.436073908332581e+24       9003   \n",
       "starry_2  Ohm^(-1)*m^(-1)          290      1063.8779641515926       9003   \n",
       "\n",
       "                                 DOI       composition          elements  \n",
       "starry_0           10.1063/1.2207829  (Er, As, In, Ga)  (Er, As, In, Ga)  \n",
       "starry_1  10.1103/physrevb.89.125416      (Bi, Te, Se)      (Bi, Te, Se)  \n",
       "starry_2  10.1103/physrevb.89.125416      (Bi, Te, Se)      (Bi, Te, Se)  "
      ]
     },
     "execution_count": 8,
     "metadata": {},
     "output_type": "execute_result"
    },
    {
     "data": {
      "text/plain": [
       "(15959, 10)"
      ]
     },
     "execution_count": 8,
     "metadata": {},
     "output_type": "execute_result"
    },
    {
     "data": {
      "text/plain": [
       "property\n",
       "Seebeck coefficient                4892\n",
       "Electrical resistivity             4494\n",
       "Thermal conductivity               2329\n",
       "ZT                                 1407\n",
       "Power factor                       1022\n",
       "Electrical conductivity             822\n",
       "Carrier concentration               370\n",
       "Lattice thermal conductivity        334\n",
       "Thermopower                         184\n",
       "Hall mobility                        58\n",
       "Electronic thermal conductivity      32\n",
       "Electronic contribution              15\n",
       "Name: count, dtype: int64"
      ]
     },
     "execution_count": 8,
     "metadata": {},
     "output_type": "execute_result"
    }
   ],
   "source": [
    "starry_dataset_rebuild = []\n",
    "for _, data in starry_dataset.groupby(['formula', 'prop_y', 'sample_id']):\n",
    "    try:\n",
    "        x, y = eval(data.x.item()), eval(data.y.item())\n",
    "        \n",
    "        if min(x) <= T <= max(x):\n",
    "            interp_func = interp1d(x, y, kind='linear')\n",
    "            \n",
    "            tmp = data.iloc[0].copy()\n",
    "            tmp.x = T\n",
    "            tmp.y = interp_func(T)\n",
    "    \n",
    "            starry_dataset_rebuild.append(tmp)\n",
    "    except:\n",
    "        pass\n",
    "\n",
    "starry_dataset_rebuild = pd.DataFrame(starry_dataset_rebuild).rename(\n",
    "    columns={'prop_y': 'property', 'unit_y': 'unit', 'x': 'temperature', 'y': 'property_value'}\n",
    ").drop(columns=['prop_x', 'unit_x'])\n",
    "\n",
    "tmp = []\n",
    "for _, data in starry_dataset_rebuild.groupby(['formula', 'property']):\n",
    "    tmp.append(data.max())\n",
    "\n",
    "starry_dataset_rebuild = pd.DataFrame(tmp)\n",
    "starry_dataset_rebuild = starry_dataset_rebuild.set_index([[f'starry_{i}' for i in starry_dataset_rebuild.index]], drop=True)\n",
    "starry_dataset_rebuild.head(3)\n",
    "starry_dataset_rebuild.shape\n",
    "starry_dataset_rebuild.property.value_counts()"
   ]
  },
  {
   "cell_type": "raw",
   "id": "da9c80ac-6335-42ef-afc3-3340fef2ade1",
   "metadata": {},
   "source": [
    "starry_dataset_rebuild.property.value_counts().to_frame().to_csv('test.csv')"
   ]
  },
  {
   "cell_type": "raw",
   "id": "6f330260-2bf6-44ee-8308-78fb31f83587",
   "metadata": {},
   "source": [
    "sorted(starry_dataset_rebuild.property.unique())\n",
    "sorted(qc_ac_dataset_rebuild.property.unique())"
   ]
  },
  {
   "cell_type": "raw",
   "id": "caaf07bb-6ca7-4a3c-9a4f-bc8bff44197e",
   "metadata": {
    "jupyter": {
     "source_hidden": true
    }
   },
   "source": [
    "p = 'Hall coefficient'\n",
    "\n",
    "starry_dataset_rebuild[starry_dataset_rebuild.property == p].unit.unique()\n",
    "qc_ac_dataset[qc_ac_dataset.prop_y == p].unit_y.unique()"
   ]
  },
  {
   "cell_type": "markdown",
   "id": "85c1058c-62a3-46dd-9879-ca065e4e7999",
   "metadata": {},
   "source": [
    "### MP data"
   ]
  },
  {
   "cell_type": "code",
   "execution_count": 11,
   "id": "0198eb0a-c85d-4fb2-9ecd-c1857de0f2f2",
   "metadata": {},
   "outputs": [
    {
     "data": {
      "text/html": [
       "<div>\n",
       "<style scoped>\n",
       "    .dataframe tbody tr th:only-of-type {\n",
       "        vertical-align: middle;\n",
       "    }\n",
       "\n",
       "    .dataframe tbody tr th {\n",
       "        vertical-align: top;\n",
       "    }\n",
       "\n",
       "    .dataframe thead th {\n",
       "        text-align: right;\n",
       "    }\n",
       "</style>\n",
       "<table border=\"1\" class=\"dataframe\">\n",
       "  <thead>\n",
       "    <tr style=\"text-align: right;\">\n",
       "      <th></th>\n",
       "      <th>band_gap</th>\n",
       "      <th>composition</th>\n",
       "      <th>density</th>\n",
       "      <th>efermi</th>\n",
       "      <th>elements</th>\n",
       "      <th>final_energy_per_atom</th>\n",
       "      <th>formation_energy_per_atom</th>\n",
       "      <th>pretty_formula</th>\n",
       "      <th>total_magnetization</th>\n",
       "      <th>volume</th>\n",
       "      <th>hypermaterial_type</th>\n",
       "    </tr>\n",
       "  </thead>\n",
       "  <tbody>\n",
       "    <tr>\n",
       "      <th>mp-1006278</th>\n",
       "      <td>0.0</td>\n",
       "      <td>(Ac, Eu, Au)</td>\n",
       "      <td>10.961903</td>\n",
       "      <td>4.883417</td>\n",
       "      <td>[Ac, Au, Eu]</td>\n",
       "      <td>-6.019130</td>\n",
       "      <td>-0.776843</td>\n",
       "      <td>AcEuAu2</td>\n",
       "      <td>1.627705</td>\n",
       "      <td>117.080578</td>\n",
       "      <td>others</td>\n",
       "    </tr>\n",
       "    <tr>\n",
       "      <th>mp-1017985</th>\n",
       "      <td>0.0</td>\n",
       "      <td>(Ti, Ag)</td>\n",
       "      <td>7.340359</td>\n",
       "      <td>4.709549</td>\n",
       "      <td>[Ti, Ag]</td>\n",
       "      <td>-5.429487</td>\n",
       "      <td>-0.065696</td>\n",
       "      <td>TiAg</td>\n",
       "      <td>0.000432</td>\n",
       "      <td>70.460966</td>\n",
       "      <td>others</td>\n",
       "    </tr>\n",
       "    <tr>\n",
       "      <th>mp-1018128</th>\n",
       "      <td>0.0</td>\n",
       "      <td>(Sc, Ag)</td>\n",
       "      <td>7.528867</td>\n",
       "      <td>3.934398</td>\n",
       "      <td>[Sc, Ag]</td>\n",
       "      <td>-4.301338</td>\n",
       "      <td>-0.302162</td>\n",
       "      <td>ScAg2</td>\n",
       "      <td>0.003584</td>\n",
       "      <td>57.497334</td>\n",
       "      <td>others</td>\n",
       "    </tr>\n",
       "  </tbody>\n",
       "</table>\n",
       "</div>"
      ],
      "text/plain": [
       "            band_gap   composition    density    efermi      elements  \\\n",
       "mp-1006278       0.0  (Ac, Eu, Au)  10.961903  4.883417  [Ac, Au, Eu]   \n",
       "mp-1017985       0.0      (Ti, Ag)   7.340359  4.709549      [Ti, Ag]   \n",
       "mp-1018128       0.0      (Sc, Ag)   7.528867  3.934398      [Sc, Ag]   \n",
       "\n",
       "            final_energy_per_atom  formation_energy_per_atom pretty_formula  \\\n",
       "mp-1006278              -6.019130                  -0.776843        AcEuAu2   \n",
       "mp-1017985              -5.429487                  -0.065696           TiAg   \n",
       "mp-1018128              -4.301338                  -0.302162          ScAg2   \n",
       "\n",
       "            total_magnetization      volume hypermaterial_type  \n",
       "mp-1006278             1.627705  117.080578             others  \n",
       "mp-1017985             0.000432   70.460966             others  \n",
       "mp-1018128             0.003584   57.497334             others  "
      ]
     },
     "execution_count": 11,
     "metadata": {},
     "output_type": "execute_result"
    }
   ],
   "source": [
    "mp_props = ['band_gap', 'composition', 'density', 'efermi', 'elements', 'final_energy_per_atom', 'formation_energy_per_atom', 'pretty_formula', 'total_magnetization', 'volume']\n",
    "\n",
    "mp_data = pd.read_pickle(\"../raw/mp_inorganic_v2024.12.18.pd.xz\")\n",
    "mp_data = mp_data[mp_data.e_above_hull == 0.0]\n",
    "mp_data = mp_data[mp_props]\n",
    "mp_data = mp_data.assign(hypermaterial_type='others', composition=mp_data.composition.apply(convert_composition)).dropna()\n",
    "\n",
    "mp_data.head(3)"
   ]
  },
  {
   "cell_type": "code",
   "execution_count": 12,
   "id": "c834dadf-d5f2-4ca7-89d2-7150db477db0",
   "metadata": {},
   "outputs": [
    {
     "data": {
      "text/html": [
       "<div>\n",
       "<style scoped>\n",
       "    .dataframe tbody tr th:only-of-type {\n",
       "        vertical-align: middle;\n",
       "    }\n",
       "\n",
       "    .dataframe tbody tr th {\n",
       "        vertical-align: top;\n",
       "    }\n",
       "\n",
       "    .dataframe thead th {\n",
       "        text-align: right;\n",
       "    }\n",
       "</style>\n",
       "<table border=\"1\" class=\"dataframe\">\n",
       "  <thead>\n",
       "    <tr style=\"text-align: right;\">\n",
       "      <th></th>\n",
       "      <th>formula</th>\n",
       "      <th>composition</th>\n",
       "      <th>hypermaterial_type</th>\n",
       "      <th>elements</th>\n",
       "      <th>property_value</th>\n",
       "      <th>sample_id</th>\n",
       "      <th>DOI</th>\n",
       "      <th>unit</th>\n",
       "      <th>temperature</th>\n",
       "      <th>property</th>\n",
       "    </tr>\n",
       "  </thead>\n",
       "  <tbody>\n",
       "    <tr>\n",
       "      <th>mp-1006278</th>\n",
       "      <td>AcEuAu2</td>\n",
       "      <td>(Ac, Eu, Au)</td>\n",
       "      <td>others</td>\n",
       "      <td>[Ac, Au, Eu]</td>\n",
       "      <td>0.0</td>\n",
       "      <td>0</td>\n",
       "      <td>-</td>\n",
       "      <td>eV</td>\n",
       "      <td>0</td>\n",
       "      <td>Band gap</td>\n",
       "    </tr>\n",
       "    <tr>\n",
       "      <th>mp-1017985</th>\n",
       "      <td>TiAg</td>\n",
       "      <td>(Ti, Ag)</td>\n",
       "      <td>others</td>\n",
       "      <td>[Ti, Ag]</td>\n",
       "      <td>0.0</td>\n",
       "      <td>0</td>\n",
       "      <td>-</td>\n",
       "      <td>eV</td>\n",
       "      <td>0</td>\n",
       "      <td>Band gap</td>\n",
       "    </tr>\n",
       "    <tr>\n",
       "      <th>mp-1018128</th>\n",
       "      <td>ScAg2</td>\n",
       "      <td>(Sc, Ag)</td>\n",
       "      <td>others</td>\n",
       "      <td>[Sc, Ag]</td>\n",
       "      <td>0.0</td>\n",
       "      <td>0</td>\n",
       "      <td>-</td>\n",
       "      <td>eV</td>\n",
       "      <td>0</td>\n",
       "      <td>Band gap</td>\n",
       "    </tr>\n",
       "  </tbody>\n",
       "</table>\n",
       "</div>"
      ],
      "text/plain": [
       "            formula   composition hypermaterial_type      elements  \\\n",
       "mp-1006278  AcEuAu2  (Ac, Eu, Au)             others  [Ac, Au, Eu]   \n",
       "mp-1017985     TiAg      (Ti, Ag)             others      [Ti, Ag]   \n",
       "mp-1018128    ScAg2      (Sc, Ag)             others      [Sc, Ag]   \n",
       "\n",
       "           property_value  sample_id DOI unit  temperature  property  \n",
       "mp-1006278            0.0          0   -   eV            0  Band gap  \n",
       "mp-1017985            0.0          0   -   eV            0  Band gap  \n",
       "mp-1018128            0.0          0   -   eV            0  Band gap  "
      ]
     },
     "execution_count": 12,
     "metadata": {},
     "output_type": "execute_result"
    },
    {
     "data": {
      "text/plain": [
       "(231497, 10)"
      ]
     },
     "execution_count": 12,
     "metadata": {},
     "output_type": "execute_result"
    },
    {
     "data": {
      "text/plain": [
       "property\n",
       "Band gap                     33071\n",
       "Density                      33071\n",
       "Efermi                       33071\n",
       "Final energy per atom        33071\n",
       "Formation energy per atom    33071\n",
       "Total magnetization          33071\n",
       "Volume                       33071\n",
       "Name: count, dtype: int64"
      ]
     },
     "execution_count": 12,
     "metadata": {},
     "output_type": "execute_result"
    }
   ],
   "source": [
    "mp_data_rebuild = []\n",
    "units = {\n",
    "    'band_gap': 'eV',\n",
    "    'density': 'g*cm^(-3)',\n",
    "    'efermi': 'eV',\n",
    "    'final_energy_per_atom': 'eV/atom',\n",
    "    'formation_energy_per_atom': 'eV/atom',\n",
    "    'total_magnetization': 'µB/f.u.',\n",
    "    'volume': 'Å^3'\n",
    "}\n",
    "mp_props = ['band_gap', 'density', 'efermi', 'final_energy_per_atom', 'formation_energy_per_atom', 'total_magnetization', 'volume']\n",
    "\n",
    "for p in mp_props:\n",
    "    data = mp_data[['pretty_formula', 'composition', 'hypermaterial_type', 'elements', p]].rename(columns={'pretty_formula': 'formula', p: 'property_value'})\n",
    "    data = data.assign(sample_id=0, DOI='-', unit=units[p], temperature=0, property=format_title(p, to_snake=False))\n",
    "    mp_data_rebuild.append(data)\n",
    "\n",
    "mp_data_rebuild = pd.concat(mp_data_rebuild)\n",
    "\n",
    "mp_data_rebuild.head(3)\n",
    "mp_data_rebuild.shape\n",
    "mp_data_rebuild.property.value_counts()"
   ]
  },
  {
   "cell_type": "markdown",
   "id": "94414372-76e2-41a1-83af-28b10d336002",
   "metadata": {},
   "source": [
    "### Merge dataset"
   ]
  },
  {
   "cell_type": "code",
   "execution_count": 13,
   "id": "9342e3b6-be87-4c4d-83ed-9ca52c3e419c",
   "metadata": {},
   "outputs": [
    {
     "data": {
      "text/html": [
       "<div>\n",
       "<style scoped>\n",
       "    .dataframe tbody tr th:only-of-type {\n",
       "        vertical-align: middle;\n",
       "    }\n",
       "\n",
       "    .dataframe tbody tr th {\n",
       "        vertical-align: top;\n",
       "    }\n",
       "\n",
       "    .dataframe thead th {\n",
       "        text-align: right;\n",
       "    }\n",
       "</style>\n",
       "<table border=\"1\" class=\"dataframe\">\n",
       "  <thead>\n",
       "    <tr style=\"text-align: right;\">\n",
       "      <th></th>\n",
       "      <th>formula</th>\n",
       "      <th>hypermaterial_type</th>\n",
       "      <th>property</th>\n",
       "      <th>unit</th>\n",
       "      <th>temperature</th>\n",
       "      <th>property_value</th>\n",
       "      <th>sample_id</th>\n",
       "      <th>DOI</th>\n",
       "      <th>composition</th>\n",
       "      <th>elements</th>\n",
       "    </tr>\n",
       "  </thead>\n",
       "  <tbody>\n",
       "    <tr>\n",
       "      <th>mp-1199451</th>\n",
       "      <td>B2S3</td>\n",
       "      <td>others</td>\n",
       "      <td>Volume</td>\n",
       "      <td>Å^3</td>\n",
       "      <td>0</td>\n",
       "      <td>4055.021688</td>\n",
       "      <td>0</td>\n",
       "      <td>-</td>\n",
       "      <td>(B, S)</td>\n",
       "      <td>[B, S]</td>\n",
       "    </tr>\n",
       "    <tr>\n",
       "      <th>starry_13802</th>\n",
       "      <td>SrNi2P4</td>\n",
       "      <td>others</td>\n",
       "      <td>Electrical resistivity</td>\n",
       "      <td>Ohm*m</td>\n",
       "      <td>290</td>\n",
       "      <td>1.3518052501194927e-06</td>\n",
       "      <td>1262</td>\n",
       "      <td>10.1021/acs.chemmater.5b01592</td>\n",
       "      <td>(Sr, Ni, P)</td>\n",
       "      <td>(Sr, Ni, P)</td>\n",
       "    </tr>\n",
       "    <tr>\n",
       "      <th>mp-557086</th>\n",
       "      <td>TmMoO4F</td>\n",
       "      <td>others</td>\n",
       "      <td>Band gap</td>\n",
       "      <td>eV</td>\n",
       "      <td>0</td>\n",
       "      <td>3.7429</td>\n",
       "      <td>0</td>\n",
       "      <td>-</td>\n",
       "      <td>(Tm, Mo, O, F)</td>\n",
       "      <td>[F, Mo, O, Tm]</td>\n",
       "    </tr>\n",
       "    <tr>\n",
       "      <th>mp-865963</th>\n",
       "      <td>LiGaAg2</td>\n",
       "      <td>others</td>\n",
       "      <td>Volume</td>\n",
       "      <td>Å^3</td>\n",
       "      <td>0</td>\n",
       "      <td>65.552037</td>\n",
       "      <td>0</td>\n",
       "      <td>-</td>\n",
       "      <td>(Li, Ga, Ag)</td>\n",
       "      <td>[Li, Ga, Ag]</td>\n",
       "    </tr>\n",
       "    <tr>\n",
       "      <th>mp-20224</th>\n",
       "      <td>GdInPd</td>\n",
       "      <td>others</td>\n",
       "      <td>Formation energy per atom</td>\n",
       "      <td>eV/atom</td>\n",
       "      <td>0</td>\n",
       "      <td>-0.811323</td>\n",
       "      <td>0</td>\n",
       "      <td>-</td>\n",
       "      <td>(Gd, In, Pd)</td>\n",
       "      <td>[Gd, In, Pd]</td>\n",
       "    </tr>\n",
       "  </tbody>\n",
       "</table>\n",
       "</div>"
      ],
      "text/plain": [
       "              formula hypermaterial_type                   property     unit  \\\n",
       "mp-1199451       B2S3             others                     Volume      Å^3   \n",
       "starry_13802  SrNi2P4             others     Electrical resistivity    Ohm*m   \n",
       "mp-557086     TmMoO4F             others                   Band gap       eV   \n",
       "mp-865963     LiGaAg2             others                     Volume      Å^3   \n",
       "mp-20224       GdInPd             others  Formation energy per atom  eV/atom   \n",
       "\n",
       "              temperature          property_value sample_id  \\\n",
       "mp-1199451              0             4055.021688         0   \n",
       "starry_13802          290  1.3518052501194927e-06      1262   \n",
       "mp-557086               0                  3.7429         0   \n",
       "mp-865963               0               65.552037         0   \n",
       "mp-20224                0               -0.811323         0   \n",
       "\n",
       "                                        DOI     composition        elements  \n",
       "mp-1199451                                -          (B, S)          [B, S]  \n",
       "starry_13802  10.1021/acs.chemmater.5b01592     (Sr, Ni, P)     (Sr, Ni, P)  \n",
       "mp-557086                                 -  (Tm, Mo, O, F)  [F, Mo, O, Tm]  \n",
       "mp-865963                                 -    (Li, Ga, Ag)    [Li, Ga, Ag]  \n",
       "mp-20224                                  -    (Gd, In, Pd)    [Gd, In, Pd]  "
      ]
     },
     "execution_count": 13,
     "metadata": {},
     "output_type": "execute_result"
    },
    {
     "data": {
      "text/plain": [
       "(247872, 10)"
      ]
     },
     "execution_count": 13,
     "metadata": {},
     "output_type": "execute_result"
    },
    {
     "data": {
      "text/plain": [
       "property\n",
       "Volume                             33071\n",
       "Band gap                           33071\n",
       "Total magnetization                33071\n",
       "Formation energy per atom          33071\n",
       "Final energy per atom              33071\n",
       "Efermi                             33071\n",
       "Density                            33071\n",
       "Seebeck coefficient                 4948\n",
       "Electrical resistivity              4744\n",
       "Thermal conductivity                2382\n",
       "ZT                                  1412\n",
       "Power factor                        1029\n",
       "Electrical conductivity              822\n",
       "Carrier concentration                370\n",
       "Lattice thermal conductivity         334\n",
       "Thermopower                          184\n",
       "Hall mobility                         58\n",
       "Magnetic susceptibility               34\n",
       "Electronic thermal conductivity       32\n",
       "Electronic contribution               15\n",
       "Hall coefficient                      11\n",
       "Name: count, dtype: int64"
      ]
     },
     "execution_count": 13,
     "metadata": {},
     "output_type": "execute_result"
    }
   ],
   "source": [
    "qc_ac_te_mp_dataset = pd.concat([qc_ac_dataset_rebuild, starry_dataset_rebuild, mp_data_rebuild])\n",
    "qc_ac_te_mp_dataset.to_pickle('../raw/qc_ac_te_mp_dataset_T=290K_20250201.pd.xz')\n",
    "\n",
    "qc_ac_te_mp_dataset.sample(5)\n",
    "qc_ac_te_mp_dataset.shape\n",
    "qc_ac_te_mp_dataset.property.value_counts()"
   ]
  },
  {
   "cell_type": "code",
   "execution_count": 277,
   "id": "7b44f3c4-e3ef-4f5d-88cd-afd639df0b75",
   "metadata": {},
   "outputs": [
    {
     "name": "stderr",
     "output_type": "stream",
     "text": [
      "/data/.miniforge3/envs/xepy311/lib/python3.11/site-packages/seaborn/_base.py:948: FutureWarning: When grouping with a length-1 list-like, you will need to pass a length-1 tuple to get_group in a future version of pandas. Pass `(name,)` instead of `name` to silence this warning.\n",
      "  data_subset = grouped_data.get_group(pd_key)\n",
      "/tmp/ipykernel_181646/2037820726.py:7: UserWarning: set_ticklabels() should only be used with a fixed number of ticks, i.e. after set_ticks() or using a FixedLocator.\n",
      "  ax.set_xticklabels(ax.get_xticklabels(), rotation=45, ha='right', rotation_mode='anchor')\n"
     ]
    },
    {
     "data": {
      "text/plain": [
       "[Text(0, 0, 'Thermal conductivity'),\n",
       " Text(1, 0, 'Carrier concentration'),\n",
       " Text(2, 0, 'Electrical conductivity'),\n",
       " Text(3, 0, 'Thermopower'),\n",
       " Text(4, 0, 'Electrical resistivity'),\n",
       " Text(5, 0, 'Power factor'),\n",
       " Text(6, 0, 'Seebeck coefficient'),\n",
       " Text(7, 0, 'Lattice thermal conductivity'),\n",
       " Text(8, 0, 'ZT'),\n",
       " Text(9, 0, 'Hall mobility'),\n",
       " Text(10, 0, 'Electronic contribution'),\n",
       " Text(11, 0, 'Electronic thermal conductivity')]"
      ]
     },
     "execution_count": 277,
     "metadata": {},
     "output_type": "execute_result"
    },
    {
     "data": {
      "text/plain": [
       "Text(0, 0.5, 'Count')"
      ]
     },
     "execution_count": 277,
     "metadata": {},
     "output_type": "execute_result"
    },
    {
     "data": {
      "text/plain": [
       "Text(0.5, 0, '')"
      ]
     },
     "execution_count": 277,
     "metadata": {},
     "output_type": "execute_result"
    },
    {
     "data": {
      "text/plain": [
       "<matplotlib.legend.Legend at 0x12c7d73c0390>"
      ]
     },
     "execution_count": 277,
     "metadata": {},
     "output_type": "execute_result"
    },
    {
     "name": "stderr",
     "output_type": "stream",
     "text": [
      "/data/.miniforge3/envs/xepy311/lib/python3.11/site-packages/seaborn/_base.py:948: FutureWarning: When grouping with a length-1 list-like, you will need to pass a length-1 tuple to get_group in a future version of pandas. Pass `(name,)` instead of `name` to silence this warning.\n",
      "  data_subset = grouped_data.get_group(pd_key)\n",
      "/data/.miniforge3/envs/xepy311/lib/python3.11/site-packages/seaborn/_base.py:948: FutureWarning: When grouping with a length-1 list-like, you will need to pass a length-1 tuple to get_group in a future version of pandas. Pass `(name,)` instead of `name` to silence this warning.\n",
      "  data_subset = grouped_data.get_group(pd_key)\n",
      "/data/.miniforge3/envs/xepy311/lib/python3.11/site-packages/seaborn/_base.py:948: FutureWarning: When grouping with a length-1 list-like, you will need to pass a length-1 tuple to get_group in a future version of pandas. Pass `(name,)` instead of `name` to silence this warning.\n",
      "  data_subset = grouped_data.get_group(pd_key)\n",
      "/data/.miniforge3/envs/xepy311/lib/python3.11/site-packages/seaborn/_base.py:948: FutureWarning: When grouping with a length-1 list-like, you will need to pass a length-1 tuple to get_group in a future version of pandas. Pass `(name,)` instead of `name` to silence this warning.\n",
      "  data_subset = grouped_data.get_group(pd_key)\n",
      "/tmp/ipykernel_181646/2037820726.py:14: UserWarning: set_ticklabels() should only be used with a fixed number of ticks, i.e. after set_ticks() or using a FixedLocator.\n",
      "  ax.set_xticklabels(ax.get_xticklabels(), rotation=45, ha='right', rotation_mode='anchor')\n"
     ]
    },
    {
     "data": {
      "text/plain": [
       "[Text(0, 0, 'Seebeck coefficient'),\n",
       " Text(1, 0, 'Thermal conductivity'),\n",
       " Text(2, 0, 'Electrical resistivity'),\n",
       " Text(3, 0, 'Magnetic susceptibility'),\n",
       " Text(4, 0, 'Specific heat capacity'),\n",
       " Text(5, 0, 'Hall coefficient'),\n",
       " Text(6, 0, 'ZT'),\n",
       " Text(7, 0, 'Power factor')]"
      ]
     },
     "execution_count": 277,
     "metadata": {},
     "output_type": "execute_result"
    },
    {
     "data": {
      "text/plain": [
       "Text(0.5, 0, '')"
      ]
     },
     "execution_count": 277,
     "metadata": {},
     "output_type": "execute_result"
    },
    {
     "data": {
      "text/plain": [
       "Text(0, 0.5, '')"
      ]
     },
     "execution_count": 277,
     "metadata": {},
     "output_type": "execute_result"
    },
    {
     "data": {
      "text/plain": [
       "<matplotlib.legend.Legend at 0x12c7d7321110>"
      ]
     },
     "execution_count": 277,
     "metadata": {},
     "output_type": "execute_result"
    },
    {
     "data": {
      "image/png": "[encoded data removed]",
      "text/plain": [
       "<Figure size 1600x800 with 2 Axes>"
      ]
     },
     "metadata": {},
     "output_type": "display_data"
    }
   ],
   "source": [
    "tmp_ = qc_ac_te_mp_dataset[qc_ac_te_mp_dataset.temperature != 0]\n",
    "\n",
    "fig, (ax1, ax2) = plt.subplots(1, 2, figsize=(8, 4), dpi=200, sharey=False)\n",
    "\n",
    "tmp = tmp_[tmp_.hypermaterial_type == 'others']\n",
    "ax = sns.countplot(tmp, x=\"property\", hue='hypermaterial_type', ax=ax1)\n",
    "ax.set_xticklabels(ax.get_xticklabels(), rotation=45, ha='right', rotation_mode='anchor')\n",
    "ax.set_ylabel(\"Count\", fontsize=15)\n",
    "ax.set_xlabel(None)\n",
    "ax.legend(title='Type')\n",
    "\n",
    "tmp = tmp_[tmp_.hypermaterial_type != 'others']\n",
    "ax = sns.countplot(tmp, x=\"property\", hue='hypermaterial_type', ax=ax2)\n",
    "ax.set_xticklabels(ax.get_xticklabels(), rotation=45, ha='right', rotation_mode='anchor')\n",
    "ax.set_xlabel(None)\n",
    "ax.set_ylabel(None)\n",
    "ax.legend(title='Type')"
   ]
  },
  {
   "cell_type": "code",
   "execution_count": 90,
   "id": "58f6ce0f-8c85-45ee-b615-d2b991810b5d",
   "metadata": {},
   "outputs": [
    {
     "name": "stderr",
     "output_type": "stream",
     "text": [
      "/data/.miniforge3/envs/xepy311/lib/python3.11/site-packages/pymatgen/core/periodic_table.py:120: UserWarning: No Pauling electronegativity for He. Setting to NaN. This has no physical meaning, and is mainly done to avoid errors caused by the code expecting a float.\n",
      "  warnings.warn(\n"
     ]
    },
    {
     "data": {
      "text/plain": [
       "Text(0, 0.5, 'Count')"
      ]
     },
     "execution_count": 90,
     "metadata": {},
     "output_type": "execute_result"
    },
    {
     "data": {
      "text/plain": [
       "Text(0.5, 0, '# of properties in a composition')"
      ]
     },
     "execution_count": 90,
     "metadata": {},
     "output_type": "execute_result"
    },
    {
     "data": {
      "text/plain": [
       "Text(0.5, 0, '')"
      ]
     },
     "execution_count": 90,
     "metadata": {},
     "output_type": "execute_result"
    },
    {
     "data": {
      "text/plain": [
       "Text(0, 0.5, '')"
      ]
     },
     "execution_count": 90,
     "metadata": {},
     "output_type": "execute_result"
    },
    {
     "data": {
      "image/png": "[encoded data removed]",
      "text/plain": [
       "<Figure size 1600x800 with 2 Axes>"
      ]
     },
     "metadata": {},
     "output_type": "display_data"
    }
   ],
   "source": [
    "fig, (ax1, ax2) = plt.subplots(1, 2, figsize=(8, 4), dpi=200)\n",
    "\n",
    "tmp = qc_ac_te_dataset[qc_ac_te_dataset.hypermaterial_type == 'others']\n",
    "tmp = tmp.groupby('composition').property.nunique()\n",
    "\n",
    "ax = sns.histplot(tmp, ax=ax1)\n",
    "ax.set_ylabel(\"Count\", fontsize=15)\n",
    "ax.set_xlabel('# of properties in a composition')\n",
    "\n",
    "tmp = qc_ac_te_dataset[qc_ac_te_dataset.hypermaterial_type != 'others']\n",
    "tmp = tmp.groupby('composition').property.nunique()\n",
    "ax = sns.histplot(tmp, ax=ax2)\n",
    "# ax.set_xticklabels(ax.get_xticklabels(), rotation=45, ha='right', rotation_mode='anchor')\n",
    "ax.set_xlabel(None)\n",
    "ax.set_ylabel(None)"
   ]
  },
  {
   "cell_type": "markdown",
   "id": "83139570-f666-4bec-aa0b-5e7e9d0f2f0b",
   "metadata": {},
   "source": [
    "---"
   ]
  },
  {
   "cell_type": "code",
   "execution_count": 14,
   "id": "638319f6-57f9-4acd-91c6-63907682619d",
   "metadata": {},
   "outputs": [
    {
     "data": {
      "text/html": [
       "<div>\n",
       "<style scoped>\n",
       "    .dataframe tbody tr th:only-of-type {\n",
       "        vertical-align: middle;\n",
       "    }\n",
       "\n",
       "    .dataframe tbody tr th {\n",
       "        vertical-align: top;\n",
       "    }\n",
       "\n",
       "    .dataframe thead th {\n",
       "        text-align: right;\n",
       "    }\n",
       "</style>\n",
       "<table border=\"1\" class=\"dataframe\">\n",
       "  <thead>\n",
       "    <tr style=\"text-align: right;\">\n",
       "      <th></th>\n",
       "      <th>formula</th>\n",
       "      <th>hypermaterial_type</th>\n",
       "      <th>temperature</th>\n",
       "      <th>composition</th>\n",
       "      <th>elements</th>\n",
       "      <th>Thermal conductivity</th>\n",
       "      <th>Seebeck coefficient</th>\n",
       "      <th>Carrier concentration</th>\n",
       "      <th>Electrical conductivity</th>\n",
       "      <th>Thermopower</th>\n",
       "      <th>...</th>\n",
       "      <th>Density</th>\n",
       "      <th>Efermi</th>\n",
       "      <th>Final energy per atom</th>\n",
       "      <th>Formation energy per atom</th>\n",
       "      <th>Total magnetization</th>\n",
       "      <th>Volume</th>\n",
       "      <th>Magnetic susceptibility</th>\n",
       "      <th>Hall coefficient</th>\n",
       "      <th>Electronic contribution</th>\n",
       "      <th>Electronic thermal conductivity</th>\n",
       "    </tr>\n",
       "    <tr>\n",
       "      <th>id</th>\n",
       "      <th></th>\n",
       "      <th></th>\n",
       "      <th></th>\n",
       "      <th></th>\n",
       "      <th></th>\n",
       "      <th></th>\n",
       "      <th></th>\n",
       "      <th></th>\n",
       "      <th></th>\n",
       "      <th></th>\n",
       "      <th></th>\n",
       "      <th></th>\n",
       "      <th></th>\n",
       "      <th></th>\n",
       "      <th></th>\n",
       "      <th></th>\n",
       "      <th></th>\n",
       "      <th></th>\n",
       "      <th></th>\n",
       "      <th></th>\n",
       "      <th></th>\n",
       "    </tr>\n",
       "  </thead>\n",
       "  <tbody>\n",
       "    <tr>\n",
       "      <th>starry_0</th>\n",
       "      <td>(ErAs)0.003InGaAs</td>\n",
       "      <td>others</td>\n",
       "      <td>290</td>\n",
       "      <td>(Er, As, In, Ga)</td>\n",
       "      <td>(Er, As, In, Ga)</td>\n",
       "      <td>3.2670491071158483</td>\n",
       "      <td>NaN</td>\n",
       "      <td>NaN</td>\n",
       "      <td>NaN</td>\n",
       "      <td>NaN</td>\n",
       "      <td>...</td>\n",
       "      <td>NaN</td>\n",
       "      <td>NaN</td>\n",
       "      <td>NaN</td>\n",
       "      <td>NaN</td>\n",
       "      <td>NaN</td>\n",
       "      <td>NaN</td>\n",
       "      <td>NaN</td>\n",
       "      <td>NaN</td>\n",
       "      <td>NaN</td>\n",
       "      <td>NaN</td>\n",
       "    </tr>\n",
       "    <tr>\n",
       "      <th>qa_1</th>\n",
       "      <td>Al61.5Cu26.5Fe12</td>\n",
       "      <td>IQC</td>\n",
       "      <td>290</td>\n",
       "      <td>(Al, Cu, Fe)</td>\n",
       "      <td>(Al, Cu, Fe)</td>\n",
       "      <td>1.4258964578008275</td>\n",
       "      <td>-1.1863527516689362e-05</td>\n",
       "      <td>NaN</td>\n",
       "      <td>NaN</td>\n",
       "      <td>NaN</td>\n",
       "      <td>...</td>\n",
       "      <td>NaN</td>\n",
       "      <td>NaN</td>\n",
       "      <td>NaN</td>\n",
       "      <td>NaN</td>\n",
       "      <td>NaN</td>\n",
       "      <td>NaN</td>\n",
       "      <td>NaN</td>\n",
       "      <td>NaN</td>\n",
       "      <td>NaN</td>\n",
       "      <td>NaN</td>\n",
       "    </tr>\n",
       "    <tr>\n",
       "      <th>starry_2</th>\n",
       "      <td>Bi2Te2.4Se0.6</td>\n",
       "      <td>others</td>\n",
       "      <td>290</td>\n",
       "      <td>(Bi, Te, Se)</td>\n",
       "      <td>(Bi, Te, Se)</td>\n",
       "      <td>NaN</td>\n",
       "      <td>NaN</td>\n",
       "      <td>-5.436073908332581e+24</td>\n",
       "      <td>1063.8779641515926</td>\n",
       "      <td>NaN</td>\n",
       "      <td>...</td>\n",
       "      <td>NaN</td>\n",
       "      <td>NaN</td>\n",
       "      <td>NaN</td>\n",
       "      <td>NaN</td>\n",
       "      <td>NaN</td>\n",
       "      <td>NaN</td>\n",
       "      <td>NaN</td>\n",
       "      <td>NaN</td>\n",
       "      <td>NaN</td>\n",
       "      <td>NaN</td>\n",
       "    </tr>\n",
       "  </tbody>\n",
       "</table>\n",
       "<p>3 rows × 26 columns</p>\n",
       "</div>"
      ],
      "text/plain": [
       "                     formula hypermaterial_type  temperature  \\\n",
       "id                                                             \n",
       "starry_0   (ErAs)0.003InGaAs             others          290   \n",
       "qa_1        Al61.5Cu26.5Fe12                IQC          290   \n",
       "starry_2       Bi2Te2.4Se0.6             others          290   \n",
       "\n",
       "               composition          elements Thermal conductivity  \\\n",
       "id                                                                  \n",
       "starry_0  (Er, As, In, Ga)  (Er, As, In, Ga)   3.2670491071158483   \n",
       "qa_1          (Al, Cu, Fe)      (Al, Cu, Fe)   1.4258964578008275   \n",
       "starry_2      (Bi, Te, Se)      (Bi, Te, Se)                  NaN   \n",
       "\n",
       "              Seebeck coefficient   Carrier concentration  \\\n",
       "id                                                          \n",
       "starry_0                      NaN                     NaN   \n",
       "qa_1      -1.1863527516689362e-05                     NaN   \n",
       "starry_2                      NaN  -5.436073908332581e+24   \n",
       "\n",
       "         Electrical conductivity Thermopower  ... Density Efermi  \\\n",
       "id                                            ...                  \n",
       "starry_0                     NaN         NaN  ...     NaN    NaN   \n",
       "qa_1                         NaN         NaN  ...     NaN    NaN   \n",
       "starry_2      1063.8779641515926         NaN  ...     NaN    NaN   \n",
       "\n",
       "         Final energy per atom Formation energy per atom Total magnetization  \\\n",
       "id                                                                             \n",
       "starry_0                   NaN                       NaN                 NaN   \n",
       "qa_1                       NaN                       NaN                 NaN   \n",
       "starry_2                   NaN                       NaN                 NaN   \n",
       "\n",
       "          Volume  Magnetic susceptibility  Hall coefficient  \\\n",
       "id                                                            \n",
       "starry_0     NaN                      NaN               NaN   \n",
       "qa_1         NaN                      NaN               NaN   \n",
       "starry_2     NaN                      NaN               NaN   \n",
       "\n",
       "          Electronic contribution  Electronic thermal conductivity  \n",
       "id                                                                  \n",
       "starry_0                      NaN                              NaN  \n",
       "qa_1                          NaN                              NaN  \n",
       "starry_2                      NaN                              NaN  \n",
       "\n",
       "[3 rows x 26 columns]"
      ]
     },
     "execution_count": 14,
     "metadata": {},
     "output_type": "execute_result"
    }
   ],
   "source": [
    "qc_ac_te_mp_rebuild = []\n",
    "\n",
    "for (formula, hypermaterial_type, temperature), data in qc_ac_te_mp_dataset.groupby(['formula', 'hypermaterial_type', 'temperature']):\n",
    "    row_1 = data.iloc[0]\n",
    "    a = {\n",
    "        'formula': formula,\n",
    "        'hypermaterial_type': hypermaterial_type,\n",
    "        'temperature': temperature,\n",
    "        'composition': row_1.composition,\n",
    "        'elements': row_1.elements,\n",
    "    }\n",
    "    for _id, row in data.iterrows():\n",
    "        a[row.property] = row.property_value\n",
    "        a['id'] = _id\n",
    "\n",
    "    qc_ac_te_mp_rebuild.append(a)\n",
    "\n",
    "qc_ac_te_mp_rebuild = pd.DataFrame(qc_ac_te_mp_rebuild).set_index('id')\n",
    "qc_ac_te_mp_rebuild.to_pickle(\"../raw/qc_ac_te_mp_rebuild_T=290K_20250202.pd.xz\")\n",
    "qc_ac_te_mp_rebuild.head(3)"
   ]
  },
  {
   "cell_type": "code",
   "execution_count": 321,
   "id": "cfb3c844-b824-4a32-8802-3421161dbdd0",
   "metadata": {},
   "outputs": [
    {
     "data": {
      "text/plain": [
       "(Thermal conductivity    5.199338\n",
       " dtype: float64,\n",
       " Thermal conductivity   -5.199338\n",
       " dtype: float64)"
      ]
     },
     "execution_count": 321,
     "metadata": {},
     "output_type": "execute_result"
    },
    {
     "name": "stderr",
     "output_type": "stream",
     "text": [
      "/data/.miniforge3/envs/xepy311/lib/python3.11/site-packages/seaborn/_base.py:948: FutureWarning: When grouping with a length-1 list-like, you will need to pass a length-1 tuple to get_group in a future version of pandas. Pass `(name,)` instead of `name` to silence this warning.\n",
      "  data_subset = grouped_data.get_group(pd_key)\n",
      "/data/.miniforge3/envs/xepy311/lib/python3.11/site-packages/seaborn/_base.py:948: FutureWarning: When grouping with a length-1 list-like, you will need to pass a length-1 tuple to get_group in a future version of pandas. Pass `(name,)` instead of `name` to silence this warning.\n",
      "  data_subset = grouped_data.get_group(pd_key)\n"
     ]
    },
    {
     "data": {
      "text/plain": [
       "<Axes: ylabel='Count'>"
      ]
     },
     "execution_count": 321,
     "metadata": {},
     "output_type": "execute_result"
    },
    {
     "data": {
      "image/png": "[encoded data removed]",
      "text/plain": [
       "<Figure size 640x480 with 1 Axes>"
      ]
     },
     "metadata": {},
     "output_type": "display_data"
    }
   ],
   "source": [
    "from sklearn.preprocessing import QuantileTransformer\n",
    "qt = QuantileTransformer(output_distribution='normal').set_output(transform=\"pandas\")\n",
    "\n",
    "a = qc_ac_te_mp_rebuild[['Thermal conductivity']].dropna().astype(np.float64)\n",
    "a = qt.fit_transform(a)\n",
    "a.max(), a.min()\n",
    "sns.histplot(a)"
   ]
  },
  {
   "cell_type": "code",
   "execution_count": 322,
   "id": "a96e65d8-1f74-4253-8207-b41714fc06a6",
   "metadata": {},
   "outputs": [
    {
     "data": {
      "text/plain": [
       "(Electrical resistivity    5.199338\n",
       " dtype: float64,\n",
       " Electrical resistivity   -5.199338\n",
       " dtype: float64)"
      ]
     },
     "execution_count": 322,
     "metadata": {},
     "output_type": "execute_result"
    },
    {
     "name": "stderr",
     "output_type": "stream",
     "text": [
      "/data/.miniforge3/envs/xepy311/lib/python3.11/site-packages/seaborn/_base.py:948: FutureWarning: When grouping with a length-1 list-like, you will need to pass a length-1 tuple to get_group in a future version of pandas. Pass `(name,)` instead of `name` to silence this warning.\n",
      "  data_subset = grouped_data.get_group(pd_key)\n",
      "/data/.miniforge3/envs/xepy311/lib/python3.11/site-packages/seaborn/_base.py:948: FutureWarning: When grouping with a length-1 list-like, you will need to pass a length-1 tuple to get_group in a future version of pandas. Pass `(name,)` instead of `name` to silence this warning.\n",
      "  data_subset = grouped_data.get_group(pd_key)\n"
     ]
    },
    {
     "data": {
      "text/plain": [
       "<Axes: ylabel='Count'>"
      ]
     },
     "execution_count": 322,
     "metadata": {},
     "output_type": "execute_result"
    },
    {
     "data": {
      "image/png": "[encoded data removed]",
      "text/plain": [
       "<Figure size 640x480 with 1 Axes>"
      ]
     },
     "metadata": {},
     "output_type": "display_data"
    }
   ],
   "source": [
    "from sklearn.preprocessing import QuantileTransformer\n",
    "qt = QuantileTransformer(output_distribution='normal').set_output(transform=\"pandas\")\n",
    "\n",
    "a = qc_ac_te_mp_rebuild[['Electrical resistivity']].dropna().astype(np.float64)\n",
    "a = qt.fit_transform(a)\n",
    "a.max(), a.min()\n",
    "sns.histplot(a)"
   ]
  },
  {
   "cell_type": "code",
   "execution_count": 323,
   "id": "990b35b2-4fdb-426f-bc04-082cb1e52a04",
   "metadata": {},
   "outputs": [
    {
     "data": {
      "text/plain": [
       "(Seebeck coefficient    5.199338\n",
       " dtype: float64,\n",
       " Seebeck coefficient   -5.199338\n",
       " dtype: float64)"
      ]
     },
     "execution_count": 323,
     "metadata": {},
     "output_type": "execute_result"
    },
    {
     "name": "stderr",
     "output_type": "stream",
     "text": [
      "/data/.miniforge3/envs/xepy311/lib/python3.11/site-packages/seaborn/_base.py:948: FutureWarning: When grouping with a length-1 list-like, you will need to pass a length-1 tuple to get_group in a future version of pandas. Pass `(name,)` instead of `name` to silence this warning.\n",
      "  data_subset = grouped_data.get_group(pd_key)\n",
      "/data/.miniforge3/envs/xepy311/lib/python3.11/site-packages/seaborn/_base.py:948: FutureWarning: When grouping with a length-1 list-like, you will need to pass a length-1 tuple to get_group in a future version of pandas. Pass `(name,)` instead of `name` to silence this warning.\n",
      "  data_subset = grouped_data.get_group(pd_key)\n"
     ]
    },
    {
     "data": {
      "text/plain": [
       "<Axes: ylabel='Count'>"
      ]
     },
     "execution_count": 323,
     "metadata": {},
     "output_type": "execute_result"
    },
    {
     "data": {
      "image/png": "[encoded data removed]",
      "text/plain": [
       "<Figure size 640x480 with 1 Axes>"
      ]
     },
     "metadata": {},
     "output_type": "display_data"
    }
   ],
   "source": [
    "from sklearn.preprocessing import QuantileTransformer\n",
    "qt = QuantileTransformer(output_distribution='normal').set_output(transform=\"pandas\")\n",
    "\n",
    "a = qc_ac_te_mp_rebuild[['Seebeck coefficient']].dropna().astype(np.float64)\n",
    "a = qt.fit_transform(a)\n",
    "a.max(), a.min()\n",
    "sns.histplot(a)"
   ]
  },
  {
   "cell_type": "code",
   "execution_count": null,
   "id": "17081bff-d6ca-4808-947a-4bf06b62671f",
   "metadata": {},
   "outputs": [],
   "source": []
  }
 ],
 "metadata": {
  "kernelspec": {
   "display_name": "Python 3 (ipykernel)",
   "language": "python",
   "name": "python3"
  },
  "language_info": {
   "codemirror_mode": {
    "name": "ipython",
    "version": 3
   },
   "file_extension": ".py",
   "mimetype": "text/x-python",
   "name": "python",
   "nbconvert_exporter": "python",
   "pygments_lexer": "ipython3",
   "version": "3.11.6"
  }
 },
 "nbformat": 4,
 "nbformat_minor": 5
}
