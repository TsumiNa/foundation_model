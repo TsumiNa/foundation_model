{
    "cells": [
        {
            "cell_type": "code",
            "execution_count": 1,
            "id": "5178e9ca",
            "metadata": {},
            "outputs": [],
            "source": [
                "# user-friendly print\n",
                "from datetime import datetime\n",
                "from pathlib import Path\n",
                "\n",
                "import matplotlib.pyplot as plt\n",
                "import numpy as np\n",
                "import pandas as pd\n",
                "import torch\n",
                "\n",
                "# for jupyter notebook\n",
                "from IPython.core.interactiveshell import InteractiveShell\n",
                "from KRFD_helper import plot_prediction_pairs, swap_train_val_split  # add other needed names here\n",
                "from KRFD_model import KernelRegression, ModelConfig\n",
                "from KRFD_utils import DOSDataModule, init_centers_and_sigmas\n",
                "from lightning import Trainer, seed_everything\n",
                "from lightning.pytorch.callbacks import EarlyStopping, LearningRateMonitor, ModelCheckpoint\n",
                "from lightning.pytorch.loggers import CSVLogger, TensorBoardLogger\n",
                "from sklearn.metrics import mean_absolute_error, r2_score\n",
                "\n",
                "InteractiveShell.instance().ast_node_interactivity = \"all\"\n",
                "\n",
                "torch.set_float32_matmul_precision(\"medium\")  # 推荐选项"
            ]
        },
        {
            "cell_type": "code",
            "execution_count": 2,
            "id": "76e24bce",
            "metadata": {},
            "outputs": [
                {
                    "name": "stderr",
                    "output_type": "stream",
                    "text": [
                        ".venv/lib/python3.12/site-packages/sklearn/base.py:442: InconsistentVersionWarning: Trying to unpickle estimator StandardScaler from version 1.7.0 when using version 1.7.1. This might lead to breaking code or invalid results. Use at your own risk. For more info please refer to:\n",
                        "https://scikit-learn.org/stable/model_persistence.html#security-maintainability-limitations\n",
                        "  warnings.warn(\n",
                        ".venv/lib/python3.12/site-packages/sklearn/base.py:442: InconsistentVersionWarning: Trying to unpickle estimator PowerTransformer from version 1.7.0 when using version 1.7.1. This might lead to breaking code or invalid results. Use at your own risk. For more info please refer to:\n",
                        "https://scikit-learn.org/stable/model_persistence.html#security-maintainability-limitations\n",
                        "  warnings.warn(\n",
                        ".venv/lib/python3.12/site-packages/sklearn/base.py:442: InconsistentVersionWarning: Trying to unpickle estimator Pipeline from version 1.7.0 when using version 1.7.1. This might lead to breaking code or invalid results. Use at your own risk. For more info please refer to:\n",
                        "https://scikit-learn.org/stable/model_persistence.html#security-maintainability-limitations\n",
                        "  warnings.warn(\n",
                        ".venv/lib/python3.12/site-packages/sklearn/base.py:442: InconsistentVersionWarning: Trying to unpickle estimator LabelEncoder from version 1.7.0 when using version 1.7.1. This might lead to breaking code or invalid results. Use at your own risk. For more info please refer to:\n",
                        "https://scikit-learn.org/stable/model_persistence.html#security-maintainability-limitations\n",
                        "  warnings.warn(\n"
                    ]
                }
            ],
            "source": [
                "import joblib\n",
                "from pymatgen.core import Composition\n",
                "\n",
                "preprocessing_objects = joblib.load(\"data/preprocessing_objects_20250615.pkl.z\")\n",
                "qc_ac_te_mp_dos_data = pd.read_parquet(\"data/qc_ac_te_mp_dos_reformat_20250615.pd.parquet\")\n",
                "qc_ac_te_mp_dos_data = qc_ac_te_mp_dos_data.loc[~qc_ac_te_mp_dos_data.index.isin(preprocessing_objects[\"dropped_idx\"])]\n",
                "qc_ac_te_mp_dos_data.composition = qc_ac_te_mp_dos_data.composition.apply(\n",
                "    lambda x: Composition({k: v for k, v in x.items() if v is not None and v > 0})\n",
                ")\n",
                "desc_trans = pd.read_parquet(\"data/qc_ac_te_mp_dos_composition_desc_trans_20250615.pd.parquet\")"
            ]
        },
        {
            "cell_type": "code",
            "execution_count": 3,
            "id": "5b7552a6",
            "metadata": {},
            "outputs": [],
            "source": [
                "_ = [\n",
                "    \"Thermal conductivity\",  # 0\n",
                "    \"Electrical resistivity\",  # 1\n",
                "    \"Power factor\",  # 2\n",
                "    \"Seebeck coefficient\",  # 3\n",
                "    \"ZT\",  # 4\n",
                "    \"Magnetic susceptibility\",  # 5\n",
                "    \"DOS density\",  # 6\n",
                "]\n",
                "\n",
                "# OUTLIER = 340\n",
                "OUTLIER = None\n",
                "prop_name = _[2]\n",
                "\n",
                "prop_value = qc_ac_te_mp_dos_data[prop_name].dropna()\n",
                "prop_value_norm = qc_ac_te_mp_dos_data[f\"{prop_name} (normalized)\"].loc[prop_value.index]\n",
                "prop_T = (\n",
                "    qc_ac_te_mp_dos_data[f\"{prop_name} (T/K)\"].loc[prop_value.index]\n",
                "    if prop_name != \"DOS density\"\n",
                "    else qc_ac_te_mp_dos_data[\"DOS energy\"].loc[prop_value.index]\n",
                ")\n",
                "\n",
                "if OUTLIER is not None and OUTLIER:\n",
                "    # Remove entries where any value in prop_T > 270 (remove whole sample if any t > 270)\n",
                "    mask = prop_T.apply(lambda arr: np.all(np.asarray(arr) <= OUTLIER))\n",
                "    prop_value = prop_value[mask]\n",
                "    prop_value_norm = prop_value_norm[mask]\n",
                "    prop_T = prop_T[mask]\n",
                "\n",
                "\n",
                "serial_name = \"Temperature (K)\" if prop_name != \"DOS density\" else r\"$E - E_{ferim}$ (eV)\"\n",
                "desc = desc_trans.loc[prop_value.index]"
            ]
        },
        {
            "cell_type": "code",
            "execution_count": 4,
            "id": "9cc9036e",
            "metadata": {},
            "outputs": [
                {
                    "name": "stderr",
                    "output_type": "stream",
                    "text": [
                        "/tmp/ipykernel_2251880/3056942669.py:3: RuntimeWarning: invalid value encountered in log\n",
                        "  prop_value_log = prop_value.apply(lambda x: np.log(x))\n"
                    ]
                },
                {
                    "data": {
                        "text/plain": [
                            "<Axes: ylabel='Count'>"
                        ]
                    },
                    "execution_count": 4,
                    "metadata": {},
                    "output_type": "execute_result"
                },
                {
                    "data": {
                        "text/plain": [
                            "Text(0.5, 0, 'Power factor')"
                        ]
                    },
                    "execution_count": 4,
                    "metadata": {},
                    "output_type": "execute_result"
                },
                {
                    "data": {
                        "text/plain": [
                            "Text(0, 0.5, 'Counts')"
                        ]
                    },
                    "execution_count": 4,
                    "metadata": {},
                    "output_type": "execute_result"
                },
                {
                    "data": {
                        "text/plain": [
                            "Text(0.5, 1.0, 'Distribution of Power factor')"
                        ]
                    },
                    "execution_count": 4,
                    "metadata": {},
                    "output_type": "execute_result"
                },
                {
                    "data": {
                        "image/png": "[encoded data removed]",
                        "text/plain": [
                            "<Figure size 900x600 with 1 Axes>"
                        ]
                    },
                    "metadata": {},
                    "output_type": "display_data"
                }
            ],
            "source": [
                "import seaborn as sns\n",
                "\n",
                "prop_value_log = prop_value.apply(lambda x: np.log(x))\n",
                "a = np.concatenate(prop_value.values).ravel()\n",
                "f, ax = plt.subplots(figsize=(6, 4), dpi=150)\n",
                "\n",
                "sns.histplot(a, bins=100, kde=False, ax=ax, edgecolor=\"black\")\n",
                "plt.xlabel(f\"{prop_name}\")\n",
                "plt.ylabel(\"Counts\")\n",
                "# plt.title(f\"Distribution of {prop_name} (normalized)\")\n",
                "plt.title(f\"Distribution of {prop_name}\")\n",
                "plt.show()"
            ]
        },
        {
            "cell_type": "code",
            "execution_count": 5,
            "id": "11e6e7b9",
            "metadata": {},
            "outputs": [
                {
                    "name": "stderr",
                    "output_type": "stream",
                    "text": [
                        "Seed set to 2025\n"
                    ]
                },
                {
                    "data": {
                        "text/plain": [
                            "2025"
                        ]
                    },
                    "execution_count": 5,
                    "metadata": {},
                    "output_type": "execute_result"
                }
            ],
            "source": [
                "seed_everything(2025)\n",
                "\n",
                "# -------------------------\n",
                "# Configuration and training setup\n",
                "# -------------------------\n",
                "EPOCHS = 150\n",
                "N_TRY = 10\n",
                "BATCH_SIZE = 2048\n",
                "TRAIN_RATIO = 1.0  # use 1.0 to train on all training data\n",
                "DEVICE_NUM = 0\n",
                "\n",
                "# Number of Gaussian kernels\n",
                "# Note: this is a hyperparameter that can be tuned based on the dataset.\n",
                "# More kernels can capture more complex patterns, but may also lead to overfitting.\n",
                "# If you want to use a different number of kernels, change this value.\n",
                "# For example, you can set N_KERNEL = 50 or N_KERNEL = 20 to see how it affects performance.\n",
                "# The default value is 30, which is a good starting point for many datasets.\n",
                "N_KERNEL = 15\n",
                "\n",
                "# Learning rate and decay for the main model branches (μ1(X), μ2(t))\n",
                "# Note: these are the global learning rate and decay for the main branches.\n",
                "# If you want to use a different lr/decay for β(X) or μ3(X,t), set them explicitly in the config.\n",
                "LR_RATE = 5e-4\n",
                "# LR_RATE = 1e-3\n",
                "OTHER_DECAY = 5e-5\n",
                "\n",
                "# Learning rate and decay for β(X) branch\n",
                "# Note: β(X) has a different learning rate and decay from the rest of the model.\n",
                "# This is to ensure it can adapt independently, especially if it has a different scale.\n",
                "# If you want to use the same lr/decay for β(X), set `beta_lr=None` and `beta_weight_decay=other_weight_decay`.\n",
                "BETA_LR_RATE = 5e-4\n",
                "# BETA_LR_RATE = 3e-4\n",
                "# BETA_DECAY = 1e-4  # specific to β(X)\n",
                "BETA_DECAY = 0  # specific to β(X)\n",
                "\n",
                "# Learning rate and decay for μ3(X,t) branch\n",
                "# If you want to use the same lr/decay for μ3(X,t) as the rest of the model, set `mu3_lr=None` and `mu3_weight_decay=other_weight_decay`.\n",
                "# If you want a different lr/decay for μ3(X,t), set them explicitly.\n",
                "MU3_LR_RATE = None  # inherit from `lr` if None\n",
                "MU3_DECAY = None  # inherit from `other_weight_decay` if None\n",
                "\n",
                "x_dim = desc.shape[1]\n",
                "t_range = (prop_T.iloc[0].min(), prop_T.iloc[0].max())\n",
                "\n",
                "cfg = ModelConfig(\n",
                "    prop_name=prop_name,\n",
                "    x_dim=x_dim,\n",
                "    # kernel options\n",
                "    n_kernels=N_KERNEL,\n",
                "    learnable_centers=True,\n",
                "    learnable_sigmas=True,\n",
                "    # β(X) branch\n",
                "    beta_hidden=(128, 64),\n",
                "    beta_activation=\"gelu\",\n",
                "    beta_dropout=0.0,\n",
                "    beta_batchnorm=False,\n",
                "    beta_weight_decay=BETA_DECAY,  # regularization (decoupled L2 via AdamW) specific to β(X)\n",
                "    beta_lr=BETA_LR_RATE,  # DIFFERENT lr for β(X); set None to inherit `lr`\n",
                "    # μ1(X) branch\n",
                "    mu1_hidden=(128, 64),\n",
                "    mu1_activation=\"gelu\",\n",
                "    mu1_dropout=0.0,\n",
                "    mu1_batchnorm=False,\n",
                "    # μ2(t) branch\n",
                "    mu2_hidden=(16, 8),\n",
                "    mu2_activation=\"gelu\",\n",
                "    mu2_dropout=0.0,\n",
                "    mu2_batchnorm=False,\n",
                "    # μ3(X,t) branch\n",
                "    enable_mu3=False,  # set to False to disable μ3(X,t) branch\n",
                "    mu3_hidden=(128, 64),\n",
                "    mu3_activation=\"gelu\",\n",
                "    mu3_dropout=0.0,\n",
                "    mu3_batchnorm=False,\n",
                "    mu3_lr=MU3_LR_RATE,  # inherit `lr` (change if you want a custom μ3 lr)\n",
                "    mu3_weight_decay=MU3_DECAY,  # inherit `other_weight_decay` (or set a custom value)\n",
                "    # other/global lr & decay\n",
                "    other_weight_decay=OTHER_DECAY,  # default for others\n",
                "    lr=LR_RATE,  # global lr for others\n",
                ")\n"
            ]
        },
        {
            "cell_type": "code",
            "execution_count": 6,
            "id": "cdb44902",
            "metadata": {},
            "outputs": [
                {
                    "name": "stdout",
                    "output_type": "stream",
                    "text": [
                        "centers: tensor([  12.3750,   99.2540,  231.0329,  395.3677,  583.8301,  762.0736,\n",
                        "         913.1929, 1033.5565, 1128.0890, 1206.1077, 1271.0336, 1317.4774,\n",
                        "        1360.6561, 1403.8484, 1445.6250])\n",
                        "sigmas : tensor([43.4395, 54.6645, 74.0284, 88.1993, 91.6765, 82.3407, 67.8707, 53.7240,\n",
                        "        43.1378, 35.7361, 27.8424, 22.4056, 21.5927, 21.2422, 20.8883])\n"
                    ]
                },
                {
                    "data": {
                        "image/png": "[encoded data removed]",
                        "text/plain": [
                            "<Figure size 1200x600 with 1 Axes>"
                        ]
                    },
                    "metadata": {},
                    "output_type": "display_data"
                }
            ],
            "source": [
                "# initialize centers/sigmas from training t distribution\n",
                "t_train = np.concatenate(prop_T.values)\n",
                "t_range = (t_train.min(), t_train.max())  # ensure t_range is based on training data\n",
                "\n",
                "\n",
                "centers, sigmas = init_centers_and_sigmas(\n",
                "    t_train=t_train,\n",
                "    # t_train=None,\n",
                "    n_kernels=N_KERNEL,\n",
                "    method=\"quantile\",  # or 'hist' / 'kmeans'\n",
                "    # sigma_alpha=(t_train.max() - t_train.min()) / N_KERNEL / 2.0,  # spacing to sigma\n",
                "    sigma_alpha=0.5,  # spacing to sigma\n",
                "    t_range=t_range,\n",
                "    inverse_density=True,  # sample more in high-density areas\n",
                "    density_smoothing=0.8,  # prevent over-concentration in extreme density regions\n",
                ")\n",
                "\n",
                "print(\"centers:\", centers)\n",
                "print(\"sigmas :\", sigmas)\n",
                "\n",
                "# 绘制分布和 centers/sigmas\n",
                "_ = plt.figure(figsize=(8, 4), dpi=150)\n",
                "_ = plt.hist(t_train, bins=100, density=True, alpha=0.4, label=r\"$t$ distribution\")\n",
                "\n",
                "centers_np = centers.numpy()\n",
                "sigmas_np = sigmas.numpy()\n",
                "\n",
                "# plot centers and sigmas\n",
                "_ = plt.scatter(centers_np, np.zeros_like(centers_np), color=\"red\", label=\"centers\")\n",
                "for c, s in zip(centers_np, sigmas_np):\n",
                "    _ = plt.plot([c - s, c + s], [0, 0], color=\"red\", lw=2)\n",
                "\n",
                "\n",
                "if OUTLIER is not None and OUTLIER:\n",
                "    _ = plt.text(\n",
                "        0.98,\n",
                "        0.98,\n",
                "        f\"Data size: {len(prop_T)}\",\n",
                "        ha=\"right\",\n",
                "        va=\"top\",\n",
                "        transform=plt.gca().transAxes,\n",
                "        fontsize=20,\n",
                "        # bbox=dict(facecolor=\"white\", alpha=0.7, edgecolor=\"none\"),\n",
                "    )\n",
                "\n",
                "    # _ = plt.legend(None)\n",
                "else:\n",
                "    # labels and title\n",
                "    _ = plt.xlabel(r\"$t$ (T/K)\")\n",
                "    _ = plt.ylabel(\"Density\")\n",
                "    # _ = plt.grid(True, axis=\"y\", linestyle=\"--\", alpha=0.7)\n",
                "    # _ = plt.title(r\"Centers and sigmas initialized from $t$ distribution\")\n",
                "    _ = plt.legend(title=f\"Data size: {len(prop_T)}\")\n",
                "_ = plt.show()"
            ]
        },
        {
            "cell_type": "code",
            "execution_count": null,
            "id": "13cbc84e",
            "metadata": {},
            "outputs": [
                {
                    "name": "stderr",
                    "output_type": "stream",
                    "text": [
                        "Seed set to 2025\n",
                        "GPU available: True (cuda), used: True\n",
                        "TPU available: False, using: 0 TPU cores\n",
                        "HPU available: False, using: 0 HPUs\n"
                    ]
                },
                {
                    "name": "stdout",
                    "output_type": "stream",
                    "text": [
                        "\n",
                        "--- Experiment 1: Fourier feature encoding ---\n"
                    ]
                },
                {
                    "name": "stderr",
                    "output_type": "stream",
                    "text": [
                        "LOCAL_RANK: 0 - CUDA_VISIBLE_DEVICES: [0,1,2,3]\n",
                        "\n",
                        "  | Name     | Type           | Params | Mode \n",
                        "----------------------------------------------------\n",
                        "0 | kernel   | GaussianKernel | 30     | train\n",
                        "1 | beta_net | Sequential     | 46.5 K | train\n",
                        "2 | mu1_net  | Sequential     | 45.6 K | train\n",
                        "3 | mu2_net  | Sequential     | 177    | train\n",
                        "4 | mae      | L1Loss         | 0      | train\n",
                        "5 | mse      | MSELoss        | 0      | train\n",
                        "----------------------------------------------------\n",
                        "92.3 K    Trainable params\n",
                        "0         Non-trainable params\n",
                        "92.3 K    Total params\n",
                        "0.369     Total estimated model params size (MB)\n",
                        "21        Modules in train mode\n",
                        "0         Modules in eval mode\n"
                    ]
                },
                {
                    "name": "stdout",
                    "output_type": "stream",
                    "text": [
                        "Sanity Checking DataLoader 0:   0%|          | 0/2 [00:00<?, ?it/s]"
                    ]
                },
                {
                    "name": "stderr",
                    "output_type": "stream",
                    "text": [
                        ".venv/lib/python3.12/site-packages/lightning/pytorch/trainer/connectors/data_connector.py:433: The 'val_dataloader' does not have many workers which may be a bottleneck. Consider increasing the value of the `num_workers` argument` to `num_workers=127` in the `DataLoader` to improve performance.\n"
                    ]
                },
                {
                    "name": "stdout",
                    "output_type": "stream",
                    "text": [
                        "                                                                           "
                    ]
                },
                {
                    "name": "stderr",
                    "output_type": "stream",
                    "text": [
                        ".venv/lib/python3.12/site-packages/lightning/pytorch/trainer/connectors/data_connector.py:433: The 'train_dataloader' does not have many workers which may be a bottleneck. Consider increasing the value of the `num_workers` argument` to `num_workers=127` in the `DataLoader` to improve performance.\n"
                    ]
                },
                {
                    "name": "stdout",
                    "output_type": "stream",
                    "text": [
                        "Epoch 122:  68%|██████▊   | 361/530 [00:13<00:06, 26.50it/s, v_num=al_1, val_mse=0.325, val_mae=0.404, train_loss=0.171]"
                    ]
                }
            ],
            "source": [
                "import json\n",
                "\n",
                "# Experiment 1: Use Fourier features\n",
                "print(\"\\n--- Experiment 1: Fourier feature encoding ---\")\n",
                "_ = seed_everything(2025)\n",
                "\n",
                "if OUTLIER is not None and OUTLIER:\n",
                "    base_dir = Path(\n",
                "        f\"logs/kernel_regression/{prop_name}/{datetime.now().strftime('%m%d_%H%M')}_nk{N_KERNEL}_c{OUTLIER}_r{TRAIN_RATIO}\"\n",
                "    )\n",
                "else:\n",
                "    base_dir = Path(\n",
                "        f\"logs/kernel_regression/{prop_name}/{datetime.now().strftime('%m%d_%H%M')}_nk{N_KERNEL}_r{TRAIN_RATIO}\"\n",
                "    )\n",
                "for n_try in range(N_TRY):\n",
                "    # 1. Setup logging directory\n",
                "    version = f\"trial_{n_try + 1}\"\n",
                "    save_dir = base_dir / \"predictions\" / version\n",
                "    save_dir.mkdir(parents=True, exist_ok=True)\n",
                "\n",
                "    # Data split\n",
                "    split = swap_train_val_split(qc_ac_te_mp_dos_data, swap_ratio=0.8, random_seed=None)\n",
                "    split = split.loc[prop_value.index]\n",
                "    _ = split.to_csv(f\"{save_dir}/data_split.csv\")\n",
                "\n",
                "    dm = DOSDataModule(\n",
                "        descriptor=desc,\n",
                "        dos_energy=prop_T,\n",
                "        dos=prop_value_norm,\n",
                "        serial=split,\n",
                "        batch_size=BATCH_SIZE,\n",
                "        train_ratio=TRAIN_RATIO,\n",
                "        random_seed=42,\n",
                "    )\n",
                "\n",
                "    # model\n",
                "    model = KernelRegression(cfg, kernel_centers=centers, kernel_sigmas=sigmas)\n",
                "\n",
                "    callbacks = [\n",
                "        EarlyStopping(monitor=\"val_mse\", mode=\"min\", patience=30),\n",
                "        ModelCheckpoint(monitor=\"val_mse\", mode=\"min\", save_top_k=1, filename=\"best-{epoch:02d}-{val_mse:.4f}\"),\n",
                "        LearningRateMonitor(logging_interval=\"epoch\"),\n",
                "    ]\n",
                "    logger = [\n",
                "        CSVLogger(base_dir, version=version, name=\"csv\"),\n",
                "        TensorBoardLogger(base_dir, version=version, name=\"tensorboard\"),\n",
                "    ]\n",
                "\n",
                "    trainer = Trainer(\n",
                "        max_epochs=EPOCHS,\n",
                "        accelerator=\"auto\",\n",
                "        devices=[DEVICE_NUM],\n",
                "        deterministic=True,\n",
                "        log_every_n_steps=10,\n",
                "        callbacks=callbacks,\n",
                "        logger=logger,\n",
                "    )\n",
                "\n",
                "    # 4. Start training\n",
                "    trainer.fit(model, datamodule=dm)\n",
                "\n",
                "    # 5. Predict\n",
                "    test_pred = trainer.predict(model, dataloaders=dm.test_dataloader())\n",
                "    train_pred = trainer.predict(model, dataloaders=dm.train_dataloader())\n",
                "\n",
                "    # 6. Plot predictions\n",
                "    all_t = []\n",
                "    all_v = []\n",
                "    all_y_hat = []\n",
                "\n",
                "    if test_pred is not None:\n",
                "        for batch in test_pred:\n",
                "            t, v, y_hat = batch\n",
                "            all_t.append(t)\n",
                "            all_v.append(v)\n",
                "            all_y_hat.append(y_hat)\n",
                "        all_t = torch.cat(all_t, dim=0)\n",
                "        all_v = torch.cat(all_v, dim=0)\n",
                "        all_y_hat = torch.cat(all_y_hat, dim=0)\n",
                "        y_true = all_v.squeeze(-1).cpu().numpy()\n",
                "        y_preds = all_y_hat.squeeze(-1).cpu().numpy()\n",
                "        y_t = all_t.squeeze(-1).cpu().numpy()\n",
                "\n",
                "        # Assume each D corresponds to a sequence length of 300\n",
                "        seq_len = 300\n",
                "        num_samples = all_t.shape[0] // seq_len\n",
                "\n",
                "        samples = []\n",
                "        for i in range(num_samples):\n",
                "            t_seq = all_t[i * seq_len : (i + 1) * seq_len]\n",
                "            v_seq = all_v[i * seq_len : (i + 1) * seq_len]\n",
                "            y_hat_seq = all_y_hat[i * seq_len : (i + 1) * seq_len]\n",
                "            samples.append((t_seq, v_seq, y_hat_seq))\n",
                "        plot_prediction_pairs(\n",
                "            samples,\n",
                "            n=9,\n",
                "            title_prefix=\"Test\",\n",
                "            prop_name=prop_name,\n",
                "            serial_name=serial_name,\n",
                "            show_pred=True,\n",
                "            save_dir=f\"{save_dir}/test_paris.png\",\n",
                "        )\n",
                "\n",
                "    # 7. Plot predictions\n",
                "    all_t = []\n",
                "    all_v = []\n",
                "    all_y_hat = []\n",
                "\n",
                "    if train_pred is not None:\n",
                "        for batch in train_pred:\n",
                "            t, v, y_hat = batch\n",
                "            all_t.append(t)\n",
                "            all_v.append(v)\n",
                "            all_y_hat.append(y_hat)\n",
                "        all_t = torch.cat(all_t, dim=0)\n",
                "        all_v = torch.cat(all_v, dim=0)\n",
                "        all_y_hat = torch.cat(all_y_hat, dim=0)\n",
                "        y_fit_true = all_v.squeeze(-1).cpu().numpy()\n",
                "        y_fit_preds = all_y_hat.squeeze(-1).cpu().numpy()\n",
                "        y_fit_t = all_t.squeeze(-1).cpu().numpy()\n",
                "\n",
                "        # Assume each D corresponds to a sequence length of 300\n",
                "        seq_len = 300\n",
                "        num_samples = all_t.shape[0] // seq_len\n",
                "\n",
                "        samples = []\n",
                "        for i in range(num_samples):\n",
                "            t_seq = all_t[i * seq_len : (i + 1) * seq_len]\n",
                "            v_seq = all_v[i * seq_len : (i + 1) * seq_len]\n",
                "            y_hat_seq = all_y_hat[i * seq_len : (i + 1) * seq_len]\n",
                "            samples.append((t_seq, v_seq, y_hat_seq))\n",
                "        plot_prediction_pairs(\n",
                "            samples,\n",
                "            n=9,\n",
                "            title_prefix=\"Train\",\n",
                "            prop_name=prop_name,\n",
                "            serial_name=serial_name,\n",
                "            show_pred=True,\n",
                "            save_dir=f\"{save_dir}/train_paris.png\",\n",
                "        )\n",
                "\n",
                "        # Concatenate arrays and create DataFrame\n",
                "        df = pd.DataFrame(\n",
                "            {\n",
                "                \"ture\": np.concatenate([y_true, y_fit_true]),\n",
                "                \"prediction\": np.concatenate([y_preds, y_fit_preds]),\n",
                "                \"t\": np.concatenate([y_t, y_fit_t]),\n",
                "                \"label\": [\"prediction\"] * len(y_true) + [\"fit\"] * len(y_fit_true),\n",
                "            }\n",
                "        )\n",
                "\n",
                "        # Save as CSV\n",
                "        csv_path = f\"{save_dir}/results.csv\"\n",
                "        df.to_csv(csv_path, index=False)\n",
                "\n",
                "        # Save as Parquet\n",
                "        parquet_path = f\"{save_dir}/results.parquet\"\n",
                "        df.to_parquet(parquet_path, index=False)\n",
                "\n",
                "    fig, ax = plt.subplots(figsize=(6, 6), dpi=150)\n",
                "\n",
                "    ax.scatter(y_fit_true, y_fit_preds, alpha=0.05, label=\"Train\")\n",
                "    ax.scatter(y_true, y_preds, alpha=0.3, label=\"Test\")\n",
                "    ax.set_xlabel(\"Observation\")\n",
                "    ax.set_ylabel(\"Prediction\")\n",
                "    ax.set_title(f\"{prop_name} (normalized)\")\n",
                "    ax.plot([y_true.min(), y_true.max()], [y_true.min(), y_true.max()], \"r--\")\n",
                "    mae = mean_absolute_error(y_true, y_preds)\n",
                "    r2 = r2_score(y_true, y_preds)\n",
                "    ax.legend()\n",
                "    ax.text(\n",
                "        0.05,\n",
                "        0.95,\n",
                "        f\"MAE={mae:.3f}\\nR²={r2:.3f}\",\n",
                "        transform=ax.transAxes,\n",
                "        verticalalignment=\"top\",\n",
                "        bbox=dict(facecolor=\"white\", alpha=0.7, edgecolor=\"none\"),\n",
                "    )\n",
                "\n",
                "    metrics = {\"mae\": float(mae), \"r2\": float(r2)}\n",
                "    with open(f\"{save_dir}/metrics.json\", \"w\") as f:\n",
                "        json.dump(metrics, f, indent=2)\n",
                "    fig.savefig(f\"{save_dir}/scatter.png\", bbox_inches=\"tight\")\n"
            ]
        },
        {
            "cell_type": "code",
            "execution_count": null,
            "id": "6029c178",
            "metadata": {},
            "outputs": [],
            "source": []
        },
        {
            "cell_type": "code",
            "execution_count": null,
            "id": "c8aaecb9",
            "metadata": {},
            "outputs": [],
            "source": []
        }
    ],
    "metadata": {
        "kernelspec": {
            "display_name": "foundation_model",
            "language": "python",
            "name": "python3"
        },
        "language_info": {
            "codemirror_mode": {
                "name": "ipython",
                "version": 3
            },
            "file_extension": ".py",
            "mimetype": "text/x-python",
            "name": "python",
            "nbconvert_exporter": "python",
            "pygments_lexer": "ipython3",
            "version": "3.12.3"
        }
    },
    "nbformat": 4,
    "nbformat_minor": 5
}