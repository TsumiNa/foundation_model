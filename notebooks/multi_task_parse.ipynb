{
 "cells": [
  {
   "cell_type": "code",
   "execution_count": 1,
   "id": "4ab89bda-1265-42d6-a748-0f8caca3fd08",
   "metadata": {},
   "outputs": [],
   "source": [
    "import pandas as pd\n",
    "import numpy as np\n",
    "import seaborn as sns\n",
    "import joblib\n",
    "\n",
    "from pathlib import Path\n",
    "import matplotlib.pyplot as plt\n",
    "from scipy.interpolate import interp1d\n",
    "from pathlib import Path\n",
    "from pymatgen.core import Structure, Composition, Element\n",
    "\n",
    "# user-friendly print\n",
    "from IPython.core.interactiveshell import InteractiveShell\n",
    "InteractiveShell.ast_node_interactivity = \"all\"\n",
    "\n",
    "# see https://pytorch.org/docs/stable/generated/torch.set_float32_matmul_precision.html#torch.set_float32_matmul_precision\n",
    "import torch\n",
    "torch.set_float32_matmul_precision('high')"
   ]
  },
  {
   "cell_type": "markdown",
   "id": "09f70007-4b61-4917-9467-a8572053493c",
   "metadata": {},
   "source": [
    "### Load data"
   ]
  },
  {
   "cell_type": "code",
   "execution_count": 2,
   "id": "d690cebb-9a23-4ecd-95ca-1d4e5a282fd7",
   "metadata": {},
   "outputs": [
    {
     "data": {
      "text/html": [
       "<div>\n",
       "<style scoped>\n",
       "    .dataframe tbody tr th:only-of-type {\n",
       "        vertical-align: middle;\n",
       "    }\n",
       "\n",
       "    .dataframe tbody tr th {\n",
       "        vertical-align: top;\n",
       "    }\n",
       "\n",
       "    .dataframe thead th {\n",
       "        text-align: right;\n",
       "    }\n",
       "</style>\n",
       "<table border=\"1\" class=\"dataframe\">\n",
       "  <thead>\n",
       "    <tr style=\"text-align: right;\">\n",
       "      <th></th>\n",
       "      <th>formula</th>\n",
       "      <th>hypermaterial_type</th>\n",
       "      <th>temperature</th>\n",
       "      <th>composition</th>\n",
       "      <th>elements</th>\n",
       "      <th>Thermal conductivity</th>\n",
       "      <th>Seebeck coefficient</th>\n",
       "      <th>Carrier concentration</th>\n",
       "      <th>Electrical conductivity</th>\n",
       "      <th>Thermopower</th>\n",
       "      <th>...</th>\n",
       "      <th>Density</th>\n",
       "      <th>Efermi</th>\n",
       "      <th>Final energy per atom</th>\n",
       "      <th>Formation energy per atom</th>\n",
       "      <th>Total magnetization</th>\n",
       "      <th>Volume</th>\n",
       "      <th>Magnetic susceptibility</th>\n",
       "      <th>Hall coefficient</th>\n",
       "      <th>Electronic contribution</th>\n",
       "      <th>Electronic thermal conductivity</th>\n",
       "    </tr>\n",
       "    <tr>\n",
       "      <th>id</th>\n",
       "      <th></th>\n",
       "      <th></th>\n",
       "      <th></th>\n",
       "      <th></th>\n",
       "      <th></th>\n",
       "      <th></th>\n",
       "      <th></th>\n",
       "      <th></th>\n",
       "      <th></th>\n",
       "      <th></th>\n",
       "      <th></th>\n",
       "      <th></th>\n",
       "      <th></th>\n",
       "      <th></th>\n",
       "      <th></th>\n",
       "      <th></th>\n",
       "      <th></th>\n",
       "      <th></th>\n",
       "      <th></th>\n",
       "      <th></th>\n",
       "      <th></th>\n",
       "    </tr>\n",
       "  </thead>\n",
       "  <tbody>\n",
       "    <tr>\n",
       "      <th>starry_0</th>\n",
       "      <td>(ErAs)0.003InGaAs</td>\n",
       "      <td>others</td>\n",
       "      <td>290</td>\n",
       "      <td>(Er, As, In, Ga)</td>\n",
       "      <td>(Er, As, In, Ga)</td>\n",
       "      <td>3.2670491071158483</td>\n",
       "      <td>NaN</td>\n",
       "      <td>NaN</td>\n",
       "      <td>NaN</td>\n",
       "      <td>NaN</td>\n",
       "      <td>...</td>\n",
       "      <td>NaN</td>\n",
       "      <td>NaN</td>\n",
       "      <td>NaN</td>\n",
       "      <td>NaN</td>\n",
       "      <td>NaN</td>\n",
       "      <td>NaN</td>\n",
       "      <td>NaN</td>\n",
       "      <td>NaN</td>\n",
       "      <td>NaN</td>\n",
       "      <td>NaN</td>\n",
       "    </tr>\n",
       "    <tr>\n",
       "      <th>qa_1</th>\n",
       "      <td>Al61.5Cu26.5Fe12</td>\n",
       "      <td>IQC</td>\n",
       "      <td>290</td>\n",
       "      <td>(Al, Cu, Fe)</td>\n",
       "      <td>(Al, Cu, Fe)</td>\n",
       "      <td>1.4258964578008275</td>\n",
       "      <td>-1.1863527516689362e-05</td>\n",
       "      <td>NaN</td>\n",
       "      <td>NaN</td>\n",
       "      <td>NaN</td>\n",
       "      <td>...</td>\n",
       "      <td>NaN</td>\n",
       "      <td>NaN</td>\n",
       "      <td>NaN</td>\n",
       "      <td>NaN</td>\n",
       "      <td>NaN</td>\n",
       "      <td>NaN</td>\n",
       "      <td>NaN</td>\n",
       "      <td>NaN</td>\n",
       "      <td>NaN</td>\n",
       "      <td>NaN</td>\n",
       "    </tr>\n",
       "    <tr>\n",
       "      <th>starry_2</th>\n",
       "      <td>Bi2Te2.4Se0.6</td>\n",
       "      <td>others</td>\n",
       "      <td>290</td>\n",
       "      <td>(Bi, Te, Se)</td>\n",
       "      <td>(Bi, Te, Se)</td>\n",
       "      <td>NaN</td>\n",
       "      <td>NaN</td>\n",
       "      <td>-5.436073908332581e+24</td>\n",
       "      <td>1063.8779641515926</td>\n",
       "      <td>NaN</td>\n",
       "      <td>...</td>\n",
       "      <td>NaN</td>\n",
       "      <td>NaN</td>\n",
       "      <td>NaN</td>\n",
       "      <td>NaN</td>\n",
       "      <td>NaN</td>\n",
       "      <td>NaN</td>\n",
       "      <td>NaN</td>\n",
       "      <td>NaN</td>\n",
       "      <td>NaN</td>\n",
       "      <td>NaN</td>\n",
       "    </tr>\n",
       "  </tbody>\n",
       "</table>\n",
       "<p>3 rows × 26 columns</p>\n",
       "</div>"
      ],
      "text/plain": [
       "                     formula hypermaterial_type  temperature  \\\n",
       "id                                                             \n",
       "starry_0   (ErAs)0.003InGaAs             others          290   \n",
       "qa_1        Al61.5Cu26.5Fe12                IQC          290   \n",
       "starry_2       Bi2Te2.4Se0.6             others          290   \n",
       "\n",
       "               composition          elements Thermal conductivity  \\\n",
       "id                                                                  \n",
       "starry_0  (Er, As, In, Ga)  (Er, As, In, Ga)   3.2670491071158483   \n",
       "qa_1          (Al, Cu, Fe)      (Al, Cu, Fe)   1.4258964578008275   \n",
       "starry_2      (Bi, Te, Se)      (Bi, Te, Se)                  NaN   \n",
       "\n",
       "              Seebeck coefficient   Carrier concentration  \\\n",
       "id                                                          \n",
       "starry_0                      NaN                     NaN   \n",
       "qa_1      -1.1863527516689362e-05                     NaN   \n",
       "starry_2                      NaN  -5.436073908332581e+24   \n",
       "\n",
       "         Electrical conductivity Thermopower  ... Density Efermi  \\\n",
       "id                                            ...                  \n",
       "starry_0                     NaN         NaN  ...     NaN    NaN   \n",
       "qa_1                         NaN         NaN  ...     NaN    NaN   \n",
       "starry_2      1063.8779641515926         NaN  ...     NaN    NaN   \n",
       "\n",
       "         Final energy per atom Formation energy per atom Total magnetization  \\\n",
       "id                                                                             \n",
       "starry_0                   NaN                       NaN                 NaN   \n",
       "qa_1                       NaN                       NaN                 NaN   \n",
       "starry_2                   NaN                       NaN                 NaN   \n",
       "\n",
       "          Volume  Magnetic susceptibility  Hall coefficient  \\\n",
       "id                                                            \n",
       "starry_0     NaN                      NaN               NaN   \n",
       "qa_1         NaN                      NaN               NaN   \n",
       "starry_2     NaN                      NaN               NaN   \n",
       "\n",
       "          Electronic contribution  Electronic thermal conductivity  \n",
       "id                                                                  \n",
       "starry_0                      NaN                              NaN  \n",
       "qa_1                          NaN                              NaN  \n",
       "starry_2                      NaN                              NaN  \n",
       "\n",
       "[3 rows x 26 columns]"
      ]
     },
     "execution_count": 2,
     "metadata": {},
     "output_type": "execute_result"
    },
    {
     "data": {
      "text/plain": [
       "(41017, 26)"
      ]
     },
     "execution_count": 2,
     "metadata": {},
     "output_type": "execute_result"
    }
   ],
   "source": [
    "qc_ac_te_mp_dataset = pd.read_pickle('../data/raw/qc_ac_te_mp_rebuild_T=290K_20250202.pd.xz')\n",
    "\n",
    "qc_ac_te_mp_dataset.head(3)\n",
    "qc_ac_te_mp_dataset.shape"
   ]
  },
  {
   "cell_type": "markdown",
   "id": "83139570-f666-4bec-aa0b-5e7e9d0f2f0b",
   "metadata": {},
   "source": [
    "All properties"
   ]
  },
  {
   "cell_type": "code",
   "execution_count": 3,
   "id": "337eb1f5-3210-4d02-8b58-528b82e39a44",
   "metadata": {},
   "outputs": [],
   "source": [
    "starry_props = [\n",
    "    \"Thermal conductivity\",\n",
    "    \"Carrier concentration\",\n",
    "    \"Electrical conductivity\",\n",
    "    \"Thermopower\",\n",
    "    \"Electrical resistivity\",\n",
    "    \"Power factor\",\n",
    "    \"Seebeck coefficient\",\n",
    "    \"Lattice thermal conductivity\",\n",
    "    \"ZT\",\n",
    "    \"Hall mobility\",\n",
    "    \"Electronic contribution\",  # Nan after QuantileTransformer\n",
    "    \"Electronic thermal conductivity\",\n",
    "]\n",
    "\n",
    "ac_qc_props = [\n",
    "    \"Seebeck coefficient\",\n",
    "    \"Thermal conductivity\",\n",
    "    \"Electrical resistivity\",\n",
    "    \"Magnetic susceptibility\",\n",
    "    # \"Specific heat capacity\",\n",
    "    \"Hall coefficient\",\n",
    "    \"ZT\",\n",
    "    \"Power factor\",\n",
    "]\n",
    "\n",
    "mp_props = [\n",
    "    \"Band gap\",\n",
    "    \"Density\",\n",
    "    \"Efermi\",\n",
    "    \"Final energy per atom\",\n",
    "    \"Formation energy per atom\",\n",
    "    \"Total magnetization\",\n",
    "    \"Volume\",  \n",
    "]\n",
    "\n",
    "ac_qc_starry_shared_props = [\n",
    "    \"Seebeck coefficient\",\n",
    "    \"Thermal conductivity\",\n",
    "    \"Electrical resistivity\",\n",
    "    \"Power factor\",\n",
    "    \"ZT\",\n",
    "]\n",
    "\n",
    "ac_qc_starry_props = [\n",
    "    \"Seebeck coefficient\",\n",
    "    \"Thermal conductivity\",\n",
    "    \"Electrical resistivity\",\n",
    "    \"Magnetic susceptibility\",\n",
    "    # \"Specific heat capacity\",\n",
    "    \"Hall coefficient\",\n",
    "    \"ZT\",\n",
    "    \"Power factor\",\n",
    "    \"Carrier concentration\",\n",
    "    \"Electrical conductivity\",\n",
    "    \"Thermopower\",\n",
    "    \"Lattice thermal conductivity\",\n",
    "    \"Hall mobility\",\n",
    "    \"Electronic contribution\",\n",
    "    \"Electronic thermal conductivity\",\n",
    "]\n",
    "\n",
    "all_props = ac_qc_starry_props + mp_props\n",
    "\n",
    "qc_ac_te_mp_props = qc_ac_te_mp_dataset[all_props]"
   ]
  },
  {
   "cell_type": "markdown",
   "id": "e5fa8639-8c79-488a-a4a9-de0960a9a39a",
   "metadata": {},
   "source": [
    "Calculate descriptors"
   ]
  },
  {
   "cell_type": "code",
   "execution_count": 4,
   "id": "3bca44a5-76a3-41c6-964c-4b50515a604a",
   "metadata": {},
   "outputs": [],
   "source": [
    "from xenonpy.descriptor import Compositions\n",
    "from sklearn.preprocessing import MinMaxScaler, StandardScaler\n",
    "\n",
    "featurizers = ['WeightedAverage', 'WeightedVariance', 'MaxPooling', 'MinPooling']\n",
    "comp_calc = Compositions(featurizers=featurizers, n_jobs=20)  # use specific featurizers"
   ]
  },
  {
   "cell_type": "code",
   "execution_count": 5,
   "id": "1522653e-d178-494e-94b7-d7dcfda66eb1",
   "metadata": {},
   "outputs": [
    {
     "data": {
      "text/plain": [
       "(40975, 232)"
      ]
     },
     "execution_count": 5,
     "metadata": {},
     "output_type": "execute_result"
    },
    {
     "data": {
      "text/html": [
       "<div>\n",
       "<style scoped>\n",
       "    .dataframe tbody tr th:only-of-type {\n",
       "        vertical-align: middle;\n",
       "    }\n",
       "\n",
       "    .dataframe tbody tr th {\n",
       "        vertical-align: top;\n",
       "    }\n",
       "\n",
       "    .dataframe thead th {\n",
       "        text-align: right;\n",
       "    }\n",
       "</style>\n",
       "<table border=\"1\" class=\"dataframe\">\n",
       "  <thead>\n",
       "    <tr style=\"text-align: right;\">\n",
       "      <th></th>\n",
       "      <th>ave:atomic_number</th>\n",
       "      <th>ave:atomic_radius</th>\n",
       "      <th>ave:atomic_radius_rahm</th>\n",
       "      <th>ave:atomic_volume</th>\n",
       "      <th>ave:atomic_weight</th>\n",
       "      <th>ave:boiling_point</th>\n",
       "      <th>ave:bulk_modulus</th>\n",
       "      <th>ave:c6_gb</th>\n",
       "      <th>ave:covalent_radius_cordero</th>\n",
       "      <th>ave:covalent_radius_pyykko</th>\n",
       "      <th>...</th>\n",
       "      <th>min:num_s_valence</th>\n",
       "      <th>min:period</th>\n",
       "      <th>min:specific_heat</th>\n",
       "      <th>min:thermal_conductivity</th>\n",
       "      <th>min:vdw_radius</th>\n",
       "      <th>min:vdw_radius_alvarez</th>\n",
       "      <th>min:vdw_radius_mm3</th>\n",
       "      <th>min:vdw_radius_uff</th>\n",
       "      <th>min:sound_velocity</th>\n",
       "      <th>min:Polarizability</th>\n",
       "    </tr>\n",
       "    <tr>\n",
       "      <th>id</th>\n",
       "      <th></th>\n",
       "      <th></th>\n",
       "      <th></th>\n",
       "      <th></th>\n",
       "      <th></th>\n",
       "      <th></th>\n",
       "      <th></th>\n",
       "      <th></th>\n",
       "      <th></th>\n",
       "      <th></th>\n",
       "      <th></th>\n",
       "      <th></th>\n",
       "      <th></th>\n",
       "      <th></th>\n",
       "      <th></th>\n",
       "      <th></th>\n",
       "      <th></th>\n",
       "      <th></th>\n",
       "      <th></th>\n",
       "      <th></th>\n",
       "      <th></th>\n",
       "    </tr>\n",
       "  </thead>\n",
       "  <tbody>\n",
       "    <tr>\n",
       "      <th>starry_0</th>\n",
       "      <td>37.692282</td>\n",
       "      <td>148.686294</td>\n",
       "      <td>236.696274</td>\n",
       "      <td>13.537758</td>\n",
       "      <td>86.556599</td>\n",
       "      <td>1968.408516</td>\n",
       "      <td>61.147068</td>\n",
       "      <td>454.500998</td>\n",
       "      <td>127.719228</td>\n",
       "      <td>129.027944</td>\n",
       "      <td>...</td>\n",
       "      <td>2.0</td>\n",
       "      <td>4.0</td>\n",
       "      <td>0.168</td>\n",
       "      <td>15.00</td>\n",
       "      <td>185.0</td>\n",
       "      <td>188.0</td>\n",
       "      <td>236.0</td>\n",
       "      <td>339.1</td>\n",
       "      <td>1215.0</td>\n",
       "      <td>4.31</td>\n",
       "    </tr>\n",
       "    <tr>\n",
       "      <th>qa_1</th>\n",
       "      <td>18.800000</td>\n",
       "      <td>136.985000</td>\n",
       "      <td>231.610000</td>\n",
       "      <td>8.883500</td>\n",
       "      <td>40.134736</td>\n",
       "      <td>2800.460000</td>\n",
       "      <td>104.240000</td>\n",
       "      <td>455.520000</td>\n",
       "      <td>126.435000</td>\n",
       "      <td>121.090000</td>\n",
       "      <td>...</td>\n",
       "      <td>1.0</td>\n",
       "      <td>3.0</td>\n",
       "      <td>0.385</td>\n",
       "      <td>80.00</td>\n",
       "      <td>184.0</td>\n",
       "      <td>225.0</td>\n",
       "      <td>223.0</td>\n",
       "      <td>291.2</td>\n",
       "      <td>3570.0</td>\n",
       "      <td>6.20</td>\n",
       "    </tr>\n",
       "    <tr>\n",
       "      <th>starry_2</th>\n",
       "      <td>62.240000</td>\n",
       "      <td>161.600000</td>\n",
       "      <td>243.040000</td>\n",
       "      <td>20.340000</td>\n",
       "      <td>154.316680</td>\n",
       "      <td>1474.412000</td>\n",
       "      <td>44.596000</td>\n",
       "      <td>459.240000</td>\n",
       "      <td>139.840000</td>\n",
       "      <td>139.600000</td>\n",
       "      <td>...</td>\n",
       "      <td>2.0</td>\n",
       "      <td>4.0</td>\n",
       "      <td>0.124</td>\n",
       "      <td>0.52</td>\n",
       "      <td>190.0</td>\n",
       "      <td>182.0</td>\n",
       "      <td>229.0</td>\n",
       "      <td>420.5</td>\n",
       "      <td>1790.0</td>\n",
       "      <td>3.77</td>\n",
       "    </tr>\n",
       "  </tbody>\n",
       "</table>\n",
       "<p>3 rows × 232 columns</p>\n",
       "</div>"
      ],
      "text/plain": [
       "          ave:atomic_number  ave:atomic_radius  ave:atomic_radius_rahm  \\\n",
       "id                                                                       \n",
       "starry_0          37.692282         148.686294              236.696274   \n",
       "qa_1              18.800000         136.985000              231.610000   \n",
       "starry_2          62.240000         161.600000              243.040000   \n",
       "\n",
       "          ave:atomic_volume  ave:atomic_weight  ave:boiling_point  \\\n",
       "id                                                                  \n",
       "starry_0          13.537758          86.556599        1968.408516   \n",
       "qa_1               8.883500          40.134736        2800.460000   \n",
       "starry_2          20.340000         154.316680        1474.412000   \n",
       "\n",
       "          ave:bulk_modulus   ave:c6_gb  ave:covalent_radius_cordero  \\\n",
       "id                                                                    \n",
       "starry_0         61.147068  454.500998                   127.719228   \n",
       "qa_1            104.240000  455.520000                   126.435000   \n",
       "starry_2         44.596000  459.240000                   139.840000   \n",
       "\n",
       "          ave:covalent_radius_pyykko  ...  min:num_s_valence  min:period  \\\n",
       "id                                    ...                                  \n",
       "starry_0                  129.027944  ...                2.0         4.0   \n",
       "qa_1                      121.090000  ...                1.0         3.0   \n",
       "starry_2                  139.600000  ...                2.0         4.0   \n",
       "\n",
       "          min:specific_heat  min:thermal_conductivity  min:vdw_radius  \\\n",
       "id                                                                      \n",
       "starry_0              0.168                     15.00           185.0   \n",
       "qa_1                  0.385                     80.00           184.0   \n",
       "starry_2              0.124                      0.52           190.0   \n",
       "\n",
       "          min:vdw_radius_alvarez  min:vdw_radius_mm3  min:vdw_radius_uff  \\\n",
       "id                                                                         \n",
       "starry_0                   188.0               236.0               339.1   \n",
       "qa_1                       225.0               223.0               291.2   \n",
       "starry_2                   182.0               229.0               420.5   \n",
       "\n",
       "          min:sound_velocity  min:Polarizability  \n",
       "id                                                \n",
       "starry_0              1215.0                4.31  \n",
       "qa_1                  3570.0                6.20  \n",
       "starry_2              1790.0                3.77  \n",
       "\n",
       "[3 rows x 232 columns]"
      ]
     },
     "execution_count": 5,
     "metadata": {},
     "output_type": "execute_result"
    }
   ],
   "source": [
    "all_comp_desc = comp_calc.fit_transform(qc_ac_te_mp_dataset).dropna()\n",
    "qc_ac_te_mp_props = qc_ac_te_mp_props.loc[all_comp_desc.index]\n",
    "\n",
    "all_comp_desc.shape\n",
    "all_comp_desc.head(3)"
   ]
  },
  {
   "cell_type": "markdown",
   "id": "1dd680bf-8282-4997-9e73-9d1ac5a7b36d",
   "metadata": {},
   "source": [
    "Data transform to get normalized data"
   ]
  },
  {
   "cell_type": "code",
   "execution_count": 6,
   "id": "95c02579-5e9d-4acb-8e92-2a003c4e1545",
   "metadata": {},
   "outputs": [
    {
     "data": {
      "text/plain": [
       "['../data/qc_ac_te_mp_quantile_transformer.pkl.z']"
      ]
     },
     "execution_count": 6,
     "metadata": {},
     "output_type": "execute_result"
    },
    {
     "data": {
      "text/plain": [
       "(40975, 21)"
      ]
     },
     "execution_count": 6,
     "metadata": {},
     "output_type": "execute_result"
    },
    {
     "data": {
      "text/html": [
       "<div>\n",
       "<style scoped>\n",
       "    .dataframe tbody tr th:only-of-type {\n",
       "        vertical-align: middle;\n",
       "    }\n",
       "\n",
       "    .dataframe tbody tr th {\n",
       "        vertical-align: top;\n",
       "    }\n",
       "\n",
       "    .dataframe thead th {\n",
       "        text-align: right;\n",
       "    }\n",
       "</style>\n",
       "<table border=\"1\" class=\"dataframe\">\n",
       "  <thead>\n",
       "    <tr style=\"text-align: right;\">\n",
       "      <th></th>\n",
       "      <th>Seebeck coefficient</th>\n",
       "      <th>Thermal conductivity</th>\n",
       "      <th>Electrical resistivity</th>\n",
       "      <th>Magnetic susceptibility</th>\n",
       "      <th>Hall coefficient</th>\n",
       "      <th>ZT</th>\n",
       "      <th>Power factor</th>\n",
       "      <th>Carrier concentration</th>\n",
       "      <th>Electrical conductivity</th>\n",
       "      <th>Thermopower</th>\n",
       "      <th>...</th>\n",
       "      <th>Hall mobility</th>\n",
       "      <th>Electronic contribution</th>\n",
       "      <th>Electronic thermal conductivity</th>\n",
       "      <th>Band gap</th>\n",
       "      <th>Density</th>\n",
       "      <th>Efermi</th>\n",
       "      <th>Final energy per atom</th>\n",
       "      <th>Formation energy per atom</th>\n",
       "      <th>Total magnetization</th>\n",
       "      <th>Volume</th>\n",
       "    </tr>\n",
       "    <tr>\n",
       "      <th>id</th>\n",
       "      <th></th>\n",
       "      <th></th>\n",
       "      <th></th>\n",
       "      <th></th>\n",
       "      <th></th>\n",
       "      <th></th>\n",
       "      <th></th>\n",
       "      <th></th>\n",
       "      <th></th>\n",
       "      <th></th>\n",
       "      <th></th>\n",
       "      <th></th>\n",
       "      <th></th>\n",
       "      <th></th>\n",
       "      <th></th>\n",
       "      <th></th>\n",
       "      <th></th>\n",
       "      <th></th>\n",
       "      <th></th>\n",
       "      <th></th>\n",
       "      <th></th>\n",
       "    </tr>\n",
       "  </thead>\n",
       "  <tbody>\n",
       "    <tr>\n",
       "      <th>starry_0</th>\n",
       "      <td>NaN</td>\n",
       "      <td>0.022260</td>\n",
       "      <td>NaN</td>\n",
       "      <td>NaN</td>\n",
       "      <td>NaN</td>\n",
       "      <td>NaN</td>\n",
       "      <td>NaN</td>\n",
       "      <td>NaN</td>\n",
       "      <td>NaN</td>\n",
       "      <td>NaN</td>\n",
       "      <td>...</td>\n",
       "      <td>NaN</td>\n",
       "      <td>NaN</td>\n",
       "      <td>NaN</td>\n",
       "      <td>NaN</td>\n",
       "      <td>NaN</td>\n",
       "      <td>NaN</td>\n",
       "      <td>NaN</td>\n",
       "      <td>NaN</td>\n",
       "      <td>NaN</td>\n",
       "      <td>NaN</td>\n",
       "    </tr>\n",
       "    <tr>\n",
       "      <th>qa_1</th>\n",
       "      <td>-0.390044</td>\n",
       "      <td>-0.749677</td>\n",
       "      <td>NaN</td>\n",
       "      <td>NaN</td>\n",
       "      <td>NaN</td>\n",
       "      <td>NaN</td>\n",
       "      <td>NaN</td>\n",
       "      <td>NaN</td>\n",
       "      <td>NaN</td>\n",
       "      <td>NaN</td>\n",
       "      <td>...</td>\n",
       "      <td>NaN</td>\n",
       "      <td>NaN</td>\n",
       "      <td>NaN</td>\n",
       "      <td>NaN</td>\n",
       "      <td>NaN</td>\n",
       "      <td>NaN</td>\n",
       "      <td>NaN</td>\n",
       "      <td>NaN</td>\n",
       "      <td>NaN</td>\n",
       "      <td>NaN</td>\n",
       "    </tr>\n",
       "    <tr>\n",
       "      <th>starry_2</th>\n",
       "      <td>NaN</td>\n",
       "      <td>NaN</td>\n",
       "      <td>NaN</td>\n",
       "      <td>NaN</td>\n",
       "      <td>NaN</td>\n",
       "      <td>NaN</td>\n",
       "      <td>NaN</td>\n",
       "      <td>-2.033656</td>\n",
       "      <td>-0.916678</td>\n",
       "      <td>NaN</td>\n",
       "      <td>...</td>\n",
       "      <td>NaN</td>\n",
       "      <td>NaN</td>\n",
       "      <td>NaN</td>\n",
       "      <td>NaN</td>\n",
       "      <td>NaN</td>\n",
       "      <td>NaN</td>\n",
       "      <td>NaN</td>\n",
       "      <td>NaN</td>\n",
       "      <td>NaN</td>\n",
       "      <td>NaN</td>\n",
       "    </tr>\n",
       "  </tbody>\n",
       "</table>\n",
       "<p>3 rows × 21 columns</p>\n",
       "</div>"
      ],
      "text/plain": [
       "          Seebeck coefficient  Thermal conductivity  Electrical resistivity  \\\n",
       "id                                                                            \n",
       "starry_0                  NaN              0.022260                     NaN   \n",
       "qa_1                -0.390044             -0.749677                     NaN   \n",
       "starry_2                  NaN                   NaN                     NaN   \n",
       "\n",
       "          Magnetic susceptibility  Hall coefficient  ZT  Power factor  \\\n",
       "id                                                                      \n",
       "starry_0                      NaN               NaN NaN           NaN   \n",
       "qa_1                          NaN               NaN NaN           NaN   \n",
       "starry_2                      NaN               NaN NaN           NaN   \n",
       "\n",
       "          Carrier concentration  Electrical conductivity  Thermopower  ...  \\\n",
       "id                                                                     ...   \n",
       "starry_0                    NaN                      NaN          NaN  ...   \n",
       "qa_1                        NaN                      NaN          NaN  ...   \n",
       "starry_2              -2.033656                -0.916678          NaN  ...   \n",
       "\n",
       "          Hall mobility  Electronic contribution  \\\n",
       "id                                                 \n",
       "starry_0            NaN                      NaN   \n",
       "qa_1                NaN                      NaN   \n",
       "starry_2            NaN                      NaN   \n",
       "\n",
       "          Electronic thermal conductivity  Band gap  Density  Efermi  \\\n",
       "id                                                                     \n",
       "starry_0                              NaN       NaN      NaN     NaN   \n",
       "qa_1                                  NaN       NaN      NaN     NaN   \n",
       "starry_2                              NaN       NaN      NaN     NaN   \n",
       "\n",
       "          Final energy per atom  Formation energy per atom  \\\n",
       "id                                                           \n",
       "starry_0                    NaN                        NaN   \n",
       "qa_1                        NaN                        NaN   \n",
       "starry_2                    NaN                        NaN   \n",
       "\n",
       "          Total magnetization  Volume  \n",
       "id                                     \n",
       "starry_0                  NaN     NaN  \n",
       "qa_1                      NaN     NaN  \n",
       "starry_2                  NaN     NaN  \n",
       "\n",
       "[3 rows x 21 columns]"
      ]
     },
     "execution_count": 6,
     "metadata": {},
     "output_type": "execute_result"
    },
    {
     "data": {
      "text/plain": [
       "Seebeck coefficient                False\n",
       "Thermal conductivity               False\n",
       "Electrical resistivity             False\n",
       "Magnetic susceptibility            False\n",
       "Hall coefficient                   False\n",
       "ZT                                 False\n",
       "Power factor                       False\n",
       "Carrier concentration              False\n",
       "Electrical conductivity            False\n",
       "Thermopower                        False\n",
       "Lattice thermal conductivity       False\n",
       "Hall mobility                      False\n",
       "Electronic contribution            False\n",
       "Electronic thermal conductivity    False\n",
       "Band gap                           False\n",
       "Density                            False\n",
       "Efermi                             False\n",
       "Final energy per atom              False\n",
       "Formation energy per atom          False\n",
       "Total magnetization                False\n",
       "Volume                             False\n",
       "dtype: bool"
      ]
     },
     "execution_count": 6,
     "metadata": {},
     "output_type": "execute_result"
    }
   ],
   "source": [
    "from sklearn.preprocessing import QuantileTransformer\n",
    "\n",
    "qt = QuantileTransformer(output_distribution='normal').set_output(transform=\"pandas\")\n",
    "\n",
    "qc_ac_te_mp_props = qt.fit_transform(qc_ac_te_mp_props)\n",
    "\n",
    "joblib.dump(qt, '../data/qc_ac_te_mp_quantile_transformer.pkl.z', protocol=5)\n",
    "qc_ac_te_mp_props.shape\n",
    "qc_ac_te_mp_props.head(3)\n",
    "qc_ac_te_mp_props.isna().all(axis=0)"
   ]
  },
  {
   "cell_type": "markdown",
   "id": "7d69c8ad-6521-4f20-8cac-2a998dcc509b",
   "metadata": {},
   "source": [
    "----"
   ]
  },
  {
   "cell_type": "markdown",
   "id": "ffce96f0-8820-4dcf-a610-f1c93966a9e4",
   "metadata": {},
   "source": [
    "## NN model"
   ]
  },
  {
   "cell_type": "code",
   "execution_count": 7,
   "id": "46474c1e-6e3a-42d8-80a8-8a4fb652710b",
   "metadata": {},
   "outputs": [],
   "source": [
    "used_props = qc_ac_te_mp_props[all_props].dropna(how='all')\n",
    "used_desc = all_comp_desc.loc[used_props.index]"
   ]
  },
  {
   "cell_type": "code",
   "execution_count": 8,
   "id": "3e71e156-4024-4bc1-910e-d959bc258881",
   "metadata": {},
   "outputs": [],
   "source": [
    "from foundation_model.configs.model_config import ExperimentConfig, ModelConfig\n",
    "from foundation_model.data.datamodule import CompoundDataModule\n",
    "from foundation_model.data.preprocessor import AttributePreprocessor\n",
    "from foundation_model.data.splitter import MultiTaskSplitter\n",
    "from foundation_model.models.multi_task import MultiTaskAttributePredictor\n",
    "from foundation_model.utils.training import training"
   ]
  },
  {
   "cell_type": "code",
   "execution_count": 9,
   "id": "a25d3f2f-81af-4924-96a9-99d6af72dab3",
   "metadata": {},
   "outputs": [],
   "source": [
    "# Prepare datasets\n",
    "property_fractions = {\n",
    "    'Seebeck coefficient': 1.,\n",
    "    'Thermal conductivity': 0.1,\n",
    "    'Electrical resistivity': 0.1,\n",
    "    'Magnetic susceptibility': 1.,\n",
    "    # 'Specific heat capacity': 1.,\n",
    "    'Electrical conductivity': 1.,\n",
    "    'ZT': 1.,\n",
    "    'Hall coefficient': 1.,\n",
    "    'Power factor': 1.,\n",
    "    'Carrier concentration': 1.,\n",
    "    'Thermopower': 1.,\n",
    "    'Lattice thermal conductivity': 1.,\n",
    "    'Hall mobility': 1.,\n",
    "    'Electronic contribution': 1.,\n",
    "    'Electronic thermal conductivity': 1.,\n",
    "    'Band gap': .0,\n",
    "    'Density': .0,\n",
    "    'Efermi': .0,\n",
    "    'Final energy per atom': .0,\n",
    "    'Formation energy per atom': .0,\n",
    "    'Total magnetization': .0,\n",
    "    'Volume': .0\n",
    "}"
   ]
  },
  {
   "cell_type": "code",
   "execution_count": 10,
   "id": "9d0f9fd8-4dcc-4cb2-ab46-e7cba941ef37",
   "metadata": {},
   "outputs": [],
   "source": [
    "preprocessor = AttributePreprocessor(attribute_rates=property_fractions)\n",
    "processed_attrs = preprocessor.process(used_props)"
   ]
  },
  {
   "cell_type": "code",
   "execution_count": 11,
   "id": "6bd83dac-a149-48d1-aebd-5ccbcb88d660",
   "metadata": {},
   "outputs": [],
   "source": [
    "splitter = MultiTaskSplitter(\n",
    "    train_ratio=0.8, val_ratio=0.2, test_ratio=0.0, random_state=42\n",
    ")"
   ]
  },
  {
   "cell_type": "code",
   "execution_count": 12,
   "id": "51a03862-8363-41ee-86f3-b647206e28a7",
   "metadata": {},
   "outputs": [],
   "source": [
    "train_idx, val_idx, _ = splitter.split(processed_attrs)"
   ]
  },
  {
   "cell_type": "code",
   "execution_count": 13,
   "id": "30638b7c-3438-4a72-8bc9-da57bd2c7de4",
   "metadata": {},
   "outputs": [],
   "source": [
    "datamodule = CompoundDataModule(\n",
    "    descriptor=used_desc,\n",
    "    attributes=processed_attrs,\n",
    "    train_idx=train_idx,\n",
    "    val_idx=val_idx,\n",
    "    test_idx=test_idx,\n",
    "    batch_size=128,\n",
    "    num_workers=0,\n",
    ")"
   ]
  },
  {
   "cell_type": "code",
   "execution_count": 14,
   "id": "a2e2df5b-9be3-49ca-9dcb-036a303b7ccc",
   "metadata": {},
   "outputs": [],
   "source": [
    "# Initialize model\n",
    "shared_block_dims = [used_desc.shape[1], 128, 64]\n",
    "task_block_dims = [64, 32, 16, 1]\n",
    "model = MultiTaskAttributePredictor(\n",
    "    shared_block_dims=shared_block_dims,\n",
    "    task_block_dims=task_block_dims,\n",
    "    n_tasks=len(processed_attrs.columns),\n",
    "    norm_shared=True,\n",
    "    norm_tasks=True,\n",
    "    residual_shared=True,\n",
    "    residual_tasks=True,\n",
    "    shared_block_lr=0.001,\n",
    "    task_block_lr=0.01\n",
    ")\n",
    "# model\n",
    "# model = torch.compile(model)"
   ]
  },
  {
   "cell_type": "code",
   "execution_count": 15,
   "id": "3b93b6ce-b46b-4fa1-8299-190b16ffd44a",
   "metadata": {
    "collapsed": true,
    "jupyter": {
     "outputs_hidden": true
    }
   },
   "outputs": [
    {
     "name": "stderr",
     "output_type": "stream",
     "text": [
      "GPU available: True (cuda), used: False\n",
      "TPU available: False, using: 0 TPU cores\n",
      "HPU available: False, using: 0 HPUs\n",
      "/data/.miniforge3/envs/xepy311/lib/python3.11/site-packages/lightning/pytorch/trainer/setup.py:177: GPU available but not used. You can set it by doing `Trainer(accelerator='gpu')`.\n",
      "/data/.miniforge3/envs/xepy311/lib/python3.11/site-packages/lightning/pytorch/core/optimizer.py:317: The lr scheduler dict contains the key(s) ['monitor'], but the keys will be ignored. You need to call `lr_scheduler.step()` manually in manual optimization.\n",
      "\n",
      "  | Name          | Type        | Params | Mode \n",
      "------------------------------------------------------\n",
      "0 | shard_block   | LinearBlock | 80.6 K | train\n",
      "1 | deposit_layer | Sequential  | 4.2 K  | train\n",
      "2 | task_blocks   | ModuleList  | 78.0 K | train\n",
      "------------------------------------------------------\n",
      "162 K     Trainable params\n",
      "0         Non-trainable params\n",
      "162 K     Total params\n",
      "0.651     Total estimated model params size (MB)\n",
      "438       Modules in train mode\n",
      "0         Modules in eval mode\n"
     ]
    },
    {
     "data": {
      "application/vnd.jupyter.widget-view+json": {
       "model_id": "",
       "version_major": 2,
       "version_minor": 0
      },
      "text/plain": [
       "Sanity Checking: |                                                                                    | 0/? [0…"
      ]
     },
     "metadata": {},
     "output_type": "display_data"
    },
    {
     "name": "stderr",
     "output_type": "stream",
     "text": [
      "/data/.miniforge3/envs/xepy311/lib/python3.11/site-packages/lightning/pytorch/trainer/connectors/data_connector.py:425: The 'val_dataloader' does not have many workers which may be a bottleneck. Consider increasing the value of the `num_workers` argument` to `num_workers=127` in the `DataLoader` to improve performance.\n",
      "/data/.miniforge3/envs/xepy311/lib/python3.11/site-packages/lightning/pytorch/utilities/data.py:79: Trying to infer the `batch_size` from an ambiguous collection. The batch size we found is 128. To avoid any miscalculations, use `self.log(..., batch_size=batch_size)`.\n",
      "/data/.miniforge3/envs/xepy311/lib/python3.11/site-packages/lightning/pytorch/trainer/connectors/data_connector.py:425: The 'train_dataloader' does not have many workers which may be a bottleneck. Consider increasing the value of the `num_workers` argument` to `num_workers=127` in the `DataLoader` to improve performance.\n",
      "/data/.miniforge3/envs/xepy311/lib/python3.11/site-packages/lightning/pytorch/loops/fit_loop.py:310: The number of training batches (38) is smaller than the logging interval Trainer(log_every_n_steps=50). Set a lower value for log_every_n_steps if you want to see logs for the training epoch.\n"
     ]
    },
    {
     "data": {
      "application/vnd.jupyter.widget-view+json": {
       "model_id": "1cdc4bf0714f48ceb71a9e09792d0254",
       "version_major": 2,
       "version_minor": 0
      },
      "text/plain": [
       "Training: |                                                                                           | 0/? [0…"
      ]
     },
     "metadata": {},
     "output_type": "display_data"
    },
    {
     "name": "stderr",
     "output_type": "stream",
     "text": [
      "/data/.miniforge3/envs/xepy311/lib/python3.11/site-packages/lightning/pytorch/utilities/data.py:79: Trying to infer the `batch_size` from an ambiguous collection. The batch size we found is 66. To avoid any miscalculations, use `self.log(..., batch_size=batch_size)`.\n"
     ]
    },
    {
     "data": {
      "application/vnd.jupyter.widget-view+json": {
       "model_id": "",
       "version_major": 2,
       "version_minor": 0
      },
      "text/plain": [
       "Validation: |                                                                                         | 0/? [0…"
      ]
     },
     "metadata": {},
     "output_type": "display_data"
    },
    {
     "name": "stderr",
     "output_type": "stream",
     "text": [
      "/data/.miniforge3/envs/xepy311/lib/python3.11/site-packages/lightning/pytorch/utilities/data.py:79: Trying to infer the `batch_size` from an ambiguous collection. The batch size we found is 42. To avoid any miscalculations, use `self.log(..., batch_size=batch_size)`.\n",
      "Metric val_loss improved. New best score: 1.170\n",
      "Epoch 0, global step 76: 'val_loss' reached 1.17029 (best 1.17029), saving model to 'lightning_logs/common_logs/my_exp_name/version_0/checkpoints/model-epoch=00-val_loss=1.1703.ckpt' as top 1\n"
     ]
    },
    {
     "data": {
      "application/vnd.jupyter.widget-view+json": {
       "model_id": "",
       "version_major": 2,
       "version_minor": 0
      },
      "text/plain": [
       "Validation: |                                                                                         | 0/? [0…"
      ]
     },
     "metadata": {},
     "output_type": "display_data"
    },
    {
     "name": "stderr",
     "output_type": "stream",
     "text": [
      "Metric val_loss improved by 0.038 >= min_delta = 0.0001. New best score: 1.132\n",
      "Epoch 1, global step 152: 'val_loss' reached 1.13229 (best 1.13229), saving model to 'lightning_logs/common_logs/my_exp_name/version_0/checkpoints/model-epoch=01-val_loss=1.1323.ckpt' as top 1\n"
     ]
    },
    {
     "data": {
      "application/vnd.jupyter.widget-view+json": {
       "model_id": "",
       "version_major": 2,
       "version_minor": 0
      },
      "text/plain": [
       "Validation: |                                                                                         | 0/? [0…"
      ]
     },
     "metadata": {},
     "output_type": "display_data"
    },
    {
     "name": "stderr",
     "output_type": "stream",
     "text": [
      "Metric val_loss improved by 0.024 >= min_delta = 0.0001. New best score: 1.108\n",
      "Epoch 2, global step 228: 'val_loss' reached 1.10826 (best 1.10826), saving model to 'lightning_logs/common_logs/my_exp_name/version_0/checkpoints/model-epoch=02-val_loss=1.1083.ckpt' as top 1\n"
     ]
    },
    {
     "data": {
      "application/vnd.jupyter.widget-view+json": {
       "model_id": "",
       "version_major": 2,
       "version_minor": 0
      },
      "text/plain": [
       "Validation: |                                                                                         | 0/? [0…"
      ]
     },
     "metadata": {},
     "output_type": "display_data"
    },
    {
     "name": "stderr",
     "output_type": "stream",
     "text": [
      "Metric val_loss improved by 0.018 >= min_delta = 0.0001. New best score: 1.090\n",
      "Epoch 3, global step 304: 'val_loss' reached 1.09027 (best 1.09027), saving model to 'lightning_logs/common_logs/my_exp_name/version_0/checkpoints/model-epoch=03-val_loss=1.0903.ckpt' as top 1\n"
     ]
    },
    {
     "data": {
      "application/vnd.jupyter.widget-view+json": {
       "model_id": "",
       "version_major": 2,
       "version_minor": 0
      },
      "text/plain": [
       "Validation: |                                                                                         | 0/? [0…"
      ]
     },
     "metadata": {},
     "output_type": "display_data"
    },
    {
     "name": "stderr",
     "output_type": "stream",
     "text": [
      "Metric val_loss improved by 0.005 >= min_delta = 0.0001. New best score: 1.086\n",
      "Epoch 4, global step 380: 'val_loss' reached 1.08552 (best 1.08552), saving model to 'lightning_logs/common_logs/my_exp_name/version_0/checkpoints/model-epoch=04-val_loss=1.0855.ckpt' as top 1\n"
     ]
    },
    {
     "data": {
      "application/vnd.jupyter.widget-view+json": {
       "model_id": "",
       "version_major": 2,
       "version_minor": 0
      },
      "text/plain": [
       "Validation: |                                                                                         | 0/? [0…"
      ]
     },
     "metadata": {},
     "output_type": "display_data"
    },
    {
     "name": "stderr",
     "output_type": "stream",
     "text": [
      "Metric val_loss improved by 0.006 >= min_delta = 0.0001. New best score: 1.079\n",
      "Epoch 5, global step 456: 'val_loss' reached 1.07913 (best 1.07913), saving model to 'lightning_logs/common_logs/my_exp_name/version_0/checkpoints/model-epoch=05-val_loss=1.0791.ckpt' as top 1\n"
     ]
    },
    {
     "data": {
      "application/vnd.jupyter.widget-view+json": {
       "model_id": "",
       "version_major": 2,
       "version_minor": 0
      },
      "text/plain": [
       "Validation: |                                                                                         | 0/? [0…"
      ]
     },
     "metadata": {},
     "output_type": "display_data"
    },
    {
     "name": "stderr",
     "output_type": "stream",
     "text": [
      "Metric val_loss improved by 0.012 >= min_delta = 0.0001. New best score: 1.067\n",
      "Epoch 6, global step 532: 'val_loss' reached 1.06684 (best 1.06684), saving model to 'lightning_logs/common_logs/my_exp_name/version_0/checkpoints/model-epoch=06-val_loss=1.0668.ckpt' as top 1\n"
     ]
    },
    {
     "data": {
      "application/vnd.jupyter.widget-view+json": {
       "model_id": "",
       "version_major": 2,
       "version_minor": 0
      },
      "text/plain": [
       "Validation: |                                                                                         | 0/? [0…"
      ]
     },
     "metadata": {},
     "output_type": "display_data"
    },
    {
     "name": "stderr",
     "output_type": "stream",
     "text": [
      "Metric val_loss improved by 0.011 >= min_delta = 0.0001. New best score: 1.055\n",
      "Epoch 7, global step 608: 'val_loss' reached 1.05545 (best 1.05545), saving model to 'lightning_logs/common_logs/my_exp_name/version_0/checkpoints/model-epoch=07-val_loss=1.0554.ckpt' as top 1\n"
     ]
    },
    {
     "data": {
      "application/vnd.jupyter.widget-view+json": {
       "model_id": "",
       "version_major": 2,
       "version_minor": 0
      },
      "text/plain": [
       "Validation: |                                                                                         | 0/? [0…"
      ]
     },
     "metadata": {},
     "output_type": "display_data"
    },
    {
     "name": "stderr",
     "output_type": "stream",
     "text": [
      "Metric val_loss improved by 0.004 >= min_delta = 0.0001. New best score: 1.052\n",
      "Epoch 8, global step 684: 'val_loss' reached 1.05191 (best 1.05191), saving model to 'lightning_logs/common_logs/my_exp_name/version_0/checkpoints/model-epoch=08-val_loss=1.0519.ckpt' as top 1\n"
     ]
    },
    {
     "data": {
      "application/vnd.jupyter.widget-view+json": {
       "model_id": "",
       "version_major": 2,
       "version_minor": 0
      },
      "text/plain": [
       "Validation: |                                                                                         | 0/? [0…"
      ]
     },
     "metadata": {},
     "output_type": "display_data"
    },
    {
     "name": "stderr",
     "output_type": "stream",
     "text": [
      "Metric val_loss improved by 0.005 >= min_delta = 0.0001. New best score: 1.047\n",
      "Epoch 9, global step 760: 'val_loss' reached 1.04708 (best 1.04708), saving model to 'lightning_logs/common_logs/my_exp_name/version_0/checkpoints/model-epoch=09-val_loss=1.0471.ckpt' as top 1\n"
     ]
    },
    {
     "data": {
      "application/vnd.jupyter.widget-view+json": {
       "model_id": "",
       "version_major": 2,
       "version_minor": 0
      },
      "text/plain": [
       "Validation: |                                                                                         | 0/? [0…"
      ]
     },
     "metadata": {},
     "output_type": "display_data"
    },
    {
     "name": "stderr",
     "output_type": "stream",
     "text": [
      "Metric val_loss improved by 0.007 >= min_delta = 0.0001. New best score: 1.040\n",
      "Epoch 10, global step 836: 'val_loss' reached 1.04004 (best 1.04004), saving model to 'lightning_logs/common_logs/my_exp_name/version_0/checkpoints/model-epoch=10-val_loss=1.0400.ckpt' as top 1\n"
     ]
    },
    {
     "data": {
      "application/vnd.jupyter.widget-view+json": {
       "model_id": "",
       "version_major": 2,
       "version_minor": 0
      },
      "text/plain": [
       "Validation: |                                                                                         | 0/? [0…"
      ]
     },
     "metadata": {},
     "output_type": "display_data"
    },
    {
     "name": "stderr",
     "output_type": "stream",
     "text": [
      "Metric val_loss improved by 0.009 >= min_delta = 0.0001. New best score: 1.031\n",
      "Epoch 11, global step 912: 'val_loss' reached 1.03057 (best 1.03057), saving model to 'lightning_logs/common_logs/my_exp_name/version_0/checkpoints/model-epoch=11-val_loss=1.0306.ckpt' as top 1\n"
     ]
    },
    {
     "data": {
      "application/vnd.jupyter.widget-view+json": {
       "model_id": "",
       "version_major": 2,
       "version_minor": 0
      },
      "text/plain": [
       "Validation: |                                                                                         | 0/? [0…"
      ]
     },
     "metadata": {},
     "output_type": "display_data"
    },
    {
     "name": "stderr",
     "output_type": "stream",
     "text": [
      "Metric val_loss improved by 0.007 >= min_delta = 0.0001. New best score: 1.023\n",
      "Epoch 12, global step 988: 'val_loss' reached 1.02326 (best 1.02326), saving model to 'lightning_logs/common_logs/my_exp_name/version_0/checkpoints/model-epoch=12-val_loss=1.0233.ckpt' as top 1\n"
     ]
    },
    {
     "data": {
      "application/vnd.jupyter.widget-view+json": {
       "model_id": "",
       "version_major": 2,
       "version_minor": 0
      },
      "text/plain": [
       "Validation: |                                                                                         | 0/? [0…"
      ]
     },
     "metadata": {},
     "output_type": "display_data"
    },
    {
     "name": "stderr",
     "output_type": "stream",
     "text": [
      "Epoch 13, global step 1064: 'val_loss' was not in top 1\n"
     ]
    },
    {
     "data": {
      "application/vnd.jupyter.widget-view+json": {
       "model_id": "",
       "version_major": 2,
       "version_minor": 0
      },
      "text/plain": [
       "Validation: |                                                                                         | 0/? [0…"
      ]
     },
     "metadata": {},
     "output_type": "display_data"
    },
    {
     "name": "stderr",
     "output_type": "stream",
     "text": [
      "Epoch 14, global step 1140: 'val_loss' was not in top 1\n"
     ]
    },
    {
     "data": {
      "application/vnd.jupyter.widget-view+json": {
       "model_id": "",
       "version_major": 2,
       "version_minor": 0
      },
      "text/plain": [
       "Validation: |                                                                                         | 0/? [0…"
      ]
     },
     "metadata": {},
     "output_type": "display_data"
    },
    {
     "name": "stderr",
     "output_type": "stream",
     "text": [
      "Metric val_loss improved by 0.012 >= min_delta = 0.0001. New best score: 1.011\n",
      "Epoch 15, global step 1216: 'val_loss' reached 1.01113 (best 1.01113), saving model to 'lightning_logs/common_logs/my_exp_name/version_0/checkpoints/model-epoch=15-val_loss=1.0111.ckpt' as top 1\n"
     ]
    },
    {
     "data": {
      "application/vnd.jupyter.widget-view+json": {
       "model_id": "",
       "version_major": 2,
       "version_minor": 0
      },
      "text/plain": [
       "Validation: |                                                                                         | 0/? [0…"
      ]
     },
     "metadata": {},
     "output_type": "display_data"
    },
    {
     "name": "stderr",
     "output_type": "stream",
     "text": [
      "Metric val_loss improved by 0.008 >= min_delta = 0.0001. New best score: 1.003\n",
      "Epoch 16, global step 1292: 'val_loss' reached 1.00278 (best 1.00278), saving model to 'lightning_logs/common_logs/my_exp_name/version_0/checkpoints/model-epoch=16-val_loss=1.0028.ckpt' as top 1\n"
     ]
    },
    {
     "data": {
      "application/vnd.jupyter.widget-view+json": {
       "model_id": "",
       "version_major": 2,
       "version_minor": 0
      },
      "text/plain": [
       "Validation: |                                                                                         | 0/? [0…"
      ]
     },
     "metadata": {},
     "output_type": "display_data"
    },
    {
     "name": "stderr",
     "output_type": "stream",
     "text": [
      "Epoch 17, global step 1368: 'val_loss' was not in top 1\n"
     ]
    },
    {
     "data": {
      "application/vnd.jupyter.widget-view+json": {
       "model_id": "",
       "version_major": 2,
       "version_minor": 0
      },
      "text/plain": [
       "Validation: |                                                                                         | 0/? [0…"
      ]
     },
     "metadata": {},
     "output_type": "display_data"
    },
    {
     "name": "stderr",
     "output_type": "stream",
     "text": [
      "Metric val_loss improved by 0.012 >= min_delta = 0.0001. New best score: 0.991\n",
      "Epoch 18, global step 1444: 'val_loss' reached 0.99127 (best 0.99127), saving model to 'lightning_logs/common_logs/my_exp_name/version_0/checkpoints/model-epoch=18-val_loss=0.9913.ckpt' as top 1\n"
     ]
    },
    {
     "data": {
      "application/vnd.jupyter.widget-view+json": {
       "model_id": "",
       "version_major": 2,
       "version_minor": 0
      },
      "text/plain": [
       "Validation: |                                                                                         | 0/? [0…"
      ]
     },
     "metadata": {},
     "output_type": "display_data"
    },
    {
     "name": "stderr",
     "output_type": "stream",
     "text": [
      "Metric val_loss improved by 0.000 >= min_delta = 0.0001. New best score: 0.991\n",
      "Epoch 19, global step 1520: 'val_loss' reached 0.99078 (best 0.99078), saving model to 'lightning_logs/common_logs/my_exp_name/version_0/checkpoints/model-epoch=19-val_loss=0.9908.ckpt' as top 1\n"
     ]
    },
    {
     "data": {
      "application/vnd.jupyter.widget-view+json": {
       "model_id": "",
       "version_major": 2,
       "version_minor": 0
      },
      "text/plain": [
       "Validation: |                                                                                         | 0/? [0…"
      ]
     },
     "metadata": {},
     "output_type": "display_data"
    },
    {
     "name": "stderr",
     "output_type": "stream",
     "text": [
      "Epoch 20, global step 1596: 'val_loss' was not in top 1\n"
     ]
    },
    {
     "data": {
      "application/vnd.jupyter.widget-view+json": {
       "model_id": "",
       "version_major": 2,
       "version_minor": 0
      },
      "text/plain": [
       "Validation: |                                                                                         | 0/? [0…"
      ]
     },
     "metadata": {},
     "output_type": "display_data"
    },
    {
     "name": "stderr",
     "output_type": "stream",
     "text": [
      "Metric val_loss improved by 0.008 >= min_delta = 0.0001. New best score: 0.983\n",
      "Epoch 21, global step 1672: 'val_loss' reached 0.98299 (best 0.98299), saving model to 'lightning_logs/common_logs/my_exp_name/version_0/checkpoints/model-epoch=21-val_loss=0.9830.ckpt' as top 1\n"
     ]
    },
    {
     "data": {
      "application/vnd.jupyter.widget-view+json": {
       "model_id": "",
       "version_major": 2,
       "version_minor": 0
      },
      "text/plain": [
       "Validation: |                                                                                         | 0/? [0…"
      ]
     },
     "metadata": {},
     "output_type": "display_data"
    },
    {
     "name": "stderr",
     "output_type": "stream",
     "text": [
      "Epoch 22, global step 1748: 'val_loss' was not in top 1\n"
     ]
    },
    {
     "data": {
      "application/vnd.jupyter.widget-view+json": {
       "model_id": "",
       "version_major": 2,
       "version_minor": 0
      },
      "text/plain": [
       "Validation: |                                                                                         | 0/? [0…"
      ]
     },
     "metadata": {},
     "output_type": "display_data"
    },
    {
     "name": "stderr",
     "output_type": "stream",
     "text": [
      "Metric val_loss improved by 0.009 >= min_delta = 0.0001. New best score: 0.974\n",
      "Epoch 23, global step 1824: 'val_loss' reached 0.97355 (best 0.97355), saving model to 'lightning_logs/common_logs/my_exp_name/version_0/checkpoints/model-epoch=23-val_loss=0.9735.ckpt' as top 1\n"
     ]
    },
    {
     "data": {
      "application/vnd.jupyter.widget-view+json": {
       "model_id": "",
       "version_major": 2,
       "version_minor": 0
      },
      "text/plain": [
       "Validation: |                                                                                         | 0/? [0…"
      ]
     },
     "metadata": {},
     "output_type": "display_data"
    },
    {
     "name": "stderr",
     "output_type": "stream",
     "text": [
      "Epoch 24, global step 1900: 'val_loss' was not in top 1\n"
     ]
    },
    {
     "data": {
      "application/vnd.jupyter.widget-view+json": {
       "model_id": "",
       "version_major": 2,
       "version_minor": 0
      },
      "text/plain": [
       "Validation: |                                                                                         | 0/? [0…"
      ]
     },
     "metadata": {},
     "output_type": "display_data"
    },
    {
     "name": "stderr",
     "output_type": "stream",
     "text": [
      "Metric val_loss improved by 0.002 >= min_delta = 0.0001. New best score: 0.972\n",
      "Epoch 25, global step 1976: 'val_loss' reached 0.97193 (best 0.97193), saving model to 'lightning_logs/common_logs/my_exp_name/version_0/checkpoints/model-epoch=25-val_loss=0.9719.ckpt' as top 1\n"
     ]
    },
    {
     "data": {
      "application/vnd.jupyter.widget-view+json": {
       "model_id": "",
       "version_major": 2,
       "version_minor": 0
      },
      "text/plain": [
       "Validation: |                                                                                         | 0/? [0…"
      ]
     },
     "metadata": {},
     "output_type": "display_data"
    },
    {
     "name": "stderr",
     "output_type": "stream",
     "text": [
      "Epoch 26, global step 2052: 'val_loss' was not in top 1\n"
     ]
    },
    {
     "data": {
      "application/vnd.jupyter.widget-view+json": {
       "model_id": "",
       "version_major": 2,
       "version_minor": 0
      },
      "text/plain": [
       "Validation: |                                                                                         | 0/? [0…"
      ]
     },
     "metadata": {},
     "output_type": "display_data"
    },
    {
     "name": "stderr",
     "output_type": "stream",
     "text": [
      "Epoch 27, global step 2128: 'val_loss' was not in top 1\n"
     ]
    },
    {
     "data": {
      "application/vnd.jupyter.widget-view+json": {
       "model_id": "",
       "version_major": 2,
       "version_minor": 0
      },
      "text/plain": [
       "Validation: |                                                                                         | 0/? [0…"
      ]
     },
     "metadata": {},
     "output_type": "display_data"
    },
    {
     "name": "stderr",
     "output_type": "stream",
     "text": [
      "Epoch 28, global step 2204: 'val_loss' was not in top 1\n"
     ]
    },
    {
     "data": {
      "application/vnd.jupyter.widget-view+json": {
       "model_id": "",
       "version_major": 2,
       "version_minor": 0
      },
      "text/plain": [
       "Validation: |                                                                                         | 0/? [0…"
      ]
     },
     "metadata": {},
     "output_type": "display_data"
    },
    {
     "name": "stderr",
     "output_type": "stream",
     "text": [
      "Metric val_loss improved by 0.015 >= min_delta = 0.0001. New best score: 0.957\n",
      "Epoch 29, global step 2280: 'val_loss' reached 0.95729 (best 0.95729), saving model to 'lightning_logs/common_logs/my_exp_name/version_0/checkpoints/model-epoch=29-val_loss=0.9573.ckpt' as top 1\n"
     ]
    },
    {
     "data": {
      "application/vnd.jupyter.widget-view+json": {
       "model_id": "",
       "version_major": 2,
       "version_minor": 0
      },
      "text/plain": [
       "Validation: |                                                                                         | 0/? [0…"
      ]
     },
     "metadata": {},
     "output_type": "display_data"
    },
    {
     "name": "stderr",
     "output_type": "stream",
     "text": [
      "Epoch 30, global step 2356: 'val_loss' was not in top 1\n"
     ]
    },
    {
     "data": {
      "application/vnd.jupyter.widget-view+json": {
       "model_id": "",
       "version_major": 2,
       "version_minor": 0
      },
      "text/plain": [
       "Validation: |                                                                                         | 0/? [0…"
      ]
     },
     "metadata": {},
     "output_type": "display_data"
    },
    {
     "name": "stderr",
     "output_type": "stream",
     "text": [
      "Metric val_loss improved by 0.003 >= min_delta = 0.0001. New best score: 0.954\n",
      "Epoch 31, global step 2432: 'val_loss' reached 0.95441 (best 0.95441), saving model to 'lightning_logs/common_logs/my_exp_name/version_0/checkpoints/model-epoch=31-val_loss=0.9544.ckpt' as top 1\n"
     ]
    },
    {
     "data": {
      "application/vnd.jupyter.widget-view+json": {
       "model_id": "",
       "version_major": 2,
       "version_minor": 0
      },
      "text/plain": [
       "Validation: |                                                                                         | 0/? [0…"
      ]
     },
     "metadata": {},
     "output_type": "display_data"
    },
    {
     "name": "stderr",
     "output_type": "stream",
     "text": [
      "Epoch 32, global step 2508: 'val_loss' was not in top 1\n"
     ]
    },
    {
     "data": {
      "application/vnd.jupyter.widget-view+json": {
       "model_id": "",
       "version_major": 2,
       "version_minor": 0
      },
      "text/plain": [
       "Validation: |                                                                                         | 0/? [0…"
      ]
     },
     "metadata": {},
     "output_type": "display_data"
    },
    {
     "name": "stderr",
     "output_type": "stream",
     "text": [
      "Metric val_loss improved by 0.009 >= min_delta = 0.0001. New best score: 0.945\n",
      "Epoch 33, global step 2584: 'val_loss' reached 0.94536 (best 0.94536), saving model to 'lightning_logs/common_logs/my_exp_name/version_0/checkpoints/model-epoch=33-val_loss=0.9454.ckpt' as top 1\n"
     ]
    },
    {
     "data": {
      "application/vnd.jupyter.widget-view+json": {
       "model_id": "",
       "version_major": 2,
       "version_minor": 0
      },
      "text/plain": [
       "Validation: |                                                                                         | 0/? [0…"
      ]
     },
     "metadata": {},
     "output_type": "display_data"
    },
    {
     "name": "stderr",
     "output_type": "stream",
     "text": [
      "Epoch 34, global step 2660: 'val_loss' was not in top 1\n"
     ]
    },
    {
     "data": {
      "application/vnd.jupyter.widget-view+json": {
       "model_id": "",
       "version_major": 2,
       "version_minor": 0
      },
      "text/plain": [
       "Validation: |                                                                                         | 0/? [0…"
      ]
     },
     "metadata": {},
     "output_type": "display_data"
    },
    {
     "name": "stderr",
     "output_type": "stream",
     "text": [
      "Epoch 35, global step 2736: 'val_loss' was not in top 1\n"
     ]
    },
    {
     "data": {
      "application/vnd.jupyter.widget-view+json": {
       "model_id": "",
       "version_major": 2,
       "version_minor": 0
      },
      "text/plain": [
       "Validation: |                                                                                         | 0/? [0…"
      ]
     },
     "metadata": {},
     "output_type": "display_data"
    },
    {
     "name": "stderr",
     "output_type": "stream",
     "text": [
      "Epoch 36, global step 2812: 'val_loss' was not in top 1\n"
     ]
    },
    {
     "data": {
      "application/vnd.jupyter.widget-view+json": {
       "model_id": "",
       "version_major": 2,
       "version_minor": 0
      },
      "text/plain": [
       "Validation: |                                                                                         | 0/? [0…"
      ]
     },
     "metadata": {},
     "output_type": "display_data"
    },
    {
     "name": "stderr",
     "output_type": "stream",
     "text": [
      "Epoch 37, global step 2888: 'val_loss' was not in top 1\n"
     ]
    },
    {
     "data": {
      "application/vnd.jupyter.widget-view+json": {
       "model_id": "",
       "version_major": 2,
       "version_minor": 0
      },
      "text/plain": [
       "Validation: |                                                                                         | 0/? [0…"
      ]
     },
     "metadata": {},
     "output_type": "display_data"
    },
    {
     "name": "stderr",
     "output_type": "stream",
     "text": [
      "Epoch 38, global step 2964: 'val_loss' was not in top 1\n"
     ]
    },
    {
     "data": {
      "application/vnd.jupyter.widget-view+json": {
       "model_id": "",
       "version_major": 2,
       "version_minor": 0
      },
      "text/plain": [
       "Validation: |                                                                                         | 0/? [0…"
      ]
     },
     "metadata": {},
     "output_type": "display_data"
    },
    {
     "name": "stderr",
     "output_type": "stream",
     "text": [
      "Epoch 39, global step 3040: 'val_loss' was not in top 1\n"
     ]
    },
    {
     "data": {
      "application/vnd.jupyter.widget-view+json": {
       "model_id": "",
       "version_major": 2,
       "version_minor": 0
      },
      "text/plain": [
       "Validation: |                                                                                         | 0/? [0…"
      ]
     },
     "metadata": {},
     "output_type": "display_data"
    },
    {
     "name": "stderr",
     "output_type": "stream",
     "text": [
      "Epoch 40, global step 3116: 'val_loss' was not in top 1\n"
     ]
    },
    {
     "data": {
      "application/vnd.jupyter.widget-view+json": {
       "model_id": "",
       "version_major": 2,
       "version_minor": 0
      },
      "text/plain": [
       "Validation: |                                                                                         | 0/? [0…"
      ]
     },
     "metadata": {},
     "output_type": "display_data"
    },
    {
     "name": "stderr",
     "output_type": "stream",
     "text": [
      "Metric val_loss improved by 0.002 >= min_delta = 0.0001. New best score: 0.943\n",
      "Epoch 41, global step 3192: 'val_loss' reached 0.94319 (best 0.94319), saving model to 'lightning_logs/common_logs/my_exp_name/version_0/checkpoints/model-epoch=41-val_loss=0.9432.ckpt' as top 1\n"
     ]
    },
    {
     "data": {
      "application/vnd.jupyter.widget-view+json": {
       "model_id": "",
       "version_major": 2,
       "version_minor": 0
      },
      "text/plain": [
       "Validation: |                                                                                         | 0/? [0…"
      ]
     },
     "metadata": {},
     "output_type": "display_data"
    },
    {
     "name": "stderr",
     "output_type": "stream",
     "text": [
      "Epoch 42, global step 3268: 'val_loss' was not in top 1\n"
     ]
    },
    {
     "data": {
      "application/vnd.jupyter.widget-view+json": {
       "model_id": "",
       "version_major": 2,
       "version_minor": 0
      },
      "text/plain": [
       "Validation: |                                                                                         | 0/? [0…"
      ]
     },
     "metadata": {},
     "output_type": "display_data"
    },
    {
     "name": "stderr",
     "output_type": "stream",
     "text": [
      "Epoch 43, global step 3344: 'val_loss' was not in top 1\n"
     ]
    },
    {
     "data": {
      "application/vnd.jupyter.widget-view+json": {
       "model_id": "",
       "version_major": 2,
       "version_minor": 0
      },
      "text/plain": [
       "Validation: |                                                                                         | 0/? [0…"
      ]
     },
     "metadata": {},
     "output_type": "display_data"
    },
    {
     "name": "stderr",
     "output_type": "stream",
     "text": [
      "Epoch 44, global step 3420: 'val_loss' was not in top 1\n"
     ]
    },
    {
     "data": {
      "application/vnd.jupyter.widget-view+json": {
       "model_id": "",
       "version_major": 2,
       "version_minor": 0
      },
      "text/plain": [
       "Validation: |                                                                                         | 0/? [0…"
      ]
     },
     "metadata": {},
     "output_type": "display_data"
    },
    {
     "name": "stderr",
     "output_type": "stream",
     "text": [
      "Epoch 45, global step 3496: 'val_loss' was not in top 1\n"
     ]
    },
    {
     "data": {
      "application/vnd.jupyter.widget-view+json": {
       "model_id": "",
       "version_major": 2,
       "version_minor": 0
      },
      "text/plain": [
       "Validation: |                                                                                         | 0/? [0…"
      ]
     },
     "metadata": {},
     "output_type": "display_data"
    },
    {
     "name": "stderr",
     "output_type": "stream",
     "text": [
      "Epoch 46, global step 3572: 'val_loss' was not in top 1\n"
     ]
    },
    {
     "data": {
      "application/vnd.jupyter.widget-view+json": {
       "model_id": "",
       "version_major": 2,
       "version_minor": 0
      },
      "text/plain": [
       "Validation: |                                                                                         | 0/? [0…"
      ]
     },
     "metadata": {},
     "output_type": "display_data"
    },
    {
     "name": "stderr",
     "output_type": "stream",
     "text": [
      "Metric val_loss improved by 0.005 >= min_delta = 0.0001. New best score: 0.938\n",
      "Epoch 47, global step 3648: 'val_loss' reached 0.93844 (best 0.93844), saving model to 'lightning_logs/common_logs/my_exp_name/version_0/checkpoints/model-epoch=47-val_loss=0.9384.ckpt' as top 1\n"
     ]
    },
    {
     "data": {
      "application/vnd.jupyter.widget-view+json": {
       "model_id": "",
       "version_major": 2,
       "version_minor": 0
      },
      "text/plain": [
       "Validation: |                                                                                         | 0/? [0…"
      ]
     },
     "metadata": {},
     "output_type": "display_data"
    },
    {
     "name": "stderr",
     "output_type": "stream",
     "text": [
      "Epoch 48, global step 3724: 'val_loss' was not in top 1\n"
     ]
    },
    {
     "data": {
      "application/vnd.jupyter.widget-view+json": {
       "model_id": "",
       "version_major": 2,
       "version_minor": 0
      },
      "text/plain": [
       "Validation: |                                                                                         | 0/? [0…"
      ]
     },
     "metadata": {},
     "output_type": "display_data"
    },
    {
     "name": "stderr",
     "output_type": "stream",
     "text": [
      "Epoch 49, global step 3800: 'val_loss' was not in top 1\n"
     ]
    },
    {
     "data": {
      "application/vnd.jupyter.widget-view+json": {
       "model_id": "",
       "version_major": 2,
       "version_minor": 0
      },
      "text/plain": [
       "Validation: |                                                                                         | 0/? [0…"
      ]
     },
     "metadata": {},
     "output_type": "display_data"
    },
    {
     "name": "stderr",
     "output_type": "stream",
     "text": [
      "Metric val_loss improved by 0.005 >= min_delta = 0.0001. New best score: 0.933\n",
      "Epoch 50, global step 3876: 'val_loss' reached 0.93333 (best 0.93333), saving model to 'lightning_logs/common_logs/my_exp_name/version_0/checkpoints/model-epoch=50-val_loss=0.9333.ckpt' as top 1\n"
     ]
    },
    {
     "data": {
      "application/vnd.jupyter.widget-view+json": {
       "model_id": "",
       "version_major": 2,
       "version_minor": 0
      },
      "text/plain": [
       "Validation: |                                                                                         | 0/? [0…"
      ]
     },
     "metadata": {},
     "output_type": "display_data"
    },
    {
     "name": "stderr",
     "output_type": "stream",
     "text": [
      "Epoch 51, global step 3952: 'val_loss' was not in top 1\n"
     ]
    },
    {
     "data": {
      "application/vnd.jupyter.widget-view+json": {
       "model_id": "",
       "version_major": 2,
       "version_minor": 0
      },
      "text/plain": [
       "Validation: |                                                                                         | 0/? [0…"
      ]
     },
     "metadata": {},
     "output_type": "display_data"
    },
    {
     "name": "stderr",
     "output_type": "stream",
     "text": [
      "Epoch 52, global step 4028: 'val_loss' was not in top 1\n"
     ]
    },
    {
     "data": {
      "application/vnd.jupyter.widget-view+json": {
       "model_id": "",
       "version_major": 2,
       "version_minor": 0
      },
      "text/plain": [
       "Validation: |                                                                                         | 0/? [0…"
      ]
     },
     "metadata": {},
     "output_type": "display_data"
    },
    {
     "name": "stderr",
     "output_type": "stream",
     "text": [
      "Metric val_loss improved by 0.007 >= min_delta = 0.0001. New best score: 0.926\n",
      "Epoch 53, global step 4104: 'val_loss' reached 0.92611 (best 0.92611), saving model to 'lightning_logs/common_logs/my_exp_name/version_0/checkpoints/model-epoch=53-val_loss=0.9261.ckpt' as top 1\n"
     ]
    },
    {
     "data": {
      "application/vnd.jupyter.widget-view+json": {
       "model_id": "",
       "version_major": 2,
       "version_minor": 0
      },
      "text/plain": [
       "Validation: |                                                                                         | 0/? [0…"
      ]
     },
     "metadata": {},
     "output_type": "display_data"
    },
    {
     "name": "stderr",
     "output_type": "stream",
     "text": [
      "Epoch 54, global step 4180: 'val_loss' was not in top 1\n"
     ]
    },
    {
     "data": {
      "application/vnd.jupyter.widget-view+json": {
       "model_id": "",
       "version_major": 2,
       "version_minor": 0
      },
      "text/plain": [
       "Validation: |                                                                                         | 0/? [0…"
      ]
     },
     "metadata": {},
     "output_type": "display_data"
    },
    {
     "name": "stderr",
     "output_type": "stream",
     "text": [
      "Epoch 55, global step 4256: 'val_loss' was not in top 1\n"
     ]
    },
    {
     "data": {
      "application/vnd.jupyter.widget-view+json": {
       "model_id": "",
       "version_major": 2,
       "version_minor": 0
      },
      "text/plain": [
       "Validation: |                                                                                         | 0/? [0…"
      ]
     },
     "metadata": {},
     "output_type": "display_data"
    },
    {
     "name": "stderr",
     "output_type": "stream",
     "text": [
      "Epoch 56, global step 4332: 'val_loss' was not in top 1\n"
     ]
    },
    {
     "data": {
      "application/vnd.jupyter.widget-view+json": {
       "model_id": "",
       "version_major": 2,
       "version_minor": 0
      },
      "text/plain": [
       "Validation: |                                                                                         | 0/? [0…"
      ]
     },
     "metadata": {},
     "output_type": "display_data"
    },
    {
     "name": "stderr",
     "output_type": "stream",
     "text": [
      "Epoch 57, global step 4408: 'val_loss' was not in top 1\n"
     ]
    },
    {
     "data": {
      "application/vnd.jupyter.widget-view+json": {
       "model_id": "",
       "version_major": 2,
       "version_minor": 0
      },
      "text/plain": [
       "Validation: |                                                                                         | 0/? [0…"
      ]
     },
     "metadata": {},
     "output_type": "display_data"
    },
    {
     "name": "stderr",
     "output_type": "stream",
     "text": [
      "Metric val_loss improved by 0.002 >= min_delta = 0.0001. New best score: 0.924\n",
      "Epoch 58, global step 4484: 'val_loss' reached 0.92398 (best 0.92398), saving model to 'lightning_logs/common_logs/my_exp_name/version_0/checkpoints/model-epoch=58-val_loss=0.9240.ckpt' as top 1\n"
     ]
    },
    {
     "data": {
      "application/vnd.jupyter.widget-view+json": {
       "model_id": "",
       "version_major": 2,
       "version_minor": 0
      },
      "text/plain": [
       "Validation: |                                                                                         | 0/? [0…"
      ]
     },
     "metadata": {},
     "output_type": "display_data"
    },
    {
     "name": "stderr",
     "output_type": "stream",
     "text": [
      "Epoch 59, global step 4560: 'val_loss' was not in top 1\n"
     ]
    },
    {
     "data": {
      "application/vnd.jupyter.widget-view+json": {
       "model_id": "",
       "version_major": 2,
       "version_minor": 0
      },
      "text/plain": [
       "Validation: |                                                                                         | 0/? [0…"
      ]
     },
     "metadata": {},
     "output_type": "display_data"
    },
    {
     "name": "stderr",
     "output_type": "stream",
     "text": [
      "Metric val_loss improved by 0.010 >= min_delta = 0.0001. New best score: 0.914\n",
      "Epoch 60, global step 4636: 'val_loss' reached 0.91357 (best 0.91357), saving model to 'lightning_logs/common_logs/my_exp_name/version_0/checkpoints/model-epoch=60-val_loss=0.9136.ckpt' as top 1\n"
     ]
    },
    {
     "data": {
      "application/vnd.jupyter.widget-view+json": {
       "model_id": "",
       "version_major": 2,
       "version_minor": 0
      },
      "text/plain": [
       "Validation: |                                                                                         | 0/? [0…"
      ]
     },
     "metadata": {},
     "output_type": "display_data"
    },
    {
     "name": "stderr",
     "output_type": "stream",
     "text": [
      "Epoch 61, global step 4712: 'val_loss' was not in top 1\n"
     ]
    },
    {
     "data": {
      "application/vnd.jupyter.widget-view+json": {
       "model_id": "",
       "version_major": 2,
       "version_minor": 0
      },
      "text/plain": [
       "Validation: |                                                                                         | 0/? [0…"
      ]
     },
     "metadata": {},
     "output_type": "display_data"
    },
    {
     "name": "stderr",
     "output_type": "stream",
     "text": [
      "Epoch 62, global step 4788: 'val_loss' was not in top 1\n"
     ]
    },
    {
     "data": {
      "application/vnd.jupyter.widget-view+json": {
       "model_id": "",
       "version_major": 2,
       "version_minor": 0
      },
      "text/plain": [
       "Validation: |                                                                                         | 0/? [0…"
      ]
     },
     "metadata": {},
     "output_type": "display_data"
    },
    {
     "name": "stderr",
     "output_type": "stream",
     "text": [
      "Epoch 63, global step 4864: 'val_loss' was not in top 1\n"
     ]
    },
    {
     "data": {
      "application/vnd.jupyter.widget-view+json": {
       "model_id": "",
       "version_major": 2,
       "version_minor": 0
      },
      "text/plain": [
       "Validation: |                                                                                         | 0/? [0…"
      ]
     },
     "metadata": {},
     "output_type": "display_data"
    },
    {
     "name": "stderr",
     "output_type": "stream",
     "text": [
      "Epoch 64, global step 4940: 'val_loss' was not in top 1\n"
     ]
    },
    {
     "data": {
      "application/vnd.jupyter.widget-view+json": {
       "model_id": "",
       "version_major": 2,
       "version_minor": 0
      },
      "text/plain": [
       "Validation: |                                                                                         | 0/? [0…"
      ]
     },
     "metadata": {},
     "output_type": "display_data"
    },
    {
     "name": "stderr",
     "output_type": "stream",
     "text": [
      "Epoch 65, global step 5016: 'val_loss' was not in top 1\n"
     ]
    },
    {
     "data": {
      "application/vnd.jupyter.widget-view+json": {
       "model_id": "",
       "version_major": 2,
       "version_minor": 0
      },
      "text/plain": [
       "Validation: |                                                                                         | 0/? [0…"
      ]
     },
     "metadata": {},
     "output_type": "display_data"
    },
    {
     "name": "stderr",
     "output_type": "stream",
     "text": [
      "Epoch 66, global step 5092: 'val_loss' was not in top 1\n"
     ]
    },
    {
     "data": {
      "application/vnd.jupyter.widget-view+json": {
       "model_id": "",
       "version_major": 2,
       "version_minor": 0
      },
      "text/plain": [
       "Validation: |                                                                                         | 0/? [0…"
      ]
     },
     "metadata": {},
     "output_type": "display_data"
    },
    {
     "name": "stderr",
     "output_type": "stream",
     "text": [
      "Epoch 67, global step 5168: 'val_loss' was not in top 1\n"
     ]
    },
    {
     "data": {
      "application/vnd.jupyter.widget-view+json": {
       "model_id": "",
       "version_major": 2,
       "version_minor": 0
      },
      "text/plain": [
       "Validation: |                                                                                         | 0/? [0…"
      ]
     },
     "metadata": {},
     "output_type": "display_data"
    },
    {
     "name": "stderr",
     "output_type": "stream",
     "text": [
      "Metric val_loss improved by 0.007 >= min_delta = 0.0001. New best score: 0.907\n",
      "Epoch 68, global step 5244: 'val_loss' reached 0.90669 (best 0.90669), saving model to 'lightning_logs/common_logs/my_exp_name/version_0/checkpoints/model-epoch=68-val_loss=0.9067.ckpt' as top 1\n"
     ]
    },
    {
     "data": {
      "application/vnd.jupyter.widget-view+json": {
       "model_id": "",
       "version_major": 2,
       "version_minor": 0
      },
      "text/plain": [
       "Validation: |                                                                                         | 0/? [0…"
      ]
     },
     "metadata": {},
     "output_type": "display_data"
    },
    {
     "name": "stderr",
     "output_type": "stream",
     "text": [
      "Epoch 69, global step 5320: 'val_loss' was not in top 1\n"
     ]
    },
    {
     "data": {
      "application/vnd.jupyter.widget-view+json": {
       "model_id": "",
       "version_major": 2,
       "version_minor": 0
      },
      "text/plain": [
       "Validation: |                                                                                         | 0/? [0…"
      ]
     },
     "metadata": {},
     "output_type": "display_data"
    },
    {
     "name": "stderr",
     "output_type": "stream",
     "text": [
      "Epoch 70, global step 5396: 'val_loss' was not in top 1\n"
     ]
    },
    {
     "data": {
      "application/vnd.jupyter.widget-view+json": {
       "model_id": "",
       "version_major": 2,
       "version_minor": 0
      },
      "text/plain": [
       "Validation: |                                                                                         | 0/? [0…"
      ]
     },
     "metadata": {},
     "output_type": "display_data"
    },
    {
     "name": "stderr",
     "output_type": "stream",
     "text": [
      "Epoch 71, global step 5472: 'val_loss' was not in top 1\n"
     ]
    },
    {
     "data": {
      "application/vnd.jupyter.widget-view+json": {
       "model_id": "",
       "version_major": 2,
       "version_minor": 0
      },
      "text/plain": [
       "Validation: |                                                                                         | 0/? [0…"
      ]
     },
     "metadata": {},
     "output_type": "display_data"
    },
    {
     "name": "stderr",
     "output_type": "stream",
     "text": [
      "Epoch 72, global step 5548: 'val_loss' was not in top 1\n"
     ]
    },
    {
     "data": {
      "application/vnd.jupyter.widget-view+json": {
       "model_id": "",
       "version_major": 2,
       "version_minor": 0
      },
      "text/plain": [
       "Validation: |                                                                                         | 0/? [0…"
      ]
     },
     "metadata": {},
     "output_type": "display_data"
    },
    {
     "name": "stderr",
     "output_type": "stream",
     "text": [
      "Epoch 73, global step 5624: 'val_loss' was not in top 1\n"
     ]
    },
    {
     "data": {
      "application/vnd.jupyter.widget-view+json": {
       "model_id": "",
       "version_major": 2,
       "version_minor": 0
      },
      "text/plain": [
       "Validation: |                                                                                         | 0/? [0…"
      ]
     },
     "metadata": {},
     "output_type": "display_data"
    },
    {
     "name": "stderr",
     "output_type": "stream",
     "text": [
      "Epoch 74, global step 5700: 'val_loss' was not in top 1\n"
     ]
    },
    {
     "data": {
      "application/vnd.jupyter.widget-view+json": {
       "model_id": "",
       "version_major": 2,
       "version_minor": 0
      },
      "text/plain": [
       "Validation: |                                                                                         | 0/? [0…"
      ]
     },
     "metadata": {},
     "output_type": "display_data"
    },
    {
     "name": "stderr",
     "output_type": "stream",
     "text": [
      "Epoch 75, global step 5776: 'val_loss' was not in top 1\n"
     ]
    },
    {
     "data": {
      "application/vnd.jupyter.widget-view+json": {
       "model_id": "",
       "version_major": 2,
       "version_minor": 0
      },
      "text/plain": [
       "Validation: |                                                                                         | 0/? [0…"
      ]
     },
     "metadata": {},
     "output_type": "display_data"
    },
    {
     "name": "stderr",
     "output_type": "stream",
     "text": [
      "Epoch 76, global step 5852: 'val_loss' was not in top 1\n"
     ]
    },
    {
     "data": {
      "application/vnd.jupyter.widget-view+json": {
       "model_id": "",
       "version_major": 2,
       "version_minor": 0
      },
      "text/plain": [
       "Validation: |                                                                                         | 0/? [0…"
      ]
     },
     "metadata": {},
     "output_type": "display_data"
    },
    {
     "name": "stderr",
     "output_type": "stream",
     "text": [
      "Metric val_loss improved by 0.015 >= min_delta = 0.0001. New best score: 0.892\n",
      "Epoch 77, global step 5928: 'val_loss' reached 0.89209 (best 0.89209), saving model to 'lightning_logs/common_logs/my_exp_name/version_0/checkpoints/model-epoch=77-val_loss=0.8921.ckpt' as top 1\n"
     ]
    },
    {
     "data": {
      "application/vnd.jupyter.widget-view+json": {
       "model_id": "",
       "version_major": 2,
       "version_minor": 0
      },
      "text/plain": [
       "Validation: |                                                                                         | 0/? [0…"
      ]
     },
     "metadata": {},
     "output_type": "display_data"
    },
    {
     "name": "stderr",
     "output_type": "stream",
     "text": [
      "Epoch 78, global step 6004: 'val_loss' was not in top 1\n"
     ]
    },
    {
     "data": {
      "application/vnd.jupyter.widget-view+json": {
       "model_id": "",
       "version_major": 2,
       "version_minor": 0
      },
      "text/plain": [
       "Validation: |                                                                                         | 0/? [0…"
      ]
     },
     "metadata": {},
     "output_type": "display_data"
    },
    {
     "name": "stderr",
     "output_type": "stream",
     "text": [
      "Epoch 79, global step 6080: 'val_loss' was not in top 1\n"
     ]
    },
    {
     "data": {
      "application/vnd.jupyter.widget-view+json": {
       "model_id": "",
       "version_major": 2,
       "version_minor": 0
      },
      "text/plain": [
       "Validation: |                                                                                         | 0/? [0…"
      ]
     },
     "metadata": {},
     "output_type": "display_data"
    },
    {
     "name": "stderr",
     "output_type": "stream",
     "text": [
      "Epoch 80, global step 6156: 'val_loss' was not in top 1\n"
     ]
    },
    {
     "data": {
      "application/vnd.jupyter.widget-view+json": {
       "model_id": "",
       "version_major": 2,
       "version_minor": 0
      },
      "text/plain": [
       "Validation: |                                                                                         | 0/? [0…"
      ]
     },
     "metadata": {},
     "output_type": "display_data"
    },
    {
     "name": "stderr",
     "output_type": "stream",
     "text": [
      "Epoch 81, global step 6232: 'val_loss' was not in top 1\n"
     ]
    },
    {
     "data": {
      "application/vnd.jupyter.widget-view+json": {
       "model_id": "",
       "version_major": 2,
       "version_minor": 0
      },
      "text/plain": [
       "Validation: |                                                                                         | 0/? [0…"
      ]
     },
     "metadata": {},
     "output_type": "display_data"
    },
    {
     "name": "stderr",
     "output_type": "stream",
     "text": [
      "Epoch 82, global step 6308: 'val_loss' was not in top 1\n"
     ]
    },
    {
     "data": {
      "application/vnd.jupyter.widget-view+json": {
       "model_id": "",
       "version_major": 2,
       "version_minor": 0
      },
      "text/plain": [
       "Validation: |                                                                                         | 0/? [0…"
      ]
     },
     "metadata": {},
     "output_type": "display_data"
    },
    {
     "name": "stderr",
     "output_type": "stream",
     "text": [
      "Epoch 83, global step 6384: 'val_loss' was not in top 1\n"
     ]
    },
    {
     "data": {
      "application/vnd.jupyter.widget-view+json": {
       "model_id": "",
       "version_major": 2,
       "version_minor": 0
      },
      "text/plain": [
       "Validation: |                                                                                         | 0/? [0…"
      ]
     },
     "metadata": {},
     "output_type": "display_data"
    },
    {
     "name": "stderr",
     "output_type": "stream",
     "text": [
      "Epoch 84, global step 6460: 'val_loss' was not in top 1\n"
     ]
    },
    {
     "data": {
      "application/vnd.jupyter.widget-view+json": {
       "model_id": "",
       "version_major": 2,
       "version_minor": 0
      },
      "text/plain": [
       "Validation: |                                                                                         | 0/? [0…"
      ]
     },
     "metadata": {},
     "output_type": "display_data"
    },
    {
     "name": "stderr",
     "output_type": "stream",
     "text": [
      "Epoch 85, global step 6536: 'val_loss' was not in top 1\n"
     ]
    },
    {
     "data": {
      "application/vnd.jupyter.widget-view+json": {
       "model_id": "",
       "version_major": 2,
       "version_minor": 0
      },
      "text/plain": [
       "Validation: |                                                                                         | 0/? [0…"
      ]
     },
     "metadata": {},
     "output_type": "display_data"
    },
    {
     "name": "stderr",
     "output_type": "stream",
     "text": [
      "Epoch 86, global step 6612: 'val_loss' was not in top 1\n"
     ]
    },
    {
     "data": {
      "application/vnd.jupyter.widget-view+json": {
       "model_id": "",
       "version_major": 2,
       "version_minor": 0
      },
      "text/plain": [
       "Validation: |                                                                                         | 0/? [0…"
      ]
     },
     "metadata": {},
     "output_type": "display_data"
    },
    {
     "name": "stderr",
     "output_type": "stream",
     "text": [
      "Monitored metric val_loss did not improve in the last 10 records. Best score: 0.892. Signaling Trainer to stop.\n",
      "Epoch 87, global step 6688: 'val_loss' was not in top 1\n",
      "/data/.miniforge3/envs/xepy311/lib/python3.11/site-packages/lightning/pytorch/trainer/connectors/checkpoint_connector.py:145: `.test(ckpt_path=None)` was called without a model. The best model of the previous `fit` call will be used. You can pass `.test(ckpt_path='best')` to use the best model or `.test(ckpt_path='last')` to use the last model. If you pass a value, this warning will be silenced.\n",
      "Restoring states from the checkpoint path at lightning_logs/common_logs/my_exp_name/version_0/checkpoints/model-epoch=77-val_loss=0.8921.ckpt\n",
      "Loaded model weights from the checkpoint at lightning_logs/common_logs/my_exp_name/version_0/checkpoints/model-epoch=77-val_loss=0.8921.ckpt\n",
      "/data/.miniforge3/envs/xepy311/lib/python3.11/site-packages/lightning/pytorch/trainer/connectors/data_connector.py:425: The 'test_dataloader' does not have many workers which may be a bottleneck. Consider increasing the value of the `num_workers` argument` to `num_workers=127` in the `DataLoader` to improve performance.\n",
      "/data/.miniforge3/envs/xepy311/lib/python3.11/site-packages/lightning/pytorch/utilities/data.py:106: Total length of `DataLoader` across ranks is zero. Please make sure this was your intention.\n"
     ]
    }
   ],
   "source": [
    "trainer = training(\n",
    "    model=model,\n",
    "    datamodule=datamodule,\n",
    "    max_epochs=500,\n",
    "    accelerator='cpu',\n",
    "    devices=1,\n",
    ")"
   ]
  },
  {
   "cell_type": "code",
   "execution_count": 27,
   "id": "9d07da7c-bc16-466c-9799-c10197a71f3c",
   "metadata": {},
   "outputs": [
    {
     "data": {
      "application/vnd.jupyter.widget-view+json": {
       "model_id": "c16a78901b294e5fac46634655e2fbd6",
       "version_major": 2,
       "version_minor": 0
      },
      "text/plain": [
       "Predicting: |                                                                                         | 0/? [0…"
      ]
     },
     "metadata": {},
     "output_type": "display_data"
    }
   ],
   "source": [
    "predictions = trainer.predict(model=model, dataloaders=datamodule.val_dataloader())"
   ]
  },
  {
   "cell_type": "code",
   "execution_count": 43,
   "id": "4d42ddcf-d31b-4e95-bd08-fd3a45d852a7",
   "metadata": {},
   "outputs": [],
   "source": [
    "all_preds = []\n",
    "all_targets = []\n",
    "all_masks = []\n",
    "\n",
    "for part in predictions:\n",
    "    preds, targets, masks, _ = part.values()\n",
    "    all_preds.append(preds)\n",
    "    all_targets.append(targets)\n",
    "    all_masks.append(masks)\n",
    "\n",
    "all_preds = np.concatenate(all_preds)\n",
    "all_targets = np.concatenate(all_targets)\n",
    "all_masks = np.concatenate(all_masks)"
   ]
  },
  {
   "cell_type": "code",
   "execution_count": 38,
   "id": "9952f7b4-4eb4-416e-b23b-08767f8e7958",
   "metadata": {},
   "outputs": [],
   "source": [
    "from foundation_model.utils.plotting import plot_predictions"
   ]
  },
  {
   "cell_type": "code",
   "execution_count": 44,
   "id": "dc8009ac-216b-48ef-8c83-9f36f9ccfc34",
   "metadata": {},
   "outputs": [
    {
     "ename": "ValueError",
     "evalue": "Cannot calculate a linear regression if all x values are identical",
     "output_type": "error",
     "traceback": [
      "\u001b[0;31m---------------------------------------------------------------------------\u001b[0m",
      "\u001b[0;31mValueError\u001b[0m                                Traceback (most recent call last)",
      "Cell \u001b[0;32mIn[44], line 2\u001b[0m\n\u001b[1;32m      1\u001b[0m attributes \u001b[38;5;241m=\u001b[39m processed_attrs\u001b[38;5;241m.\u001b[39mcolumns\n\u001b[0;32m----> 2\u001b[0m \u001b[43mplot_predictions\u001b[49m\u001b[43m(\u001b[49m\u001b[43mall_preds\u001b[49m\u001b[43m,\u001b[49m\u001b[43m \u001b[49m\u001b[43mall_targets\u001b[49m\u001b[43m,\u001b[49m\u001b[43m \u001b[49m\u001b[43mall_masks\u001b[49m\u001b[43m,\u001b[49m\u001b[43m \u001b[49m\u001b[43mattributes\u001b[49m\u001b[38;5;241;43m=\u001b[39;49m\u001b[43mattributes\u001b[49m\u001b[43m,\u001b[49m\u001b[43m \u001b[49m\u001b[43msavefig\u001b[49m\u001b[38;5;241;43m=\u001b[39;49m\u001b[38;5;124;43m'\u001b[39;49m\u001b[38;5;124;43mimages/multi_tasks/\u001b[39;49m\u001b[38;5;124;43m'\u001b[39;49m\u001b[43m,\u001b[49m\u001b[43m \u001b[49m\u001b[43msuffix\u001b[49m\u001b[38;5;241;43m=\u001b[39;49m\u001b[38;5;124;43m'\u001b[39;49m\u001b[38;5;124;43mall_qc_ac_te_data\u001b[39;49m\u001b[38;5;124;43m'\u001b[39;49m\u001b[43m,\u001b[49m\u001b[43m \u001b[49m\u001b[43mreturn_stat\u001b[49m\u001b[38;5;241;43m=\u001b[39;49m\u001b[38;5;28;43;01mTrue\u001b[39;49;00m\u001b[43m)\u001b[49m\n",
      "File \u001b[0;32m/data/foundation_model/src/foundation_model/utils/plotting.py:143\u001b[0m, in \u001b[0;36mplot_predictions\u001b[0;34m(all_preds, all_targets, all_masks, attributes, savefig, suffix, no_show, return_stat)\u001b[0m\n\u001b[1;32m    140\u001b[0m targets_m \u001b[38;5;241m=\u001b[39m all_targets[mask_m, m]\n\u001b[1;32m    142\u001b[0m \u001b[38;5;66;03m# Create scatter plot\u001b[39;00m\n\u001b[0;32m--> 143\u001b[0m fig, _, stat \u001b[38;5;241m=\u001b[39m \u001b[43mplot_scatter_comparison\u001b[49m\u001b[43m(\u001b[49m\n\u001b[1;32m    144\u001b[0m \u001b[43m    \u001b[49m\u001b[43mtargets_m\u001b[49m\u001b[43m,\u001b[49m\u001b[43m \u001b[49m\u001b[43mpreds_m\u001b[49m\u001b[43m,\u001b[49m\u001b[43m \u001b[49m\u001b[43mtitle\u001b[49m\u001b[38;5;241;43m=\u001b[39;49m\u001b[43mattributes\u001b[49m\u001b[43m[\u001b[49m\u001b[43mm\u001b[49m\u001b[43m]\u001b[49m\u001b[43m,\u001b[49m\u001b[43m \u001b[49m\u001b[43mreturn_stat\u001b[49m\u001b[38;5;241;43m=\u001b[39;49m\u001b[38;5;28;43;01mTrue\u001b[39;49;00m\n\u001b[1;32m    145\u001b[0m \u001b[43m\u001b[49m\u001b[43m)\u001b[49m\n\u001b[1;32m    147\u001b[0m \u001b[38;5;66;03m# Save figure if path provided\u001b[39;00m\n\u001b[1;32m    148\u001b[0m \u001b[38;5;28;01mif\u001b[39;00m savefig \u001b[38;5;129;01mand\u001b[39;00m \u001b[38;5;28misinstance\u001b[39m(savefig, \u001b[38;5;28mstr\u001b[39m):\n",
      "File \u001b[0;32m/data/foundation_model/src/foundation_model/utils/plotting.py:35\u001b[0m, in \u001b[0;36mplot_scatter_comparison\u001b[0;34m(y_true, y_pred, title, return_stat, ax)\u001b[0m\n\u001b[1;32m     15\u001b[0m \u001b[38;5;250m\u001b[39m\u001b[38;5;124;03m\"\"\"\u001b[39;00m\n\u001b[1;32m     16\u001b[0m \u001b[38;5;124;03mCreate a scatter plot comparing predicted vs true values.\u001b[39;00m\n\u001b[1;32m     17\u001b[0m \n\u001b[0;32m   (...)\u001b[0m\n\u001b[1;32m     32\u001b[0m \u001b[38;5;124;03m    Figure and axes objects, and optionally statistics dictionary\u001b[39;00m\n\u001b[1;32m     33\u001b[0m \u001b[38;5;124;03m\"\"\"\u001b[39;00m\n\u001b[1;32m     34\u001b[0m \u001b[38;5;66;03m# Calculate statistics\u001b[39;00m\n\u001b[0;32m---> 35\u001b[0m slope, intercept, r_value, p_value, std_err \u001b[38;5;241m=\u001b[39m \u001b[43mstats\u001b[49m\u001b[38;5;241;43m.\u001b[39;49m\u001b[43mlinregress\u001b[49m\u001b[43m(\u001b[49m\u001b[43my_true\u001b[49m\u001b[43m,\u001b[49m\u001b[43m \u001b[49m\u001b[43my_pred\u001b[49m\u001b[43m)\u001b[49m\n\u001b[1;32m     36\u001b[0m mse \u001b[38;5;241m=\u001b[39m np\u001b[38;5;241m.\u001b[39mmean((y_true \u001b[38;5;241m-\u001b[39m y_pred) \u001b[38;5;241m*\u001b[39m\u001b[38;5;241m*\u001b[39m \u001b[38;5;241m2\u001b[39m)\n\u001b[1;32m     37\u001b[0m mae \u001b[38;5;241m=\u001b[39m np\u001b[38;5;241m.\u001b[39mmean(np\u001b[38;5;241m.\u001b[39mabs(y_true \u001b[38;5;241m-\u001b[39m y_pred))\n",
      "File \u001b[0;32m/data/.miniforge3/envs/xepy311/lib/python3.11/site-packages/scipy/stats/_stats_mstats_common.py:157\u001b[0m, in \u001b[0;36mlinregress\u001b[0;34m(x, y, alternative)\u001b[0m\n\u001b[1;32m    154\u001b[0m     \u001b[38;5;28;01mraise\u001b[39;00m \u001b[38;5;167;01mValueError\u001b[39;00m(\u001b[38;5;124m\"\u001b[39m\u001b[38;5;124mInputs must not be empty.\u001b[39m\u001b[38;5;124m\"\u001b[39m)\n\u001b[1;32m    156\u001b[0m \u001b[38;5;28;01mif\u001b[39;00m np\u001b[38;5;241m.\u001b[39mamax(x) \u001b[38;5;241m==\u001b[39m np\u001b[38;5;241m.\u001b[39mamin(x) \u001b[38;5;129;01mand\u001b[39;00m \u001b[38;5;28mlen\u001b[39m(x) \u001b[38;5;241m>\u001b[39m \u001b[38;5;241m1\u001b[39m:\n\u001b[0;32m--> 157\u001b[0m     \u001b[38;5;28;01mraise\u001b[39;00m \u001b[38;5;167;01mValueError\u001b[39;00m(\u001b[38;5;124m\"\u001b[39m\u001b[38;5;124mCannot calculate a linear regression \u001b[39m\u001b[38;5;124m\"\u001b[39m\n\u001b[1;32m    158\u001b[0m                      \u001b[38;5;124m\"\u001b[39m\u001b[38;5;124mif all x values are identical\u001b[39m\u001b[38;5;124m\"\u001b[39m)\n\u001b[1;32m    160\u001b[0m n \u001b[38;5;241m=\u001b[39m \u001b[38;5;28mlen\u001b[39m(x)\n\u001b[1;32m    161\u001b[0m xmean \u001b[38;5;241m=\u001b[39m np\u001b[38;5;241m.\u001b[39mmean(x, \u001b[38;5;28;01mNone\u001b[39;00m)\n",
      "\u001b[0;31mValueError\u001b[0m: Cannot calculate a linear regression if all x values are identical"
     ]
    },
    {
     "data": {
      "image/png": "[encoded data removed]",
      "text/plain": [
       "<Figure size 1200x1200 with 1 Axes>"
      ]
     },
     "metadata": {},
     "output_type": "display_data"
    },
    {
     "data": {
      "image/png": "[encoded data removed]",
      "text/plain": [
       "<Figure size 1200x1200 with 1 Axes>"
      ]
     },
     "metadata": {},
     "output_type": "display_data"
    },
    {
     "data": {
      "image/png": "[encoded data removed]",
      "text/plain": [
       "<Figure size 1200x1200 with 1 Axes>"
      ]
     },
     "metadata": {},
     "output_type": "display_data"
    },
    {
     "data": {
      "image/png": "[encoded data removed]",
      "text/plain": [
       "<Figure size 1200x1200 with 1 Axes>"
      ]
     },
     "metadata": {},
     "output_type": "display_data"
    }
   ],
   "source": [
    "attributes = processed_attrs.columns\n",
    "plot_predictions(all_preds, all_targets, all_masks, attributes=attributes, savefig='images/multi_tasks/', suffix='all_qc_ac_te_data', return_stat=True)"
   ]
  },
  {
   "cell_type": "markdown",
   "id": "332a4fa5-20db-483c-b04b-a90bc5661593",
   "metadata": {},
   "source": [
    "---------"
   ]
  },
  {
   "cell_type": "code",
   "execution_count": null,
   "id": "dc9edef9-8371-4c2d-a891-fb86985105ee",
   "metadata": {},
   "outputs": [],
   "source": [
    "%run multi_task.py\n",
    "%run plot_utils.py"
   ]
  },
  {
   "cell_type": "code",
   "execution_count": 22,
   "id": "194c2510-5ccf-4331-8936-db01f42939db",
   "metadata": {},
   "outputs": [],
   "source": [
    "from typing import Optional, Dict, List, Tuple\n",
    "import torch\n",
    "import pandas as pd\n",
    "from pathlib import Path\n",
    "# from multi_task import scaling_laws_test, CompoundDataset\n",
    "\n",
    "def test_all_properties(\n",
    "    descriptor_df: pd.DataFrame,\n",
    "    property_df: pd.DataFrame,\n",
    "    device: str = 'cuda'\n",
    ") -> Dict[str, Dict[str, Tuple[List[float], List[float], List[float]]]]:\n",
    "    \"\"\"\n",
    "    Test scaling laws for all properties in both vary_target and vary_others modes.\n",
    "    \n",
    "    Args:\n",
    "        descriptor_df: DataFrame containing input features\n",
    "        property_df: DataFrame containing property values\n",
    "        device: Device to run the model on ('cpu' or 'cuda')\n",
    "    \n",
    "    Returns:\n",
    "        Dict with structure:\n",
    "        {\n",
    "            property_name: {\n",
    "                'vary_target': (test_losses, test_losses_std, fractions),\n",
    "                'vary_others': (test_losses, test_losses_std, fractions)\n",
    "            }\n",
    "        }\n",
    "        where:\n",
    "        - test_losses: List of mean test losses for each fraction\n",
    "        - test_losses_std: List of standard deviations of test losses\n",
    "        - fractions: List of data fractions used\n",
    "    \"\"\"\n",
    "    results: Dict[str, Dict[str, Tuple[List[float], List[float], List[float]]]] = {}\n",
    "    \n",
    "    # Create results directory\n",
    "    results_dir = Path('images/multi_tasks/scaling_laws')\n",
    "    results_dir.mkdir(parents=True, exist_ok=True)\n",
    "    \n",
    "    # Test each property\n",
    "    for property_name in CompoundDataset.ATTRIBUTES:\n",
    "        if property_name != 'seebeck_coefficient':\n",
    "            continue\n",
    "        results[property_name] = {}\n",
    "        print(f\"\\n{'='*80}\")\n",
    "        print(f\"Testing scaling laws for {property_name}\")\n",
    "        print(f\"{'='*80}\")\n",
    "        \n",
    "        # Test vary_target mode\n",
    "        print(f\"\\nMode: vary_target (varying {property_name} data while fixing others)\")\n",
    "        results[property_name]['vary_target'] = scaling_laws_test(\n",
    "            descriptor=descriptor_df,\n",
    "            property_data=property_df,\n",
    "            target_property=property_name,\n",
    "            mode='vary_target',\n",
    "            device=device\n",
    "        )\n",
    "        \n",
    "        # # Test vary_others mode\n",
    "        # print(f\"\\nMode: vary_others (fixing {property_name} while varying others)\")\n",
    "        # results[property_name]['vary_others'] = scaling_laws_test(\n",
    "        #     descriptor=descriptor_df,\n",
    "        #     property_data=property_df,\n",
    "        #     target_property=property_name,\n",
    "        #     mode='vary_others',\n",
    "        #     device=device\n",
    "        # )\n",
    "\n",
    "    return results"
   ]
  },
  {
   "cell_type": "code",
   "execution_count": 23,
   "id": "f83ae650-8754-4349-a130-73a843ed0956",
   "metadata": {},
   "outputs": [
    {
     "name": "stdout",
     "output_type": "stream",
     "text": [
      "Epoch [91/100], Training Loss: 4.2651\n",
      "\n",
      "Test Losses by Attribute:\n",
      "electrical_resistivity: 9.7488\n",
      "thermal_conductivity: 0.8889\n",
      "seebeck_coefficient: 2.3087\n",
      "power_factor: 3.9028\n",
      "zt: 3.6565\n",
      "hall_coefficient: 10.2821\n",
      "Adam (\n",
      "Parameter Group 0\n",
      "    amsgrad: False\n",
      "    betas: (0.9, 0.999)\n",
      "    capturable: False\n",
      "    differentiable: False\n",
      "    eps: 1e-08\n",
      "    foreach: None\n",
      "    fused: None\n",
      "    lr: 0.0005\n",
      "    maximize: False\n",
      "    weight_decay: 0\n",
      ")\n",
      "Epoch [1/100], Training Loss: 17.2831\n",
      "Epoch [11/100], Training Loss: 9.2160\n",
      "Epoch [21/100], Training Loss: 7.2978\n",
      "Epoch [31/100], Training Loss: 6.1254\n",
      "Epoch [41/100], Training Loss: 5.4639\n",
      "Epoch [51/100], Training Loss: 4.9149\n",
      "Epoch [61/100], Training Loss: 4.7575\n",
      "Epoch [71/100], Training Loss: 4.5109\n",
      "Epoch [81/100], Training Loss: 4.1791\n",
      "Epoch [91/100], Training Loss: 3.9139\n",
      "\n",
      "Test Losses by Attribute:\n",
      "electrical_resistivity: 11.5605\n",
      "thermal_conductivity: 1.0197\n",
      "seebeck_coefficient: 2.0764\n",
      "power_factor: 3.9222\n",
      "zt: 3.6494\n",
      "hall_coefficient: 6.9492\n",
      "\n",
      "Testing with fraction 0.4:\n",
      "Adam (\n",
      "Parameter Group 0\n",
      "    amsgrad: False\n",
      "    betas: (0.9, 0.999)\n",
      "    capturable: False\n",
      "    differentiable: False\n",
      "    eps: 1e-08\n",
      "    foreach: None\n",
      "    fused: None\n",
      "    lr: 0.0005\n",
      "    maximize: False\n",
      "    weight_decay: 0\n",
      ")\n",
      "Epoch [1/100], Training Loss: 18.4406\n",
      "Epoch [11/100], Training Loss: 8.8827\n",
      "Epoch [21/100], Training Loss: 7.1427\n",
      "Epoch [31/100], Training Loss: 6.0794\n",
      "Epoch [41/100], Training Loss: 5.5507\n",
      "Epoch [51/100], Training Loss: 5.1966\n",
      "Epoch [61/100], Training Loss: 4.8050\n",
      "Epoch [71/100], Training Loss: 4.4686\n",
      "Epoch [81/100], Training Loss: 4.0591\n",
      "Epoch [91/100], Training Loss: 4.0757\n",
      "\n",
      "Test Losses by Attribute:\n",
      "electrical_resistivity: 10.9547\n",
      "thermal_conductivity: 0.8591\n",
      "seebeck_coefficient: 1.9199\n",
      "power_factor: 4.9417\n",
      "zt: 3.6536\n",
      "hall_coefficient: 11.8046\n",
      "Adam (\n",
      "Parameter Group 0\n",
      "    amsgrad: False\n",
      "    betas: (0.9, 0.999)\n",
      "    capturable: False\n",
      "    differentiable: False\n",
      "    eps: 1e-08\n",
      "    foreach: None\n",
      "    fused: None\n",
      "    lr: 0.0005\n",
      "    maximize: False\n",
      "    weight_decay: 0\n",
      ")\n",
      "Epoch [1/100], Training Loss: 19.5937\n",
      "Epoch [11/100], Training Loss: 8.6486\n",
      "Epoch [21/100], Training Loss: 7.1888\n",
      "Epoch [31/100], Training Loss: 6.3843\n",
      "Epoch [41/100], Training Loss: 5.5458\n",
      "Epoch [51/100], Training Loss: 4.9695\n",
      "Epoch [61/100], Training Loss: 4.6152\n",
      "Epoch [71/100], Training Loss: 4.4821\n",
      "Epoch [81/100], Training Loss: 4.1645\n",
      "Epoch [91/100], Training Loss: 4.0142\n",
      "\n",
      "Test Losses by Attribute:\n",
      "electrical_resistivity: 11.4084\n",
      "thermal_conductivity: 0.7815\n",
      "seebeck_coefficient: 1.9224\n",
      "power_factor: 3.6997\n",
      "zt: 3.2361\n",
      "hall_coefficient: 5.1805\n",
      "Adam (\n",
      "Parameter Group 0\n",
      "    amsgrad: False\n",
      "    betas: (0.9, 0.999)\n",
      "    capturable: False\n",
      "    differentiable: False\n",
      "    eps: 1e-08\n",
      "    foreach: None\n",
      "    fused: None\n",
      "    lr: 0.0005\n",
      "    maximize: False\n",
      "    weight_decay: 0\n",
      ")\n",
      "Epoch [1/100], Training Loss: 19.2323\n",
      "Epoch [11/100], Training Loss: 8.7552\n",
      "Epoch [21/100], Training Loss: 7.0760\n",
      "Epoch [31/100], Training Loss: 6.0987\n",
      "Epoch [41/100], Training Loss: 5.7838\n",
      "Epoch [51/100], Training Loss: 5.1125\n",
      "Epoch [61/100], Training Loss: 4.9396\n",
      "Epoch [71/100], Training Loss: 4.5827\n",
      "Epoch [81/100], Training Loss: 4.1748\n",
      "Epoch [91/100], Training Loss: 3.9210\n",
      "\n",
      "Test Losses by Attribute:\n",
      "electrical_resistivity: 10.9430\n",
      "thermal_conductivity: 1.0802\n",
      "seebeck_coefficient: 2.3095\n",
      "power_factor: 3.6435\n",
      "zt: 4.3305\n",
      "hall_coefficient: 39.0879\n",
      "Adam (\n",
      "Parameter Group 0\n",
      "    amsgrad: False\n",
      "    betas: (0.9, 0.999)\n",
      "    capturable: False\n",
      "    differentiable: False\n",
      "    eps: 1e-08\n",
      "    foreach: None\n",
      "    fused: None\n",
      "    lr: 0.0005\n",
      "    maximize: False\n",
      "    weight_decay: 0\n",
      ")\n",
      "Epoch [1/100], Training Loss: 16.6292\n",
      "Epoch [11/100], Training Loss: 9.1335\n",
      "Epoch [21/100], Training Loss: 7.6750\n",
      "Epoch [31/100], Training Loss: 6.2115\n",
      "Epoch [41/100], Training Loss: 5.6759\n",
      "Epoch [51/100], Training Loss: 5.2912\n",
      "Epoch [61/100], Training Loss: 4.8721\n",
      "Epoch [71/100], Training Loss: 4.4499\n",
      "Epoch [81/100], Training Loss: 4.2597\n",
      "Epoch [91/100], Training Loss: 4.1123\n",
      "\n",
      "Test Losses by Attribute:\n",
      "electrical_resistivity: 9.5477\n",
      "thermal_conductivity: 0.9247\n",
      "seebeck_coefficient: 1.8516\n",
      "power_factor: 3.9433\n",
      "zt: 3.0440\n",
      "hall_coefficient: 9.6059\n",
      "Adam (\n",
      "Parameter Group 0\n",
      "    amsgrad: False\n",
      "    betas: (0.9, 0.999)\n",
      "    capturable: False\n",
      "    differentiable: False\n",
      "    eps: 1e-08\n",
      "    foreach: None\n",
      "    fused: None\n",
      "    lr: 0.0005\n",
      "    maximize: False\n",
      "    weight_decay: 0\n",
      ")\n",
      "Epoch [1/100], Training Loss: 18.1370\n",
      "Epoch [11/100], Training Loss: 8.6164\n",
      "Epoch [21/100], Training Loss: 7.0165\n",
      "Epoch [31/100], Training Loss: 5.8275\n",
      "Epoch [41/100], Training Loss: 5.4038\n",
      "Epoch [51/100], Training Loss: 4.8130\n",
      "Epoch [61/100], Training Loss: 4.5686\n",
      "Epoch [71/100], Training Loss: 4.3708\n",
      "Epoch [81/100], Training Loss: 4.2589\n",
      "Epoch [91/100], Training Loss: 3.9138\n",
      "\n",
      "Test Losses by Attribute:\n",
      "electrical_resistivity: 11.7974\n",
      "thermal_conductivity: 0.9680\n",
      "seebeck_coefficient: 2.0047\n",
      "power_factor: 3.9839\n",
      "zt: 3.3521\n",
      "hall_coefficient: 5.4619\n",
      "\n",
      "Testing with fraction 0.6:\n",
      "Adam (\n",
      "Parameter Group 0\n",
      "    amsgrad: False\n",
      "    betas: (0.9, 0.999)\n",
      "    capturable: False\n",
      "    differentiable: False\n",
      "    eps: 1e-08\n",
      "    foreach: None\n",
      "    fused: None\n",
      "    lr: 0.0005\n",
      "    maximize: False\n",
      "    weight_decay: 0\n",
      ")\n",
      "Epoch [1/100], Training Loss: 17.0836\n",
      "Epoch [11/100], Training Loss: 8.4456\n",
      "Epoch [21/100], Training Loss: 6.9960\n",
      "Epoch [31/100], Training Loss: 6.1004\n",
      "Epoch [41/100], Training Loss: 5.3434\n",
      "Epoch [51/100], Training Loss: 4.9651\n",
      "Epoch [61/100], Training Loss: 4.6358\n",
      "Epoch [71/100], Training Loss: 4.3927\n",
      "Epoch [81/100], Training Loss: 4.0367\n",
      "Epoch [91/100], Training Loss: 3.8721\n",
      "\n",
      "Test Losses by Attribute:\n",
      "electrical_resistivity: 10.2498\n",
      "thermal_conductivity: 0.8626\n",
      "seebeck_coefficient: 1.7219\n",
      "power_factor: 5.4298\n",
      "zt: 3.7777\n",
      "hall_coefficient: 5.8409\n",
      "Adam (\n",
      "Parameter Group 0\n",
      "    amsgrad: False\n",
      "    betas: (0.9, 0.999)\n",
      "    capturable: False\n",
      "    differentiable: False\n",
      "    eps: 1e-08\n",
      "    foreach: None\n",
      "    fused: None\n",
      "    lr: 0.0005\n",
      "    maximize: False\n",
      "    weight_decay: 0\n",
      ")\n",
      "Epoch [1/100], Training Loss: 19.4719\n",
      "Epoch [11/100], Training Loss: 8.3297\n",
      "Epoch [21/100], Training Loss: 7.0968\n",
      "Epoch [31/100], Training Loss: 6.0615\n",
      "Epoch [41/100], Training Loss: 5.3712\n",
      "Epoch [51/100], Training Loss: 4.9364\n",
      "Epoch [61/100], Training Loss: 4.6970\n",
      "Epoch [71/100], Training Loss: 4.3312\n",
      "Epoch [81/100], Training Loss: 4.1630\n",
      "Epoch [91/100], Training Loss: 3.9925\n",
      "\n",
      "Test Losses by Attribute:\n",
      "electrical_resistivity: 11.9563\n",
      "thermal_conductivity: 0.6981\n",
      "seebeck_coefficient: 1.3820\n",
      "power_factor: 2.9523\n",
      "zt: 3.4987\n",
      "hall_coefficient: 3.4334\n",
      "Adam (\n",
      "Parameter Group 0\n",
      "    amsgrad: False\n",
      "    betas: (0.9, 0.999)\n",
      "    capturable: False\n",
      "    differentiable: False\n",
      "    eps: 1e-08\n",
      "    foreach: None\n",
      "    fused: None\n",
      "    lr: 0.0005\n",
      "    maximize: False\n",
      "    weight_decay: 0\n",
      ")\n",
      "Epoch [1/100], Training Loss: 22.5347\n",
      "Epoch [11/100], Training Loss: 8.4840\n",
      "Epoch [21/100], Training Loss: 6.9756\n",
      "Epoch [31/100], Training Loss: 5.9569\n",
      "Epoch [41/100], Training Loss: 5.6214\n",
      "Epoch [51/100], Training Loss: 5.1105\n",
      "Epoch [61/100], Training Loss: 4.8740\n",
      "Epoch [71/100], Training Loss: 4.4005\n",
      "Epoch [81/100], Training Loss: 4.3327\n",
      "Epoch [91/100], Training Loss: 4.0571\n",
      "\n",
      "Test Losses by Attribute:\n",
      "electrical_resistivity: 10.9989\n",
      "thermal_conductivity: 1.0073\n",
      "seebeck_coefficient: 1.9238\n",
      "power_factor: 3.2832\n",
      "zt: 3.7553\n",
      "hall_coefficient: 37.4728\n",
      "Adam (\n",
      "Parameter Group 0\n",
      "    amsgrad: False\n",
      "    betas: (0.9, 0.999)\n",
      "    capturable: False\n",
      "    differentiable: False\n",
      "    eps: 1e-08\n",
      "    foreach: None\n",
      "    fused: None\n",
      "    lr: 0.0005\n",
      "    maximize: False\n",
      "    weight_decay: 0\n",
      ")\n",
      "Epoch [1/100], Training Loss: 18.4739\n",
      "Epoch [11/100], Training Loss: 8.3339\n",
      "Epoch [21/100], Training Loss: 6.9402\n",
      "Epoch [31/100], Training Loss: 5.8360\n",
      "Epoch [41/100], Training Loss: 5.3201\n",
      "Epoch [51/100], Training Loss: 5.0255\n",
      "Epoch [61/100], Training Loss: 4.8226\n",
      "Epoch [71/100], Training Loss: 4.5612\n",
      "Epoch [81/100], Training Loss: 4.1390\n",
      "Epoch [91/100], Training Loss: 3.8330\n",
      "\n",
      "Test Losses by Attribute:\n",
      "electrical_resistivity: 10.3721\n",
      "thermal_conductivity: 0.9007\n",
      "seebeck_coefficient: 2.5512\n",
      "power_factor: 4.6657\n",
      "zt: 3.3944\n",
      "hall_coefficient: 8.6598\n",
      "Adam (\n",
      "Parameter Group 0\n",
      "    amsgrad: False\n",
      "    betas: (0.9, 0.999)\n",
      "    capturable: False\n",
      "    differentiable: False\n",
      "    eps: 1e-08\n",
      "    foreach: None\n",
      "    fused: None\n",
      "    lr: 0.0005\n",
      "    maximize: False\n",
      "    weight_decay: 0\n",
      ")\n",
      "Epoch [1/100], Training Loss: 21.6870\n",
      "Epoch [11/100], Training Loss: 8.3479\n",
      "Epoch [21/100], Training Loss: 6.6916\n",
      "Epoch [31/100], Training Loss: 6.0085\n",
      "Epoch [41/100], Training Loss: 5.4690\n",
      "Epoch [51/100], Training Loss: 4.9515\n",
      "Epoch [61/100], Training Loss: 4.5989\n",
      "Epoch [71/100], Training Loss: 4.3554\n",
      "Epoch [81/100], Training Loss: 3.9477\n",
      "Epoch [91/100], Training Loss: 3.7348\n",
      "\n",
      "Test Losses by Attribute:\n",
      "electrical_resistivity: 11.5390\n",
      "thermal_conductivity: 1.0266\n",
      "seebeck_coefficient: 1.4914\n",
      "power_factor: 3.7242\n",
      "zt: 3.1909\n",
      "hall_coefficient: 8.8469\n",
      "\n",
      "Testing with fraction 0.8:\n",
      "Adam (\n",
      "Parameter Group 0\n",
      "    amsgrad: False\n",
      "    betas: (0.9, 0.999)\n",
      "    capturable: False\n",
      "    differentiable: False\n",
      "    eps: 1e-08\n",
      "    foreach: None\n",
      "    fused: None\n",
      "    lr: 0.0005\n",
      "    maximize: False\n",
      "    weight_decay: 0\n",
      ")\n",
      "Epoch [1/100], Training Loss: 26.2654\n",
      "Epoch [11/100], Training Loss: 8.4591\n",
      "Epoch [21/100], Training Loss: 7.4602\n",
      "Epoch [31/100], Training Loss: 6.2039\n",
      "Epoch [41/100], Training Loss: 5.6694\n",
      "Epoch [51/100], Training Loss: 5.1330\n",
      "Epoch [61/100], Training Loss: 4.9442\n",
      "Epoch [71/100], Training Loss: 4.4709\n",
      "Epoch [81/100], Training Loss: 4.3756\n",
      "Epoch [91/100], Training Loss: 4.1014\n",
      "\n",
      "Test Losses by Attribute:\n",
      "electrical_resistivity: 10.6086\n",
      "thermal_conductivity: 0.9613\n",
      "seebeck_coefficient: 1.5765\n",
      "power_factor: 5.7377\n",
      "zt: 3.5143\n",
      "hall_coefficient: 5.6402\n",
      "Adam (\n",
      "Parameter Group 0\n",
      "    amsgrad: False\n",
      "    betas: (0.9, 0.999)\n",
      "    capturable: False\n",
      "    differentiable: False\n",
      "    eps: 1e-08\n",
      "    foreach: None\n",
      "    fused: None\n",
      "    lr: 0.0005\n",
      "    maximize: False\n",
      "    weight_decay: 0\n",
      ")\n",
      "Epoch [1/100], Training Loss: 16.5747\n",
      "Epoch [11/100], Training Loss: 7.9648\n",
      "Epoch [21/100], Training Loss: 6.7192\n",
      "Epoch [31/100], Training Loss: 5.5661\n",
      "Epoch [41/100], Training Loss: 5.0475\n",
      "Epoch [51/100], Training Loss: 4.6279\n",
      "Epoch [61/100], Training Loss: 4.2297\n",
      "Epoch [71/100], Training Loss: 4.0399\n",
      "Epoch [81/100], Training Loss: 3.8148\n",
      "Epoch [91/100], Training Loss: 3.5803\n",
      "\n",
      "Test Losses by Attribute:\n",
      "electrical_resistivity: 10.5531\n",
      "thermal_conductivity: 0.7745\n",
      "seebeck_coefficient: 1.2928\n",
      "power_factor: 3.5210\n",
      "zt: 3.0017\n",
      "hall_coefficient: 2.1972\n",
      "Adam (\n",
      "Parameter Group 0\n",
      "    amsgrad: False\n",
      "    betas: (0.9, 0.999)\n",
      "    capturable: False\n",
      "    differentiable: False\n",
      "    eps: 1e-08\n",
      "    foreach: None\n",
      "    fused: None\n",
      "    lr: 0.0005\n",
      "    maximize: False\n",
      "    weight_decay: 0\n",
      ")\n",
      "Epoch [1/100], Training Loss: 17.3763\n",
      "Epoch [11/100], Training Loss: 8.0876\n",
      "Epoch [21/100], Training Loss: 6.8287\n",
      "Epoch [31/100], Training Loss: 5.8004\n",
      "Epoch [41/100], Training Loss: 5.2575\n",
      "Epoch [51/100], Training Loss: 5.0284\n",
      "Epoch [61/100], Training Loss: 4.7377\n",
      "Epoch [71/100], Training Loss: 4.2793\n",
      "Epoch [81/100], Training Loss: 4.0675\n",
      "Epoch [91/100], Training Loss: 3.8145\n",
      "\n",
      "Test Losses by Attribute:\n",
      "electrical_resistivity: 10.3575\n",
      "thermal_conductivity: 1.0270\n",
      "seebeck_coefficient: 2.0436\n",
      "power_factor: 3.6670\n",
      "zt: 3.9696\n",
      "hall_coefficient: 43.5146\n",
      "Adam (\n",
      "Parameter Group 0\n",
      "    amsgrad: False\n",
      "    betas: (0.9, 0.999)\n",
      "    capturable: False\n",
      "    differentiable: False\n",
      "    eps: 1e-08\n",
      "    foreach: None\n",
      "    fused: None\n",
      "    lr: 0.0005\n",
      "    maximize: False\n",
      "    weight_decay: 0\n",
      ")\n",
      "Epoch [1/100], Training Loss: 16.8110\n",
      "Epoch [11/100], Training Loss: 8.2692\n",
      "Epoch [21/100], Training Loss: 6.8395\n",
      "Epoch [31/100], Training Loss: 5.7803\n",
      "Epoch [41/100], Training Loss: 5.0682\n",
      "Epoch [51/100], Training Loss: 4.8674\n",
      "Epoch [61/100], Training Loss: 4.3279\n",
      "Epoch [71/100], Training Loss: 4.1687\n",
      "Epoch [81/100], Training Loss: 3.9451\n",
      "Epoch [91/100], Training Loss: 3.6830\n",
      "\n",
      "Test Losses by Attribute:\n",
      "electrical_resistivity: 10.2981\n",
      "thermal_conductivity: 1.0059\n",
      "seebeck_coefficient: 1.5438\n",
      "power_factor: 3.8766\n",
      "zt: 2.9981\n",
      "hall_coefficient: 5.6659\n",
      "Adam (\n",
      "Parameter Group 0\n",
      "    amsgrad: False\n",
      "    betas: (0.9, 0.999)\n",
      "    capturable: False\n",
      "    differentiable: False\n",
      "    eps: 1e-08\n",
      "    foreach: None\n",
      "    fused: None\n",
      "    lr: 0.0005\n",
      "    maximize: False\n",
      "    weight_decay: 0\n",
      ")\n",
      "Epoch [1/100], Training Loss: 19.9088\n",
      "Epoch [11/100], Training Loss: 8.2606\n",
      "Epoch [21/100], Training Loss: 6.7947\n",
      "Epoch [31/100], Training Loss: 5.6460\n",
      "Epoch [41/100], Training Loss: 5.0561\n",
      "Epoch [51/100], Training Loss: 4.7164\n",
      "Epoch [61/100], Training Loss: 4.4917\n",
      "Epoch [71/100], Training Loss: 4.2472\n",
      "Epoch [81/100], Training Loss: 3.9689\n",
      "Epoch [91/100], Training Loss: 3.6699\n",
      "\n",
      "Test Losses by Attribute:\n",
      "electrical_resistivity: 11.3188\n",
      "thermal_conductivity: 0.9720\n",
      "seebeck_coefficient: 1.8845\n",
      "power_factor: 3.8032\n",
      "zt: 3.5450\n",
      "hall_coefficient: 5.9011\n",
      "\n",
      "Testing with fraction 1.0:\n",
      "Adam (\n",
      "Parameter Group 0\n",
      "    amsgrad: False\n",
      "    betas: (0.9, 0.999)\n",
      "    capturable: False\n",
      "    differentiable: False\n",
      "    eps: 1e-08\n",
      "    foreach: None\n",
      "    fused: None\n",
      "    lr: 0.0005\n",
      "    maximize: False\n",
      "    weight_decay: 0\n",
      ")\n",
      "Epoch [1/100], Training Loss: 20.0532\n",
      "Epoch [11/100], Training Loss: 7.9022\n",
      "Epoch [21/100], Training Loss: 6.5510\n",
      "Epoch [31/100], Training Loss: 5.5808\n",
      "Epoch [41/100], Training Loss: 5.2206\n",
      "Epoch [51/100], Training Loss: 4.8767\n",
      "Epoch [61/100], Training Loss: 4.5136\n",
      "Epoch [71/100], Training Loss: 4.1382\n",
      "Epoch [81/100], Training Loss: 3.9886\n",
      "Epoch [91/100], Training Loss: 3.7592\n",
      "\n",
      "Test Losses by Attribute:\n",
      "electrical_resistivity: 10.8898\n",
      "thermal_conductivity: 0.9830\n",
      "seebeck_coefficient: 1.8121\n",
      "power_factor: 5.5554\n",
      "zt: 4.3130\n",
      "hall_coefficient: 11.6798\n",
      "Adam (\n",
      "Parameter Group 0\n",
      "    amsgrad: False\n",
      "    betas: (0.9, 0.999)\n",
      "    capturable: False\n",
      "    differentiable: False\n",
      "    eps: 1e-08\n",
      "    foreach: None\n",
      "    fused: None\n",
      "    lr: 0.0005\n",
      "    maximize: False\n",
      "    weight_decay: 0\n",
      ")\n",
      "Epoch [1/100], Training Loss: 18.1952\n",
      "Epoch [11/100], Training Loss: 7.8775\n",
      "Epoch [21/100], Training Loss: 6.7920\n",
      "Epoch [31/100], Training Loss: 5.7816\n",
      "Epoch [41/100], Training Loss: 5.1527\n",
      "Epoch [51/100], Training Loss: 4.7689\n",
      "Epoch [61/100], Training Loss: 4.2863\n",
      "Epoch [71/100], Training Loss: 4.1006\n",
      "Epoch [81/100], Training Loss: 3.8182\n",
      "Epoch [91/100], Training Loss: 3.6983\n",
      "\n",
      "Test Losses by Attribute:\n",
      "electrical_resistivity: 10.5958\n",
      "thermal_conductivity: 0.7244\n",
      "seebeck_coefficient: 1.2113\n",
      "power_factor: 3.0882\n",
      "zt: 2.8655\n",
      "hall_coefficient: 4.9264\n",
      "Adam (\n",
      "Parameter Group 0\n",
      "    amsgrad: False\n",
      "    betas: (0.9, 0.999)\n",
      "    capturable: False\n",
      "    differentiable: False\n",
      "    eps: 1e-08\n",
      "    foreach: None\n",
      "    fused: None\n",
      "    lr: 0.0005\n",
      "    maximize: False\n",
      "    weight_decay: 0\n",
      ")\n",
      "Epoch [1/100], Training Loss: 21.0692\n",
      "Epoch [11/100], Training Loss: 7.8178\n",
      "Epoch [21/100], Training Loss: 6.5160\n",
      "Epoch [31/100], Training Loss: 5.6317\n",
      "Epoch [41/100], Training Loss: 5.2388\n",
      "Epoch [51/100], Training Loss: 4.7557\n",
      "Epoch [61/100], Training Loss: 4.4289\n",
      "Epoch [71/100], Training Loss: 4.1810\n",
      "Epoch [81/100], Training Loss: 4.0341\n",
      "Epoch [91/100], Training Loss: 3.5119\n",
      "\n",
      "Test Losses by Attribute:\n",
      "electrical_resistivity: 10.4372\n",
      "thermal_conductivity: 1.0827\n",
      "seebeck_coefficient: 1.7397\n",
      "power_factor: 3.4124\n",
      "zt: 3.8792\n",
      "hall_coefficient: 36.3510\n",
      "Adam (\n",
      "Parameter Group 0\n",
      "    amsgrad: False\n",
      "    betas: (0.9, 0.999)\n",
      "    capturable: False\n",
      "    differentiable: False\n",
      "    eps: 1e-08\n",
      "    foreach: None\n",
      "    fused: None\n",
      "    lr: 0.0005\n",
      "    maximize: False\n",
      "    weight_decay: 0\n",
      ")\n",
      "Epoch [1/100], Training Loss: 17.7492\n",
      "Epoch [11/100], Training Loss: 7.6972\n",
      "Epoch [21/100], Training Loss: 6.3759\n",
      "Epoch [31/100], Training Loss: 5.5108\n",
      "Epoch [41/100], Training Loss: 4.9197\n",
      "Epoch [51/100], Training Loss: 4.5615\n",
      "Epoch [61/100], Training Loss: 4.3346\n",
      "Epoch [71/100], Training Loss: 4.0714\n",
      "Epoch [81/100], Training Loss: 3.7693\n",
      "Epoch [91/100], Training Loss: 3.7373\n",
      "\n",
      "Test Losses by Attribute:\n",
      "electrical_resistivity: 9.4990\n",
      "thermal_conductivity: 0.8968\n",
      "seebeck_coefficient: 1.4220\n",
      "power_factor: 5.4179\n",
      "zt: 3.6436\n",
      "hall_coefficient: 7.0753\n",
      "Adam (\n",
      "Parameter Group 0\n",
      "    amsgrad: False\n",
      "    betas: (0.9, 0.999)\n",
      "    capturable: False\n",
      "    differentiable: False\n",
      "    eps: 1e-08\n",
      "    foreach: None\n",
      "    fused: None\n",
      "    lr: 0.0005\n",
      "    maximize: False\n",
      "    weight_decay: 0\n",
      ")\n",
      "Epoch [1/100], Training Loss: 18.9598\n",
      "Epoch [11/100], Training Loss: 7.9180\n",
      "Epoch [21/100], Training Loss: 6.7103\n",
      "Epoch [31/100], Training Loss: 5.6045\n",
      "Epoch [41/100], Training Loss: 5.0390\n",
      "Epoch [51/100], Training Loss: 4.3981\n",
      "Epoch [61/100], Training Loss: 4.1796\n",
      "Epoch [71/100], Training Loss: 3.8645\n",
      "Epoch [81/100], Training Loss: 3.6495\n",
      "Epoch [91/100], Training Loss: 3.5345\n",
      "\n",
      "Test Losses by Attribute:\n",
      "electrical_resistivity: 13.5188\n",
      "thermal_conductivity: 1.0445\n",
      "seebeck_coefficient: 1.6892\n",
      "power_factor: 3.8660\n",
      "zt: 4.5381\n",
      "hall_coefficient: 6.1108\n"
     ]
    }
   ],
   "source": [
    "if __name__ == '__main__':\n",
    "    # Example usage\n",
    "    \n",
    "    # Check for CUDA availability\n",
    "    device = 'cuda' if torch.cuda.is_available() else 'cpu'\n",
    "    print(f\"Using device: {device}\")\n",
    "    \n",
    "    # Run tests\n",
    "    scaling_results = test_all_properties(used_props, used_props, device=device)"
   ]
  },
  {
   "cell_type": "code",
   "execution_count": null,
   "id": "73f9bbb1-f54e-4fdb-852b-416c05077846",
   "metadata": {},
   "outputs": [],
   "source": [
    "import joblib\n",
    "\n",
    "with open('scaling_results.pkl.z', 'wb') as fo:  \n",
    "   joblib.dump(scaling_results, fo)"
   ]
  },
  {
   "cell_type": "code",
   "execution_count": null,
   "id": "5a61b2c6-6801-4042-ba73-eb9979d2d683",
   "metadata": {},
   "outputs": [],
   "source": []
  }
 ],
 "metadata": {
  "kernelspec": {
   "display_name": "Python 3 (ipykernel)",
   "language": "python",
   "name": "python3"
  },
  "language_info": {
   "codemirror_mode": {
    "name": "ipython",
    "version": 3
   },
   "file_extension": ".py",
   "mimetype": "text/x-python",
   "name": "python",
   "nbconvert_exporter": "python",
   "pygments_lexer": "ipython3",
   "version": "3.11.6"
  }
 },
 "nbformat": 4,
 "nbformat_minor": 5
}
