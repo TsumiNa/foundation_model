{
    "cells": [
        {
            "cell_type": "code",
            "execution_count": 1,
            "id": "3fc5ada6",
            "metadata": {},
            "outputs": [
                {
                    "name": "stderr",
                    "output_type": "stream",
                    "text": [
                        ".venv/lib/python3.12/site-packages/sklearn/base.py:442: InconsistentVersionWarning: Trying to unpickle estimator StandardScaler from version 1.7.0 when using version 1.7.1. This might lead to breaking code or invalid results. Use at your own risk. For more info please refer to:\n",
                        "https://scikit-learn.org/stable/model_persistence.html#security-maintainability-limitations\n",
                        "  warnings.warn(\n",
                        ".venv/lib/python3.12/site-packages/sklearn/base.py:442: InconsistentVersionWarning: Trying to unpickle estimator PowerTransformer from version 1.7.0 when using version 1.7.1. This might lead to breaking code or invalid results. Use at your own risk. For more info please refer to:\n",
                        "https://scikit-learn.org/stable/model_persistence.html#security-maintainability-limitations\n",
                        "  warnings.warn(\n",
                        ".venv/lib/python3.12/site-packages/sklearn/base.py:442: InconsistentVersionWarning: Trying to unpickle estimator Pipeline from version 1.7.0 when using version 1.7.1. This might lead to breaking code or invalid results. Use at your own risk. For more info please refer to:\n",
                        "https://scikit-learn.org/stable/model_persistence.html#security-maintainability-limitations\n",
                        "  warnings.warn(\n",
                        ".venv/lib/python3.12/site-packages/sklearn/base.py:442: InconsistentVersionWarning: Trying to unpickle estimator LabelEncoder from version 1.7.0 when using version 1.7.1. This might lead to breaking code or invalid results. Use at your own risk. For more info please refer to:\n",
                        "https://scikit-learn.org/stable/model_persistence.html#security-maintainability-limitations\n",
                        "  warnings.warn(\n"
                    ]
                }
            ],
            "source": [
                "import joblib\n",
                "import numpy as np\n",
                "import pandas as pd\n",
                "\n",
                "preprocessing_object = joblib.load(\"data/preprocessing_objects_20250615.pkl.z\")\n",
                "# print(preprocessing_object)\n",
                "\n",
                "all_data = (\n",
                "    pd.read_parquet(\"data/qc_ac_te_mp_dos_reformat_20250615.pd.parquet\").drop(\n",
                "        index=preprocessing_object[\"dropped_idx\"]\n",
                "    )\n",
                "    # .reset_index(drop=True)\n",
                ")\n",
                "all_data.head(3)\n",
                "\n",
                "test_data = (\n",
                "    all_data[all_data[\"split\"] == \"test\"]\n",
                "    #  .reset_index(drop=True)\n",
                ")\n",
                "test_data.head(3)\n",
                "\n",
                "\n",
                "desc_trans = pd.read_parquet(\"data/qc_ac_te_mp_dos_composition_desc_trans_20250615.pd.parquet\")\n"
            ]
        },
        {
            "cell_type": "code",
            "execution_count": 2,
            "id": "2394a2e2",
            "metadata": {},
            "outputs": [
                {
                    "data": {
                        "text/plain": [
                            "Index(['formula', 'Material type', 'Space group', 'composition', 'elements',\n",
                            "       'Band gap', 'Density', 'Efermi', 'Final energy per atom',\n",
                            "       'Formation energy per atom', 'Total magnetization', 'Volume',\n",
                            "       'Dielectric total', 'Dielectric ionic', 'Dielectric electronic',\n",
                            "       'Electrical resistivity', 'Electrical resistivity (T/K)',\n",
                            "       'Power factor', 'Power factor (T/K)', 'Seebeck coefficient',\n",
                            "       'Seebeck coefficient (T/K)', 'Thermal conductivity',\n",
                            "       'Thermal conductivity (T/K)', 'ZT', 'ZT (T/K)',\n",
                            "       'Magnetic susceptibility', 'Magnetic susceptibility (T/K)',\n",
                            "       'Material type (label)', 'Space group (label)', 'Band gap (normalized)',\n",
                            "       'Density (normalized)', 'Efermi (normalized)',\n",
                            "       'Final energy per atom (normalized)',\n",
                            "       'Formation energy per atom (normalized)',\n",
                            "       'Total magnetization (normalized)', 'Volume (normalized)',\n",
                            "       'Dielectric total (normalized)', 'Dielectric ionic (normalized)',\n",
                            "       'Dielectric electronic (normalized)',\n",
                            "       'Electrical resistivity (normalized)', 'Power factor (normalized)',\n",
                            "       'Seebeck coefficient (normalized)', 'Thermal conductivity (normalized)',\n",
                            "       'ZT (normalized)', 'Magnetic susceptibility (normalized)', 'DOS energy',\n",
                            "       'DOS density', 'DOS density (normalized)', 'split'],\n",
                            "      dtype='object')"
                        ]
                    },
                    "execution_count": 2,
                    "metadata": {},
                    "output_type": "execute_result"
                }
            ],
            "source": [
                "test_data.columns"
            ]
        },
        {
            "cell_type": "code",
            "execution_count": 3,
            "id": "36da6ee5",
            "metadata": {},
            "outputs": [],
            "source": [
                "def swap_train_val_split(split, swap_ratio=0.1, random_seed=None, train_ratio: float = 1.0):\n",
                "    split = split.copy()\n",
                "    train_idx = split[split == \"train\"].index\n",
                "    val_idx = split[split == \"val\"].index\n",
                "\n",
                "    # 先交换\n",
                "    n_swap = int(min(len(train_idx), len(val_idx)) * swap_ratio)\n",
                "    if n_swap > 0:\n",
                "        rng = np.random.default_rng(random_seed)\n",
                "        swap_train = rng.choice(train_idx, n_swap, replace=False)\n",
                "        swap_val = rng.choice(val_idx, n_swap, replace=False)\n",
                "        split.loc[swap_train] = \"val\"\n",
                "        split.loc[swap_val] = \"train\"\n",
                "\n",
                "    # 再采样train\n",
                "    train_idx = split[split == \"train\"].index\n",
                "    if train_ratio < 1.0:\n",
                "        rng = np.random.default_rng(random_seed)\n",
                "        n_train = round(len(train_idx) * train_ratio)\n",
                "        sampled_train_idx = rng.choice(train_idx, n_train, replace=False)\n",
                "        # 其余train直接丢弃\n",
                "        drop_idx = train_idx.difference(sampled_train_idx)\n",
                "        split.loc[drop_idx] = np.nan\n",
                "\n",
                "    return split.dropna()\n"
            ]
        },
        {
            "cell_type": "raw",
            "id": "131dad25",
            "metadata": {
                "vscode": {
                    "languageId": "raw"
                }
            },
            "source": [
                "# 测试 swap_train_val_split\n",
                "split = all_data[\"split\"].copy()\n",
                "print(\"原始分布：\")\n",
                "print(split.value_counts())\n",
                "\n",
                "swapped_split = swap_train_val_split(split, swap_ratio=0.2, random_seed=42, train_ratio=0.5)\n",
                "print(\"\\n交换并采样后的分布：\")\n",
                "print(swapped_split.value_counts())"
            ]
        },
        {
            "cell_type": "code",
            "execution_count": 4,
            "id": "3fcf4a32",
            "metadata": {},
            "outputs": [],
            "source": [
                "props = [\n",
                "    \"Band gap\",  # 0\n",
                "    \"Density\",  # 1\n",
                "    \"Efermi\",  # 2\n",
                "    \"Final energy per atom\",  # 3\n",
                "    \"Formation energy per atom\",  # 4\n",
                "    \"Total magnetization\",  # 5\n",
                "    \"Volume\",  # 6\n",
                "    \"Dielectric total\",  # 7\n",
                "    \"Dielectric ionic\",  # 8\n",
                "    \"Dielectric electronic\",  # 9\n",
                "]\n"
            ]
        },
        {
            "cell_type": "code",
            "execution_count": 5,
            "id": "75047c6e",
            "metadata": {},
            "outputs": [
                {
                    "name": "stdout",
                    "output_type": "stream",
                    "text": [
                        "training for property: Band gap\n",
                        "training for property: Density\n",
                        "training for property: Efermi\n"
                    ]
                },
                {
                    "name": "stderr",
                    "output_type": "stream",
                    "text": [
                        "/tmp/ipykernel_2256072/3982966700.py:65: RuntimeWarning: More than 20 figures have been opened. Figures created through the pyplot interface (`matplotlib.pyplot.figure`) are retained until explicitly closed and may consume too much memory. (To control this warning, see the rcParam `figure.max_open_warning`). Consider using `matplotlib.pyplot.close()`.\n",
                        "  fig, ax = plt.subplots(figsize=(5, 5), dpi=150)\n"
                    ]
                },
                {
                    "name": "stdout",
                    "output_type": "stream",
                    "text": [
                        "training for property: Final energy per atom\n",
                        "training for property: Formation energy per atom\n",
                        "training for property: Total magnetization\n",
                        "training for property: Volume\n",
                        "training for property: Dielectric total\n",
                        "training for property: Dielectric ionic\n",
                        "training for property: Dielectric electronic\n"
                    ]
                },
                {
                    "data": {
                        "text/plain": [
                            "<Figure size 750x750 with 0 Axes>"
                        ]
                    },
                    "metadata": {},
                    "output_type": "display_data"
                },
                {
                    "data": {
                        "text/plain": [
                            "<Figure size 750x750 with 0 Axes>"
                        ]
                    },
                    "metadata": {},
                    "output_type": "display_data"
                },
                {
                    "data": {
                        "text/plain": [
                            "<Figure size 750x750 with 0 Axes>"
                        ]
                    },
                    "metadata": {},
                    "output_type": "display_data"
                },
                {
                    "data": {
                        "text/plain": [
                            "<Figure size 750x750 with 0 Axes>"
                        ]
                    },
                    "metadata": {},
                    "output_type": "display_data"
                },
                {
                    "data": {
                        "text/plain": [
                            "<Figure size 750x750 with 0 Axes>"
                        ]
                    },
                    "metadata": {},
                    "output_type": "display_data"
                },
                {
                    "data": {
                        "text/plain": [
                            "<Figure size 750x750 with 0 Axes>"
                        ]
                    },
                    "metadata": {},
                    "output_type": "display_data"
                },
                {
                    "data": {
                        "text/plain": [
                            "<Figure size 750x750 with 0 Axes>"
                        ]
                    },
                    "metadata": {},
                    "output_type": "display_data"
                },
                {
                    "data": {
                        "text/plain": [
                            "<Figure size 750x750 with 0 Axes>"
                        ]
                    },
                    "metadata": {},
                    "output_type": "display_data"
                },
                {
                    "data": {
                        "text/plain": [
                            "<Figure size 750x750 with 0 Axes>"
                        ]
                    },
                    "metadata": {},
                    "output_type": "display_data"
                },
                {
                    "data": {
                        "text/plain": [
                            "<Figure size 750x750 with 0 Axes>"
                        ]
                    },
                    "metadata": {},
                    "output_type": "display_data"
                },
                {
                    "data": {
                        "text/plain": [
                            "<Figure size 750x750 with 0 Axes>"
                        ]
                    },
                    "metadata": {},
                    "output_type": "display_data"
                },
                {
                    "data": {
                        "text/plain": [
                            "<Figure size 750x750 with 0 Axes>"
                        ]
                    },
                    "metadata": {},
                    "output_type": "display_data"
                },
                {
                    "data": {
                        "text/plain": [
                            "<Figure size 750x750 with 0 Axes>"
                        ]
                    },
                    "metadata": {},
                    "output_type": "display_data"
                },
                {
                    "data": {
                        "text/plain": [
                            "<Figure size 750x750 with 0 Axes>"
                        ]
                    },
                    "metadata": {},
                    "output_type": "display_data"
                },
                {
                    "data": {
                        "text/plain": [
                            "<Figure size 750x750 with 0 Axes>"
                        ]
                    },
                    "metadata": {},
                    "output_type": "display_data"
                },
                {
                    "data": {
                        "text/plain": [
                            "<Figure size 750x750 with 0 Axes>"
                        ]
                    },
                    "metadata": {},
                    "output_type": "display_data"
                },
                {
                    "data": {
                        "text/plain": [
                            "<Figure size 750x750 with 0 Axes>"
                        ]
                    },
                    "metadata": {},
                    "output_type": "display_data"
                },
                {
                    "data": {
                        "text/plain": [
                            "<Figure size 750x750 with 0 Axes>"
                        ]
                    },
                    "metadata": {},
                    "output_type": "display_data"
                },
                {
                    "data": {
                        "text/plain": [
                            "<Figure size 750x750 with 0 Axes>"
                        ]
                    },
                    "metadata": {},
                    "output_type": "display_data"
                },
                {
                    "data": {
                        "text/plain": [
                            "<Figure size 750x750 with 0 Axes>"
                        ]
                    },
                    "metadata": {},
                    "output_type": "display_data"
                },
                {
                    "data": {
                        "text/plain": [
                            "<Figure size 750x750 with 0 Axes>"
                        ]
                    },
                    "metadata": {},
                    "output_type": "display_data"
                },
                {
                    "data": {
                        "text/plain": [
                            "<Figure size 750x750 with 0 Axes>"
                        ]
                    },
                    "metadata": {},
                    "output_type": "display_data"
                },
                {
                    "data": {
                        "text/plain": [
                            "<Figure size 750x750 with 0 Axes>"
                        ]
                    },
                    "metadata": {},
                    "output_type": "display_data"
                },
                {
                    "data": {
                        "text/plain": [
                            "<Figure size 750x750 with 0 Axes>"
                        ]
                    },
                    "metadata": {},
                    "output_type": "display_data"
                },
                {
                    "data": {
                        "text/plain": [
                            "<Figure size 750x750 with 0 Axes>"
                        ]
                    },
                    "metadata": {},
                    "output_type": "display_data"
                },
                {
                    "data": {
                        "text/plain": [
                            "<Figure size 750x750 with 0 Axes>"
                        ]
                    },
                    "metadata": {},
                    "output_type": "display_data"
                },
                {
                    "data": {
                        "text/plain": [
                            "<Figure size 750x750 with 0 Axes>"
                        ]
                    },
                    "metadata": {},
                    "output_type": "display_data"
                },
                {
                    "data": {
                        "text/plain": [
                            "<Figure size 750x750 with 0 Axes>"
                        ]
                    },
                    "metadata": {},
                    "output_type": "display_data"
                },
                {
                    "data": {
                        "text/plain": [
                            "<Figure size 750x750 with 0 Axes>"
                        ]
                    },
                    "metadata": {},
                    "output_type": "display_data"
                },
                {
                    "data": {
                        "text/plain": [
                            "<Figure size 750x750 with 0 Axes>"
                        ]
                    },
                    "metadata": {},
                    "output_type": "display_data"
                },
                {
                    "data": {
                        "text/plain": [
                            "<Figure size 750x750 with 0 Axes>"
                        ]
                    },
                    "metadata": {},
                    "output_type": "display_data"
                },
                {
                    "data": {
                        "text/plain": [
                            "<Figure size 750x750 with 0 Axes>"
                        ]
                    },
                    "metadata": {},
                    "output_type": "display_data"
                },
                {
                    "data": {
                        "text/plain": [
                            "<Figure size 750x750 with 0 Axes>"
                        ]
                    },
                    "metadata": {},
                    "output_type": "display_data"
                },
                {
                    "data": {
                        "text/plain": [
                            "<Figure size 750x750 with 0 Axes>"
                        ]
                    },
                    "metadata": {},
                    "output_type": "display_data"
                },
                {
                    "data": {
                        "text/plain": [
                            "<Figure size 750x750 with 0 Axes>"
                        ]
                    },
                    "metadata": {},
                    "output_type": "display_data"
                },
                {
                    "data": {
                        "text/plain": [
                            "<Figure size 750x750 with 0 Axes>"
                        ]
                    },
                    "metadata": {},
                    "output_type": "display_data"
                },
                {
                    "data": {
                        "text/plain": [
                            "<Figure size 750x750 with 0 Axes>"
                        ]
                    },
                    "metadata": {},
                    "output_type": "display_data"
                },
                {
                    "data": {
                        "text/plain": [
                            "<Figure size 750x750 with 0 Axes>"
                        ]
                    },
                    "metadata": {},
                    "output_type": "display_data"
                },
                {
                    "data": {
                        "text/plain": [
                            "<Figure size 750x750 with 0 Axes>"
                        ]
                    },
                    "metadata": {},
                    "output_type": "display_data"
                },
                {
                    "data": {
                        "text/plain": [
                            "<Figure size 750x750 with 0 Axes>"
                        ]
                    },
                    "metadata": {},
                    "output_type": "display_data"
                },
                {
                    "data": {
                        "text/plain": [
                            "<Figure size 750x750 with 0 Axes>"
                        ]
                    },
                    "metadata": {},
                    "output_type": "display_data"
                },
                {
                    "data": {
                        "text/plain": [
                            "<Figure size 750x750 with 0 Axes>"
                        ]
                    },
                    "metadata": {},
                    "output_type": "display_data"
                },
                {
                    "data": {
                        "text/plain": [
                            "<Figure size 750x750 with 0 Axes>"
                        ]
                    },
                    "metadata": {},
                    "output_type": "display_data"
                },
                {
                    "data": {
                        "text/plain": [
                            "<Figure size 750x750 with 0 Axes>"
                        ]
                    },
                    "metadata": {},
                    "output_type": "display_data"
                },
                {
                    "data": {
                        "text/plain": [
                            "<Figure size 750x750 with 0 Axes>"
                        ]
                    },
                    "metadata": {},
                    "output_type": "display_data"
                },
                {
                    "data": {
                        "text/plain": [
                            "<Figure size 750x750 with 0 Axes>"
                        ]
                    },
                    "metadata": {},
                    "output_type": "display_data"
                },
                {
                    "data": {
                        "text/plain": [
                            "<Figure size 750x750 with 0 Axes>"
                        ]
                    },
                    "metadata": {},
                    "output_type": "display_data"
                },
                {
                    "data": {
                        "text/plain": [
                            "<Figure size 750x750 with 0 Axes>"
                        ]
                    },
                    "metadata": {},
                    "output_type": "display_data"
                },
                {
                    "data": {
                        "text/plain": [
                            "<Figure size 750x750 with 0 Axes>"
                        ]
                    },
                    "metadata": {},
                    "output_type": "display_data"
                },
                {
                    "data": {
                        "text/plain": [
                            "<Figure size 750x750 with 0 Axes>"
                        ]
                    },
                    "metadata": {},
                    "output_type": "display_data"
                },
                {
                    "data": {
                        "text/plain": [
                            "<Figure size 750x750 with 0 Axes>"
                        ]
                    },
                    "metadata": {},
                    "output_type": "display_data"
                },
                {
                    "data": {
                        "text/plain": [
                            "<Figure size 750x750 with 0 Axes>"
                        ]
                    },
                    "metadata": {},
                    "output_type": "display_data"
                },
                {
                    "data": {
                        "text/plain": [
                            "<Figure size 750x750 with 0 Axes>"
                        ]
                    },
                    "metadata": {},
                    "output_type": "display_data"
                },
                {
                    "data": {
                        "text/plain": [
                            "<Figure size 750x750 with 0 Axes>"
                        ]
                    },
                    "metadata": {},
                    "output_type": "display_data"
                },
                {
                    "data": {
                        "text/plain": [
                            "<Figure size 750x750 with 0 Axes>"
                        ]
                    },
                    "metadata": {},
                    "output_type": "display_data"
                },
                {
                    "data": {
                        "text/plain": [
                            "<Figure size 750x750 with 0 Axes>"
                        ]
                    },
                    "metadata": {},
                    "output_type": "display_data"
                },
                {
                    "data": {
                        "text/plain": [
                            "<Figure size 750x750 with 0 Axes>"
                        ]
                    },
                    "metadata": {},
                    "output_type": "display_data"
                },
                {
                    "data": {
                        "text/plain": [
                            "<Figure size 750x750 with 0 Axes>"
                        ]
                    },
                    "metadata": {},
                    "output_type": "display_data"
                },
                {
                    "data": {
                        "text/plain": [
                            "<Figure size 750x750 with 0 Axes>"
                        ]
                    },
                    "metadata": {},
                    "output_type": "display_data"
                },
                {
                    "data": {
                        "text/plain": [
                            "<Figure size 750x750 with 0 Axes>"
                        ]
                    },
                    "metadata": {},
                    "output_type": "display_data"
                },
                {
                    "data": {
                        "text/plain": [
                            "<Figure size 750x750 with 0 Axes>"
                        ]
                    },
                    "metadata": {},
                    "output_type": "display_data"
                },
                {
                    "data": {
                        "text/plain": [
                            "<Figure size 750x750 with 0 Axes>"
                        ]
                    },
                    "metadata": {},
                    "output_type": "display_data"
                },
                {
                    "data": {
                        "text/plain": [
                            "<Figure size 750x750 with 0 Axes>"
                        ]
                    },
                    "metadata": {},
                    "output_type": "display_data"
                },
                {
                    "data": {
                        "text/plain": [
                            "<Figure size 750x750 with 0 Axes>"
                        ]
                    },
                    "metadata": {},
                    "output_type": "display_data"
                },
                {
                    "data": {
                        "text/plain": [
                            "<Figure size 750x750 with 0 Axes>"
                        ]
                    },
                    "metadata": {},
                    "output_type": "display_data"
                },
                {
                    "data": {
                        "text/plain": [
                            "<Figure size 750x750 with 0 Axes>"
                        ]
                    },
                    "metadata": {},
                    "output_type": "display_data"
                },
                {
                    "data": {
                        "text/plain": [
                            "<Figure size 750x750 with 0 Axes>"
                        ]
                    },
                    "metadata": {},
                    "output_type": "display_data"
                },
                {
                    "data": {
                        "text/plain": [
                            "<Figure size 750x750 with 0 Axes>"
                        ]
                    },
                    "metadata": {},
                    "output_type": "display_data"
                },
                {
                    "data": {
                        "text/plain": [
                            "<Figure size 750x750 with 0 Axes>"
                        ]
                    },
                    "metadata": {},
                    "output_type": "display_data"
                },
                {
                    "data": {
                        "text/plain": [
                            "<Figure size 750x750 with 0 Axes>"
                        ]
                    },
                    "metadata": {},
                    "output_type": "display_data"
                },
                {
                    "data": {
                        "text/plain": [
                            "<Figure size 750x750 with 0 Axes>"
                        ]
                    },
                    "metadata": {},
                    "output_type": "display_data"
                },
                {
                    "data": {
                        "text/plain": [
                            "<Figure size 750x750 with 0 Axes>"
                        ]
                    },
                    "metadata": {},
                    "output_type": "display_data"
                },
                {
                    "data": {
                        "text/plain": [
                            "<Figure size 750x750 with 0 Axes>"
                        ]
                    },
                    "metadata": {},
                    "output_type": "display_data"
                },
                {
                    "data": {
                        "text/plain": [
                            "<Figure size 750x750 with 0 Axes>"
                        ]
                    },
                    "metadata": {},
                    "output_type": "display_data"
                },
                {
                    "data": {
                        "text/plain": [
                            "<Figure size 750x750 with 0 Axes>"
                        ]
                    },
                    "metadata": {},
                    "output_type": "display_data"
                },
                {
                    "data": {
                        "text/plain": [
                            "<Figure size 750x750 with 0 Axes>"
                        ]
                    },
                    "metadata": {},
                    "output_type": "display_data"
                },
                {
                    "data": {
                        "text/plain": [
                            "<Figure size 750x750 with 0 Axes>"
                        ]
                    },
                    "metadata": {},
                    "output_type": "display_data"
                },
                {
                    "data": {
                        "text/plain": [
                            "<Figure size 750x750 with 0 Axes>"
                        ]
                    },
                    "metadata": {},
                    "output_type": "display_data"
                },
                {
                    "data": {
                        "text/plain": [
                            "<Figure size 750x750 with 0 Axes>"
                        ]
                    },
                    "metadata": {},
                    "output_type": "display_data"
                },
                {
                    "data": {
                        "text/plain": [
                            "<Figure size 750x750 with 0 Axes>"
                        ]
                    },
                    "metadata": {},
                    "output_type": "display_data"
                },
                {
                    "data": {
                        "text/plain": [
                            "<Figure size 750x750 with 0 Axes>"
                        ]
                    },
                    "metadata": {},
                    "output_type": "display_data"
                },
                {
                    "data": {
                        "text/plain": [
                            "<Figure size 750x750 with 0 Axes>"
                        ]
                    },
                    "metadata": {},
                    "output_type": "display_data"
                },
                {
                    "data": {
                        "text/plain": [
                            "<Figure size 750x750 with 0 Axes>"
                        ]
                    },
                    "metadata": {},
                    "output_type": "display_data"
                },
                {
                    "data": {
                        "text/plain": [
                            "<Figure size 750x750 with 0 Axes>"
                        ]
                    },
                    "metadata": {},
                    "output_type": "display_data"
                },
                {
                    "data": {
                        "text/plain": [
                            "<Figure size 750x750 with 0 Axes>"
                        ]
                    },
                    "metadata": {},
                    "output_type": "display_data"
                },
                {
                    "data": {
                        "text/plain": [
                            "<Figure size 750x750 with 0 Axes>"
                        ]
                    },
                    "metadata": {},
                    "output_type": "display_data"
                },
                {
                    "data": {
                        "text/plain": [
                            "<Figure size 750x750 with 0 Axes>"
                        ]
                    },
                    "metadata": {},
                    "output_type": "display_data"
                },
                {
                    "data": {
                        "text/plain": [
                            "<Figure size 750x750 with 0 Axes>"
                        ]
                    },
                    "metadata": {},
                    "output_type": "display_data"
                },
                {
                    "data": {
                        "text/plain": [
                            "<Figure size 750x750 with 0 Axes>"
                        ]
                    },
                    "metadata": {},
                    "output_type": "display_data"
                },
                {
                    "data": {
                        "text/plain": [
                            "<Figure size 750x750 with 0 Axes>"
                        ]
                    },
                    "metadata": {},
                    "output_type": "display_data"
                },
                {
                    "data": {
                        "text/plain": [
                            "<Figure size 750x750 with 0 Axes>"
                        ]
                    },
                    "metadata": {},
                    "output_type": "display_data"
                },
                {
                    "data": {
                        "text/plain": [
                            "<Figure size 750x750 with 0 Axes>"
                        ]
                    },
                    "metadata": {},
                    "output_type": "display_data"
                },
                {
                    "data": {
                        "text/plain": [
                            "<Figure size 750x750 with 0 Axes>"
                        ]
                    },
                    "metadata": {},
                    "output_type": "display_data"
                },
                {
                    "data": {
                        "text/plain": [
                            "<Figure size 750x750 with 0 Axes>"
                        ]
                    },
                    "metadata": {},
                    "output_type": "display_data"
                },
                {
                    "data": {
                        "text/plain": [
                            "<Figure size 750x750 with 0 Axes>"
                        ]
                    },
                    "metadata": {},
                    "output_type": "display_data"
                },
                {
                    "data": {
                        "text/plain": [
                            "<Figure size 750x750 with 0 Axes>"
                        ]
                    },
                    "metadata": {},
                    "output_type": "display_data"
                },
                {
                    "data": {
                        "text/plain": [
                            "<Figure size 750x750 with 0 Axes>"
                        ]
                    },
                    "metadata": {},
                    "output_type": "display_data"
                },
                {
                    "data": {
                        "text/plain": [
                            "<Figure size 750x750 with 0 Axes>"
                        ]
                    },
                    "metadata": {},
                    "output_type": "display_data"
                },
                {
                    "data": {
                        "text/plain": [
                            "<Figure size 750x750 with 0 Axes>"
                        ]
                    },
                    "metadata": {},
                    "output_type": "display_data"
                },
                {
                    "data": {
                        "text/plain": [
                            "<Figure size 750x750 with 0 Axes>"
                        ]
                    },
                    "metadata": {},
                    "output_type": "display_data"
                }
            ],
            "source": [
                "import json\n",
                "from datetime import datetime\n",
                "from pathlib import Path\n",
                "\n",
                "from matplotlib import pyplot as plt\n",
                "from sklearn.ensemble import RandomForestRegressor\n",
                "from sklearn.metrics import mean_absolute_error, r2_score\n",
                "\n",
                "N_TRY = 10\n",
                "\n",
                "for prop_name in props:  # 0~9\n",
                "    # Experiment 1: Use Fourier features\n",
                "    print(\"training for property:\", prop_name)\n",
                "\n",
                "    # for ratio in [1.0, 0.9, 0.8, 0.7, 0.6, 0.5, 0.4, 0.3]:\n",
                "    for ratio in [0.2]:\n",
                "        base_dir = Path(f\"logs/regression/{prop_name}/{datetime.now().strftime('%m%d_%H%M')}_r{ratio}\")\n",
                "\n",
                "        scaler = preprocessing_object[f\"{prop_name.lower().replace(' ', '_')}_scaler\"]\n",
                "\n",
                "        # mask = all_data[f\"{prop_name} (normalized)\"].notnull()\n",
                "        mask = all_data[f\"{prop_name}\"].notnull()\n",
                "        org_splits = all_data.loc[mask, \"split\"]\n",
                "        # y_true = all_data.loc[mask, f\"{prop_name} (normalized)\"]\n",
                "        prop = all_data.loc[mask, f\"{prop_name}\"]\n",
                "\n",
                "        if prop_name in [\"Dielectric total\", \"Dielectric ionic\", \"Dielectric electronic\"]:\n",
                "            prop = np.log(prop + 1e-8)  # log transform\n",
                "\n",
                "        for n_try in range(N_TRY):\n",
                "            # 1. Setup logging directory\n",
                "            version = f\"trial_{n_try + 1}\"\n",
                "            save_dir = base_dir / \"predictions\" / version\n",
                "            save_dir.mkdir(parents=True, exist_ok=True)\n",
                "\n",
                "            splits = swap_train_val_split(org_splits, swap_ratio=0.5, random_seed=None, train_ratio=ratio)\n",
                "            splits.to_csv(f\"{save_dir}/data_split.csv\")\n",
                "\n",
                "            X_train = desc_trans.loc[splits[splits == \"train\"].index]\n",
                "            y_train = prop.loc[splits[splits == \"train\"].index]\n",
                "            X_test = desc_trans.loc[splits[splits == \"test\"].index]\n",
                "            y_test = prop.loc[splits[splits == \"test\"].index]\n",
                "\n",
                "            rf = RandomForestRegressor(\n",
                "                n_estimators=300, random_state=n_try, bootstrap=True, max_features=\"sqrt\", n_jobs=60\n",
                "            )\n",
                "            rf = rf.fit(X_train, y_train)\n",
                "            y_pred, y_true = rf.predict(X_test), y_test.values\n",
                "            y_fit_pred, y_fit_true = rf.predict(X_train), y_train.values\n",
                "\n",
                "            # 保存预测结果\n",
                "            results = pd.concat(\n",
                "                [\n",
                "                    pd.DataFrame({\"y_true\": y_fit_true, \"y_pred\": y_fit_pred, \"label\": \"train\"}, index=X_train.index),\n",
                "                    pd.DataFrame({\"y_true\": y_true, \"y_pred\": y_pred, \"label\": \"test\"}, index=X_test.index),\n",
                "                ]\n",
                "            )\n",
                "            results.to_parquet(save_dir / \"rf_predictions.parquet\")\n",
                "            results.to_csv(save_dir / \"rf_predictions.csv\")\n",
                "\n",
                "            # 保存模型\n",
                "            joblib.dump(rf, save_dir / \"rf_model.pkl.z\")\n",
                "\n",
                "            # 评估\n",
                "            fig, ax = plt.subplots(figsize=(5, 5), dpi=150)\n",
                "\n",
                "            # inverse\n",
                "            # y_true = scaler.inverse_transform(y_true.reshape(-1, 1)).flatten()\n",
                "            # y_pred = scaler.inverse_transform(y_pred.reshape(-1, 1)).flatten()\n",
                "            # y_fit_true = scaler.inverse_transform(y_train.values.reshape(-1, 1)).flatten()\n",
                "            # y_fit_pred = scaler.inverse_transform(y_fit_pred.reshape(-1, 1)).flatten()\n",
                "\n",
                "            # inverse log\n",
                "            # if prop_name in [\"Dielectric total\", \"Dielectric ionic\", \"Dielectric electronic\"]:\n",
                "            #     y_true = np.exp(y_true) - 1e-8\n",
                "            #     y_pred = np.exp(y_pred) - 1e-8\n",
                "            #     y_fit_true = np.exp(y_fit_true) - 1e-8\n",
                "            #     y_fit_pred = np.exp(y_fit_pred) - 1e-8\n",
                "\n",
                "            # scatter plot\n",
                "            _ = ax.scatter(y_true, y_pred, alpha=0.1, label=\"Train\")\n",
                "            _ = ax.scatter(y_fit_true, y_fit_pred, alpha=0.5, label=\"Test\")\n",
                "            _ = ax.set_xlabel(\"Observation\")\n",
                "            _ = ax.set_ylabel(\"Prediction\")\n",
                "            _ = ax.set_title(\n",
                "                f\"{prop_name} {'(log) ' if prop_name in ['Dielectric total', 'Dielectric ionic', 'Dielectric electronic'] else ''}\"\n",
                "            )\n",
                "            _ = ax.plot(\n",
                "                [min(y_true.min(), y_fit_true.min()), max(y_true.max(), y_fit_true.max())],\n",
                "                [min(y_true.min(), y_fit_true.min()), max(y_true.max(), y_fit_true.max())],\n",
                "                \"r--\",\n",
                "            )\n",
                "            mae = mean_absolute_error(y_true, y_pred)\n",
                "            r2 = r2_score(y_true, y_pred)\n",
                "            _ = ax.legend()\n",
                "            _ = ax.text(\n",
                "                0.05,\n",
                "                0.95,\n",
                "                f\"MAE={mae:.3f}\\nR²={r2:.3f}\",\n",
                "                transform=ax.transAxes,\n",
                "                verticalalignment=\"top\",\n",
                "                bbox=dict(facecolor=\"white\", alpha=0.7, edgecolor=\"none\"),\n",
                "            )\n",
                "\n",
                "            metrics = {\"mae\": float(mae), \"r2\": float(r2)}\n",
                "            split_counts = splits.value_counts().to_dict()\n",
                "            metrics.update(split_counts)\n",
                "            with open(f\"{save_dir}/metrics.json\", \"w\") as f:\n",
                "                json.dump(metrics, f, indent=2)\n",
                "            fig.savefig(f\"{save_dir}/scatter.png\", bbox_inches=\"tight\")\n",
                "            plt.cla()\n",
                "            plt.clf()"
            ]
        },
        {
            "cell_type": "code",
            "execution_count": null,
            "id": "8d57a3d6",
            "metadata": {},
            "outputs": [],
            "source": []
        }
    ],
    "metadata": {
        "kernelspec": {
            "display_name": "foundation_model",
            "language": "python",
            "name": "python3"
        },
        "language_info": {
            "codemirror_mode": {
                "name": "ipython",
                "version": 3
            },
            "file_extension": ".py",
            "mimetype": "text/x-python",
            "name": "python",
            "nbconvert_exporter": "python",
            "pygments_lexer": "ipython3",
            "version": "3.12.3"
        }
    },
    "nbformat": 4,
    "nbformat_minor": 5
}