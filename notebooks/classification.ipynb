{
 "cells": [
  {
   "cell_type": "code",
   "execution_count": 1,
   "id": "3fc5ada6",
   "metadata": {},
   "outputs": [
    {
     "name": "stderr",
     "output_type": "stream",
     "text": [
      "/data/foundation_model/.venv/lib/python3.12/site-packages/sklearn/base.py:442: InconsistentVersionWarning: Trying to unpickle estimator StandardScaler from version 1.7.0 when using version 1.7.1. This might lead to breaking code or invalid results. Use at your own risk. For more info please refer to:\n",
      "https://scikit-learn.org/stable/model_persistence.html#security-maintainability-limitations\n",
      "  warnings.warn(\n",
      "/data/foundation_model/.venv/lib/python3.12/site-packages/sklearn/base.py:442: InconsistentVersionWarning: Trying to unpickle estimator PowerTransformer from version 1.7.0 when using version 1.7.1. This might lead to breaking code or invalid results. Use at your own risk. For more info please refer to:\n",
      "https://scikit-learn.org/stable/model_persistence.html#security-maintainability-limitations\n",
      "  warnings.warn(\n",
      "/data/foundation_model/.venv/lib/python3.12/site-packages/sklearn/base.py:442: InconsistentVersionWarning: Trying to unpickle estimator Pipeline from version 1.7.0 when using version 1.7.1. This might lead to breaking code or invalid results. Use at your own risk. For more info please refer to:\n",
      "https://scikit-learn.org/stable/model_persistence.html#security-maintainability-limitations\n",
      "  warnings.warn(\n",
      "/data/foundation_model/.venv/lib/python3.12/site-packages/sklearn/base.py:442: InconsistentVersionWarning: Trying to unpickle estimator LabelEncoder from version 1.7.0 when using version 1.7.1. This might lead to breaking code or invalid results. Use at your own risk. For more info please refer to:\n",
      "https://scikit-learn.org/stable/model_persistence.html#security-maintainability-limitations\n",
      "  warnings.warn(\n"
     ]
    }
   ],
   "source": [
    "import joblib\n",
    "import numpy as np\n",
    "import pandas as pd\n",
    "\n",
    "preprocessing_object = joblib.load(\"/data/foundation_model/data/preprocessing_objects_20250615.pkl.z\")\n",
    "# print(preprocessing_object)\n",
    "\n",
    "all_data = (\n",
    "    pd.read_parquet(\"/data/foundation_model/data/qc_ac_te_mp_dos_reformat_20250615.pd.parquet\").drop(\n",
    "        index=preprocessing_object[\"dropped_idx\"]\n",
    "    )\n",
    "    # .reset_index(drop=True)\n",
    ")\n",
    "all_data.head(3)\n",
    "\n",
    "test_data = (\n",
    "    all_data[all_data[\"split\"] == \"test\"]\n",
    "    #  .reset_index(drop=True)\n",
    ")\n",
    "test_data.head(3)\n",
    "\n",
    "\n",
    "desc_trans = pd.read_parquet(\"/data/foundation_model/data/qc_ac_te_mp_dos_composition_desc_trans_20250615.pd.parquet\")\n"
   ]
  },
  {
   "cell_type": "code",
   "execution_count": 2,
   "id": "36da6ee5",
   "metadata": {},
   "outputs": [],
   "source": [
    "def swap_train_val_split(split, swap_ratio=0.1, random_seed=None, train_ratio: float = 1.0):\n",
    "    split = split.copy()\n",
    "    train_idx = split[split == \"train\"].index\n",
    "    val_idx = split[split == \"val\"].index\n",
    "\n",
    "    # 先交换\n",
    "    n_swap = int(min(len(train_idx), len(val_idx)) * swap_ratio)\n",
    "    if n_swap > 0:\n",
    "        rng = np.random.default_rng(random_seed)\n",
    "        swap_train = rng.choice(train_idx, n_swap, replace=False)\n",
    "        swap_val = rng.choice(val_idx, n_swap, replace=False)\n",
    "        split.loc[swap_train] = \"val\"\n",
    "        split.loc[swap_val] = \"train\"\n",
    "\n",
    "    # 再采样train\n",
    "    train_idx = split[split == \"train\"].index\n",
    "    if train_ratio < 1.0:\n",
    "        rng = np.random.default_rng(random_seed)\n",
    "        n_train = round(len(train_idx) * train_ratio)\n",
    "        sampled_train_idx = rng.choice(train_idx, n_train, replace=False)\n",
    "        # 其余train直接丢弃\n",
    "        drop_idx = train_idx.difference(sampled_train_idx)\n",
    "        split.loc[drop_idx] = np.nan\n",
    "\n",
    "    return split.dropna()\n"
   ]
  },
  {
   "cell_type": "raw",
   "id": "131dad25",
   "metadata": {
    "vscode": {
     "languageId": "raw"
    }
   },
   "source": [
    "# 测试 swap_train_val_split\n",
    "split = all_data[\"split\"].copy()\n",
    "print(\"原始分布：\")\n",
    "print(split.value_counts())\n",
    "\n",
    "swapped_split = swap_train_val_split(split, swap_ratio=0.2, random_seed=42, train_ratio=0.5)\n",
    "print(\"\\n交换并采样后的分布：\")\n",
    "print(swapped_split.value_counts())"
   ]
  },
  {
   "cell_type": "code",
   "execution_count": 3,
   "id": "40bde511",
   "metadata": {},
   "outputs": [
    {
     "data": {
      "text/plain": [
       "dict_keys(['dropped_idx', 'composition_desc_scaler', 'material_type_label_encoder', 'space_group_label_encoder', 'band_gap_scaler', 'density_scaler', 'efermi_scaler', 'final_energy_per_atom_scaler', 'formation_energy_per_atom_scaler', 'total_magnetization_scaler', 'volume_scaler', 'dielectric_constant_scaler', 'thermal_conductivity_scaler', 'electrical_resistivity_scaler', 'power_factor_scaler', 'seebeck_coefficient_scaler', 'zt_scaler', 'magnetic_susceptibility_scaler', 'dielectric_total_scaler', 'dielectric_ionic_scaler', 'dielectric_electronic_scaler'])"
      ]
     },
     "execution_count": 3,
     "metadata": {},
     "output_type": "execute_result"
    }
   ],
   "source": [
    "preprocessing_object.keys()"
   ]
  },
  {
   "cell_type": "code",
   "execution_count": 4,
   "id": "f1d6212a",
   "metadata": {},
   "outputs": [
    {
     "name": "stdout",
     "output_type": "stream",
     "text": [
      "training for property: Material type\n",
      "              precision    recall  f1-score   support\n",
      "\n",
      "         DAC     0.5000    1.0000    0.6667         1\n",
      "         DQC     0.7500    1.0000    0.8571         3\n",
      "         IAC     0.8462    0.9167    0.8800        24\n",
      "         IQC     0.8462    0.7857    0.8148        28\n",
      "      others     0.9995    0.9992    0.9993      7298\n",
      "\n",
      "    accuracy                         0.9981      7354\n",
      "   macro avg     0.7884    0.9403    0.8436      7354\n",
      "weighted avg     0.9982    0.9981    0.9981      7354\n",
      "\n",
      "              precision    recall  f1-score   support\n",
      "\n",
      "         DAC     1.0000    1.0000    1.0000        12\n",
      "         DQC     1.0000    1.0000    1.0000        10\n",
      "         IAC     1.0000    0.9759    0.9878        83\n",
      "         IQC     0.9667    0.9603    0.9635       151\n",
      "      others     0.9998    0.9999    0.9998     34039\n",
      "\n",
      "    accuracy                         0.9997     34295\n",
      "   macro avg     0.9933    0.9872    0.9902     34295\n",
      "weighted avg     0.9996    0.9997    0.9996     34295\n",
      "\n",
      "              precision    recall  f1-score   support\n",
      "\n",
      "         DAC     0.5000    1.0000    0.6667         1\n",
      "         DQC     0.7500    1.0000    0.8571         3\n",
      "         IAC     0.8400    0.8750    0.8571        24\n",
      "         IQC     0.7857    0.7857    0.7857        28\n",
      "      others     0.9995    0.9990    0.9992      7298\n",
      "\n",
      "    accuracy                         0.9978      7354\n",
      "   macro avg     0.7750    0.9320    0.8332      7354\n",
      "weighted avg     0.9979    0.9978    0.9979      7354\n",
      "\n",
      "              precision    recall  f1-score   support\n",
      "\n",
      "         DAC     1.0000    1.0000    1.0000         9\n",
      "         DQC     1.0000    1.0000    1.0000         7\n",
      "         IAC     1.0000    0.9540    0.9765        87\n",
      "         IQC     0.9867    0.9801    0.9834       151\n",
      "      others     0.9998    1.0000    0.9999     34041\n",
      "\n",
      "    accuracy                         0.9998     34295\n",
      "   macro avg     0.9973    0.9868    0.9920     34295\n",
      "weighted avg     0.9998    0.9998    0.9998     34295\n",
      "\n",
      "              precision    recall  f1-score   support\n",
      "\n",
      "         DAC     0.5000    1.0000    0.6667         1\n",
      "         DQC     0.7500    1.0000    0.8571         3\n",
      "         IAC     0.8462    0.9167    0.8800        24\n",
      "         IQC     0.8750    0.7500    0.8077        28\n",
      "      others     0.9993    0.9993    0.9993      7298\n",
      "\n",
      "    accuracy                         0.9981      7354\n",
      "   macro avg     0.7941    0.9332    0.8422      7354\n",
      "weighted avg     0.9982    0.9981    0.9981      7354\n",
      "\n",
      "              precision    recall  f1-score   support\n",
      "\n",
      "         DAC     1.0000    1.0000    1.0000        11\n",
      "         DQC     1.0000    1.0000    1.0000         9\n",
      "         IAC     1.0000    0.9494    0.9740        79\n",
      "         IQC     0.9740    0.9804    0.9772       153\n",
      "      others     0.9998    0.9999    0.9999     34043\n",
      "\n",
      "    accuracy                         0.9997     34295\n",
      "   macro avg     0.9948    0.9859    0.9902     34295\n",
      "weighted avg     0.9997    0.9997    0.9997     34295\n",
      "\n",
      "              precision    recall  f1-score   support\n",
      "\n",
      "         DAC     0.5000    1.0000    0.6667         1\n",
      "         DQC     0.7500    1.0000    0.8571         3\n",
      "         IAC     0.8462    0.9167    0.8800        24\n",
      "         IQC     0.8519    0.8214    0.8364        28\n",
      "      others     0.9996    0.9992    0.9994      7298\n",
      "\n",
      "    accuracy                         0.9982      7354\n",
      "   macro avg     0.7895    0.9475    0.8479      7354\n",
      "weighted avg     0.9984    0.9982    0.9983      7354\n",
      "\n",
      "              precision    recall  f1-score   support\n",
      "\n",
      "         DAC     1.0000    1.0000    1.0000         7\n",
      "         DQC     1.0000    1.0000    1.0000        11\n",
      "         IAC     1.0000    0.9873    0.9936        79\n",
      "         IQC     0.9934    0.9677    0.9804       155\n",
      "      others     0.9998    1.0000    0.9999     34043\n",
      "\n",
      "    accuracy                         0.9998     34295\n",
      "   macro avg     0.9986    0.9910    0.9948     34295\n",
      "weighted avg     0.9998    0.9998    0.9998     34295\n",
      "\n",
      "              precision    recall  f1-score   support\n",
      "\n",
      "         DAC     0.5000    1.0000    0.6667         1\n",
      "         DQC     0.6000    1.0000    0.7500         3\n",
      "         IAC     0.8800    0.9167    0.8980        24\n",
      "         IQC     0.8571    0.8571    0.8571        28\n",
      "      others     0.9997    0.9992    0.9995      7298\n",
      "\n",
      "    accuracy                         0.9984      7354\n",
      "   macro avg     0.7674    0.9546    0.8342      7354\n",
      "weighted avg     0.9986    0.9984    0.9984      7354\n",
      "\n",
      "              precision    recall  f1-score   support\n",
      "\n",
      "         DAC     1.0000    1.0000    1.0000        11\n",
      "         DQC     1.0000    1.0000    1.0000        10\n",
      "         IAC     1.0000    0.9639    0.9816        83\n",
      "         IQC     0.9603    0.9864    0.9732       147\n",
      "      others     0.9999    0.9999    0.9999     34044\n",
      "\n",
      "    accuracy                         0.9997     34295\n",
      "   macro avg     0.9920    0.9900    0.9909     34295\n",
      "weighted avg     0.9997    0.9997    0.9997     34295\n",
      "\n",
      "              precision    recall  f1-score   support\n",
      "\n",
      "         DAC     0.5000    1.0000    0.6667         1\n",
      "         DQC     0.7500    1.0000    0.8571         3\n",
      "         IAC     0.8750    0.8750    0.8750        24\n",
      "         IQC     0.8214    0.8214    0.8214        28\n",
      "      others     0.9993    0.9990    0.9992      7298\n",
      "\n",
      "    accuracy                         0.9980      7354\n",
      "   macro avg     0.7891    0.9391    0.8439      7354\n",
      "weighted avg     0.9981    0.9980    0.9980      7354\n",
      "\n",
      "              precision    recall  f1-score   support\n",
      "\n",
      "         DAC     1.0000    1.0000    1.0000        11\n",
      "         DQC     1.0000    1.0000    1.0000        12\n",
      "         IAC     1.0000    0.9750    0.9873        80\n",
      "         IQC     0.9805    0.9805    0.9805       154\n",
      "      others     0.9999    0.9999    0.9999     34038\n",
      "\n",
      "    accuracy                         0.9998     34295\n",
      "   macro avg     0.9961    0.9911    0.9936     34295\n",
      "weighted avg     0.9998    0.9998    0.9998     34295\n",
      "\n",
      "              precision    recall  f1-score   support\n",
      "\n",
      "         DAC     0.5000    1.0000    0.6667         1\n",
      "         DQC     0.7500    1.0000    0.8571         3\n",
      "         IAC     0.8400    0.8750    0.8571        24\n",
      "         IQC     0.8400    0.7500    0.7925        28\n",
      "      others     0.9992    0.9992    0.9992      7298\n",
      "\n",
      "    accuracy                         0.9978      7354\n",
      "   macro avg     0.7858    0.9248    0.8345      7354\n",
      "weighted avg     0.9979    0.9978    0.9978      7354\n",
      "\n",
      "              precision    recall  f1-score   support\n",
      "\n",
      "         DAC     1.0000    1.0000    1.0000        11\n",
      "         DQC     1.0000    1.0000    1.0000        11\n",
      "         IAC     1.0000    0.9747    0.9872        79\n",
      "         IQC     0.9809    0.9747    0.9778       158\n",
      "      others     0.9998    0.9999    0.9999     34036\n",
      "\n",
      "    accuracy                         0.9997     34295\n",
      "   macro avg     0.9961    0.9899    0.9930     34295\n",
      "weighted avg     0.9997    0.9997    0.9997     34295\n",
      "\n",
      "              precision    recall  f1-score   support\n",
      "\n",
      "         DAC     0.5000    1.0000    0.6667         1\n",
      "         DQC     0.7500    1.0000    0.8571         3\n",
      "         IAC     0.8696    0.8333    0.8511        24\n",
      "         IQC     0.8519    0.8214    0.8364        28\n",
      "      others     0.9993    0.9993    0.9993      7298\n",
      "\n",
      "    accuracy                         0.9981      7354\n",
      "   macro avg     0.7941    0.9308    0.8421      7354\n",
      "weighted avg     0.9982    0.9981    0.9981      7354\n",
      "\n",
      "              precision    recall  f1-score   support\n",
      "\n",
      "         DAC     1.0000    1.0000    1.0000        10\n",
      "         DQC     1.0000    1.0000    1.0000         9\n",
      "         IAC     1.0000    0.9875    0.9937        80\n",
      "         IQC     0.9747    0.9809    0.9778       157\n",
      "      others     0.9999    0.9999    0.9999     34039\n",
      "\n",
      "    accuracy                         0.9998     34295\n",
      "   macro avg     0.9949    0.9937    0.9943     34295\n",
      "weighted avg     0.9998    0.9998    0.9998     34295\n",
      "\n",
      "              precision    recall  f1-score   support\n",
      "\n",
      "         DAC     0.5000    1.0000    0.6667         1\n",
      "         DQC     0.7500    1.0000    0.8571         3\n",
      "         IAC     0.8400    0.8750    0.8571        24\n",
      "         IQC     0.8750    0.7500    0.8077        28\n",
      "      others     0.9992    0.9993    0.9992      7298\n",
      "\n",
      "    accuracy                         0.9980      7354\n",
      "   macro avg     0.7928    0.9249    0.8376      7354\n",
      "weighted avg     0.9980    0.9980    0.9980      7354\n",
      "\n",
      "              precision    recall  f1-score   support\n",
      "\n",
      "         DAC     1.0000    1.0000    1.0000        10\n",
      "         DQC     1.0000    1.0000    1.0000         8\n",
      "         IAC     1.0000    0.9663    0.9829        89\n",
      "         IQC     0.9653    0.9586    0.9619       145\n",
      "      others     0.9998    0.9999    0.9998     34043\n",
      "\n",
      "    accuracy                         0.9996     34295\n",
      "   macro avg     0.9930    0.9850    0.9889     34295\n",
      "weighted avg     0.9996    0.9996    0.9996     34295\n",
      "\n",
      "              precision    recall  f1-score   support\n",
      "\n",
      "         DAC     0.5000    1.0000    0.6667         1\n",
      "         DQC     0.7500    1.0000    0.8571         3\n",
      "         IAC     0.8800    0.9167    0.8980        24\n",
      "         IQC     0.8889    0.8571    0.8727        28\n",
      "      others     0.9996    0.9993    0.9995      7298\n",
      "\n",
      "    accuracy                         0.9985      7354\n",
      "   macro avg     0.8037    0.9546    0.8588      7354\n",
      "weighted avg     0.9986    0.9985    0.9985      7354\n",
      "\n",
      "              precision    recall  f1-score   support\n",
      "\n",
      "         DAC     1.0000    1.0000    1.0000        11\n",
      "         DQC     1.0000    1.0000    1.0000         8\n",
      "         IAC     1.0000    0.9630    0.9811        81\n",
      "         IQC     0.9684    0.9808    0.9745       156\n",
      "      others     0.9999    0.9999    0.9999     34039\n",
      "\n",
      "    accuracy                         0.9997     34295\n",
      "   macro avg     0.9936    0.9887    0.9911     34295\n",
      "weighted avg     0.9997    0.9997    0.9997     34295\n",
      "\n"
     ]
    },
    {
     "name": "stderr",
     "output_type": "stream",
     "text": [
      "/tmp/ipykernel_2229106/3281684516.py:70: RuntimeWarning: More than 20 figures have been opened. Figures created through the pyplot interface (`matplotlib.pyplot.figure`) are retained until explicitly closed and may consume too much memory. (To control this warning, see the rcParam `figure.max_open_warning`). Consider using `matplotlib.pyplot.close()`.\n",
      "  fig, (ax1, ax2) = plt.subplots(1, 2, figsize=(21, 8), sharey=True, dpi=130)\n"
     ]
    },
    {
     "name": "stdout",
     "output_type": "stream",
     "text": [
      "              precision    recall  f1-score   support\n",
      "\n",
      "         DAC     0.5000    1.0000    0.6667         1\n",
      "         DQC     0.7500    1.0000    0.8571         3\n",
      "         IAC     0.8400    0.8750    0.8571        24\n",
      "         IQC     0.8519    0.8214    0.8364        28\n",
      "      others     0.9996    0.9993    0.9995      7298\n",
      "\n",
      "    accuracy                         0.9982      7354\n",
      "   macro avg     0.7883    0.9391    0.8434      7354\n",
      "weighted avg     0.9983    0.9982    0.9983      7354\n",
      "\n",
      "              precision    recall  f1-score   support\n",
      "\n",
      "         DAC     1.0000    1.0000    1.0000        11\n",
      "         DQC     1.0000    1.0000    1.0000        12\n",
      "         IAC     1.0000    0.9870    0.9935        77\n",
      "         IQC     0.9927    0.9784    0.9855       139\n",
      "      others     0.9999    1.0000    0.9999     30627\n",
      "\n",
      "    accuracy                         0.9998     30866\n",
      "   macro avg     0.9985    0.9931    0.9958     30866\n",
      "weighted avg     0.9998    0.9998    0.9998     30866\n",
      "\n",
      "              precision    recall  f1-score   support\n",
      "\n",
      "         DAC     0.0000    0.0000    0.0000         1\n",
      "         DQC     0.6000    1.0000    0.7500         3\n",
      "         IAC     0.8462    0.9167    0.8800        24\n",
      "         IQC     0.8462    0.7857    0.8148        28\n",
      "      others     0.9995    0.9992    0.9993      7298\n",
      "\n",
      "    accuracy                         0.9980      7354\n",
      "   macro avg     0.6584    0.7403    0.6888      7354\n",
      "weighted avg     0.9981    0.9980    0.9980      7354\n",
      "\n",
      "              precision    recall  f1-score   support\n",
      "\n",
      "         DAC     1.0000    1.0000    1.0000         9\n",
      "         DQC     1.0000    1.0000    1.0000         9\n",
      "         IAC     1.0000    0.9459    0.9722        74\n",
      "         IQC     0.9841    0.9612    0.9725       129\n",
      "      others     0.9997    1.0000    0.9999     30645\n",
      "\n",
      "    accuracy                         0.9997     30866\n",
      "   macro avg     0.9968    0.9814    0.9889     30866\n",
      "weighted avg     0.9997    0.9997    0.9997     30866\n",
      "\n",
      "              precision    recall  f1-score   support\n",
      "\n",
      "         DAC     0.5000    1.0000    0.6667         1\n",
      "         DQC     0.7500    1.0000    0.8571         3\n",
      "         IAC     0.8462    0.9167    0.8800        24\n",
      "         IQC     0.8214    0.8214    0.8214        28\n",
      "      others     0.9997    0.9992    0.9995      7298\n",
      "\n",
      "    accuracy                         0.9982      7354\n",
      "   macro avg     0.7835    0.9475    0.8449      7354\n",
      "weighted avg     0.9984    0.9982    0.9983      7354\n",
      "\n",
      "              precision    recall  f1-score   support\n",
      "\n",
      "         DAC     1.0000    1.0000    1.0000        10\n",
      "         DQC     1.0000    1.0000    1.0000         5\n",
      "         IAC     1.0000    0.9737    0.9867        76\n",
      "         IQC     0.9766    0.9843    0.9804       127\n",
      "      others     0.9999    0.9999    0.9999     30648\n",
      "\n",
      "    accuracy                         0.9998     30866\n",
      "   macro avg     0.9953    0.9916    0.9934     30866\n",
      "weighted avg     0.9998    0.9998    0.9998     30866\n",
      "\n",
      "              precision    recall  f1-score   support\n",
      "\n",
      "         DAC     0.5000    1.0000    0.6667         1\n",
      "         DQC     0.7500    1.0000    0.8571         3\n",
      "         IAC     0.8400    0.8750    0.8571        24\n",
      "         IQC     0.8462    0.7857    0.8148        28\n",
      "      others     0.9993    0.9992    0.9992      7298\n",
      "\n",
      "    accuracy                         0.9980      7354\n",
      "   macro avg     0.7871    0.9320    0.8390      7354\n",
      "weighted avg     0.9980    0.9980    0.9980      7354\n",
      "\n",
      "              precision    recall  f1-score   support\n",
      "\n",
      "         DAC     1.0000    1.0000    1.0000        11\n",
      "         DQC     1.0000    1.0000    1.0000         9\n",
      "         IAC     1.0000    0.9881    0.9940        84\n",
      "         IQC     0.9708    0.9852    0.9779       135\n",
      "      others     0.9999    0.9999    0.9999     30627\n",
      "\n",
      "    accuracy                         0.9998     30866\n",
      "   macro avg     0.9941    0.9946    0.9944     30866\n",
      "weighted avg     0.9998    0.9998    0.9998     30866\n",
      "\n",
      "              precision    recall  f1-score   support\n",
      "\n",
      "         DAC     0.5000    1.0000    0.6667         1\n",
      "         DQC     0.7500    1.0000    0.8571         3\n",
      "         IAC     0.8750    0.8750    0.8750        24\n",
      "         IQC     0.8462    0.7857    0.8148        28\n",
      "      others     0.9990    0.9990    0.9990      7298\n",
      "\n",
      "    accuracy                         0.9978      7354\n",
      "   macro avg     0.7940    0.9320    0.8425      7354\n",
      "weighted avg     0.9979    0.9978    0.9978      7354\n",
      "\n",
      "              precision    recall  f1-score   support\n",
      "\n",
      "         DAC     1.0000    1.0000    1.0000        10\n",
      "         DQC     1.0000    1.0000    1.0000         8\n",
      "         IAC     1.0000    0.9718    0.9857        71\n",
      "         IQC     0.9630    0.9701    0.9665       134\n",
      "      others     0.9998    0.9999    0.9999     30643\n",
      "\n",
      "    accuracy                         0.9997     30866\n",
      "   macro avg     0.9926    0.9884    0.9904     30866\n",
      "weighted avg     0.9997    0.9997    0.9997     30866\n",
      "\n",
      "              precision    recall  f1-score   support\n",
      "\n",
      "         DAC     0.5000    1.0000    0.6667         1\n",
      "         DQC     0.7500    1.0000    0.8571         3\n",
      "         IAC     0.8800    0.9167    0.8980        24\n",
      "         IQC     0.8889    0.8571    0.8727        28\n",
      "      others     0.9996    0.9993    0.9995      7298\n",
      "\n",
      "    accuracy                         0.9985      7354\n",
      "   macro avg     0.8037    0.9546    0.8588      7354\n",
      "weighted avg     0.9986    0.9985    0.9985      7354\n",
      "\n",
      "              precision    recall  f1-score   support\n",
      "\n",
      "         DAC     1.0000    1.0000    1.0000        10\n",
      "         DQC     1.0000    1.0000    1.0000         7\n",
      "         IAC     1.0000    0.9634    0.9814        82\n",
      "         IQC     0.9571    0.9926    0.9745       135\n",
      "      others     0.9999    0.9998    0.9998     30632\n",
      "\n",
      "    accuracy                         0.9997     30866\n",
      "   macro avg     0.9914    0.9912    0.9911     30866\n",
      "weighted avg     0.9997    0.9997    0.9997     30866\n",
      "\n",
      "              precision    recall  f1-score   support\n",
      "\n",
      "         DAC     0.5000    1.0000    0.6667         1\n",
      "         DQC     0.7500    1.0000    0.8571         3\n",
      "         IAC     0.8148    0.9167    0.8627        24\n",
      "         IQC     0.9167    0.7857    0.8462        28\n",
      "      others     0.9995    0.9993    0.9994      7298\n",
      "\n",
      "    accuracy                         0.9982      7354\n",
      "   macro avg     0.7962    0.9403    0.8464      7354\n",
      "weighted avg     0.9984    0.9982    0.9983      7354\n",
      "\n",
      "              precision    recall  f1-score   support\n",
      "\n",
      "         DAC     1.0000    1.0000    1.0000        11\n",
      "         DQC     1.0000    1.0000    1.0000         7\n",
      "         IAC     1.0000    0.9610    0.9801        77\n",
      "         IQC     0.9925    0.9568    0.9744       139\n",
      "      others     0.9997    1.0000    0.9998     30632\n",
      "\n",
      "    accuracy                         0.9997     30866\n",
      "   macro avg     0.9984    0.9836    0.9909     30866\n",
      "weighted avg     0.9997    0.9997    0.9997     30866\n",
      "\n",
      "              precision    recall  f1-score   support\n",
      "\n",
      "         DAC     0.5000    1.0000    0.6667         1\n",
      "         DQC     0.7500    1.0000    0.8571         3\n",
      "         IAC     0.8462    0.9167    0.8800        24\n",
      "         IQC     0.8462    0.7857    0.8148        28\n",
      "      others     0.9995    0.9992    0.9993      7298\n",
      "\n",
      "    accuracy                         0.9981      7354\n",
      "   macro avg     0.7884    0.9403    0.8436      7354\n",
      "weighted avg     0.9982    0.9981    0.9981      7354\n",
      "\n",
      "              precision    recall  f1-score   support\n",
      "\n",
      "         DAC     1.0000    1.0000    1.0000        10\n",
      "         DQC     1.0000    1.0000    1.0000        10\n",
      "         IAC     0.9867    0.9737    0.9801        76\n",
      "         IQC     0.9789    0.9858    0.9823       141\n",
      "      others     0.9999    0.9999    0.9999     30629\n",
      "\n",
      "    accuracy                         0.9998     30866\n",
      "   macro avg     0.9931    0.9919    0.9925     30866\n",
      "weighted avg     0.9998    0.9998    0.9998     30866\n",
      "\n",
      "              precision    recall  f1-score   support\n",
      "\n",
      "         DAC     0.5000    1.0000    0.6667         1\n",
      "         DQC     0.7500    1.0000    0.8571         3\n",
      "         IAC     0.8148    0.9167    0.8627        24\n",
      "         IQC     0.8800    0.7857    0.8302        28\n",
      "      others     0.9995    0.9992    0.9993      7298\n",
      "\n",
      "    accuracy                         0.9981      7354\n",
      "   macro avg     0.7889    0.9403    0.8432      7354\n",
      "weighted avg     0.9982    0.9981    0.9981      7354\n",
      "\n",
      "              precision    recall  f1-score   support\n",
      "\n",
      "         DAC     1.0000    1.0000    1.0000        12\n",
      "         DQC     1.0000    1.0000    1.0000         9\n",
      "         IAC     1.0000    0.9740    0.9868        77\n",
      "         IQC     0.9767    0.9844    0.9805       128\n",
      "      others     0.9999    0.9999    0.9999     30640\n",
      "\n",
      "    accuracy                         0.9998     30866\n",
      "   macro avg     0.9953    0.9917    0.9935     30866\n",
      "weighted avg     0.9998    0.9998    0.9998     30866\n",
      "\n",
      "              precision    recall  f1-score   support\n",
      "\n",
      "         DAC     0.5000    1.0000    0.6667         1\n",
      "         DQC     0.7500    1.0000    0.8571         3\n",
      "         IAC     0.8800    0.9167    0.8980        24\n",
      "         IQC     0.8889    0.8571    0.8727        28\n",
      "      others     0.9995    0.9992    0.9993      7298\n",
      "\n",
      "    accuracy                         0.9984      7354\n",
      "   macro avg     0.8037    0.9546    0.8588      7354\n",
      "weighted avg     0.9985    0.9984    0.9984      7354\n",
      "\n",
      "              precision    recall  f1-score   support\n",
      "\n",
      "         DAC     1.0000    1.0000    1.0000        12\n",
      "         DQC     1.0000    1.0000    1.0000         6\n",
      "         IAC     1.0000    0.9870    0.9935        77\n",
      "         IQC     0.9924    0.9774    0.9848       133\n",
      "      others     0.9999    1.0000    0.9999     30638\n",
      "\n",
      "    accuracy                         0.9998     30866\n",
      "   macro avg     0.9984    0.9929    0.9956     30866\n",
      "weighted avg     0.9998    0.9998    0.9998     30866\n",
      "\n",
      "              precision    recall  f1-score   support\n",
      "\n",
      "         DAC     0.5000    1.0000    0.6667         1\n",
      "         DQC     0.7500    1.0000    0.8571         3\n",
      "         IAC     0.8400    0.8750    0.8571        24\n",
      "         IQC     0.8077    0.7500    0.7778        28\n",
      "      others     0.9992    0.9990    0.9991      7298\n",
      "\n",
      "    accuracy                         0.9977      7354\n",
      "   macro avg     0.7794    0.9248    0.8316      7354\n",
      "weighted avg     0.9978    0.9977    0.9977      7354\n",
      "\n",
      "              precision    recall  f1-score   support\n",
      "\n",
      "         DAC     1.0000    1.0000    1.0000         8\n",
      "         DQC     1.0000    1.0000    1.0000         7\n",
      "         IAC     1.0000    0.9841    0.9920        63\n",
      "         IQC     0.9758    0.9837    0.9798       123\n",
      "      others     0.9999    0.9999    0.9999     27235\n",
      "\n",
      "    accuracy                         0.9998     27436\n",
      "   macro avg     0.9951    0.9936    0.9943     27436\n",
      "weighted avg     0.9998    0.9998    0.9998     27436\n",
      "\n",
      "              precision    recall  f1-score   support\n",
      "\n",
      "         DAC     0.5000    1.0000    0.6667         1\n",
      "         DQC     0.7500    1.0000    0.8571         3\n",
      "         IAC     0.8400    0.8750    0.8571        24\n",
      "         IQC     0.8400    0.7500    0.7925        28\n",
      "      others     0.9992    0.9992    0.9992      7298\n",
      "\n",
      "    accuracy                         0.9978      7354\n",
      "   macro avg     0.7858    0.9248    0.8345      7354\n",
      "weighted avg     0.9979    0.9978    0.9978      7354\n",
      "\n",
      "              precision    recall  f1-score   support\n",
      "\n",
      "         DAC     1.0000    1.0000    1.0000         8\n",
      "         DQC     1.0000    1.0000    1.0000        10\n",
      "         IAC     1.0000    0.9848    0.9924        66\n",
      "         IQC     0.9850    0.9632    0.9740       136\n",
      "      others     0.9998    0.9999    0.9999     27216\n",
      "\n",
      "    accuracy                         0.9997     27436\n",
      "   macro avg     0.9969    0.9896    0.9932     27436\n",
      "weighted avg     0.9997    0.9997    0.9997     27436\n",
      "\n",
      "              precision    recall  f1-score   support\n",
      "\n",
      "         DAC     0.5000    1.0000    0.6667         1\n",
      "         DQC     0.7500    1.0000    0.8571         3\n",
      "         IAC     0.8800    0.9167    0.8980        24\n",
      "         IQC     0.8519    0.8214    0.8364        28\n",
      "      others     0.9996    0.9993    0.9995      7298\n",
      "\n",
      "    accuracy                         0.9984      7354\n",
      "   macro avg     0.7963    0.9475    0.8515      7354\n",
      "weighted avg     0.9985    0.9984    0.9984      7354\n",
      "\n",
      "              precision    recall  f1-score   support\n",
      "\n",
      "         DAC     1.0000    1.0000    1.0000        10\n",
      "         DQC     1.0000    1.0000    1.0000         8\n",
      "         IAC     1.0000    0.9688    0.9841        64\n",
      "         IQC     0.9638    0.9925    0.9779       134\n",
      "      others     0.9999    0.9999    0.9999     27220\n",
      "\n",
      "    accuracy                         0.9997     27436\n",
      "   macro avg     0.9927    0.9922    0.9924     27436\n",
      "weighted avg     0.9998    0.9997    0.9997     27436\n",
      "\n",
      "              precision    recall  f1-score   support\n",
      "\n",
      "         DAC     0.5000    1.0000    0.6667         1\n",
      "         DQC     0.7500    1.0000    0.8571         3\n",
      "         IAC     0.8462    0.9167    0.8800        24\n",
      "         IQC     0.8571    0.8571    0.8571        28\n",
      "      others     0.9997    0.9992    0.9995      7298\n",
      "\n",
      "    accuracy                         0.9984      7354\n",
      "   macro avg     0.7906    0.9546    0.8521      7354\n",
      "weighted avg     0.9985    0.9984    0.9984      7354\n",
      "\n",
      "              precision    recall  f1-score   support\n",
      "\n",
      "         DAC     1.0000    1.0000    1.0000         7\n",
      "         DQC     1.0000    1.0000    1.0000         7\n",
      "         IAC     1.0000    0.9718    0.9857        71\n",
      "         IQC     0.9652    0.9569    0.9610       116\n",
      "      others     0.9998    0.9999    0.9998     27235\n",
      "\n",
      "    accuracy                         0.9996     27436\n",
      "   macro avg     0.9930    0.9857    0.9893     27436\n",
      "weighted avg     0.9996    0.9996    0.9996     27436\n",
      "\n",
      "              precision    recall  f1-score   support\n",
      "\n",
      "         DAC     0.5000    1.0000    0.6667         1\n",
      "         DQC     0.7500    1.0000    0.8571         3\n",
      "         IAC     0.8800    0.9167    0.8980        24\n",
      "         IQC     0.8519    0.8214    0.8364        28\n",
      "      others     0.9995    0.9992    0.9993      7298\n",
      "\n",
      "    accuracy                         0.9982      7354\n",
      "   macro avg     0.7963    0.9475    0.8515      7354\n",
      "weighted avg     0.9983    0.9982    0.9983      7354\n",
      "\n",
      "              precision    recall  f1-score   support\n",
      "\n",
      "         DAC     1.0000    1.0000    1.0000        10\n",
      "         DQC     1.0000    1.0000    1.0000         8\n",
      "         IAC     1.0000    0.9848    0.9924        66\n",
      "         IQC     0.9758    0.9837    0.9798       123\n",
      "      others     0.9999    0.9999    0.9999     27229\n",
      "\n",
      "    accuracy                         0.9998     27436\n",
      "   macro avg     0.9951    0.9937    0.9944     27436\n",
      "weighted avg     0.9998    0.9998    0.9998     27436\n",
      "\n",
      "              precision    recall  f1-score   support\n",
      "\n",
      "         DAC     0.5000    1.0000    0.6667         1\n",
      "         DQC     0.6000    1.0000    0.7500         3\n",
      "         IAC     0.8750    0.8750    0.8750        24\n",
      "         IQC     0.8462    0.7857    0.8148        28\n",
      "      others     0.9993    0.9992    0.9992      7298\n",
      "\n",
      "    accuracy                         0.9980      7354\n",
      "   macro avg     0.7641    0.9320    0.8211      7354\n",
      "weighted avg     0.9981    0.9980    0.9980      7354\n",
      "\n",
      "              precision    recall  f1-score   support\n",
      "\n",
      "         DAC     1.0000    1.0000    1.0000         7\n",
      "         DQC     1.0000    1.0000    1.0000        10\n",
      "         IAC     1.0000    0.9688    0.9841        64\n",
      "         IQC     0.9846    0.9922    0.9884       129\n",
      "      others     0.9999    1.0000    0.9999     27226\n",
      "\n",
      "    accuracy                         0.9999     27436\n",
      "   macro avg     0.9969    0.9922    0.9945     27436\n",
      "weighted avg     0.9999    0.9999    0.9999     27436\n",
      "\n",
      "              precision    recall  f1-score   support\n",
      "\n",
      "         DAC     0.5000    1.0000    0.6667         1\n",
      "         DQC     0.7500    1.0000    0.8571         3\n",
      "         IAC     0.9167    0.9167    0.9167        24\n",
      "         IQC     0.8462    0.7857    0.8148        28\n",
      "      others     0.9993    0.9993    0.9993      7298\n",
      "\n",
      "    accuracy                         0.9982      7354\n",
      "   macro avg     0.8024    0.9403    0.8509      7354\n",
      "weighted avg     0.9983    0.9982    0.9982      7354\n",
      "\n",
      "              precision    recall  f1-score   support\n",
      "\n",
      "         DAC     1.0000    1.0000    1.0000         9\n",
      "         DQC     1.0000    1.0000    1.0000         9\n",
      "         IAC     0.9851    1.0000    0.9925        66\n",
      "         IQC     0.9813    0.9906    0.9859       106\n",
      "      others     1.0000    0.9999    0.9999     27246\n",
      "\n",
      "    accuracy                         0.9999     27436\n",
      "   macro avg     0.9933    0.9981    0.9957     27436\n",
      "weighted avg     0.9999    0.9999    0.9999     27436\n",
      "\n",
      "              precision    recall  f1-score   support\n",
      "\n",
      "         DAC     0.5000    1.0000    0.6667         1\n",
      "         DQC     0.6000    1.0000    0.7500         3\n",
      "         IAC     0.7857    0.9167    0.8462        24\n",
      "         IQC     0.9200    0.8214    0.8679        28\n",
      "      others     0.9996    0.9990    0.9993      7298\n",
      "\n",
      "    accuracy                         0.9981      7354\n",
      "   macro avg     0.7611    0.9474    0.8260      7354\n",
      "weighted avg     0.9984    0.9981    0.9982      7354\n",
      "\n",
      "              precision    recall  f1-score   support\n",
      "\n",
      "         DAC     1.0000    1.0000    1.0000        11\n",
      "         DQC     1.0000    1.0000    1.0000         8\n",
      "         IAC     1.0000    0.9863    0.9931        73\n",
      "         IQC     0.9669    0.9832    0.9750       119\n",
      "      others     0.9999    0.9999    0.9999     27225\n",
      "\n",
      "    accuracy                         0.9997     27436\n",
      "   macro avg     0.9934    0.9939    0.9936     27436\n",
      "weighted avg     0.9997    0.9997    0.9997     27436\n",
      "\n",
      "              precision    recall  f1-score   support\n",
      "\n",
      "         DAC     0.5000    1.0000    0.6667         1\n",
      "         DQC     0.7500    1.0000    0.8571         3\n",
      "         IAC     0.8750    0.8750    0.8750        24\n",
      "         IQC     0.8387    0.9286    0.8814        28\n",
      "      others     0.9999    0.9992    0.9995      7298\n",
      "\n",
      "    accuracy                         0.9985      7354\n",
      "   macro avg     0.7927    0.9605    0.8559      7354\n",
      "weighted avg     0.9987    0.9985    0.9986      7354\n",
      "\n",
      "              precision    recall  f1-score   support\n",
      "\n",
      "         DAC     1.0000    1.0000    1.0000         9\n",
      "         DQC     1.0000    1.0000    1.0000         8\n",
      "         IAC     0.9833    0.9516    0.9672        62\n",
      "         IQC     0.9606    0.9839    0.9721       124\n",
      "      others     0.9999    0.9998    0.9998     27233\n",
      "\n",
      "    accuracy                         0.9996     27436\n",
      "   macro avg     0.9888    0.9871    0.9878     27436\n",
      "weighted avg     0.9996    0.9996    0.9996     27436\n",
      "\n",
      "              precision    recall  f1-score   support\n",
      "\n",
      "         DAC     1.0000    1.0000    1.0000         1\n",
      "         DQC     0.7500    1.0000    0.8571         3\n",
      "         IAC     0.8750    0.8750    0.8750        24\n",
      "         IQC     0.8214    0.8214    0.8214        28\n",
      "      others     0.9993    0.9992    0.9992      7298\n",
      "\n",
      "    accuracy                         0.9981      7354\n",
      "   macro avg     0.8891    0.9391    0.9106      7354\n",
      "weighted avg     0.9981    0.9981    0.9981      7354\n",
      "\n",
      "              precision    recall  f1-score   support\n",
      "\n",
      "         DAC     1.0000    1.0000    1.0000         3\n",
      "         DQC     1.0000    1.0000    1.0000         5\n",
      "         IAC     1.0000    0.9867    0.9933        75\n",
      "         IQC     0.9606    0.9839    0.9721       124\n",
      "      others     0.9999    0.9998    0.9999     27229\n",
      "\n",
      "    accuracy                         0.9997     27436\n",
      "   macro avg     0.9921    0.9941    0.9931     27436\n",
      "weighted avg     0.9997    0.9997    0.9997     27436\n",
      "\n"
     ]
    },
    {
     "name": "stderr",
     "output_type": "stream",
     "text": [
      "/data/foundation_model/.venv/lib/python3.12/site-packages/sklearn/metrics/_classification.py:1731: UndefinedMetricWarning: Precision is ill-defined and being set to 0.0 in labels with no predicted samples. Use `zero_division` parameter to control this behavior.\n",
      "  _warn_prf(average, modifier, f\"{metric.capitalize()} is\", result.shape[0])\n",
      "/data/foundation_model/.venv/lib/python3.12/site-packages/sklearn/metrics/_classification.py:1731: UndefinedMetricWarning: Precision is ill-defined and being set to 0.0 in labels with no predicted samples. Use `zero_division` parameter to control this behavior.\n",
      "  _warn_prf(average, modifier, f\"{metric.capitalize()} is\", result.shape[0])\n",
      "/data/foundation_model/.venv/lib/python3.12/site-packages/sklearn/metrics/_classification.py:1731: UndefinedMetricWarning: Precision is ill-defined and being set to 0.0 in labels with no predicted samples. Use `zero_division` parameter to control this behavior.\n",
      "  _warn_prf(average, modifier, f\"{metric.capitalize()} is\", result.shape[0])\n",
      "/data/foundation_model/.venv/lib/python3.12/site-packages/sklearn/metrics/_classification.py:1731: UndefinedMetricWarning: Precision is ill-defined and being set to 0.0 in labels with no predicted samples. Use `zero_division` parameter to control this behavior.\n",
      "  _warn_prf(average, modifier, f\"{metric.capitalize()} is\", result.shape[0])\n",
      "/data/foundation_model/.venv/lib/python3.12/site-packages/sklearn/metrics/_classification.py:1731: UndefinedMetricWarning: Precision is ill-defined and being set to 0.0 in labels with no predicted samples. Use `zero_division` parameter to control this behavior.\n",
      "  _warn_prf(average, modifier, f\"{metric.capitalize()} is\", result.shape[0])\n",
      "/data/foundation_model/.venv/lib/python3.12/site-packages/sklearn/metrics/_classification.py:1731: UndefinedMetricWarning: Precision is ill-defined and being set to 0.0 in labels with no predicted samples. Use `zero_division` parameter to control this behavior.\n",
      "  _warn_prf(average, modifier, f\"{metric.capitalize()} is\", result.shape[0])\n"
     ]
    },
    {
     "name": "stdout",
     "output_type": "stream",
     "text": [
      "              precision    recall  f1-score   support\n",
      "\n",
      "         DAC     0.0000    0.0000    0.0000         1\n",
      "         DQC     0.6000    1.0000    0.7500         3\n",
      "         IAC     0.8333    0.8333    0.8333        24\n",
      "         IQC     0.8519    0.8214    0.8364        28\n",
      "      others     0.9992    0.9992    0.9992      7298\n",
      "\n",
      "    accuracy                         0.9978      7354\n",
      "   macro avg     0.6569    0.7308    0.6838      7354\n",
      "weighted avg     0.9978    0.9978    0.9978      7354\n",
      "\n",
      "              precision    recall  f1-score   support\n",
      "\n",
      "         DAC     1.0000    1.0000    1.0000         3\n",
      "         DQC     1.0000    1.0000    1.0000         9\n",
      "         IAC     1.0000    1.0000    1.0000        64\n",
      "         IQC     0.9703    0.9608    0.9655       102\n",
      "      others     0.9998    0.9999    0.9999     23828\n",
      "\n",
      "    accuracy                         0.9997     24006\n",
      "   macro avg     0.9940    0.9921    0.9931     24006\n",
      "weighted avg     0.9997    0.9997    0.9997     24006\n",
      "\n",
      "              precision    recall  f1-score   support\n",
      "\n",
      "         DAC     0.5000    1.0000    0.6667         1\n",
      "         DQC     0.7500    1.0000    0.8571         3\n",
      "         IAC     0.7857    0.9167    0.8462        24\n",
      "         IQC     0.8846    0.8214    0.8519        28\n",
      "      others     0.9995    0.9989    0.9992      7298\n",
      "\n",
      "    accuracy                         0.9980      7354\n",
      "   macro avg     0.7840    0.9474    0.8442      7354\n",
      "weighted avg     0.9981    0.9980    0.9980      7354\n",
      "\n",
      "              precision    recall  f1-score   support\n",
      "\n",
      "         DAC     1.0000    1.0000    1.0000         8\n",
      "         DQC     1.0000    1.0000    1.0000        10\n",
      "         IAC     0.9851    1.0000    0.9925        66\n",
      "         IQC     0.9700    0.9898    0.9798        98\n",
      "      others     1.0000    0.9998    0.9999     23824\n",
      "\n",
      "    accuracy                         0.9998     24006\n",
      "   macro avg     0.9910    0.9979    0.9944     24006\n",
      "weighted avg     0.9998    0.9998    0.9998     24006\n",
      "\n",
      "              precision    recall  f1-score   support\n",
      "\n",
      "         DAC     0.5000    1.0000    0.6667         1\n",
      "         DQC     0.7500    1.0000    0.8571         3\n",
      "         IAC     0.8077    0.8750    0.8400        24\n",
      "         IQC     0.8519    0.8214    0.8364        28\n",
      "      others     0.9992    0.9988    0.9990      7298\n",
      "\n",
      "    accuracy                         0.9977      7354\n",
      "   macro avg     0.7817    0.9390    0.8398      7354\n",
      "weighted avg     0.9978    0.9977    0.9977      7354\n",
      "\n",
      "              precision    recall  f1-score   support\n",
      "\n",
      "         DAC     1.0000    1.0000    1.0000         8\n",
      "         DQC     1.0000    1.0000    1.0000         6\n",
      "         IAC     1.0000    0.9828    0.9913        58\n",
      "         IQC     0.9899    0.9899    0.9899        99\n",
      "      others     1.0000    1.0000    1.0000     23835\n",
      "\n",
      "    accuracy                         0.9999     24006\n",
      "   macro avg     0.9980    0.9945    0.9962     24006\n",
      "weighted avg     0.9999    0.9999    0.9999     24006\n",
      "\n",
      "              precision    recall  f1-score   support\n",
      "\n",
      "         DAC     0.5000    1.0000    0.6667         1\n",
      "         DQC     0.7500    1.0000    0.8571         3\n",
      "         IAC     0.8800    0.9167    0.8980        24\n",
      "         IQC     0.8077    0.7500    0.7778        28\n",
      "      others     0.9992    0.9990    0.9991      7298\n",
      "\n",
      "    accuracy                         0.9978      7354\n",
      "   macro avg     0.7874    0.9331    0.8397      7354\n",
      "weighted avg     0.9979    0.9978    0.9978      7354\n",
      "\n",
      "              precision    recall  f1-score   support\n",
      "\n",
      "         DAC     1.0000    1.0000    1.0000         7\n",
      "         DQC     1.0000    1.0000    1.0000         7\n",
      "         IAC     1.0000    1.0000    1.0000        61\n",
      "         IQC     0.9821    0.9821    0.9821       112\n",
      "      others     0.9999    0.9999    0.9999     23819\n",
      "\n",
      "    accuracy                         0.9998     24006\n",
      "   macro avg     0.9964    0.9964    0.9964     24006\n",
      "weighted avg     0.9998    0.9998    0.9998     24006\n",
      "\n",
      "              precision    recall  f1-score   support\n",
      "\n",
      "         DAC     0.0000    0.0000    0.0000         1\n",
      "         DQC     0.7500    1.0000    0.8571         3\n",
      "         IAC     0.8636    0.7917    0.8261        24\n",
      "         IQC     0.7778    0.7500    0.7636        28\n",
      "      others     0.9992    0.9995    0.9993      7298\n",
      "\n",
      "    accuracy                         0.9977      7354\n",
      "   macro avg     0.6781    0.7082    0.6892      7354\n",
      "weighted avg     0.9977    0.9977    0.9977      7354\n",
      "\n",
      "              precision    recall  f1-score   support\n",
      "\n",
      "         DAC     1.0000    1.0000    1.0000         6\n",
      "         DQC     1.0000    1.0000    1.0000         4\n",
      "         IAC     1.0000    0.9831    0.9915        59\n",
      "         IQC     0.9832    0.9750    0.9791       120\n",
      "      others     0.9998    0.9999    0.9999     23817\n",
      "\n",
      "    accuracy                         0.9998     24006\n",
      "   macro avg     0.9966    0.9916    0.9941     24006\n",
      "weighted avg     0.9997    0.9998    0.9997     24006\n",
      "\n",
      "              precision    recall  f1-score   support\n",
      "\n",
      "         DAC     0.5000    1.0000    0.6667         1\n",
      "         DQC     0.7500    1.0000    0.8571         3\n",
      "         IAC     0.8800    0.9167    0.8980        24\n",
      "         IQC     0.9231    0.8571    0.8889        28\n",
      "      others     0.9995    0.9993    0.9994      7298\n",
      "\n",
      "    accuracy                         0.9985      7354\n",
      "   macro avg     0.8105    0.9546    0.8620      7354\n",
      "weighted avg     0.9986    0.9985    0.9985      7354\n",
      "\n",
      "              precision    recall  f1-score   support\n",
      "\n",
      "         DAC     1.0000    1.0000    1.0000         8\n",
      "         DQC     1.0000    1.0000    1.0000         6\n",
      "         IAC     1.0000    0.9831    0.9915        59\n",
      "         IQC     0.9904    0.9717    0.9810       106\n",
      "      others     0.9999    1.0000    0.9999     23827\n",
      "\n",
      "    accuracy                         0.9998     24006\n",
      "   macro avg     0.9981    0.9909    0.9945     24006\n",
      "weighted avg     0.9998    0.9998    0.9998     24006\n",
      "\n",
      "              precision    recall  f1-score   support\n",
      "\n",
      "         DAC     0.5000    1.0000    0.6667         1\n",
      "         DQC     0.7500    1.0000    0.8571         3\n",
      "         IAC     0.8400    0.8750    0.8571        24\n",
      "         IQC     0.8148    0.7857    0.8000        28\n",
      "      others     0.9995    0.9992    0.9993      7298\n",
      "\n",
      "    accuracy                         0.9980      7354\n",
      "   macro avg     0.7809    0.9320    0.8361      7354\n",
      "weighted avg     0.9981    0.9980    0.9980      7354\n",
      "\n",
      "              precision    recall  f1-score   support\n",
      "\n",
      "         DAC     1.0000    1.0000    1.0000         7\n",
      "         DQC     1.0000    1.0000    1.0000         6\n",
      "         IAC     1.0000    0.9508    0.9748        61\n",
      "         IQC     0.9789    1.0000    0.9894        93\n",
      "      others     0.9999    1.0000    0.9999     23839\n",
      "\n",
      "    accuracy                         0.9998     24006\n",
      "   macro avg     0.9958    0.9902    0.9928     24006\n",
      "weighted avg     0.9998    0.9998    0.9998     24006\n",
      "\n",
      "              precision    recall  f1-score   support\n",
      "\n",
      "         DAC     0.5000    1.0000    0.6667         1\n",
      "         DQC     0.7500    1.0000    0.8571         3\n",
      "         IAC     0.8148    0.9167    0.8627        24\n",
      "         IQC     0.9231    0.8571    0.8889        28\n",
      "      others     0.9995    0.9990    0.9992      7298\n",
      "\n",
      "    accuracy                         0.9982      7354\n",
      "   macro avg     0.7975    0.9546    0.8549      7354\n",
      "weighted avg     0.9984    0.9982    0.9983      7354\n",
      "\n",
      "              precision    recall  f1-score   support\n",
      "\n",
      "         DAC     1.0000    1.0000    1.0000         7\n",
      "         DQC     1.0000    1.0000    1.0000        10\n",
      "         IAC     1.0000    0.9828    0.9913        58\n",
      "         IQC     0.9792    0.9691    0.9741        97\n",
      "      others     0.9999    1.0000    0.9999     23834\n",
      "\n",
      "    accuracy                         0.9998     24006\n",
      "   macro avg     0.9958    0.9904    0.9931     24006\n",
      "weighted avg     0.9998    0.9998    0.9998     24006\n",
      "\n",
      "              precision    recall  f1-score   support\n",
      "\n",
      "         DAC     0.5000    1.0000    0.6667         1\n",
      "         DQC     0.7500    1.0000    0.8571         3\n",
      "         IAC     0.7333    0.9167    0.8148        24\n",
      "         IQC     0.8519    0.8214    0.8364        28\n",
      "      others     0.9996    0.9986    0.9991      7298\n",
      "\n",
      "    accuracy                         0.9977      7354\n",
      "   macro avg     0.7670    0.9473    0.8348      7354\n",
      "weighted avg     0.9980    0.9977    0.9978      7354\n",
      "\n",
      "              precision    recall  f1-score   support\n",
      "\n",
      "         DAC     1.0000    1.0000    1.0000         7\n",
      "         DQC     1.0000    1.0000    1.0000         7\n",
      "         IAC     1.0000    1.0000    1.0000        59\n",
      "         IQC     1.0000    0.9806    0.9902       103\n",
      "      others     0.9999    1.0000    1.0000     23830\n",
      "\n",
      "    accuracy                         0.9999     24006\n",
      "   macro avg     1.0000    0.9961    0.9980     24006\n",
      "weighted avg     0.9999    0.9999    0.9999     24006\n",
      "\n",
      "              precision    recall  f1-score   support\n",
      "\n",
      "         DAC     0.5000    1.0000    0.6667         1\n",
      "         DQC     0.7500    1.0000    0.8571         3\n",
      "         IAC     0.7692    0.8333    0.8000        24\n",
      "         IQC     0.8000    0.7143    0.7547        28\n",
      "      others     0.9990    0.9989    0.9990      7298\n",
      "\n",
      "    accuracy                         0.9973      7354\n",
      "   macro avg     0.7637    0.9093    0.8155      7354\n",
      "weighted avg     0.9974    0.9973    0.9973      7354\n",
      "\n",
      "              precision    recall  f1-score   support\n",
      "\n",
      "         DAC     1.0000    1.0000    1.0000         6\n",
      "         DQC     1.0000    1.0000    1.0000         7\n",
      "         IAC     0.9836    1.0000    0.9917        60\n",
      "         IQC     0.9826    0.9912    0.9869       114\n",
      "      others     1.0000    0.9999    0.9999     23819\n",
      "\n",
      "    accuracy                         0.9998     24006\n",
      "   macro avg     0.9932    0.9982    0.9957     24006\n",
      "weighted avg     0.9998    0.9998    0.9998     24006\n",
      "\n",
      "              precision    recall  f1-score   support\n",
      "\n",
      "         DAC     0.0000    0.0000    0.0000         1\n",
      "         DQC     0.7500    1.0000    0.8571         3\n",
      "         IAC     0.8846    0.9583    0.9200        24\n",
      "         IQC     0.8148    0.7857    0.8000        28\n",
      "      others     0.9993    0.9990    0.9992      7298\n",
      "\n",
      "    accuracy                         0.9980      7354\n",
      "   macro avg     0.6897    0.7486    0.7153      7354\n",
      "weighted avg     0.9980    0.9980    0.9980      7354\n",
      "\n",
      "              precision    recall  f1-score   support\n",
      "\n",
      "         DAC     1.0000    1.0000    1.0000         5\n",
      "         DQC     1.0000    1.0000    1.0000         4\n",
      "         IAC     1.0000    1.0000    1.0000        54\n",
      "         IQC     0.9902    0.9712    0.9806       104\n",
      "      others     0.9999    1.0000    0.9999     20410\n",
      "\n",
      "    accuracy                         0.9998     20577\n",
      "   macro avg     0.9980    0.9942    0.9961     20577\n",
      "weighted avg     0.9998    0.9998    0.9998     20577\n",
      "\n",
      "              precision    recall  f1-score   support\n",
      "\n",
      "         DAC     1.0000    1.0000    1.0000         1\n",
      "         DQC     0.5000    0.3333    0.4000         3\n",
      "         IAC     0.6897    0.8333    0.7547        24\n",
      "         IQC     0.7600    0.6786    0.7170        28\n",
      "      others     0.9990    0.9989    0.9990      7298\n",
      "\n",
      "    accuracy                         0.9969      7354\n",
      "   macro avg     0.7897    0.7688    0.7741      7354\n",
      "weighted avg     0.9969    0.9969    0.9969      7354\n",
      "\n",
      "              precision    recall  f1-score   support\n",
      "\n",
      "         DAC     1.0000    1.0000    1.0000         4\n",
      "         DQC     1.0000    1.0000    1.0000         3\n",
      "         IAC     1.0000    0.9818    0.9908        55\n",
      "         IQC     0.9770    0.9770    0.9770        87\n",
      "      others     0.9999    0.9999    0.9999     20428\n",
      "\n",
      "    accuracy                         0.9998     20577\n",
      "   macro avg     0.9954    0.9917    0.9935     20577\n",
      "weighted avg     0.9998    0.9998    0.9998     20577\n",
      "\n",
      "              precision    recall  f1-score   support\n",
      "\n",
      "         DAC     0.0000    0.0000    0.0000         1\n",
      "         DQC     0.6000    1.0000    0.7500         3\n",
      "         IAC     0.9167    0.9167    0.9167        24\n",
      "         IQC     0.7857    0.7857    0.7857        28\n",
      "      others     0.9995    0.9992    0.9993      7298\n",
      "\n",
      "    accuracy                         0.9980      7354\n",
      "   macro avg     0.6604    0.7403    0.6903      7354\n",
      "weighted avg     0.9981    0.9980    0.9980      7354\n",
      "\n",
      "              precision    recall  f1-score   support\n",
      "\n",
      "         DAC     1.0000    1.0000    1.0000         7\n",
      "         DQC     1.0000    1.0000    1.0000         6\n",
      "         IAC     1.0000    0.9796    0.9897        49\n",
      "         IQC     0.9889    1.0000    0.9944        89\n",
      "      others     1.0000    1.0000    1.0000     20426\n",
      "\n",
      "    accuracy                         0.9999     20577\n",
      "   macro avg     0.9978    0.9959    0.9968     20577\n",
      "weighted avg     0.9999    0.9999    0.9999     20577\n",
      "\n",
      "              precision    recall  f1-score   support\n",
      "\n",
      "         DAC     0.5000    1.0000    0.6667         1\n",
      "         DQC     0.7500    1.0000    0.8571         3\n",
      "         IAC     0.7778    0.8750    0.8235        24\n",
      "         IQC     0.7500    0.6429    0.6923        28\n",
      "      others     0.9990    0.9989    0.9990      7298\n",
      "\n",
      "    accuracy                         0.9971      7354\n",
      "   macro avg     0.7554    0.9034    0.8077      7354\n",
      "weighted avg     0.9972    0.9971    0.9971      7354\n",
      "\n",
      "              precision    recall  f1-score   support\n",
      "\n",
      "         DAC     1.0000    1.0000    1.0000         7\n",
      "         DQC     1.0000    1.0000    1.0000         6\n",
      "         IAC     1.0000    0.9767    0.9882        43\n",
      "         IQC     0.9655    0.9882    0.9767        85\n",
      "      others     1.0000    0.9999    0.9999     20436\n",
      "\n",
      "    accuracy                         0.9998     20577\n",
      "   macro avg     0.9931    0.9930    0.9930     20577\n",
      "weighted avg     0.9998    0.9998    0.9998     20577\n",
      "\n",
      "              precision    recall  f1-score   support\n",
      "\n",
      "         DAC     0.5000    1.0000    0.6667         1\n",
      "         DQC     0.7500    1.0000    0.8571         3\n",
      "         IAC     0.9130    0.8750    0.8936        24\n",
      "         IQC     0.8333    0.8929    0.8621        28\n",
      "      others     0.9995    0.9990    0.9992      7298\n",
      "\n",
      "    accuracy                         0.9982      7354\n",
      "   macro avg     0.7992    0.9534    0.8557      7354\n",
      "weighted avg     0.9984    0.9982    0.9983      7354\n",
      "\n",
      "              precision    recall  f1-score   support\n",
      "\n",
      "         DAC     1.0000    1.0000    1.0000         6\n",
      "         DQC     1.0000    1.0000    1.0000         8\n",
      "         IAC     1.0000    0.9804    0.9901        51\n",
      "         IQC     0.9773    1.0000    0.9885        86\n",
      "      others     1.0000    0.9999    0.9999     20426\n",
      "\n",
      "    accuracy                         0.9999     20577\n",
      "   macro avg     0.9954    0.9961    0.9957     20577\n",
      "weighted avg     0.9999    0.9999    0.9999     20577\n",
      "\n",
      "              precision    recall  f1-score   support\n",
      "\n",
      "         DAC     0.0000    0.0000    0.0000         1\n",
      "         DQC     0.6000    1.0000    0.7500         3\n",
      "         IAC     0.8462    0.9167    0.8800        24\n",
      "         IQC     0.8182    0.6429    0.7200        28\n",
      "      others     0.9989    0.9992    0.9990      7298\n",
      "\n",
      "    accuracy                         0.9974      7354\n",
      "   macro avg     0.6526    0.7117    0.6698      7354\n",
      "weighted avg     0.9974    0.9974    0.9974      7354\n",
      "\n",
      "              precision    recall  f1-score   support\n",
      "\n",
      "         DAC     1.0000    1.0000    1.0000         8\n",
      "         DQC     1.0000    1.0000    1.0000         6\n",
      "         IAC     1.0000    0.9516    0.9752        62\n",
      "         IQC     0.9756    0.9877    0.9816        81\n",
      "      others     0.9999    1.0000    0.9999     20420\n",
      "\n",
      "    accuracy                         0.9998     20577\n",
      "   macro avg     0.9951    0.9878    0.9913     20577\n",
      "weighted avg     0.9998    0.9998    0.9998     20577\n",
      "\n",
      "              precision    recall  f1-score   support\n",
      "\n",
      "         DAC     0.5000    1.0000    0.6667         1\n",
      "         DQC     0.6000    1.0000    0.7500         3\n",
      "         IAC     0.9565    0.9167    0.9362        24\n",
      "         IQC     0.8696    0.7143    0.7843        28\n",
      "      others     0.9990    0.9995    0.9992      7298\n",
      "\n",
      "    accuracy                         0.9981      7354\n",
      "   macro avg     0.7850    0.9261    0.8273      7354\n",
      "weighted avg     0.9982    0.9981    0.9981      7354\n",
      "\n",
      "              precision    recall  f1-score   support\n",
      "\n",
      "         DAC     1.0000    1.0000    1.0000         8\n",
      "         DQC     1.0000    1.0000    1.0000         8\n",
      "         IAC     1.0000    1.0000    1.0000        51\n",
      "         IQC     0.9870    0.9870    0.9870        77\n",
      "      others     1.0000    1.0000    1.0000     20433\n",
      "\n",
      "    accuracy                         0.9999     20577\n",
      "   macro avg     0.9974    0.9974    0.9974     20577\n",
      "weighted avg     0.9999    0.9999    0.9999     20577\n",
      "\n",
      "              precision    recall  f1-score   support\n",
      "\n",
      "         DAC     0.0000    0.0000    0.0000         1\n",
      "         DQC     0.5000    0.3333    0.4000         3\n",
      "         IAC     0.8696    0.8333    0.8511        24\n",
      "         IQC     0.8077    0.7500    0.7778        28\n",
      "      others     0.9988    0.9993    0.9990      7298\n",
      "\n",
      "    accuracy                         0.9974      7354\n",
      "   macro avg     0.6352    0.5832    0.6056      7354\n",
      "weighted avg     0.9973    0.9974    0.9973      7354\n",
      "\n",
      "              precision    recall  f1-score   support\n",
      "\n",
      "         DAC     1.0000    1.0000    1.0000         4\n",
      "         DQC     1.0000    1.0000    1.0000         3\n",
      "         IAC     1.0000    0.9600    0.9796        50\n",
      "         IQC     1.0000    1.0000    1.0000        87\n",
      "      others     0.9999    1.0000    1.0000     20433\n",
      "\n",
      "    accuracy                         0.9999     20577\n",
      "   macro avg     1.0000    0.9920    0.9959     20577\n",
      "weighted avg     0.9999    0.9999    0.9999     20577\n",
      "\n"
     ]
    },
    {
     "name": "stderr",
     "output_type": "stream",
     "text": [
      "/data/foundation_model/.venv/lib/python3.12/site-packages/sklearn/metrics/_classification.py:1731: UndefinedMetricWarning: Precision is ill-defined and being set to 0.0 in labels with no predicted samples. Use `zero_division` parameter to control this behavior.\n",
      "  _warn_prf(average, modifier, f\"{metric.capitalize()} is\", result.shape[0])\n",
      "/data/foundation_model/.venv/lib/python3.12/site-packages/sklearn/metrics/_classification.py:1731: UndefinedMetricWarning: Precision is ill-defined and being set to 0.0 in labels with no predicted samples. Use `zero_division` parameter to control this behavior.\n",
      "  _warn_prf(average, modifier, f\"{metric.capitalize()} is\", result.shape[0])\n",
      "/data/foundation_model/.venv/lib/python3.12/site-packages/sklearn/metrics/_classification.py:1731: UndefinedMetricWarning: Precision is ill-defined and being set to 0.0 in labels with no predicted samples. Use `zero_division` parameter to control this behavior.\n",
      "  _warn_prf(average, modifier, f\"{metric.capitalize()} is\", result.shape[0])\n",
      "/data/foundation_model/.venv/lib/python3.12/site-packages/sklearn/metrics/_classification.py:1731: UndefinedMetricWarning: Precision is ill-defined and being set to 0.0 in labels with no predicted samples. Use `zero_division` parameter to control this behavior.\n",
      "  _warn_prf(average, modifier, f\"{metric.capitalize()} is\", result.shape[0])\n",
      "/data/foundation_model/.venv/lib/python3.12/site-packages/sklearn/metrics/_classification.py:1731: UndefinedMetricWarning: Precision is ill-defined and being set to 0.0 in labels with no predicted samples. Use `zero_division` parameter to control this behavior.\n",
      "  _warn_prf(average, modifier, f\"{metric.capitalize()} is\", result.shape[0])\n",
      "/data/foundation_model/.venv/lib/python3.12/site-packages/sklearn/metrics/_classification.py:1731: UndefinedMetricWarning: Precision is ill-defined and being set to 0.0 in labels with no predicted samples. Use `zero_division` parameter to control this behavior.\n",
      "  _warn_prf(average, modifier, f\"{metric.capitalize()} is\", result.shape[0])\n"
     ]
    },
    {
     "name": "stdout",
     "output_type": "stream",
     "text": [
      "              precision    recall  f1-score   support\n",
      "\n",
      "         DAC     0.0000    0.0000    0.0000         1\n",
      "         DQC     0.5000    0.6667    0.5714         3\n",
      "         IAC     0.8400    0.8750    0.8571        24\n",
      "         IQC     0.7857    0.7857    0.7857        28\n",
      "      others     0.9990    0.9989    0.9990      7298\n",
      "\n",
      "    accuracy                         0.9974      7354\n",
      "   macro avg     0.6250    0.6653    0.6427      7354\n",
      "weighted avg     0.9974    0.9974    0.9974      7354\n",
      "\n",
      "              precision    recall  f1-score   support\n",
      "\n",
      "         DAC     1.0000    1.0000    1.0000         3\n",
      "         DQC     1.0000    1.0000    1.0000         4\n",
      "         IAC     1.0000    1.0000    1.0000        53\n",
      "         IQC     0.9770    0.9884    0.9827        86\n",
      "      others     1.0000    0.9999    0.9999     20431\n",
      "\n",
      "    accuracy                         0.9999     20577\n",
      "   macro avg     0.9954    0.9977    0.9965     20577\n",
      "weighted avg     0.9999    0.9999    0.9999     20577\n",
      "\n",
      "              precision    recall  f1-score   support\n",
      "\n",
      "         DAC     0.5000    1.0000    0.6667         1\n",
      "         DQC     0.7500    1.0000    0.8571         3\n",
      "         IAC     0.8077    0.8750    0.8400        24\n",
      "         IQC     0.7500    0.7500    0.7500        28\n",
      "      others     0.9995    0.9989    0.9992      7298\n",
      "\n",
      "    accuracy                         0.9976      7354\n",
      "   macro avg     0.7614    0.9248    0.8226      7354\n",
      "weighted avg     0.9977    0.9976    0.9976      7354\n",
      "\n",
      "              precision    recall  f1-score   support\n",
      "\n",
      "         DAC     1.0000    1.0000    1.0000         8\n",
      "         DQC     1.0000    1.0000    1.0000         5\n",
      "         IAC     1.0000    1.0000    1.0000        43\n",
      "         IQC     1.0000    0.9783    0.9890        92\n",
      "      others     0.9999    1.0000    1.0000     20429\n",
      "\n",
      "    accuracy                         0.9999     20577\n",
      "   macro avg     1.0000    0.9957    0.9978     20577\n",
      "weighted avg     0.9999    0.9999    0.9999     20577\n",
      "\n",
      "              precision    recall  f1-score   support\n",
      "\n",
      "         DAC     1.0000    1.0000    1.0000         1\n",
      "         DQC     0.6000    1.0000    0.7500         3\n",
      "         IAC     0.8636    0.7917    0.8261        24\n",
      "         IQC     0.7600    0.6786    0.7170        28\n",
      "      others     0.9986    0.9990    0.9988      7298\n",
      "\n",
      "    accuracy                         0.9971      7354\n",
      "   macro avg     0.8445    0.8939    0.8584      7354\n",
      "weighted avg     0.9971    0.9971    0.9971      7354\n",
      "\n",
      "              precision    recall  f1-score   support\n",
      "\n",
      "         DAC     1.0000    1.0000    1.0000         5\n",
      "         DQC     1.0000    1.0000    1.0000         5\n",
      "         IAC     1.0000    0.9697    0.9846        33\n",
      "         IQC     1.0000    1.0000    1.0000        72\n",
      "      others     0.9999    1.0000    1.0000     17033\n",
      "\n",
      "    accuracy                         0.9999     17148\n",
      "   macro avg     1.0000    0.9939    0.9969     17148\n",
      "weighted avg     0.9999    0.9999    0.9999     17148\n",
      "\n",
      "              precision    recall  f1-score   support\n",
      "\n",
      "         DAC     0.5000    1.0000    0.6667         1\n",
      "         DQC     0.5000    0.6667    0.5714         3\n",
      "         IAC     0.8400    0.8750    0.8571        24\n",
      "         IQC     0.8800    0.7857    0.8302        28\n",
      "      others     0.9993    0.9993    0.9993      7298\n",
      "\n",
      "    accuracy                         0.9980      7354\n",
      "   macro avg     0.7439    0.8653    0.7849      7354\n",
      "weighted avg     0.9981    0.9980    0.9980      7354\n",
      "\n",
      "              precision    recall  f1-score   support\n",
      "\n",
      "         DAC     1.0000    1.0000    1.0000         4\n",
      "         DQC     1.0000    1.0000    1.0000         4\n",
      "         IAC     1.0000    0.9583    0.9787        48\n",
      "         IQC     0.9861    0.9726    0.9793        73\n",
      "      others     0.9998    1.0000    0.9999     17019\n",
      "\n",
      "    accuracy                         0.9998     17148\n",
      "   macro avg     0.9972    0.9862    0.9916     17148\n",
      "weighted avg     0.9998    0.9998    0.9998     17148\n",
      "\n",
      "              precision    recall  f1-score   support\n",
      "\n",
      "         DAC     0.5000    1.0000    0.6667         1\n",
      "         DQC     0.6667    0.6667    0.6667         3\n",
      "         IAC     0.8333    0.8333    0.8333        24\n",
      "         IQC     0.8077    0.7500    0.7778        28\n",
      "      others     0.9989    0.9990    0.9990      7298\n",
      "\n",
      "    accuracy                         0.9974      7354\n",
      "   macro avg     0.7613    0.8498    0.7887      7354\n",
      "weighted avg     0.9974    0.9974    0.9974      7354\n",
      "\n",
      "              precision    recall  f1-score   support\n",
      "\n",
      "         DAC     1.0000    1.0000    1.0000         4\n",
      "         DQC     1.0000    1.0000    1.0000         2\n",
      "         IAC     1.0000    0.9737    0.9867        38\n",
      "         IQC     0.9762    0.9647    0.9704        85\n",
      "      others     0.9998    0.9999    0.9999     17019\n",
      "\n",
      "    accuracy                         0.9997     17148\n",
      "   macro avg     0.9952    0.9877    0.9914     17148\n",
      "weighted avg     0.9997    0.9997    0.9997     17148\n",
      "\n",
      "              precision    recall  f1-score   support\n",
      "\n",
      "         DAC     0.5000    1.0000    0.6667         1\n",
      "         DQC     0.0000    0.0000    0.0000         3\n",
      "         IAC     0.7143    0.8333    0.7692        24\n",
      "         IQC     0.6897    0.7143    0.7018        28\n",
      "      others     0.9996    0.9990    0.9993      7298\n",
      "\n",
      "    accuracy                         0.9970      7354\n",
      "   macro avg     0.5807    0.7093    0.6274      7354\n",
      "weighted avg     0.9970    0.9970    0.9970      7354\n",
      "\n",
      "              precision    recall  f1-score   support\n",
      "\n",
      "         DAC     1.0000    1.0000    1.0000         6\n",
      "         DQC     1.0000    1.0000    1.0000         1\n",
      "         IAC     1.0000    1.0000    1.0000        40\n",
      "         IQC     0.9877    1.0000    0.9938        80\n",
      "      others     1.0000    0.9999    1.0000     17021\n",
      "\n",
      "    accuracy                         0.9999     17148\n",
      "   macro avg     0.9975    1.0000    0.9988     17148\n",
      "weighted avg     0.9999    0.9999    0.9999     17148\n",
      "\n",
      "              precision    recall  f1-score   support\n",
      "\n",
      "         DAC     0.5000    1.0000    0.6667         1\n",
      "         DQC     0.6000    1.0000    0.7500         3\n",
      "         IAC     0.8077    0.8750    0.8400        24\n",
      "         IQC     0.8519    0.8214    0.8364        28\n",
      "      others     0.9995    0.9989    0.9992      7298\n",
      "\n",
      "    accuracy                         0.9978      7354\n",
      "   macro avg     0.7518    0.9391    0.8184      7354\n",
      "weighted avg     0.9980    0.9978    0.9979      7354\n",
      "\n",
      "              precision    recall  f1-score   support\n",
      "\n",
      "         DAC     1.0000    1.0000    1.0000         5\n",
      "         DQC     1.0000    1.0000    1.0000         5\n",
      "         IAC     1.0000    1.0000    1.0000        40\n",
      "         IQC     0.9765    0.9881    0.9822        84\n",
      "      others     0.9999    0.9999    0.9999     17014\n",
      "\n",
      "    accuracy                         0.9998     17148\n",
      "   macro avg     0.9953    0.9976    0.9964     17148\n",
      "weighted avg     0.9998    0.9998    0.9998     17148\n",
      "\n",
      "              precision    recall  f1-score   support\n",
      "\n",
      "         DAC     0.0000    0.0000    0.0000         1\n",
      "         DQC     0.5000    0.3333    0.4000         3\n",
      "         IAC     0.8333    0.8333    0.8333        24\n",
      "         IQC     0.7333    0.7857    0.7586        28\n",
      "      others     0.9992    0.9990    0.9991      7298\n",
      "\n",
      "    accuracy                         0.9973      7354\n",
      "   macro avg     0.6132    0.5903    0.5982      7354\n",
      "weighted avg     0.9973    0.9973    0.9973      7354\n",
      "\n",
      "              precision    recall  f1-score   support\n",
      "\n",
      "         DAC     1.0000    1.0000    1.0000         3\n",
      "         DQC     1.0000    1.0000    1.0000         4\n",
      "         IAC     1.0000    1.0000    1.0000        41\n",
      "         IQC     0.9872    0.9872    0.9872        78\n",
      "      others     0.9999    0.9999    0.9999     17022\n",
      "\n",
      "    accuracy                         0.9999     17148\n",
      "   macro avg     0.9974    0.9974    0.9974     17148\n",
      "weighted avg     0.9999    0.9999    0.9999     17148\n",
      "\n",
      "              precision    recall  f1-score   support\n",
      "\n",
      "         DAC     0.5000    1.0000    0.6667         1\n",
      "         DQC     0.7500    1.0000    0.8571         3\n",
      "         IAC     0.9091    0.8333    0.8696        24\n",
      "         IQC     0.8214    0.8214    0.8214        28\n",
      "      others     0.9993    0.9993    0.9993      7298\n",
      "\n",
      "    accuracy                         0.9981      7354\n",
      "   macro avg     0.7960    0.9308    0.8428      7354\n",
      "weighted avg     0.9982    0.9981    0.9981      7354\n",
      "\n",
      "              precision    recall  f1-score   support\n",
      "\n",
      "         DAC     1.0000    1.0000    1.0000         3\n",
      "         DQC     1.0000    1.0000    1.0000         3\n",
      "         IAC     1.0000    0.9630    0.9811        54\n",
      "         IQC     0.9865    0.9481    0.9669        77\n",
      "      others     0.9997    1.0000    0.9999     17011\n",
      "\n",
      "    accuracy                         0.9997     17148\n",
      "   macro avg     0.9972    0.9822    0.9896     17148\n",
      "weighted avg     0.9996    0.9997    0.9996     17148\n",
      "\n",
      "              precision    recall  f1-score   support\n",
      "\n",
      "         DAC     0.3333    1.0000    0.5000         1\n",
      "         DQC     0.5000    0.6667    0.5714         3\n",
      "         IAC     0.8750    0.8750    0.8750        24\n",
      "         IQC     0.7391    0.6071    0.6667        28\n",
      "      others     0.9988    0.9990    0.9989      7298\n",
      "\n",
      "    accuracy                         0.9970      7354\n",
      "   macro avg     0.6892    0.8296    0.7224      7354\n",
      "weighted avg     0.9971    0.9970    0.9970      7354\n",
      "\n",
      "              precision    recall  f1-score   support\n",
      "\n",
      "         DAC     1.0000    1.0000    1.0000         5\n",
      "         DQC     1.0000    1.0000    1.0000         5\n",
      "         IAC     1.0000    0.9750    0.9873        40\n",
      "         IQC     0.9851    0.9851    0.9851        67\n",
      "      others     0.9999    1.0000    1.0000     17031\n",
      "\n",
      "    accuracy                         0.9999     17148\n",
      "   macro avg     0.9970    0.9920    0.9945     17148\n",
      "weighted avg     0.9999    0.9999    0.9999     17148\n",
      "\n",
      "              precision    recall  f1-score   support\n",
      "\n",
      "         DAC     0.5000    1.0000    0.6667         1\n",
      "         DQC     0.7500    1.0000    0.8571         3\n",
      "         IAC     0.9048    0.7917    0.8444        24\n",
      "         IQC     0.8276    0.8571    0.8421        28\n",
      "      others     0.9992    0.9992    0.9992      7298\n",
      "\n",
      "    accuracy                         0.9980      7354\n",
      "   macro avg     0.7963    0.9296    0.8419      7354\n",
      "weighted avg     0.9980    0.9980    0.9980      7354\n",
      "\n",
      "              precision    recall  f1-score   support\n",
      "\n",
      "         DAC     1.0000    1.0000    1.0000         5\n",
      "         DQC     1.0000    1.0000    1.0000         4\n",
      "         IAC     1.0000    0.9474    0.9730        38\n",
      "         IQC     0.9875    1.0000    0.9937        79\n",
      "      others     0.9999    1.0000    1.0000     17022\n",
      "\n",
      "    accuracy                         0.9999     17148\n",
      "   macro avg     0.9975    0.9895    0.9933     17148\n",
      "weighted avg     0.9999    0.9999    0.9999     17148\n",
      "\n",
      "              precision    recall  f1-score   support\n",
      "\n",
      "         DAC     0.0000    0.0000    0.0000         1\n",
      "         DQC     0.5000    0.6667    0.5714         3\n",
      "         IAC     0.7857    0.9167    0.8462        24\n",
      "         IQC     0.7778    0.7500    0.7636        28\n",
      "      others     0.9993    0.9988    0.9990      7298\n",
      "\n",
      "    accuracy                         0.9973      7354\n",
      "   macro avg     0.6126    0.6664    0.6361      7354\n",
      "weighted avg     0.9974    0.9973    0.9973      7354\n",
      "\n",
      "              precision    recall  f1-score   support\n",
      "\n",
      "         DAC     1.0000    1.0000    1.0000         4\n",
      "         DQC     1.0000    1.0000    1.0000         3\n",
      "         IAC     0.9722    1.0000    0.9859        35\n",
      "         IQC     1.0000    1.0000    1.0000        69\n",
      "      others     1.0000    0.9999    1.0000     17037\n",
      "\n",
      "    accuracy                         0.9999     17148\n",
      "   macro avg     0.9944    1.0000    0.9972     17148\n",
      "weighted avg     0.9999    0.9999    0.9999     17148\n",
      "\n",
      "              precision    recall  f1-score   support\n",
      "\n",
      "         DAC     1.0000    1.0000    1.0000         1\n",
      "         DQC     0.7500    1.0000    0.8571         3\n",
      "         IAC     0.7000    0.5833    0.6364        24\n",
      "         IQC     0.7200    0.6429    0.6792        28\n",
      "      others     0.9984    0.9992    0.9988      7298\n",
      "\n",
      "    accuracy                         0.9965      7354\n",
      "   macro avg     0.8337    0.8451    0.8343      7354\n",
      "weighted avg     0.9962    0.9965    0.9963      7354\n",
      "\n",
      "              precision    recall  f1-score   support\n",
      "\n",
      "         DAC     1.0000    1.0000    1.0000         4\n",
      "         DQC     1.0000    1.0000    1.0000         6\n",
      "         IAC     1.0000    1.0000    1.0000        22\n",
      "         IQC     1.0000    1.0000    1.0000        54\n",
      "      others     1.0000    1.0000    1.0000     13632\n",
      "\n",
      "    accuracy                         1.0000     13718\n",
      "   macro avg     1.0000    1.0000    1.0000     13718\n",
      "weighted avg     1.0000    1.0000    1.0000     13718\n",
      "\n",
      "              precision    recall  f1-score   support\n",
      "\n",
      "         DAC     0.0000    0.0000    0.0000         1\n",
      "         DQC     0.6000    1.0000    0.7500         3\n",
      "         IAC     0.8148    0.9167    0.8627        24\n",
      "         IQC     0.7931    0.8214    0.8070        28\n",
      "      others     0.9997    0.9989    0.9993      7298\n",
      "\n",
      "    accuracy                         0.9978      7354\n",
      "   macro avg     0.6415    0.7474    0.6838      7354\n",
      "weighted avg     0.9980    0.9978    0.9979      7354\n",
      "\n",
      "              precision    recall  f1-score   support\n",
      "\n",
      "         DAC     1.0000    1.0000    1.0000         5\n",
      "         DQC     1.0000    1.0000    1.0000         5\n",
      "         IAC     1.0000    1.0000    1.0000        36\n",
      "         IQC     1.0000    0.9853    0.9926        68\n",
      "      others     0.9999    1.0000    1.0000     13604\n",
      "\n",
      "    accuracy                         0.9999     13718\n",
      "   macro avg     1.0000    0.9971    0.9985     13718\n",
      "weighted avg     0.9999    0.9999    0.9999     13718\n",
      "\n",
      "              precision    recall  f1-score   support\n",
      "\n",
      "         DAC     0.5000    1.0000    0.6667         1\n",
      "         DQC     0.6000    1.0000    0.7500         3\n",
      "         IAC     0.7917    0.7917    0.7917        24\n",
      "         IQC     0.8333    0.7143    0.7692        28\n",
      "      others     0.9989    0.9990    0.9990      7298\n",
      "\n",
      "    accuracy                         0.9973      7354\n",
      "   macro avg     0.7448    0.9010    0.7953      7354\n",
      "weighted avg     0.9974    0.9973    0.9973      7354\n",
      "\n",
      "              precision    recall  f1-score   support\n",
      "\n",
      "         DAC     1.0000    1.0000    1.0000         7\n",
      "         DQC     1.0000    1.0000    1.0000         6\n",
      "         IAC     1.0000    0.9697    0.9846        33\n",
      "         IQC     0.9844    0.9844    0.9844        64\n",
      "      others     0.9999    0.9999    0.9999     13608\n",
      "\n",
      "    accuracy                         0.9998     13718\n",
      "   macro avg     0.9968    0.9908    0.9938     13718\n",
      "weighted avg     0.9998    0.9998    0.9998     13718\n",
      "\n",
      "              precision    recall  f1-score   support\n",
      "\n",
      "         DAC     0.5000    1.0000    0.6667         1\n",
      "         DQC     0.7500    1.0000    0.8571         3\n",
      "         IAC     0.8750    0.8750    0.8750        24\n",
      "         IQC     0.8000    0.7143    0.7547        28\n",
      "      others     0.9990    0.9992    0.9991      7298\n",
      "\n",
      "    accuracy                         0.9977      7354\n",
      "   macro avg     0.7848    0.9177    0.8305      7354\n",
      "weighted avg     0.9977    0.9977    0.9977      7354\n",
      "\n",
      "              precision    recall  f1-score   support\n",
      "\n",
      "         DAC     1.0000    1.0000    1.0000         6\n",
      "         DQC     1.0000    1.0000    1.0000         2\n",
      "         IAC     1.0000    1.0000    1.0000        33\n",
      "         IQC     1.0000    0.9815    0.9907        54\n",
      "      others     0.9999    1.0000    1.0000     13623\n",
      "\n",
      "    accuracy                         0.9999     13718\n",
      "   macro avg     1.0000    0.9963    0.9981     13718\n",
      "weighted avg     0.9999    0.9999    0.9999     13718\n",
      "\n"
     ]
    },
    {
     "name": "stderr",
     "output_type": "stream",
     "text": [
      "/data/foundation_model/.venv/lib/python3.12/site-packages/sklearn/metrics/_classification.py:1731: UndefinedMetricWarning: Precision is ill-defined and being set to 0.0 in labels with no predicted samples. Use `zero_division` parameter to control this behavior.\n",
      "  _warn_prf(average, modifier, f\"{metric.capitalize()} is\", result.shape[0])\n",
      "/data/foundation_model/.venv/lib/python3.12/site-packages/sklearn/metrics/_classification.py:1731: UndefinedMetricWarning: Precision is ill-defined and being set to 0.0 in labels with no predicted samples. Use `zero_division` parameter to control this behavior.\n",
      "  _warn_prf(average, modifier, f\"{metric.capitalize()} is\", result.shape[0])\n",
      "/data/foundation_model/.venv/lib/python3.12/site-packages/sklearn/metrics/_classification.py:1731: UndefinedMetricWarning: Precision is ill-defined and being set to 0.0 in labels with no predicted samples. Use `zero_division` parameter to control this behavior.\n",
      "  _warn_prf(average, modifier, f\"{metric.capitalize()} is\", result.shape[0])\n",
      "/data/foundation_model/.venv/lib/python3.12/site-packages/sklearn/metrics/_classification.py:1731: UndefinedMetricWarning: Precision is ill-defined and being set to 0.0 in labels with no predicted samples. Use `zero_division` parameter to control this behavior.\n",
      "  _warn_prf(average, modifier, f\"{metric.capitalize()} is\", result.shape[0])\n",
      "/data/foundation_model/.venv/lib/python3.12/site-packages/sklearn/metrics/_classification.py:1731: UndefinedMetricWarning: Precision is ill-defined and being set to 0.0 in labels with no predicted samples. Use `zero_division` parameter to control this behavior.\n",
      "  _warn_prf(average, modifier, f\"{metric.capitalize()} is\", result.shape[0])\n",
      "/data/foundation_model/.venv/lib/python3.12/site-packages/sklearn/metrics/_classification.py:1731: UndefinedMetricWarning: Precision is ill-defined and being set to 0.0 in labels with no predicted samples. Use `zero_division` parameter to control this behavior.\n",
      "  _warn_prf(average, modifier, f\"{metric.capitalize()} is\", result.shape[0])\n"
     ]
    },
    {
     "name": "stdout",
     "output_type": "stream",
     "text": [
      "              precision    recall  f1-score   support\n",
      "\n",
      "         DAC     0.0000    0.0000    0.0000         1\n",
      "         DQC     1.0000    1.0000    1.0000         3\n",
      "         IAC     0.9048    0.7917    0.8444        24\n",
      "         IQC     0.8636    0.6786    0.7600        28\n",
      "      others     0.9982    0.9996    0.9989      7298\n",
      "\n",
      "    accuracy                         0.9976      7354\n",
      "   macro avg     0.7533    0.6940    0.7207      7354\n",
      "weighted avg     0.9973    0.9976    0.9974      7354\n",
      "\n",
      "              precision    recall  f1-score   support\n",
      "\n",
      "         DAC     1.0000    1.0000    1.0000         2\n",
      "         DQC     1.0000    1.0000    1.0000         3\n",
      "         IAC     1.0000    1.0000    1.0000        29\n",
      "         IQC     0.9828    0.9828    0.9828        58\n",
      "      others     0.9999    0.9999    0.9999     13626\n",
      "\n",
      "    accuracy                         0.9999     13718\n",
      "   macro avg     0.9965    0.9965    0.9965     13718\n",
      "weighted avg     0.9999    0.9999    0.9999     13718\n",
      "\n",
      "              precision    recall  f1-score   support\n",
      "\n",
      "         DAC     0.0000    0.0000    0.0000         1\n",
      "         DQC     0.5000    0.3333    0.4000         3\n",
      "         IAC     0.8333    0.8333    0.8333        24\n",
      "         IQC     0.7586    0.7857    0.7719        28\n",
      "      others     0.9990    0.9990    0.9990      7298\n",
      "\n",
      "    accuracy                         0.9973      7354\n",
      "   macro avg     0.6182    0.5903    0.6009      7354\n",
      "weighted avg     0.9972    0.9973    0.9973      7354\n",
      "\n",
      "              precision    recall  f1-score   support\n",
      "\n",
      "         DAC     1.0000    1.0000    1.0000         3\n",
      "         DQC     1.0000    1.0000    1.0000         2\n",
      "         IAC     1.0000    1.0000    1.0000        39\n",
      "         IQC     0.9630    0.9811    0.9720        53\n",
      "      others     0.9999    0.9999    0.9999     13621\n",
      "\n",
      "    accuracy                         0.9998     13718\n",
      "   macro avg     0.9926    0.9962    0.9944     13718\n",
      "weighted avg     0.9998    0.9998    0.9998     13718\n",
      "\n"
     ]
    },
    {
     "name": "stderr",
     "output_type": "stream",
     "text": [
      "/data/foundation_model/.venv/lib/python3.12/site-packages/sklearn/metrics/_classification.py:1731: UndefinedMetricWarning: Precision is ill-defined and being set to 0.0 in labels with no predicted samples. Use `zero_division` parameter to control this behavior.\n",
      "  _warn_prf(average, modifier, f\"{metric.capitalize()} is\", result.shape[0])\n",
      "/data/foundation_model/.venv/lib/python3.12/site-packages/sklearn/metrics/_classification.py:1731: UndefinedMetricWarning: Precision is ill-defined and being set to 0.0 in labels with no predicted samples. Use `zero_division` parameter to control this behavior.\n",
      "  _warn_prf(average, modifier, f\"{metric.capitalize()} is\", result.shape[0])\n",
      "/data/foundation_model/.venv/lib/python3.12/site-packages/sklearn/metrics/_classification.py:1731: UndefinedMetricWarning: Precision is ill-defined and being set to 0.0 in labels with no predicted samples. Use `zero_division` parameter to control this behavior.\n",
      "  _warn_prf(average, modifier, f\"{metric.capitalize()} is\", result.shape[0])\n"
     ]
    },
    {
     "ename": "ValueError",
     "evalue": "Number of classes, 4, does not match size of target_names, 5. Try specifying the labels parameter",
     "output_type": "error",
     "traceback": [
      "\u001b[31m---------------------------------------------------------------------------\u001b[39m",
      "\u001b[31mValueError\u001b[39m                                Traceback (most recent call last)",
      "\u001b[36mCell\u001b[39m\u001b[36m \u001b[39m\u001b[32mIn[4]\u001b[39m\u001b[32m, line 65\u001b[39m\n\u001b[32m     62\u001b[39m joblib.dump(clf, save_dir / \u001b[33m\"\u001b[39m\u001b[33mclf_model.pkl.z\u001b[39m\u001b[33m\"\u001b[39m)\n\u001b[32m     64\u001b[39m test_report = classification_report(y_test, y_pred, target_names=le.classes_, digits=\u001b[32m4\u001b[39m, output_dict=\u001b[38;5;28;01mTrue\u001b[39;00m)\n\u001b[32m---> \u001b[39m\u001b[32m65\u001b[39m train_report = \u001b[43mclassification_report\u001b[49m\u001b[43m(\u001b[49m\n\u001b[32m     66\u001b[39m \u001b[43m    \u001b[49m\u001b[43my_fit_true\u001b[49m\u001b[43m,\u001b[49m\u001b[43m \u001b[49m\u001b[43my_fit_pred\u001b[49m\u001b[43m,\u001b[49m\u001b[43m \u001b[49m\u001b[43mtarget_names\u001b[49m\u001b[43m=\u001b[49m\u001b[43mle\u001b[49m\u001b[43m.\u001b[49m\u001b[43mclasses_\u001b[49m\u001b[43m,\u001b[49m\u001b[43m \u001b[49m\u001b[43mdigits\u001b[49m\u001b[43m=\u001b[49m\u001b[32;43m4\u001b[39;49m\u001b[43m,\u001b[49m\u001b[43m \u001b[49m\u001b[43moutput_dict\u001b[49m\u001b[43m=\u001b[49m\u001b[38;5;28;43;01mTrue\u001b[39;49;00m\n\u001b[32m     67\u001b[39m \u001b[43m\u001b[49m\u001b[43m)\u001b[49m\n\u001b[32m     69\u001b[39m \u001b[38;5;66;03m# 混淆矩阵\u001b[39;00m\n\u001b[32m     70\u001b[39m fig, (ax1, ax2) = plt.subplots(\u001b[32m1\u001b[39m, \u001b[32m2\u001b[39m, figsize=(\u001b[32m21\u001b[39m, \u001b[32m8\u001b[39m), sharey=\u001b[38;5;28;01mTrue\u001b[39;00m, dpi=\u001b[32m130\u001b[39m)\n",
      "\u001b[36mFile \u001b[39m\u001b[32m/data/foundation_model/.venv/lib/python3.12/site-packages/sklearn/utils/_param_validation.py:218\u001b[39m, in \u001b[36mvalidate_params.<locals>.decorator.<locals>.wrapper\u001b[39m\u001b[34m(*args, **kwargs)\u001b[39m\n\u001b[32m    212\u001b[39m \u001b[38;5;28;01mtry\u001b[39;00m:\n\u001b[32m    213\u001b[39m     \u001b[38;5;28;01mwith\u001b[39;00m config_context(\n\u001b[32m    214\u001b[39m         skip_parameter_validation=(\n\u001b[32m    215\u001b[39m             prefer_skip_nested_validation \u001b[38;5;129;01mor\u001b[39;00m global_skip_validation\n\u001b[32m    216\u001b[39m         )\n\u001b[32m    217\u001b[39m     ):\n\u001b[32m--> \u001b[39m\u001b[32m218\u001b[39m         \u001b[38;5;28;01mreturn\u001b[39;00m \u001b[43mfunc\u001b[49m\u001b[43m(\u001b[49m\u001b[43m*\u001b[49m\u001b[43margs\u001b[49m\u001b[43m,\u001b[49m\u001b[43m \u001b[49m\u001b[43m*\u001b[49m\u001b[43m*\u001b[49m\u001b[43mkwargs\u001b[49m\u001b[43m)\u001b[49m\n\u001b[32m    219\u001b[39m \u001b[38;5;28;01mexcept\u001b[39;00m InvalidParameterError \u001b[38;5;28;01mas\u001b[39;00m e:\n\u001b[32m    220\u001b[39m     \u001b[38;5;66;03m# When the function is just a wrapper around an estimator, we allow\u001b[39;00m\n\u001b[32m    221\u001b[39m     \u001b[38;5;66;03m# the function to delegate validation to the estimator, but we replace\u001b[39;00m\n\u001b[32m    222\u001b[39m     \u001b[38;5;66;03m# the name of the estimator by the name of the function in the error\u001b[39;00m\n\u001b[32m    223\u001b[39m     \u001b[38;5;66;03m# message to avoid confusion.\u001b[39;00m\n\u001b[32m    224\u001b[39m     msg = re.sub(\n\u001b[32m    225\u001b[39m         \u001b[33mr\u001b[39m\u001b[33m\"\u001b[39m\u001b[33mparameter of \u001b[39m\u001b[33m\\\u001b[39m\u001b[33mw+ must be\u001b[39m\u001b[33m\"\u001b[39m,\n\u001b[32m    226\u001b[39m         \u001b[33mf\u001b[39m\u001b[33m\"\u001b[39m\u001b[33mparameter of \u001b[39m\u001b[38;5;132;01m{\u001b[39;00mfunc.\u001b[34m__qualname__\u001b[39m\u001b[38;5;132;01m}\u001b[39;00m\u001b[33m must be\u001b[39m\u001b[33m\"\u001b[39m,\n\u001b[32m    227\u001b[39m         \u001b[38;5;28mstr\u001b[39m(e),\n\u001b[32m    228\u001b[39m     )\n",
      "\u001b[36mFile \u001b[39m\u001b[32m/data/foundation_model/.venv/lib/python3.12/site-packages/sklearn/metrics/_classification.py:2970\u001b[39m, in \u001b[36mclassification_report\u001b[39m\u001b[34m(y_true, y_pred, labels, target_names, sample_weight, digits, output_dict, zero_division)\u001b[39m\n\u001b[32m   2964\u001b[39m         warnings.warn(\n\u001b[32m   2965\u001b[39m             \u001b[33m\"\u001b[39m\u001b[33mlabels size, \u001b[39m\u001b[38;5;132;01m{0}\u001b[39;00m\u001b[33m, does not match size of target_names, \u001b[39m\u001b[38;5;132;01m{1}\u001b[39;00m\u001b[33m\"\u001b[39m.format(\n\u001b[32m   2966\u001b[39m                 \u001b[38;5;28mlen\u001b[39m(labels), \u001b[38;5;28mlen\u001b[39m(target_names)\n\u001b[32m   2967\u001b[39m             )\n\u001b[32m   2968\u001b[39m         )\n\u001b[32m   2969\u001b[39m     \u001b[38;5;28;01melse\u001b[39;00m:\n\u001b[32m-> \u001b[39m\u001b[32m2970\u001b[39m         \u001b[38;5;28;01mraise\u001b[39;00m \u001b[38;5;167;01mValueError\u001b[39;00m(\n\u001b[32m   2971\u001b[39m             \u001b[33m\"\u001b[39m\u001b[33mNumber of classes, \u001b[39m\u001b[38;5;132;01m{0}\u001b[39;00m\u001b[33m, does not match size of \u001b[39m\u001b[33m\"\u001b[39m\n\u001b[32m   2972\u001b[39m             \u001b[33m\"\u001b[39m\u001b[33mtarget_names, \u001b[39m\u001b[38;5;132;01m{1}\u001b[39;00m\u001b[33m. Try specifying the labels \u001b[39m\u001b[33m\"\u001b[39m\n\u001b[32m   2973\u001b[39m             \u001b[33m\"\u001b[39m\u001b[33mparameter\u001b[39m\u001b[33m\"\u001b[39m.format(\u001b[38;5;28mlen\u001b[39m(labels), \u001b[38;5;28mlen\u001b[39m(target_names))\n\u001b[32m   2974\u001b[39m         )\n\u001b[32m   2975\u001b[39m \u001b[38;5;28;01mif\u001b[39;00m target_names \u001b[38;5;129;01mis\u001b[39;00m \u001b[38;5;28;01mNone\u001b[39;00m:\n\u001b[32m   2976\u001b[39m     target_names = [\u001b[33m\"\u001b[39m\u001b[38;5;132;01m%s\u001b[39;00m\u001b[33m\"\u001b[39m % l \u001b[38;5;28;01mfor\u001b[39;00m l \u001b[38;5;129;01min\u001b[39;00m labels]\n",
      "\u001b[31mValueError\u001b[39m: Number of classes, 4, does not match size of target_names, 5. Try specifying the labels parameter"
     ]
    },
    {
     "data": {
      "text/plain": [
       "<Figure size 2730x1040 with 0 Axes>"
      ]
     },
     "metadata": {},
     "output_type": "display_data"
    },
    {
     "data": {
      "text/plain": [
       "<Figure size 3150x1200 with 0 Axes>"
      ]
     },
     "metadata": {},
     "output_type": "display_data"
    },
    {
     "data": {
      "text/plain": [
       "<Figure size 2730x1040 with 0 Axes>"
      ]
     },
     "metadata": {},
     "output_type": "display_data"
    },
    {
     "data": {
      "text/plain": [
       "<Figure size 3150x1200 with 0 Axes>"
      ]
     },
     "metadata": {},
     "output_type": "display_data"
    },
    {
     "data": {
      "text/plain": [
       "<Figure size 2730x1040 with 0 Axes>"
      ]
     },
     "metadata": {},
     "output_type": "display_data"
    },
    {
     "data": {
      "text/plain": [
       "<Figure size 3150x1200 with 0 Axes>"
      ]
     },
     "metadata": {},
     "output_type": "display_data"
    },
    {
     "data": {
      "text/plain": [
       "<Figure size 2730x1040 with 0 Axes>"
      ]
     },
     "metadata": {},
     "output_type": "display_data"
    },
    {
     "data": {
      "text/plain": [
       "<Figure size 3150x1200 with 0 Axes>"
      ]
     },
     "metadata": {},
     "output_type": "display_data"
    },
    {
     "data": {
      "text/plain": [
       "<Figure size 2730x1040 with 0 Axes>"
      ]
     },
     "metadata": {},
     "output_type": "display_data"
    },
    {
     "data": {
      "text/plain": [
       "<Figure size 3150x1200 with 0 Axes>"
      ]
     },
     "metadata": {},
     "output_type": "display_data"
    },
    {
     "data": {
      "text/plain": [
       "<Figure size 2730x1040 with 0 Axes>"
      ]
     },
     "metadata": {},
     "output_type": "display_data"
    },
    {
     "data": {
      "text/plain": [
       "<Figure size 3150x1200 with 0 Axes>"
      ]
     },
     "metadata": {},
     "output_type": "display_data"
    },
    {
     "data": {
      "text/plain": [
       "<Figure size 2730x1040 with 0 Axes>"
      ]
     },
     "metadata": {},
     "output_type": "display_data"
    },
    {
     "data": {
      "text/plain": [
       "<Figure size 3150x1200 with 0 Axes>"
      ]
     },
     "metadata": {},
     "output_type": "display_data"
    },
    {
     "data": {
      "text/plain": [
       "<Figure size 2730x1040 with 0 Axes>"
      ]
     },
     "metadata": {},
     "output_type": "display_data"
    },
    {
     "data": {
      "text/plain": [
       "<Figure size 3150x1200 with 0 Axes>"
      ]
     },
     "metadata": {},
     "output_type": "display_data"
    },
    {
     "data": {
      "text/plain": [
       "<Figure size 2730x1040 with 0 Axes>"
      ]
     },
     "metadata": {},
     "output_type": "display_data"
    },
    {
     "data": {
      "text/plain": [
       "<Figure size 3150x1200 with 0 Axes>"
      ]
     },
     "metadata": {},
     "output_type": "display_data"
    },
    {
     "data": {
      "text/plain": [
       "<Figure size 2730x1040 with 0 Axes>"
      ]
     },
     "metadata": {},
     "output_type": "display_data"
    },
    {
     "data": {
      "text/plain": [
       "<Figure size 3150x1200 with 0 Axes>"
      ]
     },
     "metadata": {},
     "output_type": "display_data"
    },
    {
     "data": {
      "text/plain": [
       "<Figure size 2730x1040 with 0 Axes>"
      ]
     },
     "metadata": {},
     "output_type": "display_data"
    },
    {
     "data": {
      "text/plain": [
       "<Figure size 3150x1200 with 0 Axes>"
      ]
     },
     "metadata": {},
     "output_type": "display_data"
    },
    {
     "data": {
      "text/plain": [
       "<Figure size 2730x1040 with 0 Axes>"
      ]
     },
     "metadata": {},
     "output_type": "display_data"
    },
    {
     "data": {
      "text/plain": [
       "<Figure size 3150x1200 with 0 Axes>"
      ]
     },
     "metadata": {},
     "output_type": "display_data"
    },
    {
     "data": {
      "text/plain": [
       "<Figure size 2730x1040 with 0 Axes>"
      ]
     },
     "metadata": {},
     "output_type": "display_data"
    },
    {
     "data": {
      "text/plain": [
       "<Figure size 3150x1200 with 0 Axes>"
      ]
     },
     "metadata": {},
     "output_type": "display_data"
    },
    {
     "data": {
      "text/plain": [
       "<Figure size 2730x1040 with 0 Axes>"
      ]
     },
     "metadata": {},
     "output_type": "display_data"
    },
    {
     "data": {
      "text/plain": [
       "<Figure size 3150x1200 with 0 Axes>"
      ]
     },
     "metadata": {},
     "output_type": "display_data"
    },
    {
     "data": {
      "text/plain": [
       "<Figure size 2730x1040 with 0 Axes>"
      ]
     },
     "metadata": {},
     "output_type": "display_data"
    },
    {
     "data": {
      "text/plain": [
       "<Figure size 3150x1200 with 0 Axes>"
      ]
     },
     "metadata": {},
     "output_type": "display_data"
    },
    {
     "data": {
      "text/plain": [
       "<Figure size 2730x1040 with 0 Axes>"
      ]
     },
     "metadata": {},
     "output_type": "display_data"
    },
    {
     "data": {
      "text/plain": [
       "<Figure size 3150x1200 with 0 Axes>"
      ]
     },
     "metadata": {},
     "output_type": "display_data"
    },
    {
     "data": {
      "text/plain": [
       "<Figure size 2730x1040 with 0 Axes>"
      ]
     },
     "metadata": {},
     "output_type": "display_data"
    },
    {
     "data": {
      "text/plain": [
       "<Figure size 3150x1200 with 0 Axes>"
      ]
     },
     "metadata": {},
     "output_type": "display_data"
    },
    {
     "data": {
      "text/plain": [
       "<Figure size 2730x1040 with 0 Axes>"
      ]
     },
     "metadata": {},
     "output_type": "display_data"
    },
    {
     "data": {
      "text/plain": [
       "<Figure size 3150x1200 with 0 Axes>"
      ]
     },
     "metadata": {},
     "output_type": "display_data"
    },
    {
     "data": {
      "text/plain": [
       "<Figure size 2730x1040 with 0 Axes>"
      ]
     },
     "metadata": {},
     "output_type": "display_data"
    },
    {
     "data": {
      "text/plain": [
       "<Figure size 3150x1200 with 0 Axes>"
      ]
     },
     "metadata": {},
     "output_type": "display_data"
    },
    {
     "data": {
      "text/plain": [
       "<Figure size 2730x1040 with 0 Axes>"
      ]
     },
     "metadata": {},
     "output_type": "display_data"
    },
    {
     "data": {
      "text/plain": [
       "<Figure size 3150x1200 with 0 Axes>"
      ]
     },
     "metadata": {},
     "output_type": "display_data"
    },
    {
     "data": {
      "text/plain": [
       "<Figure size 2730x1040 with 0 Axes>"
      ]
     },
     "metadata": {},
     "output_type": "display_data"
    },
    {
     "data": {
      "text/plain": [
       "<Figure size 3150x1200 with 0 Axes>"
      ]
     },
     "metadata": {},
     "output_type": "display_data"
    },
    {
     "data": {
      "text/plain": [
       "<Figure size 2730x1040 with 0 Axes>"
      ]
     },
     "metadata": {},
     "output_type": "display_data"
    },
    {
     "data": {
      "text/plain": [
       "<Figure size 3150x1200 with 0 Axes>"
      ]
     },
     "metadata": {},
     "output_type": "display_data"
    },
    {
     "data": {
      "text/plain": [
       "<Figure size 2730x1040 with 0 Axes>"
      ]
     },
     "metadata": {},
     "output_type": "display_data"
    },
    {
     "data": {
      "text/plain": [
       "<Figure size 3150x1200 with 0 Axes>"
      ]
     },
     "metadata": {},
     "output_type": "display_data"
    },
    {
     "data": {
      "text/plain": [
       "<Figure size 2730x1040 with 0 Axes>"
      ]
     },
     "metadata": {},
     "output_type": "display_data"
    },
    {
     "data": {
      "text/plain": [
       "<Figure size 3150x1200 with 0 Axes>"
      ]
     },
     "metadata": {},
     "output_type": "display_data"
    },
    {
     "data": {
      "text/plain": [
       "<Figure size 2730x1040 with 0 Axes>"
      ]
     },
     "metadata": {},
     "output_type": "display_data"
    },
    {
     "data": {
      "text/plain": [
       "<Figure size 3150x1200 with 0 Axes>"
      ]
     },
     "metadata": {},
     "output_type": "display_data"
    },
    {
     "data": {
      "text/plain": [
       "<Figure size 2730x1040 with 0 Axes>"
      ]
     },
     "metadata": {},
     "output_type": "display_data"
    },
    {
     "data": {
      "text/plain": [
       "<Figure size 3150x1200 with 0 Axes>"
      ]
     },
     "metadata": {},
     "output_type": "display_data"
    },
    {
     "data": {
      "text/plain": [
       "<Figure size 2730x1040 with 0 Axes>"
      ]
     },
     "metadata": {},
     "output_type": "display_data"
    },
    {
     "data": {
      "text/plain": [
       "<Figure size 3150x1200 with 0 Axes>"
      ]
     },
     "metadata": {},
     "output_type": "display_data"
    },
    {
     "data": {
      "text/plain": [
       "<Figure size 2730x1040 with 0 Axes>"
      ]
     },
     "metadata": {},
     "output_type": "display_data"
    },
    {
     "data": {
      "text/plain": [
       "<Figure size 3150x1200 with 0 Axes>"
      ]
     },
     "metadata": {},
     "output_type": "display_data"
    },
    {
     "data": {
      "text/plain": [
       "<Figure size 2730x1040 with 0 Axes>"
      ]
     },
     "metadata": {},
     "output_type": "display_data"
    },
    {
     "data": {
      "text/plain": [
       "<Figure size 3150x1200 with 0 Axes>"
      ]
     },
     "metadata": {},
     "output_type": "display_data"
    },
    {
     "data": {
      "text/plain": [
       "<Figure size 2730x1040 with 0 Axes>"
      ]
     },
     "metadata": {},
     "output_type": "display_data"
    },
    {
     "data": {
      "text/plain": [
       "<Figure size 3150x1200 with 0 Axes>"
      ]
     },
     "metadata": {},
     "output_type": "display_data"
    },
    {
     "data": {
      "text/plain": [
       "<Figure size 2730x1040 with 0 Axes>"
      ]
     },
     "metadata": {},
     "output_type": "display_data"
    },
    {
     "data": {
      "text/plain": [
       "<Figure size 3150x1200 with 0 Axes>"
      ]
     },
     "metadata": {},
     "output_type": "display_data"
    },
    {
     "data": {
      "text/plain": [
       "<Figure size 2730x1040 with 0 Axes>"
      ]
     },
     "metadata": {},
     "output_type": "display_data"
    },
    {
     "data": {
      "text/plain": [
       "<Figure size 3150x1200 with 0 Axes>"
      ]
     },
     "metadata": {},
     "output_type": "display_data"
    },
    {
     "data": {
      "text/plain": [
       "<Figure size 2730x1040 with 0 Axes>"
      ]
     },
     "metadata": {},
     "output_type": "display_data"
    },
    {
     "data": {
      "text/plain": [
       "<Figure size 3150x1200 with 0 Axes>"
      ]
     },
     "metadata": {},
     "output_type": "display_data"
    },
    {
     "data": {
      "text/plain": [
       "<Figure size 2730x1040 with 0 Axes>"
      ]
     },
     "metadata": {},
     "output_type": "display_data"
    },
    {
     "data": {
      "text/plain": [
       "<Figure size 3150x1200 with 0 Axes>"
      ]
     },
     "metadata": {},
     "output_type": "display_data"
    },
    {
     "data": {
      "text/plain": [
       "<Figure size 2730x1040 with 0 Axes>"
      ]
     },
     "metadata": {},
     "output_type": "display_data"
    },
    {
     "data": {
      "text/plain": [
       "<Figure size 3150x1200 with 0 Axes>"
      ]
     },
     "metadata": {},
     "output_type": "display_data"
    },
    {
     "data": {
      "text/plain": [
       "<Figure size 2730x1040 with 0 Axes>"
      ]
     },
     "metadata": {},
     "output_type": "display_data"
    },
    {
     "data": {
      "text/plain": [
       "<Figure size 3150x1200 with 0 Axes>"
      ]
     },
     "metadata": {},
     "output_type": "display_data"
    },
    {
     "data": {
      "text/plain": [
       "<Figure size 2730x1040 with 0 Axes>"
      ]
     },
     "metadata": {},
     "output_type": "display_data"
    },
    {
     "data": {
      "text/plain": [
       "<Figure size 3150x1200 with 0 Axes>"
      ]
     },
     "metadata": {},
     "output_type": "display_data"
    },
    {
     "data": {
      "text/plain": [
       "<Figure size 2730x1040 with 0 Axes>"
      ]
     },
     "metadata": {},
     "output_type": "display_data"
    },
    {
     "data": {
      "text/plain": [
       "<Figure size 3150x1200 with 0 Axes>"
      ]
     },
     "metadata": {},
     "output_type": "display_data"
    },
    {
     "data": {
      "text/plain": [
       "<Figure size 2730x1040 with 0 Axes>"
      ]
     },
     "metadata": {},
     "output_type": "display_data"
    },
    {
     "data": {
      "text/plain": [
       "<Figure size 3150x1200 with 0 Axes>"
      ]
     },
     "metadata": {},
     "output_type": "display_data"
    },
    {
     "data": {
      "text/plain": [
       "<Figure size 2730x1040 with 0 Axes>"
      ]
     },
     "metadata": {},
     "output_type": "display_data"
    },
    {
     "data": {
      "text/plain": [
       "<Figure size 3150x1200 with 0 Axes>"
      ]
     },
     "metadata": {},
     "output_type": "display_data"
    },
    {
     "data": {
      "text/plain": [
       "<Figure size 2730x1040 with 0 Axes>"
      ]
     },
     "metadata": {},
     "output_type": "display_data"
    },
    {
     "data": {
      "text/plain": [
       "<Figure size 3150x1200 with 0 Axes>"
      ]
     },
     "metadata": {},
     "output_type": "display_data"
    },
    {
     "data": {
      "text/plain": [
       "<Figure size 2730x1040 with 0 Axes>"
      ]
     },
     "metadata": {},
     "output_type": "display_data"
    },
    {
     "data": {
      "text/plain": [
       "<Figure size 3150x1200 with 0 Axes>"
      ]
     },
     "metadata": {},
     "output_type": "display_data"
    },
    {
     "data": {
      "text/plain": [
       "<Figure size 2730x1040 with 0 Axes>"
      ]
     },
     "metadata": {},
     "output_type": "display_data"
    },
    {
     "data": {
      "text/plain": [
       "<Figure size 3150x1200 with 0 Axes>"
      ]
     },
     "metadata": {},
     "output_type": "display_data"
    },
    {
     "data": {
      "text/plain": [
       "<Figure size 2730x1040 with 0 Axes>"
      ]
     },
     "metadata": {},
     "output_type": "display_data"
    },
    {
     "data": {
      "text/plain": [
       "<Figure size 3150x1200 with 0 Axes>"
      ]
     },
     "metadata": {},
     "output_type": "display_data"
    },
    {
     "data": {
      "text/plain": [
       "<Figure size 2730x1040 with 0 Axes>"
      ]
     },
     "metadata": {},
     "output_type": "display_data"
    },
    {
     "data": {
      "text/plain": [
       "<Figure size 3150x1200 with 0 Axes>"
      ]
     },
     "metadata": {},
     "output_type": "display_data"
    },
    {
     "data": {
      "text/plain": [
       "<Figure size 2730x1040 with 0 Axes>"
      ]
     },
     "metadata": {},
     "output_type": "display_data"
    },
    {
     "data": {
      "text/plain": [
       "<Figure size 3150x1200 with 0 Axes>"
      ]
     },
     "metadata": {},
     "output_type": "display_data"
    },
    {
     "data": {
      "text/plain": [
       "<Figure size 2730x1040 with 0 Axes>"
      ]
     },
     "metadata": {},
     "output_type": "display_data"
    },
    {
     "data": {
      "text/plain": [
       "<Figure size 3150x1200 with 0 Axes>"
      ]
     },
     "metadata": {},
     "output_type": "display_data"
    },
    {
     "data": {
      "text/plain": [
       "<Figure size 2730x1040 with 0 Axes>"
      ]
     },
     "metadata": {},
     "output_type": "display_data"
    },
    {
     "data": {
      "text/plain": [
       "<Figure size 3150x1200 with 0 Axes>"
      ]
     },
     "metadata": {},
     "output_type": "display_data"
    },
    {
     "data": {
      "text/plain": [
       "<Figure size 2730x1040 with 0 Axes>"
      ]
     },
     "metadata": {},
     "output_type": "display_data"
    },
    {
     "data": {
      "text/plain": [
       "<Figure size 3150x1200 with 0 Axes>"
      ]
     },
     "metadata": {},
     "output_type": "display_data"
    },
    {
     "data": {
      "text/plain": [
       "<Figure size 2730x1040 with 0 Axes>"
      ]
     },
     "metadata": {},
     "output_type": "display_data"
    },
    {
     "data": {
      "text/plain": [
       "<Figure size 3150x1200 with 0 Axes>"
      ]
     },
     "metadata": {},
     "output_type": "display_data"
    },
    {
     "data": {
      "text/plain": [
       "<Figure size 2730x1040 with 0 Axes>"
      ]
     },
     "metadata": {},
     "output_type": "display_data"
    },
    {
     "data": {
      "text/plain": [
       "<Figure size 3150x1200 with 0 Axes>"
      ]
     },
     "metadata": {},
     "output_type": "display_data"
    },
    {
     "data": {
      "text/plain": [
       "<Figure size 2730x1040 with 0 Axes>"
      ]
     },
     "metadata": {},
     "output_type": "display_data"
    },
    {
     "data": {
      "text/plain": [
       "<Figure size 3150x1200 with 0 Axes>"
      ]
     },
     "metadata": {},
     "output_type": "display_data"
    },
    {
     "data": {
      "text/plain": [
       "<Figure size 2730x1040 with 0 Axes>"
      ]
     },
     "metadata": {},
     "output_type": "display_data"
    },
    {
     "data": {
      "text/plain": [
       "<Figure size 3150x1200 with 0 Axes>"
      ]
     },
     "metadata": {},
     "output_type": "display_data"
    },
    {
     "data": {
      "text/plain": [
       "<Figure size 2730x1040 with 0 Axes>"
      ]
     },
     "metadata": {},
     "output_type": "display_data"
    },
    {
     "data": {
      "text/plain": [
       "<Figure size 3150x1200 with 0 Axes>"
      ]
     },
     "metadata": {},
     "output_type": "display_data"
    },
    {
     "data": {
      "text/plain": [
       "<Figure size 2730x1040 with 0 Axes>"
      ]
     },
     "metadata": {},
     "output_type": "display_data"
    },
    {
     "data": {
      "text/plain": [
       "<Figure size 3150x1200 with 0 Axes>"
      ]
     },
     "metadata": {},
     "output_type": "display_data"
    },
    {
     "data": {
      "text/plain": [
       "<Figure size 2730x1040 with 0 Axes>"
      ]
     },
     "metadata": {},
     "output_type": "display_data"
    },
    {
     "data": {
      "text/plain": [
       "<Figure size 3150x1200 with 0 Axes>"
      ]
     },
     "metadata": {},
     "output_type": "display_data"
    },
    {
     "data": {
      "text/plain": [
       "<Figure size 2730x1040 with 0 Axes>"
      ]
     },
     "metadata": {},
     "output_type": "display_data"
    },
    {
     "data": {
      "text/plain": [
       "<Figure size 3150x1200 with 0 Axes>"
      ]
     },
     "metadata": {},
     "output_type": "display_data"
    },
    {
     "data": {
      "text/plain": [
       "<Figure size 2730x1040 with 0 Axes>"
      ]
     },
     "metadata": {},
     "output_type": "display_data"
    },
    {
     "data": {
      "text/plain": [
       "<Figure size 3150x1200 with 0 Axes>"
      ]
     },
     "metadata": {},
     "output_type": "display_data"
    },
    {
     "data": {
      "text/plain": [
       "<Figure size 2730x1040 with 0 Axes>"
      ]
     },
     "metadata": {},
     "output_type": "display_data"
    },
    {
     "data": {
      "text/plain": [
       "<Figure size 3150x1200 with 0 Axes>"
      ]
     },
     "metadata": {},
     "output_type": "display_data"
    },
    {
     "data": {
      "text/plain": [
       "<Figure size 2730x1040 with 0 Axes>"
      ]
     },
     "metadata": {},
     "output_type": "display_data"
    },
    {
     "data": {
      "text/plain": [
       "<Figure size 3150x1200 with 0 Axes>"
      ]
     },
     "metadata": {},
     "output_type": "display_data"
    },
    {
     "data": {
      "text/plain": [
       "<Figure size 2730x1040 with 0 Axes>"
      ]
     },
     "metadata": {},
     "output_type": "display_data"
    },
    {
     "data": {
      "text/plain": [
       "<Figure size 3150x1200 with 0 Axes>"
      ]
     },
     "metadata": {},
     "output_type": "display_data"
    },
    {
     "data": {
      "text/plain": [
       "<Figure size 2730x1040 with 0 Axes>"
      ]
     },
     "metadata": {},
     "output_type": "display_data"
    },
    {
     "data": {
      "text/plain": [
       "<Figure size 3150x1200 with 0 Axes>"
      ]
     },
     "metadata": {},
     "output_type": "display_data"
    },
    {
     "data": {
      "text/plain": [
       "<Figure size 2730x1040 with 0 Axes>"
      ]
     },
     "metadata": {},
     "output_type": "display_data"
    },
    {
     "data": {
      "text/plain": [
       "<Figure size 3150x1200 with 0 Axes>"
      ]
     },
     "metadata": {},
     "output_type": "display_data"
    },
    {
     "data": {
      "text/plain": [
       "<Figure size 2730x1040 with 0 Axes>"
      ]
     },
     "metadata": {},
     "output_type": "display_data"
    },
    {
     "data": {
      "text/plain": [
       "<Figure size 3150x1200 with 0 Axes>"
      ]
     },
     "metadata": {},
     "output_type": "display_data"
    },
    {
     "data": {
      "text/plain": [
       "<Figure size 2730x1040 with 0 Axes>"
      ]
     },
     "metadata": {},
     "output_type": "display_data"
    },
    {
     "data": {
      "text/plain": [
       "<Figure size 3150x1200 with 0 Axes>"
      ]
     },
     "metadata": {},
     "output_type": "display_data"
    },
    {
     "data": {
      "text/plain": [
       "<Figure size 2730x1040 with 0 Axes>"
      ]
     },
     "metadata": {},
     "output_type": "display_data"
    },
    {
     "data": {
      "text/plain": [
       "<Figure size 3150x1200 with 0 Axes>"
      ]
     },
     "metadata": {},
     "output_type": "display_data"
    }
   ],
   "source": [
    "import json\n",
    "from datetime import datetime\n",
    "from pathlib import Path\n",
    "\n",
    "import matplotlib.pyplot as plt\n",
    "import seaborn as sns\n",
    "from sklearn.ensemble import RandomForestClassifier\n",
    "from sklearn.metrics import classification_report, confusion_matrix\n",
    "\n",
    "N_TRY = 10\n",
    "prop_name = \"Material type\"\n",
    "# Experiment 1: Use Fourier features\n",
    "print(\"training for property:\", prop_name)\n",
    "\n",
    "for ratio in [1.0, 0.9, 0.8, 0.7, 0.6, 0.5, 0.4, 0.3]:\n",
    "    base_dir = Path(f\"logs/classification/{prop_name}/{datetime.now().strftime('%m%d_%H%M')}_r{ratio}\")\n",
    "\n",
    "    mask = all_data[f\"{prop_name}\"].notnull()\n",
    "    org_splits = all_data.loc[mask, \"split\"]\n",
    "    prop = all_data.loc[mask, f\"{prop_name}\"]\n",
    "\n",
    "    for n_try in range(N_TRY):\n",
    "        # 1. Setup logging directory\n",
    "        version = f\"trial_{n_try + 1}\"\n",
    "        save_dir = base_dir / \"predictions\" / version\n",
    "        save_dir.mkdir(parents=True, exist_ok=True)\n",
    "\n",
    "        splits = swap_train_val_split(org_splits, swap_ratio=0.5, random_seed=None, train_ratio=ratio)\n",
    "        splits.to_csv(f\"{save_dir}/data_split.csv\")\n",
    "\n",
    "        X_train = desc_trans.loc[splits[splits == \"train\"].index]\n",
    "        y_train = prop.loc[splits[splits == \"train\"].index]\n",
    "        X_test = desc_trans.loc[splits[splits == \"test\"].index]\n",
    "        y_test = prop.loc[splits[splits == \"test\"].index]\n",
    "\n",
    "        # 编码类别\n",
    "        le = preprocessing_object[\"material_type_label_encoder\"]\n",
    "        y_train_enc = le.transform(y_train)\n",
    "        y_test_enc = le.transform(y_test)\n",
    "\n",
    "        # 训练随机森林分类器\n",
    "        clf = RandomForestClassifier(\n",
    "            n_estimators=300, random_state=n_try, bootstrap=True, max_features=\"sqrt\", n_jobs=60\n",
    "        )\n",
    "        clf = clf.fit(X_train, y_train_enc)\n",
    "        y_pred_enc = clf.predict(X_test)\n",
    "        y_fit_pred_enc = clf.predict(X_train)\n",
    "        y_pred, y_true = le.inverse_transform(y_pred_enc), y_test.values\n",
    "        y_fit_pred, y_fit_true = le.inverse_transform(y_fit_pred_enc), y_train.values\n",
    "\n",
    "        # 保存预测结果\n",
    "        results = pd.concat(\n",
    "            [\n",
    "                pd.DataFrame({\"y_true\": y_fit_true, \"y_pred\": y_fit_pred, \"label\": \"train\"}, index=X_train.index),\n",
    "                pd.DataFrame({\"y_true\": y_true, \"y_pred\": y_pred, \"label\": \"test\"}, index=X_test.index),\n",
    "            ]\n",
    "        )\n",
    "        results.to_parquet(save_dir / \"clf_predictions.parquet\")\n",
    "        results.to_csv(save_dir / \"clf_predictions.csv\")\n",
    "\n",
    "        # 保存模型\n",
    "        joblib.dump(clf, save_dir / \"clf_model.pkl.z\")\n",
    "\n",
    "        test_report = classification_report(y_test, y_pred, target_names=le.classes_, digits=4, output_dict=True)\n",
    "        train_report = classification_report(\n",
    "            y_fit_true, y_fit_pred, target_names=le.classes_, digits=4, output_dict=True\n",
    "        )\n",
    "\n",
    "        # 混淆矩阵\n",
    "        fig, (ax1, ax2) = plt.subplots(1, 2, figsize=(21, 8), sharey=True, dpi=130)\n",
    "        plt.subplots_adjust(wspace=0.05)\n",
    "\n",
    "        # Confusion matrix\n",
    "        cm = confusion_matrix(y_true, y_pred, labels=le.classes_)\n",
    "        hm1 = sns.heatmap(\n",
    "            cm,\n",
    "            annot=True,\n",
    "            fmt=\"d\",\n",
    "            cmap=\"Blues\",\n",
    "            xticklabels=le.classes_,\n",
    "            yticklabels=le.classes_,\n",
    "            ax=ax1,\n",
    "            annot_kws={\"size\": 13},\n",
    "        )\n",
    "        ax1.set_xlabel(\"Predicted\", fontsize=18)\n",
    "        ax1.set_ylabel(\"True\", fontsize=18)\n",
    "        ax1.set_title(f\"{prop_name}\", fontsize=18)\n",
    "        ax1.tick_params(axis=\"both\", labelsize=13)\n",
    "        cbar1 = hm1.collections[0].colorbar\n",
    "        cbar1.ax.tick_params(labelsize=13)\n",
    "\n",
    "        # Normalized confusion matrix\n",
    "        cm_norm = confusion_matrix(y_test, y_pred, labels=le.classes_, normalize=\"true\")\n",
    "        hm2 = sns.heatmap(\n",
    "            cm_norm,\n",
    "            annot=True,\n",
    "            fmt=\".2f\",\n",
    "            cmap=\"Blues\",\n",
    "            xticklabels=le.classes_,\n",
    "            yticklabels=le.classes_,\n",
    "            ax=ax2,\n",
    "            annot_kws={\"size\": 13},\n",
    "        )\n",
    "        ax2.set_xlabel(\"Predicted\", fontsize=18)\n",
    "        ax2.set_title(f\"{prop_name} (Normalized)\", fontsize=18)\n",
    "        ax2.tick_params(axis=\"both\", labelsize=13)\n",
    "        cbar2 = hm2.collections[0].colorbar\n",
    "        cbar2.ax.tick_params(labelsize=13)\n",
    "\n",
    "        _ = fig.savefig(f\"{save_dir}/test_cm.png\", bbox_inches=\"tight\")\n",
    "        plt.cla()\n",
    "        plt.clf()\n",
    "\n",
    "        # 分类指标\n",
    "        print(classification_report(y_true, y_pred, target_names=le.classes_, digits=4))\n",
    "\n",
    "        # 混淆矩阵\n",
    "        fig, (ax1, ax2) = plt.subplots(1, 2, figsize=(21, 8), sharey=True, dpi=150)\n",
    "        plt.subplots_adjust(wspace=0.05)\n",
    "\n",
    "        # Confusion matrix\n",
    "        cm = confusion_matrix(y_fit_true, y_fit_pred, labels=le.classes_)\n",
    "        hm1 = sns.heatmap(\n",
    "            cm,\n",
    "            annot=True,\n",
    "            fmt=\"d\",\n",
    "            cmap=\"Blues\",\n",
    "            xticklabels=le.classes_,\n",
    "            yticklabels=le.classes_,\n",
    "            ax=ax1,\n",
    "            annot_kws={\"size\": 15},\n",
    "        )\n",
    "        ax1.set_xlabel(\"Predicted\", fontsize=18)\n",
    "        ax1.set_ylabel(\"True\", fontsize=18)\n",
    "        ax1.set_title(f\"{prop_name}\", fontsize=18)\n",
    "        ax1.tick_params(axis=\"both\", labelsize=13)\n",
    "        cbar1 = hm1.collections[0].colorbar\n",
    "        cbar1.ax.tick_params(labelsize=13)\n",
    "\n",
    "        # Normalized confusion matrix\n",
    "        cm_norm = confusion_matrix(y_fit_true, y_fit_pred, labels=le.classes_, normalize=\"true\")\n",
    "        hm2 = sns.heatmap(\n",
    "            cm_norm,\n",
    "            annot=True,\n",
    "            fmt=\".2f\",\n",
    "            cmap=\"Blues\",\n",
    "            xticklabels=le.classes_,\n",
    "            yticklabels=le.classes_,\n",
    "            ax=ax2,\n",
    "            annot_kws={\"size\": 13},\n",
    "        )\n",
    "        ax2.set_xlabel(\"Predicted\", fontsize=18)\n",
    "        ax2.set_title(f\"{prop_name} (Normalized)\", fontsize=18)\n",
    "        ax2.tick_params(axis=\"both\", labelsize=13)\n",
    "        cbar2 = hm2.collections[0].colorbar\n",
    "        cbar2.ax.tick_params(labelsize=13)\n",
    "\n",
    "        _ = fig.savefig(f\"{save_dir}/train_cm.png\", bbox_inches=\"tight\")\n",
    "        plt.cla()\n",
    "        plt.clf()\n",
    "\n",
    "        print(classification_report(y_fit_true, y_fit_pred, target_names=le.classes_, digits=4))\n",
    "\n",
    "        metrics = {\"train\": train_report, \"test\": test_report}\n",
    "        with open(f\"{save_dir}/metrics.json\", \"w\") as f:\n",
    "            json.dump(metrics, f, indent=2)\n"
   ]
  },
  {
   "cell_type": "code",
   "execution_count": null,
   "id": "8d57a3d6",
   "metadata": {},
   "outputs": [],
   "source": []
  }
 ],
 "metadata": {
  "kernelspec": {
   "display_name": "foundation_model",
   "language": "python",
   "name": "python3"
  },
  "language_info": {
   "codemirror_mode": {
    "name": "ipython",
    "version": 3
   },
   "file_extension": ".py",
   "mimetype": "text/x-python",
   "name": "python",
   "nbconvert_exporter": "python",
   "pygments_lexer": "ipython3",
   "version": "3.12.3"
  }
 },
 "nbformat": 4,
 "nbformat_minor": 5
}
