{
 "cells": [
  {
   "cell_type": "code",
   "execution_count": 2,
   "id": "3fc5ada6",
   "metadata": {},
   "outputs": [
    {
     "name": "stderr",
     "output_type": "stream",
     "text": [
      "/data/foundation_model/.venv/lib/python3.12/site-packages/sklearn/base.py:442: InconsistentVersionWarning: Trying to unpickle estimator StandardScaler from version 1.7.0 when using version 1.7.1. This might lead to breaking code or invalid results. Use at your own risk. For more info please refer to:\n",
      "https://scikit-learn.org/stable/model_persistence.html#security-maintainability-limitations\n",
      "  warnings.warn(\n",
      "/data/foundation_model/.venv/lib/python3.12/site-packages/sklearn/base.py:442: InconsistentVersionWarning: Trying to unpickle estimator PowerTransformer from version 1.7.0 when using version 1.7.1. This might lead to breaking code or invalid results. Use at your own risk. For more info please refer to:\n",
      "https://scikit-learn.org/stable/model_persistence.html#security-maintainability-limitations\n",
      "  warnings.warn(\n",
      "/data/foundation_model/.venv/lib/python3.12/site-packages/sklearn/base.py:442: InconsistentVersionWarning: Trying to unpickle estimator Pipeline from version 1.7.0 when using version 1.7.1. This might lead to breaking code or invalid results. Use at your own risk. For more info please refer to:\n",
      "https://scikit-learn.org/stable/model_persistence.html#security-maintainability-limitations\n",
      "  warnings.warn(\n",
      "/data/foundation_model/.venv/lib/python3.12/site-packages/sklearn/base.py:442: InconsistentVersionWarning: Trying to unpickle estimator LabelEncoder from version 1.7.0 when using version 1.7.1. This might lead to breaking code or invalid results. Use at your own risk. For more info please refer to:\n",
      "https://scikit-learn.org/stable/model_persistence.html#security-maintainability-limitations\n",
      "  warnings.warn(\n"
     ]
    }
   ],
   "source": [
    "import joblib\n",
    "import numpy as np\n",
    "import pandas as pd\n",
    "\n",
    "preprocessing_object = joblib.load(\"/data/foundation_model/data/preprocessing_objects_20250615.pkl.z\")\n",
    "# print(preprocessing_object)\n",
    "\n",
    "all_data = (\n",
    "    pd.read_parquet(\"/data/foundation_model/data/qc_ac_te_mp_dos_reformat_20250615.pd.parquet\").drop(\n",
    "        index=preprocessing_object[\"dropped_idx\"]\n",
    "    )\n",
    "    # .reset_index(drop=True)\n",
    ")\n",
    "all_data.head(3)\n",
    "\n",
    "test_data = (\n",
    "    all_data[all_data[\"split\"] == \"test\"]\n",
    "    #  .reset_index(drop=True)\n",
    ")\n",
    "test_data.head(3)\n",
    "\n",
    "\n",
    "desc_trans = pd.read_parquet(\"/data/foundation_model/data/qc_ac_te_mp_dos_composition_desc_trans_20250615.pd.parquet\")\n"
   ]
  },
  {
   "cell_type": "code",
   "execution_count": 3,
   "id": "36da6ee5",
   "metadata": {},
   "outputs": [],
   "source": [
    "def swap_train_val_split(split, swap_ratio=0.1, random_seed=None, train_ratio: float = 1.0):\n",
    "    split = split.copy()\n",
    "    train_idx = split[split == \"train\"].index\n",
    "    val_idx = split[split == \"val\"].index\n",
    "\n",
    "    # 先交换\n",
    "    n_swap = int(min(len(train_idx), len(val_idx)) * swap_ratio)\n",
    "    if n_swap > 0:\n",
    "        rng = np.random.default_rng(random_seed)\n",
    "        swap_train = rng.choice(train_idx, n_swap, replace=False)\n",
    "        swap_val = rng.choice(val_idx, n_swap, replace=False)\n",
    "        split.loc[swap_train] = \"val\"\n",
    "        split.loc[swap_val] = \"train\"\n",
    "\n",
    "    # 再采样train\n",
    "    train_idx = split[split == \"train\"].index\n",
    "    if train_ratio < 1.0:\n",
    "        rng = np.random.default_rng(random_seed)\n",
    "        n_train = round(len(train_idx) * train_ratio)\n",
    "        sampled_train_idx = rng.choice(train_idx, n_train, replace=False)\n",
    "        # 其余train直接丢弃\n",
    "        drop_idx = train_idx.difference(sampled_train_idx)\n",
    "        split.loc[drop_idx] = np.nan\n",
    "\n",
    "    return split.dropna()\n"
   ]
  },
  {
   "cell_type": "raw",
   "id": "131dad25",
   "metadata": {
    "vscode": {
     "languageId": "raw"
    }
   },
   "source": [
    "# 测试 swap_train_val_split\n",
    "split = all_data[\"split\"].copy()\n",
    "print(\"原始分布：\")\n",
    "print(split.value_counts())\n",
    "\n",
    "swapped_split = swap_train_val_split(split, swap_ratio=0.2, random_seed=42, train_ratio=0.5)\n",
    "print(\"\\n交换并采样后的分布：\")\n",
    "print(swapped_split.value_counts())"
   ]
  },
  {
   "cell_type": "code",
   "execution_count": 4,
   "id": "40bde511",
   "metadata": {},
   "outputs": [],
   "source": [
    "prop_name = \"Material type\"\n",
    "\n",
    "mask = all_data[f\"{prop_name}\"].notnull()\n",
    "org_splits = all_data.loc[mask, \"split\"]\n",
    "prop = all_data.loc[mask, f\"{prop_name}\"]"
   ]
  },
  {
   "cell_type": "code",
   "execution_count": 6,
   "id": "d83b9ca2",
   "metadata": {},
   "outputs": [
    {
     "data": {
      "application/vnd.microsoft.datawrangler.viewer.v0+json": {
       "columns": [
        {
         "name": "id",
         "rawType": "object",
         "type": "string"
        },
        {
         "name": "split",
         "rawType": "object",
         "type": "string"
        }
       ],
       "ref": "6361a34b-c645-4bf9-b0d4-0314ffbd2e99",
       "rows": [
        [
         "mp-111",
         "val"
        ],
        [
         "mp-23158",
         "train"
        ],
        [
         "mp-23155",
         "train"
        ],
        [
         "mp-1525632",
         "val"
        ],
        [
         "mp-1095223",
         "val"
        ],
        [
         "mp-1524462",
         "train"
        ],
        [
         "mp-1213763",
         "test"
        ],
        [
         "mp-22848",
         "test"
        ],
        [
         "mp-753945",
         "test"
        ],
        [
         "mp-22869",
         "train"
        ],
        [
         "mp-31050",
         "train"
        ],
        [
         "mp-619575",
         "train"
        ],
        [
         "mp-23207",
         "train"
        ],
        [
         "mp-556500",
         "train"
        ],
        [
         "mp-2019727",
         "train"
        ],
        [
         "mp-29966",
         "train"
        ],
        [
         "mp-505727",
         "train"
        ],
        [
         "mp-754712",
         "val"
        ],
        [
         "mp-2789",
         "train"
        ],
        [
         "mp-154",
         "train"
        ],
        [
         "mp-1204579",
         "train"
        ],
        [
         "mp-30009",
         "train"
        ],
        [
         "mp-975590",
         "train"
        ],
        [
         "mp-23297",
         "test"
        ],
        [
         "mp-27987",
         "train"
        ],
        [
         "mp-36262",
         "train"
        ],
        [
         "mp-1524139",
         "train"
        ],
        [
         "mp-23154",
         "train"
        ],
        [
         "mp-29526",
         "train"
        ],
        [
         "mp-554129",
         "val"
        ],
        [
         "mp-28933",
         "val"
        ],
        [
         "mp-27988",
         "train"
        ],
        [
         "mp-27729",
         "train"
        ],
        [
         "mp-27639",
         "val"
        ],
        [
         "mp-1184879",
         "val"
        ],
        [
         "mp-23153",
         "val"
        ],
        [
         "mp-559377",
         "train"
        ],
        [
         "mp-29946",
         "train"
        ],
        [
         "mp-1188721",
         "train"
        ],
        [
         "mp-23261",
         "train"
        ],
        [
         "mp-567998",
         "train"
        ],
        [
         "mp-23257",
         "train"
        ],
        [
         "mp-972256",
         "train"
        ],
        [
         "mp-22885",
         "test"
        ],
        [
         "mp-23185",
         "train"
        ],
        [
         "mp-27782",
         "train"
        ],
        [
         "mp-561153",
         "test"
        ],
        [
         "mp-556244",
         "train"
        ],
        [
         "mp-23568",
         "train"
        ],
        [
         "mp-560366",
         "train"
        ]
       ],
       "shape": {
        "columns": 1,
        "rows": 48998
       }
      },
      "text/plain": [
       "id\n",
       "mp-111          val\n",
       "mp-23158      train\n",
       "mp-23155      train\n",
       "mp-1525632      val\n",
       "mp-1095223      val\n",
       "              ...  \n",
       "mp-1201016     test\n",
       "mp-581173     train\n",
       "mp-582182     train\n",
       "mp-1199833      val\n",
       "mp-1198953    train\n",
       "Name: split, Length: 48998, dtype: object"
      ]
     },
     "execution_count": 6,
     "metadata": {},
     "output_type": "execute_result"
    }
   ],
   "source": [
    "org_splits"
   ]
  },
  {
   "cell_type": "code",
   "execution_count": 4,
   "id": "f1d6212a",
   "metadata": {},
   "outputs": [
    {
     "name": "stdout",
     "output_type": "stream",
     "text": [
      "training for property: Material type\n",
      "              precision    recall  f1-score   support\n",
      "\n",
      "         DAC     0.5000    1.0000    0.6667         1\n",
      "         DQC     0.7500    1.0000    0.8571         3\n",
      "         IAC     0.8148    0.9167    0.8627        24\n",
      "         IQC     0.8462    0.7857    0.8148        28\n",
      "      others     0.9996    0.9992    0.9994      7298\n",
      "\n",
      "    accuracy                         0.9981      7354\n",
      "   macro avg     0.7821    0.9403    0.8402      7354\n",
      "weighted avg     0.9982    0.9981    0.9981      7354\n",
      "\n",
      "              precision    recall  f1-score   support\n",
      "\n",
      "         DAC     1.0000    1.0000    1.0000        11\n",
      "         DQC     1.0000    1.0000    1.0000        10\n",
      "         IAC     1.0000    0.9765    0.9881        85\n",
      "         IQC     0.9673    0.9737    0.9705       152\n",
      "      others     0.9999    0.9999    0.9999     34037\n",
      "\n",
      "    accuracy                         0.9997     34295\n",
      "   macro avg     0.9934    0.9900    0.9917     34295\n",
      "weighted avg     0.9997    0.9997    0.9997     34295\n",
      "\n",
      "              precision    recall  f1-score   support\n",
      "\n",
      "         DAC     0.5000    1.0000    0.6667         1\n",
      "         DQC     0.7500    1.0000    0.8571         3\n",
      "         IAC     0.9167    0.9167    0.9167        24\n",
      "         IQC     0.8519    0.8214    0.8364        28\n",
      "      others     0.9995    0.9993    0.9994      7298\n",
      "\n",
      "    accuracy                         0.9984      7354\n",
      "   macro avg     0.8036    0.9475    0.8552      7354\n",
      "weighted avg     0.9985    0.9984    0.9984      7354\n",
      "\n",
      "              precision    recall  f1-score   support\n",
      "\n",
      "         DAC     1.0000    1.0000    1.0000        11\n",
      "         DQC     1.0000    1.0000    1.0000         9\n",
      "         IAC     1.0000    0.9500    0.9744        80\n",
      "         IQC     0.9691    0.9752    0.9721       161\n",
      "      others     0.9998    0.9999    0.9998     34034\n",
      "\n",
      "    accuracy                         0.9997     34295\n",
      "   macro avg     0.9938    0.9850    0.9893     34295\n",
      "weighted avg     0.9997    0.9997    0.9996     34295\n",
      "\n",
      "              precision    recall  f1-score   support\n",
      "\n",
      "         DAC     0.5000    1.0000    0.6667         1\n",
      "         DQC     0.7500    1.0000    0.8571         3\n",
      "         IAC     0.8462    0.9167    0.8800        24\n",
      "         IQC     0.8800    0.7857    0.8302        28\n",
      "      others     0.9993    0.9992    0.9992      7298\n",
      "\n",
      "    accuracy                         0.9981      7354\n",
      "   macro avg     0.7951    0.9403    0.8466      7354\n",
      "weighted avg     0.9982    0.9981    0.9981      7354\n",
      "\n",
      "              precision    recall  f1-score   support\n",
      "\n",
      "         DAC     1.0000    1.0000    1.0000        10\n",
      "         DQC     1.0000    1.0000    1.0000        10\n",
      "         IAC     1.0000    0.9880    0.9939        83\n",
      "         IQC     0.9755    0.9695    0.9725       164\n",
      "      others     0.9998    0.9999    0.9999     34028\n",
      "\n",
      "    accuracy                         0.9997     34295\n",
      "   macro avg     0.9951    0.9915    0.9933     34295\n",
      "weighted avg     0.9997    0.9997    0.9997     34295\n",
      "\n",
      "              precision    recall  f1-score   support\n",
      "\n",
      "         DAC     0.5000    1.0000    0.6667         1\n",
      "         DQC     0.7500    1.0000    0.8571         3\n",
      "         IAC     0.8750    0.8750    0.8750        24\n",
      "         IQC     0.8214    0.8214    0.8214        28\n",
      "      others     0.9995    0.9992    0.9993      7298\n",
      "\n",
      "    accuracy                         0.9981      7354\n",
      "   macro avg     0.7892    0.9391    0.8439      7354\n",
      "weighted avg     0.9982    0.9981    0.9981      7354\n",
      "\n",
      "              precision    recall  f1-score   support\n",
      "\n",
      "         DAC     1.0000    1.0000    1.0000        11\n",
      "         DQC     1.0000    1.0000    1.0000        10\n",
      "         IAC     1.0000    0.9881    0.9940        84\n",
      "         IQC     0.9799    0.9669    0.9733       151\n",
      "      others     0.9998    0.9999    0.9999     34039\n",
      "\n",
      "    accuracy                         0.9997     34295\n",
      "   macro avg     0.9959    0.9910    0.9934     34295\n",
      "weighted avg     0.9997    0.9997    0.9997     34295\n",
      "\n",
      "              precision    recall  f1-score   support\n",
      "\n",
      "         DAC     0.5000    1.0000    0.6667         1\n",
      "         DQC     0.7500    1.0000    0.8571         3\n",
      "         IAC     0.8400    0.8750    0.8571        24\n",
      "         IQC     0.8400    0.7500    0.7925        28\n",
      "      others     0.9992    0.9992    0.9992      7298\n",
      "\n",
      "    accuracy                         0.9978      7354\n",
      "   macro avg     0.7858    0.9248    0.8345      7354\n",
      "weighted avg     0.9979    0.9978    0.9978      7354\n",
      "\n",
      "              precision    recall  f1-score   support\n",
      "\n",
      "         DAC     1.0000    1.0000    1.0000        10\n",
      "         DQC     1.0000    1.0000    1.0000        10\n",
      "         IAC     1.0000    0.9753    0.9875        81\n",
      "         IQC     0.9934    0.9740    0.9836       154\n",
      "      others     0.9998    1.0000    0.9999     34040\n",
      "\n",
      "    accuracy                         0.9998     34295\n",
      "   macro avg     0.9986    0.9899    0.9942     34295\n",
      "weighted avg     0.9998    0.9998    0.9998     34295\n",
      "\n",
      "              precision    recall  f1-score   support\n",
      "\n",
      "         DAC     0.5000    1.0000    0.6667         1\n",
      "         DQC     0.7500    1.0000    0.8571         3\n",
      "         IAC     0.8462    0.9167    0.8800        24\n",
      "         IQC     0.8400    0.7500    0.7925        28\n",
      "      others     0.9993    0.9992    0.9992      7298\n",
      "\n",
      "    accuracy                         0.9980      7354\n",
      "   macro avg     0.7871    0.9332    0.8391      7354\n",
      "weighted avg     0.9980    0.9980    0.9980      7354\n",
      "\n",
      "              precision    recall  f1-score   support\n",
      "\n",
      "         DAC     1.0000    1.0000    1.0000        11\n",
      "         DQC     1.0000    1.0000    1.0000         9\n",
      "         IAC     1.0000    0.9655    0.9825        87\n",
      "         IQC     0.9620    0.9806    0.9712       155\n",
      "      others     0.9999    0.9999    0.9999     34033\n",
      "\n",
      "    accuracy                         0.9997     34295\n",
      "   macro avg     0.9924    0.9892    0.9907     34295\n",
      "weighted avg     0.9997    0.9997    0.9997     34295\n",
      "\n",
      "              precision    recall  f1-score   support\n",
      "\n",
      "         DAC     0.5000    1.0000    0.6667         1\n",
      "         DQC     0.7500    1.0000    0.8571         3\n",
      "         IAC     0.8800    0.9167    0.8980        24\n",
      "         IQC     0.8519    0.8214    0.8364        28\n",
      "      others     0.9995    0.9992    0.9993      7298\n",
      "\n",
      "    accuracy                         0.9982      7354\n",
      "   macro avg     0.7963    0.9475    0.8515      7354\n",
      "weighted avg     0.9983    0.9982    0.9983      7354\n",
      "\n",
      "              precision    recall  f1-score   support\n",
      "\n",
      "         DAC     1.0000    1.0000    1.0000        10\n",
      "         DQC     1.0000    1.0000    1.0000        11\n",
      "         IAC     1.0000    0.9634    0.9814        82\n",
      "         IQC     0.9800    0.9800    0.9800       150\n",
      "      others     0.9999    0.9999    0.9999     34042\n",
      "\n",
      "    accuracy                         0.9998     34295\n",
      "   macro avg     0.9960    0.9887    0.9923     34295\n",
      "weighted avg     0.9998    0.9998    0.9998     34295\n",
      "\n",
      "              precision    recall  f1-score   support\n",
      "\n",
      "         DAC     0.5000    1.0000    0.6667         1\n",
      "         DQC     0.7500    1.0000    0.8571         3\n",
      "         IAC     0.8462    0.9167    0.8800        24\n",
      "         IQC     0.8462    0.7857    0.8148        28\n",
      "      others     0.9995    0.9992    0.9993      7298\n",
      "\n",
      "    accuracy                         0.9981      7354\n",
      "   macro avg     0.7884    0.9403    0.8436      7354\n",
      "weighted avg     0.9982    0.9981    0.9981      7354\n",
      "\n",
      "              precision    recall  f1-score   support\n",
      "\n",
      "         DAC     1.0000    1.0000    1.0000        11\n",
      "         DQC     1.0000    1.0000    1.0000         6\n",
      "         IAC     1.0000    0.9643    0.9818        84\n",
      "         IQC     0.9755    0.9755    0.9755       163\n",
      "      others     0.9998    0.9999    0.9999     34031\n",
      "\n",
      "    accuracy                         0.9997     34295\n",
      "   macro avg     0.9951    0.9879    0.9914     34295\n",
      "weighted avg     0.9997    0.9997    0.9997     34295\n",
      "\n",
      "              precision    recall  f1-score   support\n",
      "\n",
      "         DAC     0.5000    1.0000    0.6667         1\n",
      "         DQC     0.7500    1.0000    0.8571         3\n",
      "         IAC     0.8750    0.8750    0.8750        24\n",
      "         IQC     0.8571    0.8571    0.8571        28\n",
      "      others     0.9996    0.9993    0.9995      7298\n",
      "\n",
      "    accuracy                         0.9984      7354\n",
      "   macro avg     0.7963    0.9463    0.8511      7354\n",
      "weighted avg     0.9985    0.9984    0.9984      7354\n",
      "\n",
      "              precision    recall  f1-score   support\n",
      "\n",
      "         DAC     1.0000    1.0000    1.0000        12\n",
      "         DQC     1.0000    1.0000    1.0000         9\n",
      "         IAC     0.9878    0.9759    0.9818        83\n",
      "         IQC     0.9801    0.9801    0.9801       151\n",
      "      others     0.9999    0.9999    0.9999     34040\n",
      "\n",
      "    accuracy                         0.9998     34295\n",
      "   macro avg     0.9936    0.9912    0.9924     34295\n",
      "weighted avg     0.9998    0.9998    0.9998     34295\n",
      "\n",
      "              precision    recall  f1-score   support\n",
      "\n",
      "         DAC     0.5000    1.0000    0.6667         1\n",
      "         DQC     0.7500    1.0000    0.8571         3\n",
      "         IAC     0.8400    0.8750    0.8571        24\n",
      "         IQC     0.8800    0.7857    0.8302        28\n",
      "      others     0.9992    0.9992    0.9992      7298\n",
      "\n",
      "    accuracy                         0.9980      7354\n",
      "   macro avg     0.7938    0.9320    0.8421      7354\n",
      "weighted avg     0.9980    0.9980    0.9980      7354\n",
      "\n",
      "              precision    recall  f1-score   support\n",
      "\n",
      "         DAC     1.0000    1.0000    1.0000        10\n",
      "         DQC     1.0000    1.0000    1.0000         7\n",
      "         IAC     1.0000    0.9634    0.9814        82\n",
      "         IQC     0.9730    0.9664    0.9697       149\n",
      "      others     0.9998    0.9999    0.9999     34047\n",
      "\n",
      "    accuracy                         0.9997     34295\n",
      "   macro avg     0.9946    0.9860    0.9902     34295\n",
      "weighted avg     0.9997    0.9997    0.9997     34295\n",
      "\n"
     ]
    },
    {
     "name": "stderr",
     "output_type": "stream",
     "text": [
      "/tmp/ipykernel_2277855/563295161.py:70: RuntimeWarning: More than 20 figures have been opened. Figures created through the pyplot interface (`matplotlib.pyplot.figure`) are retained until explicitly closed and may consume too much memory. (To control this warning, see the rcParam `figure.max_open_warning`). Consider using `matplotlib.pyplot.close()`.\n",
      "  fig, (ax1, ax2) = plt.subplots(1, 2, figsize=(21, 8), sharey=True, dpi=130)\n"
     ]
    },
    {
     "name": "stdout",
     "output_type": "stream",
     "text": [
      "              precision    recall  f1-score   support\n",
      "\n",
      "         DAC     0.5000    1.0000    0.6667         1\n",
      "         DQC     0.7500    1.0000    0.8571         3\n",
      "         IAC     0.8800    0.9167    0.8980        24\n",
      "         IQC     0.8519    0.8214    0.8364        28\n",
      "      others     0.9995    0.9992    0.9993      7298\n",
      "\n",
      "    accuracy                         0.9982      7354\n",
      "   macro avg     0.7963    0.9475    0.8515      7354\n",
      "weighted avg     0.9983    0.9982    0.9983      7354\n",
      "\n",
      "              precision    recall  f1-score   support\n",
      "\n",
      "         DAC     1.0000    1.0000    1.0000         9\n",
      "         DQC     1.0000    1.0000    1.0000         8\n",
      "         IAC     1.0000    0.9634    0.9814        82\n",
      "         IQC     0.9868    0.9615    0.9740       156\n",
      "      others     0.9998    1.0000    0.9999     34040\n",
      "\n",
      "    accuracy                         0.9997     34295\n",
      "   macro avg     0.9973    0.9850    0.9911     34295\n",
      "weighted avg     0.9997    0.9997    0.9997     34295\n",
      "\n",
      "              precision    recall  f1-score   support\n",
      "\n",
      "         DAC     0.5000    1.0000    0.6667         1\n",
      "         DQC     0.7500    1.0000    0.8571         3\n",
      "         IAC     0.8462    0.9167    0.8800        24\n",
      "         IQC     0.8148    0.7857    0.8000        28\n",
      "      others     0.9995    0.9990    0.9992      7298\n",
      "\n",
      "    accuracy                         0.9980      7354\n",
      "   macro avg     0.7821    0.9403    0.8406      7354\n",
      "weighted avg     0.9981    0.9980    0.9980      7354\n",
      "\n",
      "              precision    recall  f1-score   support\n",
      "\n",
      "         DAC     1.0000    1.0000    1.0000        12\n",
      "         DQC     1.0000    1.0000    1.0000        10\n",
      "         IAC     1.0000    0.9659    0.9827        88\n",
      "         IQC     0.9740    0.9740    0.9740       154\n",
      "      others     0.9998    0.9999    0.9998     34031\n",
      "\n",
      "    accuracy                         0.9997     34295\n",
      "   macro avg     0.9948    0.9880    0.9913     34295\n",
      "weighted avg     0.9997    0.9997    0.9997     34295\n",
      "\n",
      "              precision    recall  f1-score   support\n",
      "\n",
      "         DAC     0.5000    1.0000    0.6667         1\n",
      "         DQC     0.7500    1.0000    0.8571         3\n",
      "         IAC     0.8462    0.9167    0.8800        24\n",
      "         IQC     0.8800    0.7857    0.8302        28\n",
      "      others     0.9995    0.9993    0.9994      7298\n",
      "\n",
      "    accuracy                         0.9982      7354\n",
      "   macro avg     0.7951    0.9403    0.8467      7354\n",
      "weighted avg     0.9983    0.9982    0.9982      7354\n",
      "\n",
      "              precision    recall  f1-score   support\n",
      "\n",
      "         DAC     1.0000    1.0000    1.0000        11\n",
      "         DQC     1.0000    1.0000    1.0000        10\n",
      "         IAC     1.0000    0.9767    0.9882        86\n",
      "         IQC     0.9747    0.9809    0.9778       157\n",
      "      others     0.9999    0.9999    0.9999     34031\n",
      "\n",
      "    accuracy                         0.9997     34295\n",
      "   macro avg     0.9949    0.9915    0.9932     34295\n",
      "weighted avg     0.9997    0.9997    0.9997     34295\n",
      "\n",
      "              precision    recall  f1-score   support\n",
      "\n",
      "         DAC     1.0000    1.0000    1.0000         1\n",
      "         DQC     0.7500    1.0000    0.8571         3\n",
      "         IAC     0.8800    0.9167    0.8980        24\n",
      "         IQC     0.8889    0.8571    0.8727        28\n",
      "      others     0.9995    0.9993    0.9994      7298\n",
      "\n",
      "    accuracy                         0.9985      7354\n",
      "   macro avg     0.9037    0.9546    0.9254      7354\n",
      "weighted avg     0.9985    0.9985    0.9985      7354\n",
      "\n",
      "              precision    recall  f1-score   support\n",
      "\n",
      "         DAC     1.0000    1.0000    1.0000        10\n",
      "         DQC     1.0000    1.0000    1.0000        11\n",
      "         IAC     1.0000    0.9670    0.9832        91\n",
      "         IQC     0.9689    0.9811    0.9750       159\n",
      "      others     0.9999    0.9999    0.9999     34024\n",
      "\n",
      "    accuracy                         0.9997     34295\n",
      "   macro avg     0.9938    0.9896    0.9916     34295\n",
      "weighted avg     0.9997    0.9997    0.9997     34295\n",
      "\n",
      "              precision    recall  f1-score   support\n",
      "\n",
      "         DAC     1.0000    1.0000    1.0000         1\n",
      "         DQC     0.6000    1.0000    0.7500         3\n",
      "         IAC     0.8462    0.9167    0.8800        24\n",
      "         IQC     0.8846    0.8214    0.8519        28\n",
      "      others     0.9995    0.9992    0.9993      7298\n",
      "\n",
      "    accuracy                         0.9982      7354\n",
      "   macro avg     0.8660    0.9475    0.8962      7354\n",
      "weighted avg     0.9984    0.9982    0.9983      7354\n",
      "\n",
      "              precision    recall  f1-score   support\n",
      "\n",
      "         DAC     1.0000    1.0000    1.0000         9\n",
      "         DQC     1.0000    1.0000    1.0000        10\n",
      "         IAC     1.0000    0.9870    0.9935        77\n",
      "         IQC     0.9745    0.9684    0.9714       158\n",
      "      others     0.9999    0.9999    0.9999     34041\n",
      "\n",
      "    accuracy                         0.9997     34295\n",
      "   macro avg     0.9949    0.9911    0.9930     34295\n",
      "weighted avg     0.9997    0.9997    0.9997     34295\n",
      "\n",
      "              precision    recall  f1-score   support\n",
      "\n",
      "         DAC     0.5000    1.0000    0.6667         1\n",
      "         DQC     0.7500    1.0000    0.8571         3\n",
      "         IAC     0.8148    0.9167    0.8627        24\n",
      "         IQC     0.8800    0.7857    0.8302        28\n",
      "      others     0.9996    0.9993    0.9995      7298\n",
      "\n",
      "    accuracy                         0.9982      7354\n",
      "   macro avg     0.7889    0.9403    0.8432      7354\n",
      "weighted avg     0.9984    0.9982    0.9983      7354\n",
      "\n",
      "              precision    recall  f1-score   support\n",
      "\n",
      "         DAC     1.0000    1.0000    1.0000        11\n",
      "         DQC     1.0000    1.0000    1.0000        10\n",
      "         IAC     1.0000    0.9620    0.9806        79\n",
      "         IQC     0.9793    0.9726    0.9759       146\n",
      "      others     0.9998    0.9999    0.9999     34049\n",
      "\n",
      "    accuracy                         0.9997     34295\n",
      "   macro avg     0.9958    0.9869    0.9913     34295\n",
      "weighted avg     0.9997    0.9997    0.9997     34295\n",
      "\n",
      "              precision    recall  f1-score   support\n",
      "\n",
      "         DAC     0.5000    1.0000    0.6667         1\n",
      "         DQC     0.7500    1.0000    0.8571         3\n",
      "         IAC     0.8462    0.9167    0.8800        24\n",
      "         IQC     0.8400    0.7500    0.7925        28\n",
      "      others     0.9993    0.9992    0.9992      7298\n",
      "\n",
      "    accuracy                         0.9980      7354\n",
      "   macro avg     0.7871    0.9332    0.8391      7354\n",
      "weighted avg     0.9980    0.9980    0.9980      7354\n",
      "\n",
      "              precision    recall  f1-score   support\n",
      "\n",
      "         DAC     1.0000    1.0000    1.0000        10\n",
      "         DQC     1.0000    1.0000    1.0000         6\n",
      "         IAC     0.9885    0.9773    0.9829        88\n",
      "         IQC     0.9726    0.9793    0.9759       145\n",
      "      others     0.9999    0.9999    0.9999     34046\n",
      "\n",
      "    accuracy                         0.9997     34295\n",
      "   macro avg     0.9922    0.9913    0.9917     34295\n",
      "weighted avg     0.9997    0.9997    0.9997     34295\n",
      "\n",
      "              precision    recall  f1-score   support\n",
      "\n",
      "         DAC     0.5000    1.0000    0.6667         1\n",
      "         DQC     1.0000    1.0000    1.0000         3\n",
      "         IAC     0.8462    0.9167    0.8800        24\n",
      "         IQC     0.9231    0.8571    0.8889        28\n",
      "      others     0.9995    0.9993    0.9994      7298\n",
      "\n",
      "    accuracy                         0.9985      7354\n",
      "   macro avg     0.8537    0.9546    0.8870      7354\n",
      "weighted avg     0.9986    0.9985    0.9985      7354\n",
      "\n",
      "              precision    recall  f1-score   support\n",
      "\n",
      "         DAC     1.0000    1.0000    1.0000         9\n",
      "         DQC     1.0000    1.0000    1.0000         9\n",
      "         IAC     1.0000    0.9610    0.9801        77\n",
      "         IQC     0.9737    0.9801    0.9769       151\n",
      "      others     0.9999    0.9999    0.9999     34049\n",
      "\n",
      "    accuracy                         0.9997     34295\n",
      "   macro avg     0.9947    0.9882    0.9914     34295\n",
      "weighted avg     0.9997    0.9997    0.9997     34295\n",
      "\n",
      "              precision    recall  f1-score   support\n",
      "\n",
      "         DAC     0.5000    1.0000    0.6667         1\n",
      "         DQC     0.7500    1.0000    0.8571         3\n",
      "         IAC     0.8400    0.8750    0.8571        24\n",
      "         IQC     0.8462    0.7857    0.8148        28\n",
      "      others     0.9995    0.9993    0.9994      7298\n",
      "\n",
      "    accuracy                         0.9981      7354\n",
      "   macro avg     0.7871    0.9320    0.8390      7354\n",
      "weighted avg     0.9982    0.9981    0.9981      7354\n",
      "\n",
      "              precision    recall  f1-score   support\n",
      "\n",
      "         DAC     1.0000    1.0000    1.0000        11\n",
      "         DQC     1.0000    1.0000    1.0000        10\n",
      "         IAC     1.0000    0.9750    0.9873        80\n",
      "         IQC     0.9795    0.9597    0.9695       149\n",
      "      others     0.9998    0.9999    0.9999     34045\n",
      "\n",
      "    accuracy                         0.9997     34295\n",
      "   macro avg     0.9958    0.9869    0.9913     34295\n",
      "weighted avg     0.9997    0.9997    0.9997     34295\n",
      "\n",
      "              precision    recall  f1-score   support\n",
      "\n",
      "         DAC     0.5000    1.0000    0.6667         1\n",
      "         DQC     0.7500    1.0000    0.8571         3\n",
      "         IAC     0.8750    0.8750    0.8750        24\n",
      "         IQC     0.8214    0.8214    0.8214        28\n",
      "      others     0.9995    0.9992    0.9993      7298\n",
      "\n",
      "    accuracy                         0.9981      7354\n",
      "   macro avg     0.7892    0.9391    0.8439      7354\n",
      "weighted avg     0.9982    0.9981    0.9981      7354\n",
      "\n",
      "              precision    recall  f1-score   support\n",
      "\n",
      "         DAC     1.0000    1.0000    1.0000        11\n",
      "         DQC     1.0000    1.0000    1.0000        10\n",
      "         IAC     1.0000    0.9659    0.9827        88\n",
      "         IQC     0.9737    0.9737    0.9737       152\n",
      "      others     0.9998    0.9999    0.9999     34034\n",
      "\n",
      "    accuracy                         0.9997     34295\n",
      "   macro avg     0.9947    0.9879    0.9912     34295\n",
      "weighted avg     0.9997    0.9997    0.9997     34295\n",
      "\n",
      "              precision    recall  f1-score   support\n",
      "\n",
      "         DAC     0.5000    1.0000    0.6667         1\n",
      "         DQC     0.7500    1.0000    0.8571         3\n",
      "         IAC     0.8400    0.8750    0.8571        24\n",
      "         IQC     0.8148    0.7857    0.8000        28\n",
      "      others     0.9995    0.9992    0.9993      7298\n",
      "\n",
      "    accuracy                         0.9980      7354\n",
      "   macro avg     0.7809    0.9320    0.8361      7354\n",
      "weighted avg     0.9981    0.9980    0.9980      7354\n",
      "\n",
      "              precision    recall  f1-score   support\n",
      "\n",
      "         DAC     1.0000    1.0000    1.0000        10\n",
      "         DQC     1.0000    1.0000    1.0000         7\n",
      "         IAC     1.0000    0.9714    0.9855        70\n",
      "         IQC     0.9787    0.9650    0.9718       143\n",
      "      others     0.9998    0.9999    0.9999     30636\n",
      "\n",
      "    accuracy                         0.9997     30866\n",
      "   macro avg     0.9957    0.9873    0.9914     30866\n",
      "weighted avg     0.9997    0.9997    0.9997     30866\n",
      "\n",
      "              precision    recall  f1-score   support\n",
      "\n",
      "         DAC     0.5000    1.0000    0.6667         1\n",
      "         DQC     0.7500    1.0000    0.8571         3\n",
      "         IAC     0.8800    0.9167    0.8980        24\n",
      "         IQC     0.8846    0.8214    0.8519        28\n",
      "      others     0.9995    0.9993    0.9994      7298\n",
      "\n",
      "    accuracy                         0.9984      7354\n",
      "   macro avg     0.8028    0.9475    0.8546      7354\n",
      "weighted avg     0.9985    0.9984    0.9984      7354\n",
      "\n",
      "              precision    recall  f1-score   support\n",
      "\n",
      "         DAC     1.0000    1.0000    1.0000        10\n",
      "         DQC     1.0000    1.0000    1.0000        11\n",
      "         IAC     1.0000    0.9467    0.9726        75\n",
      "         IQC     0.9769    0.9695    0.9732       131\n",
      "      others     0.9998    0.9999    0.9999     30639\n",
      "\n",
      "    accuracy                         0.9997     30866\n",
      "   macro avg     0.9953    0.9832    0.9891     30866\n",
      "weighted avg     0.9997    0.9997    0.9997     30866\n",
      "\n",
      "              precision    recall  f1-score   support\n",
      "\n",
      "         DAC     0.0000    0.0000    0.0000         1\n",
      "         DQC     0.6000    1.0000    0.7500         3\n",
      "         IAC     0.8400    0.8750    0.8571        24\n",
      "         IQC     0.8519    0.8214    0.8364        28\n",
      "      others     0.9995    0.9992    0.9993      7298\n",
      "\n",
      "    accuracy                         0.9980      7354\n",
      "   macro avg     0.6583    0.7391    0.6886      7354\n",
      "weighted avg     0.9981    0.9980    0.9980      7354\n",
      "\n",
      "              precision    recall  f1-score   support\n",
      "\n",
      "         DAC     1.0000    1.0000    1.0000         8\n",
      "         DQC     1.0000    1.0000    1.0000        10\n",
      "         IAC     1.0000    0.9610    0.9801        77\n",
      "         IQC     0.9784    0.9855    0.9819       138\n",
      "      others     0.9999    0.9999    0.9999     30633\n",
      "\n",
      "    accuracy                         0.9998     30866\n",
      "   macro avg     0.9957    0.9893    0.9924     30866\n",
      "weighted avg     0.9998    0.9998    0.9998     30866\n",
      "\n",
      "              precision    recall  f1-score   support\n",
      "\n",
      "         DAC     0.5000    1.0000    0.6667         1\n",
      "         DQC     0.7500    1.0000    0.8571         3\n",
      "         IAC     0.8400    0.8750    0.8571        24\n",
      "         IQC     0.8621    0.8929    0.8772        28\n",
      "      others     0.9997    0.9992    0.9995      7298\n",
      "\n",
      "    accuracy                         0.9984      7354\n",
      "   macro avg     0.7904    0.9534    0.8515      7354\n",
      "weighted avg     0.9985    0.9984    0.9984      7354\n",
      "\n",
      "              precision    recall  f1-score   support\n",
      "\n",
      "         DAC     1.0000    1.0000    1.0000        10\n",
      "         DQC     1.0000    1.0000    1.0000         8\n",
      "         IAC     1.0000    0.9610    0.9801        77\n",
      "         IQC     0.9793    0.9861    0.9827       144\n",
      "      others     0.9999    0.9999    0.9999     30627\n",
      "\n",
      "    accuracy                         0.9998     30866\n",
      "   macro avg     0.9958    0.9894    0.9925     30866\n",
      "weighted avg     0.9998    0.9998    0.9998     30866\n",
      "\n",
      "              precision    recall  f1-score   support\n",
      "\n",
      "         DAC     0.5000    1.0000    0.6667         1\n",
      "         DQC     0.7500    1.0000    0.8571         3\n",
      "         IAC     0.8462    0.9167    0.8800        24\n",
      "         IQC     0.8148    0.7857    0.8000        28\n",
      "      others     0.9996    0.9992    0.9994      7298\n",
      "\n",
      "    accuracy                         0.9981      7354\n",
      "   macro avg     0.7821    0.9403    0.8406      7354\n",
      "weighted avg     0.9982    0.9981    0.9981      7354\n",
      "\n",
      "              precision    recall  f1-score   support\n",
      "\n",
      "         DAC     1.0000    1.0000    1.0000        10\n",
      "         DQC     1.0000    1.0000    1.0000         8\n",
      "         IAC     0.9872    0.9747    0.9809        79\n",
      "         IQC     0.9630    0.9848    0.9738       132\n",
      "      others     0.9999    0.9998    0.9998     30637\n",
      "\n",
      "    accuracy                         0.9997     30866\n",
      "   macro avg     0.9900    0.9919    0.9909     30866\n",
      "weighted avg     0.9997    0.9997    0.9997     30866\n",
      "\n",
      "              precision    recall  f1-score   support\n",
      "\n",
      "         DAC     0.5000    1.0000    0.6667         1\n",
      "         DQC     0.7500    1.0000    0.8571         3\n",
      "         IAC     0.8462    0.9167    0.8800        24\n",
      "         IQC     0.8889    0.8571    0.8727        28\n",
      "      others     0.9996    0.9992    0.9994      7298\n",
      "\n",
      "    accuracy                         0.9984      7354\n",
      "   macro avg     0.7969    0.9546    0.8552      7354\n",
      "weighted avg     0.9985    0.9984    0.9984      7354\n",
      "\n",
      "              precision    recall  f1-score   support\n",
      "\n",
      "         DAC     1.0000    1.0000    1.0000        10\n",
      "         DQC     1.0000    1.0000    1.0000         9\n",
      "         IAC     1.0000    0.9873    0.9936        79\n",
      "         IQC     0.9635    0.9635    0.9635       137\n",
      "      others     0.9998    0.9999    0.9999     30631\n",
      "\n",
      "    accuracy                         0.9997     30866\n",
      "   macro avg     0.9927    0.9901    0.9914     30866\n",
      "weighted avg     0.9997    0.9997    0.9997     30866\n",
      "\n",
      "              precision    recall  f1-score   support\n",
      "\n",
      "         DAC     0.0000    0.0000    0.0000         1\n",
      "         DQC     0.6000    1.0000    0.7500         3\n",
      "         IAC     0.8462    0.9167    0.8800        24\n",
      "         IQC     0.8462    0.7857    0.8148        28\n",
      "      others     0.9995    0.9992    0.9993      7298\n",
      "\n",
      "    accuracy                         0.9980      7354\n",
      "   macro avg     0.6584    0.7403    0.6888      7354\n",
      "weighted avg     0.9981    0.9980    0.9980      7354\n",
      "\n",
      "              precision    recall  f1-score   support\n",
      "\n",
      "         DAC     1.0000    1.0000    1.0000        10\n",
      "         DQC     1.0000    1.0000    1.0000         8\n",
      "         IAC     1.0000    0.9750    0.9873        80\n",
      "         IQC     0.9776    0.9632    0.9704       136\n",
      "      others     0.9998    0.9999    0.9999     30632\n",
      "\n",
      "    accuracy                         0.9997     30866\n",
      "   macro avg     0.9955    0.9876    0.9915     30866\n",
      "weighted avg     0.9997    0.9997    0.9997     30866\n",
      "\n",
      "              precision    recall  f1-score   support\n",
      "\n",
      "         DAC     0.5000    1.0000    0.6667         1\n",
      "         DQC     0.7500    1.0000    0.8571         3\n",
      "         IAC     0.8800    0.9167    0.8980        24\n",
      "         IQC     0.8846    0.8214    0.8519        28\n",
      "      others     0.9995    0.9993    0.9994      7298\n",
      "\n",
      "    accuracy                         0.9984      7354\n",
      "   macro avg     0.8028    0.9475    0.8546      7354\n",
      "weighted avg     0.9985    0.9984    0.9984      7354\n",
      "\n",
      "              precision    recall  f1-score   support\n",
      "\n",
      "         DAC     1.0000    1.0000    1.0000        11\n",
      "         DQC     1.0000    1.0000    1.0000         7\n",
      "         IAC     0.9875    0.9753    0.9814        81\n",
      "         IQC     0.9653    0.9858    0.9754       141\n",
      "      others     0.9999    0.9998    0.9999     30626\n",
      "\n",
      "    accuracy                         0.9997     30866\n",
      "   macro avg     0.9905    0.9922    0.9913     30866\n",
      "weighted avg     0.9997    0.9997    0.9997     30866\n",
      "\n",
      "              precision    recall  f1-score   support\n",
      "\n",
      "         DAC     0.5000    1.0000    0.6667         1\n",
      "         DQC     0.7500    1.0000    0.8571         3\n",
      "         IAC     0.9167    0.9167    0.9167        24\n",
      "         IQC     0.8462    0.7857    0.8148        28\n",
      "      others     0.9993    0.9993    0.9993      7298\n",
      "\n",
      "    accuracy                         0.9982      7354\n",
      "   macro avg     0.8024    0.9403    0.8509      7354\n",
      "weighted avg     0.9983    0.9982    0.9982      7354\n",
      "\n",
      "              precision    recall  f1-score   support\n",
      "\n",
      "         DAC     1.0000    1.0000    1.0000        10\n",
      "         DQC     1.0000    1.0000    1.0000        10\n",
      "         IAC     1.0000    0.9726    0.9861        73\n",
      "         IQC     0.9850    0.9704    0.9776       135\n",
      "      others     0.9998    1.0000    0.9999     30638\n",
      "\n",
      "    accuracy                         0.9998     30866\n",
      "   macro avg     0.9970    0.9886    0.9927     30866\n",
      "weighted avg     0.9998    0.9998    0.9998     30866\n",
      "\n",
      "              precision    recall  f1-score   support\n",
      "\n",
      "         DAC     0.5000    1.0000    0.6667         1\n",
      "         DQC     0.7500    1.0000    0.8571         3\n",
      "         IAC     0.8400    0.8750    0.8571        24\n",
      "         IQC     0.8148    0.7857    0.8000        28\n",
      "      others     0.9995    0.9992    0.9993      7298\n",
      "\n",
      "    accuracy                         0.9980      7354\n",
      "   macro avg     0.7809    0.9320    0.8361      7354\n",
      "weighted avg     0.9981    0.9980    0.9980      7354\n",
      "\n",
      "              precision    recall  f1-score   support\n",
      "\n",
      "         DAC     1.0000    1.0000    1.0000         9\n",
      "         DQC     1.0000    1.0000    1.0000         9\n",
      "         IAC     1.0000    0.9600    0.9796        75\n",
      "         IQC     0.9728    0.9597    0.9662       149\n",
      "      others     0.9997    0.9999    0.9998     30624\n",
      "\n",
      "    accuracy                         0.9996     30866\n",
      "   macro avg     0.9945    0.9839    0.9891     30866\n",
      "weighted avg     0.9996    0.9996    0.9996     30866\n",
      "\n",
      "              precision    recall  f1-score   support\n",
      "\n",
      "         DAC     0.5000    1.0000    0.6667         1\n",
      "         DQC     0.7500    1.0000    0.8571         3\n",
      "         IAC     0.8400    0.8750    0.8571        24\n",
      "         IQC     0.8846    0.8214    0.8519        28\n",
      "      others     0.9993    0.9992    0.9992      7298\n",
      "\n",
      "    accuracy                         0.9981      7354\n",
      "   macro avg     0.7948    0.9391    0.8464      7354\n",
      "weighted avg     0.9982    0.9981    0.9981      7354\n",
      "\n",
      "              precision    recall  f1-score   support\n",
      "\n",
      "         DAC     1.0000    1.0000    1.0000        10\n",
      "         DQC     1.0000    1.0000    1.0000         7\n",
      "         IAC     1.0000    0.9750    0.9873        80\n",
      "         IQC     0.9787    0.9718    0.9753       142\n",
      "      others     0.9998    0.9999    0.9999     30627\n",
      "\n",
      "    accuracy                         0.9997     30866\n",
      "   macro avg     0.9957    0.9894    0.9925     30866\n",
      "weighted avg     0.9997    0.9997    0.9997     30866\n",
      "\n",
      "              precision    recall  f1-score   support\n",
      "\n",
      "         DAC     0.0000    0.0000    0.0000         1\n",
      "         DQC     0.6000    1.0000    0.7500         3\n",
      "         IAC     0.8750    0.8750    0.8750        24\n",
      "         IQC     0.8519    0.8214    0.8364        28\n",
      "      others     0.9993    0.9992    0.9992      7298\n",
      "\n",
      "    accuracy                         0.9980      7354\n",
      "   macro avg     0.6652    0.7391    0.6921      7354\n",
      "weighted avg     0.9980    0.9980    0.9980      7354\n",
      "\n",
      "              precision    recall  f1-score   support\n",
      "\n",
      "         DAC     1.0000    1.0000    1.0000        11\n",
      "         DQC     1.0000    1.0000    1.0000         9\n",
      "         IAC     1.0000    0.9861    0.9930        72\n",
      "         IQC     0.9928    0.9856    0.9892       139\n",
      "      others     0.9999    1.0000    0.9999     30635\n",
      "\n",
      "    accuracy                         0.9999     30866\n",
      "   macro avg     0.9985    0.9943    0.9964     30866\n",
      "weighted avg     0.9999    0.9999    0.9999     30866\n",
      "\n",
      "              precision    recall  f1-score   support\n",
      "\n",
      "         DAC     0.5000    1.0000    0.6667         1\n",
      "         DQC     0.7500    1.0000    0.8571         3\n",
      "         IAC     0.8800    0.9167    0.8980        24\n",
      "         IQC     0.8519    0.8214    0.8364        28\n",
      "      others     0.9995    0.9992    0.9993      7298\n",
      "\n",
      "    accuracy                         0.9982      7354\n",
      "   macro avg     0.7963    0.9475    0.8515      7354\n",
      "weighted avg     0.9983    0.9982    0.9983      7354\n",
      "\n",
      "              precision    recall  f1-score   support\n",
      "\n",
      "         DAC     1.0000    1.0000    1.0000        10\n",
      "         DQC     1.0000    1.0000    1.0000         7\n",
      "         IAC     1.0000    0.9625    0.9809        80\n",
      "         IQC     0.9803    0.9739    0.9770       153\n",
      "      others     0.9998    0.9999    0.9999     30616\n",
      "\n",
      "    accuracy                         0.9997     30866\n",
      "   macro avg     0.9960    0.9873    0.9916     30866\n",
      "weighted avg     0.9997    0.9997    0.9997     30866\n",
      "\n",
      "              precision    recall  f1-score   support\n",
      "\n",
      "         DAC     0.5000    1.0000    0.6667         1\n",
      "         DQC     0.7500    1.0000    0.8571         3\n",
      "         IAC     0.8400    0.8750    0.8571        24\n",
      "         IQC     0.8462    0.7857    0.8148        28\n",
      "      others     0.9993    0.9992    0.9992      7298\n",
      "\n",
      "    accuracy                         0.9980      7354\n",
      "   macro avg     0.7871    0.9320    0.8390      7354\n",
      "weighted avg     0.9980    0.9980    0.9980      7354\n",
      "\n",
      "              precision    recall  f1-score   support\n",
      "\n",
      "         DAC     1.0000    1.0000    1.0000         9\n",
      "         DQC     1.0000    1.0000    1.0000        10\n",
      "         IAC     1.0000    0.9865    0.9932        74\n",
      "         IQC     0.9928    0.9856    0.9892       139\n",
      "      others     0.9999    1.0000    0.9999     30634\n",
      "\n",
      "    accuracy                         0.9999     30866\n",
      "   macro avg     0.9985    0.9944    0.9965     30866\n",
      "weighted avg     0.9999    0.9999    0.9999     30866\n",
      "\n",
      "              precision    recall  f1-score   support\n",
      "\n",
      "         DAC     0.0000    0.0000    0.0000         1\n",
      "         DQC     0.6000    1.0000    0.7500         3\n",
      "         IAC     0.9167    0.9167    0.9167        24\n",
      "         IQC     0.8889    0.8571    0.8727        28\n",
      "      others     0.9996    0.9995    0.9995      7298\n",
      "\n",
      "    accuracy                         0.9985      7354\n",
      "   macro avg     0.6810    0.7547    0.7078      7354\n",
      "weighted avg     0.9986    0.9985    0.9985      7354\n",
      "\n",
      "              precision    recall  f1-score   support\n",
      "\n",
      "         DAC     1.0000    1.0000    1.0000         8\n",
      "         DQC     1.0000    1.0000    1.0000         9\n",
      "         IAC     1.0000    1.0000    1.0000        75\n",
      "         IQC     0.9926    0.9710    0.9817       138\n",
      "      others     0.9999    1.0000    0.9999     30636\n",
      "\n",
      "    accuracy                         0.9998     30866\n",
      "   macro avg     0.9985    0.9942    0.9963     30866\n",
      "weighted avg     0.9998    0.9998    0.9998     30866\n",
      "\n",
      "              precision    recall  f1-score   support\n",
      "\n",
      "         DAC     0.5000    1.0000    0.6667         1\n",
      "         DQC     0.7500    1.0000    0.8571         3\n",
      "         IAC     0.8462    0.9167    0.8800        24\n",
      "         IQC     0.8519    0.8214    0.8364        28\n",
      "      others     0.9996    0.9992    0.9994      7298\n",
      "\n",
      "    accuracy                         0.9982      7354\n",
      "   macro avg     0.7895    0.9475    0.8479      7354\n",
      "weighted avg     0.9984    0.9982    0.9983      7354\n",
      "\n",
      "              precision    recall  f1-score   support\n",
      "\n",
      "         DAC     1.0000    1.0000    1.0000         8\n",
      "         DQC     1.0000    1.0000    1.0000         6\n",
      "         IAC     1.0000    0.9605    0.9799        76\n",
      "         IQC     0.9688    0.9841    0.9764       126\n",
      "      others     0.9999    0.9999    0.9999     30650\n",
      "\n",
      "    accuracy                         0.9997     30866\n",
      "   macro avg     0.9937    0.9889    0.9912     30866\n",
      "weighted avg     0.9997    0.9997    0.9997     30866\n",
      "\n",
      "              precision    recall  f1-score   support\n",
      "\n",
      "         DAC     0.5000    1.0000    0.6667         1\n",
      "         DQC     0.7500    1.0000    0.8571         3\n",
      "         IAC     0.8800    0.9167    0.8980        24\n",
      "         IQC     0.8077    0.7500    0.7778        28\n",
      "      others     0.9992    0.9990    0.9991      7298\n",
      "\n",
      "    accuracy                         0.9978      7354\n",
      "   macro avg     0.7874    0.9331    0.8397      7354\n",
      "weighted avg     0.9979    0.9978    0.9978      7354\n",
      "\n",
      "              precision    recall  f1-score   support\n",
      "\n",
      "         DAC     1.0000    1.0000    1.0000         9\n",
      "         DQC     1.0000    1.0000    1.0000         8\n",
      "         IAC     1.0000    0.9577    0.9784        71\n",
      "         IQC     0.9716    0.9716    0.9716       141\n",
      "      others     0.9998    0.9999    0.9999     30637\n",
      "\n",
      "    accuracy                         0.9997     30866\n",
      "   macro avg     0.9943    0.9859    0.9900     30866\n",
      "weighted avg     0.9997    0.9997    0.9997     30866\n",
      "\n",
      "              precision    recall  f1-score   support\n",
      "\n",
      "         DAC     0.5000    1.0000    0.6667         1\n",
      "         DQC     0.7500    1.0000    0.8571         3\n",
      "         IAC     0.8462    0.9167    0.8800        24\n",
      "         IQC     0.8077    0.7500    0.7778        28\n",
      "      others     0.9993    0.9990    0.9992      7298\n",
      "\n",
      "    accuracy                         0.9978      7354\n",
      "   macro avg     0.7806    0.9331    0.8362      7354\n",
      "weighted avg     0.9979    0.9978    0.9978      7354\n",
      "\n",
      "              precision    recall  f1-score   support\n",
      "\n",
      "         DAC     1.0000    1.0000    1.0000        10\n",
      "         DQC     1.0000    1.0000    1.0000         6\n",
      "         IAC     1.0000    0.9733    0.9865        75\n",
      "         IQC     0.9710    0.9926    0.9817       135\n",
      "      others     0.9999    0.9999    0.9999     30640\n",
      "\n",
      "    accuracy                         0.9998     30866\n",
      "   macro avg     0.9942    0.9932    0.9936     30866\n",
      "weighted avg     0.9998    0.9998    0.9998     30866\n",
      "\n",
      "              precision    recall  f1-score   support\n",
      "\n",
      "         DAC     0.5000    1.0000    0.6667         1\n",
      "         DQC     0.7500    1.0000    0.8571         3\n",
      "         IAC     0.8696    0.8333    0.8511        24\n",
      "         IQC     0.8519    0.8214    0.8364        28\n",
      "      others     0.9993    0.9993    0.9993      7298\n",
      "\n",
      "    accuracy                         0.9981      7354\n",
      "   macro avg     0.7941    0.9308    0.8421      7354\n",
      "weighted avg     0.9982    0.9981    0.9981      7354\n",
      "\n",
      "              precision    recall  f1-score   support\n",
      "\n",
      "         DAC     1.0000    1.0000    1.0000         9\n",
      "         DQC     1.0000    1.0000    1.0000         8\n",
      "         IAC     1.0000    0.9583    0.9787        72\n",
      "         IQC     0.9787    0.9857    0.9822       140\n",
      "      others     0.9999    0.9999    0.9999     30637\n",
      "\n",
      "    accuracy                         0.9998     30866\n",
      "   macro avg     0.9957    0.9888    0.9922     30866\n",
      "weighted avg     0.9998    0.9998    0.9998     30866\n",
      "\n",
      "              precision    recall  f1-score   support\n",
      "\n",
      "         DAC     0.5000    1.0000    0.6667         1\n",
      "         DQC     0.7500    1.0000    0.8571         3\n",
      "         IAC     0.8750    0.8750    0.8750        24\n",
      "         IQC     0.8571    0.8571    0.8571        28\n",
      "      others     0.9996    0.9993    0.9995      7298\n",
      "\n",
      "    accuracy                         0.9984      7354\n",
      "   macro avg     0.7963    0.9463    0.8511      7354\n",
      "weighted avg     0.9985    0.9984    0.9984      7354\n",
      "\n",
      "              precision    recall  f1-score   support\n",
      "\n",
      "         DAC     1.0000    1.0000    1.0000         9\n",
      "         DQC     1.0000    1.0000    1.0000         9\n",
      "         IAC     1.0000    0.9839    0.9919        62\n",
      "         IQC     0.9781    0.9853    0.9817       136\n",
      "      others     0.9999    0.9999    0.9999     30650\n",
      "\n",
      "    accuracy                         0.9998     30866\n",
      "   macro avg     0.9956    0.9938    0.9947     30866\n",
      "weighted avg     0.9998    0.9998    0.9998     30866\n",
      "\n",
      "              precision    recall  f1-score   support\n",
      "\n",
      "         DAC     0.0000    0.0000    0.0000         1\n",
      "         DQC     0.6000    1.0000    0.7500         3\n",
      "         IAC     0.8750    0.8750    0.8750        24\n",
      "         IQC     0.8800    0.7857    0.8302        28\n",
      "      others     0.9990    0.9992    0.9991      7298\n",
      "\n",
      "    accuracy                         0.9978      7354\n",
      "   macro avg     0.6708    0.7320    0.6909      7354\n",
      "weighted avg     0.9979    0.9978    0.9978      7354\n",
      "\n",
      "              precision    recall  f1-score   support\n",
      "\n",
      "         DAC     1.0000    1.0000    1.0000         7\n",
      "         DQC     1.0000    1.0000    1.0000         9\n",
      "         IAC     1.0000    0.9859    0.9929        71\n",
      "         IQC     0.9767    0.9844    0.9805       128\n",
      "      others     0.9999    0.9999    0.9999     27221\n",
      "\n",
      "    accuracy                         0.9998     27436\n",
      "   macro avg     0.9953    0.9940    0.9947     27436\n",
      "weighted avg     0.9998    0.9998    0.9998     27436\n",
      "\n",
      "              precision    recall  f1-score   support\n",
      "\n",
      "         DAC     0.3333    1.0000    0.5000         1\n",
      "         DQC     0.6667    0.6667    0.6667         3\n",
      "         IAC     0.8462    0.9167    0.8800        24\n",
      "         IQC     0.8519    0.8214    0.8364        28\n",
      "      others     0.9995    0.9990    0.9992      7298\n",
      "\n",
      "    accuracy                         0.9980      7354\n",
      "   macro avg     0.7395    0.8808    0.7765      7354\n",
      "weighted avg     0.9982    0.9980    0.9980      7354\n",
      "\n",
      "              precision    recall  f1-score   support\n",
      "\n",
      "         DAC     1.0000    1.0000    1.0000         8\n",
      "         DQC     1.0000    1.0000    1.0000         7\n",
      "         IAC     1.0000    0.9538    0.9764        65\n",
      "         IQC     0.9910    0.9910    0.9910       111\n",
      "      others     0.9999    1.0000    0.9999     27245\n",
      "\n",
      "    accuracy                         0.9999     27436\n",
      "   macro avg     0.9982    0.9890    0.9935     27436\n",
      "weighted avg     0.9999    0.9999    0.9999     27436\n",
      "\n",
      "              precision    recall  f1-score   support\n",
      "\n",
      "         DAC     0.5000    1.0000    0.6667         1\n",
      "         DQC     0.7500    1.0000    0.8571         3\n",
      "         IAC     0.8750    0.8750    0.8750        24\n",
      "         IQC     0.8148    0.7857    0.8000        28\n",
      "      others     0.9993    0.9992    0.9992      7298\n",
      "\n",
      "    accuracy                         0.9980      7354\n",
      "   macro avg     0.7878    0.9320    0.8396      7354\n",
      "weighted avg     0.9980    0.9980    0.9980      7354\n",
      "\n",
      "              precision    recall  f1-score   support\n",
      "\n",
      "         DAC     1.0000    1.0000    1.0000        10\n",
      "         DQC     1.0000    1.0000    1.0000         7\n",
      "         IAC     1.0000    0.9825    0.9912        57\n",
      "         IQC     0.9748    0.9748    0.9748       119\n",
      "      others     0.9999    0.9999    0.9999     27243\n",
      "\n",
      "    accuracy                         0.9998     27436\n",
      "   macro avg     0.9949    0.9914    0.9932     27436\n",
      "weighted avg     0.9998    0.9998    0.9998     27436\n",
      "\n",
      "              precision    recall  f1-score   support\n",
      "\n",
      "         DAC     0.5000    1.0000    0.6667         1\n",
      "         DQC     0.6667    0.6667    0.6667         3\n",
      "         IAC     0.9130    0.8750    0.8936        24\n",
      "         IQC     0.7586    0.7857    0.7719        28\n",
      "      others     0.9993    0.9992    0.9992      7298\n",
      "\n",
      "    accuracy                         0.9978      7354\n",
      "   macro avg     0.7675    0.8653    0.7996      7354\n",
      "weighted avg     0.9979    0.9978    0.9979      7354\n",
      "\n",
      "              precision    recall  f1-score   support\n",
      "\n",
      "         DAC     1.0000    1.0000    1.0000         9\n",
      "         DQC     1.0000    1.0000    1.0000         5\n",
      "         IAC     1.0000    1.0000    1.0000        56\n",
      "         IQC     0.9836    1.0000    0.9917       120\n",
      "      others     1.0000    0.9999    1.0000     27246\n",
      "\n",
      "    accuracy                         0.9999     27436\n",
      "   macro avg     0.9967    1.0000    0.9983     27436\n",
      "weighted avg     0.9999    0.9999    0.9999     27436\n",
      "\n",
      "              precision    recall  f1-score   support\n",
      "\n",
      "         DAC     0.0000    0.0000    0.0000         1\n",
      "         DQC     0.6000    1.0000    0.7500         3\n",
      "         IAC     0.8800    0.9167    0.8980        24\n",
      "         IQC     0.8214    0.8214    0.8214        28\n",
      "      others     0.9995    0.9990    0.9992      7298\n",
      "\n",
      "    accuracy                         0.9980      7354\n",
      "   macro avg     0.6602    0.7474    0.6937      7354\n",
      "weighted avg     0.9981    0.9980    0.9980      7354\n",
      "\n",
      "              precision    recall  f1-score   support\n",
      "\n",
      "         DAC     1.0000    1.0000    1.0000         6\n",
      "         DQC     1.0000    1.0000    1.0000         6\n",
      "         IAC     1.0000    1.0000    1.0000        73\n",
      "         IQC     0.9914    0.9746    0.9829       118\n",
      "      others     0.9999    1.0000    0.9999     27233\n",
      "\n",
      "    accuracy                         0.9999     27436\n",
      "   macro avg     0.9983    0.9949    0.9966     27436\n",
      "weighted avg     0.9999    0.9999    0.9999     27436\n",
      "\n",
      "              precision    recall  f1-score   support\n",
      "\n",
      "         DAC     0.5000    1.0000    0.6667         1\n",
      "         DQC     0.7500    1.0000    0.8571         3\n",
      "         IAC     0.8462    0.9167    0.8800        24\n",
      "         IQC     0.8846    0.8214    0.8519        28\n",
      "      others     0.9995    0.9992    0.9993      7298\n",
      "\n",
      "    accuracy                         0.9982      7354\n",
      "   macro avg     0.7960    0.9475    0.8510      7354\n",
      "weighted avg     0.9983    0.9982    0.9983      7354\n",
      "\n",
      "              precision    recall  f1-score   support\n",
      "\n",
      "         DAC     1.0000    1.0000    1.0000         8\n",
      "         DQC     1.0000    1.0000    1.0000         9\n",
      "         IAC     1.0000    0.9722    0.9859        72\n",
      "         IQC     0.9922    0.9845    0.9883       129\n",
      "      others     0.9999    1.0000    0.9999     27218\n",
      "\n",
      "    accuracy                         0.9999     27436\n",
      "   macro avg     0.9984    0.9913    0.9948     27436\n",
      "weighted avg     0.9999    0.9999    0.9999     27436\n",
      "\n",
      "              precision    recall  f1-score   support\n",
      "\n",
      "         DAC     0.0000    0.0000    0.0000         1\n",
      "         DQC     0.6000    1.0000    0.7500         3\n",
      "         IAC     0.7692    0.8333    0.8000        24\n",
      "         IQC     0.8800    0.7857    0.8302        28\n",
      "      others     0.9992    0.9990    0.9991      7298\n",
      "\n",
      "    accuracy                         0.9976      7354\n",
      "   macro avg     0.6497    0.7236    0.6759      7354\n",
      "weighted avg     0.9977    0.9976    0.9976      7354\n",
      "\n",
      "              precision    recall  f1-score   support\n",
      "\n",
      "         DAC     1.0000    1.0000    1.0000         6\n",
      "         DQC     1.0000    1.0000    1.0000         8\n",
      "         IAC     1.0000    0.9538    0.9764        65\n",
      "         IQC     0.9675    0.9917    0.9794       120\n",
      "      others     0.9999    0.9999    0.9999     27237\n",
      "\n",
      "    accuracy                         0.9997     27436\n",
      "   macro avg     0.9935    0.9891    0.9911     27436\n",
      "weighted avg     0.9997    0.9997    0.9997     27436\n",
      "\n",
      "              precision    recall  f1-score   support\n",
      "\n",
      "         DAC     0.5000    1.0000    0.6667         1\n",
      "         DQC     0.6667    0.6667    0.6667         3\n",
      "         IAC     0.8750    0.8750    0.8750        24\n",
      "         IQC     0.8462    0.7857    0.8148        28\n",
      "      others     0.9992    0.9993    0.9992      7298\n",
      "\n",
      "    accuracy                         0.9980      7354\n",
      "   macro avg     0.7774    0.8653    0.8045      7354\n",
      "weighted avg     0.9980    0.9980    0.9980      7354\n",
      "\n",
      "              precision    recall  f1-score   support\n",
      "\n",
      "         DAC     1.0000    1.0000    1.0000         8\n",
      "         DQC     1.0000    1.0000    1.0000         7\n",
      "         IAC     1.0000    0.9851    0.9925        67\n",
      "         IQC     0.9695    0.9922    0.9807       128\n",
      "      others     1.0000    0.9999    0.9999     27226\n",
      "\n",
      "    accuracy                         0.9998     27436\n",
      "   macro avg     0.9939    0.9954    0.9946     27436\n",
      "weighted avg     0.9998    0.9998    0.9998     27436\n",
      "\n",
      "              precision    recall  f1-score   support\n",
      "\n",
      "         DAC     0.5000    1.0000    0.6667         1\n",
      "         DQC     0.7500    1.0000    0.8571         3\n",
      "         IAC     0.8077    0.8750    0.8400        24\n",
      "         IQC     0.8214    0.8214    0.8214        28\n",
      "      others     0.9995    0.9989    0.9992      7298\n",
      "\n",
      "    accuracy                         0.9978      7354\n",
      "   macro avg     0.7757    0.9391    0.8369      7354\n",
      "weighted avg     0.9980    0.9978    0.9979      7354\n",
      "\n",
      "              precision    recall  f1-score   support\n",
      "\n",
      "         DAC     1.0000    1.0000    1.0000         8\n",
      "         DQC     1.0000    1.0000    1.0000         8\n",
      "         IAC     1.0000    0.9848    0.9924        66\n",
      "         IQC     0.9762    1.0000    0.9880       123\n",
      "      others     1.0000    0.9999    1.0000     27231\n",
      "\n",
      "    accuracy                         0.9999     27436\n",
      "   macro avg     0.9952    0.9970    0.9961     27436\n",
      "weighted avg     0.9999    0.9999    0.9999     27436\n",
      "\n",
      "              precision    recall  f1-score   support\n",
      "\n",
      "         DAC     0.5000    1.0000    0.6667         1\n",
      "         DQC     0.7500    1.0000    0.8571         3\n",
      "         IAC     0.8462    0.9167    0.8800        24\n",
      "         IQC     0.8519    0.8214    0.8364        28\n",
      "      others     0.9996    0.9992    0.9994      7298\n",
      "\n",
      "    accuracy                         0.9982      7354\n",
      "   macro avg     0.7895    0.9475    0.8479      7354\n",
      "weighted avg     0.9984    0.9982    0.9983      7354\n",
      "\n",
      "              precision    recall  f1-score   support\n",
      "\n",
      "         DAC     1.0000    1.0000    1.0000        10\n",
      "         DQC     1.0000    1.0000    1.0000        10\n",
      "         IAC     1.0000    0.9836    0.9917        61\n",
      "         IQC     0.9677    0.9677    0.9677       124\n",
      "      others     0.9999    0.9999    0.9999     27231\n",
      "\n",
      "    accuracy                         0.9997     27436\n",
      "   macro avg     0.9935    0.9902    0.9919     27436\n",
      "weighted avg     0.9997    0.9997    0.9997     27436\n",
      "\n",
      "              precision    recall  f1-score   support\n",
      "\n",
      "         DAC     0.5000    1.0000    0.6667         1\n",
      "         DQC     1.0000    1.0000    1.0000         3\n",
      "         IAC     0.8519    0.9583    0.9020        24\n",
      "         IQC     0.9231    0.8571    0.8889        28\n",
      "      others     0.9996    0.9993    0.9995      7298\n",
      "\n",
      "    accuracy                         0.9986      7354\n",
      "   macro avg     0.8549    0.9630    0.8914      7354\n",
      "weighted avg     0.9987    0.9986    0.9987      7354\n",
      "\n",
      "              precision    recall  f1-score   support\n",
      "\n",
      "         DAC     1.0000    1.0000    1.0000         9\n",
      "         DQC     1.0000    1.0000    1.0000         6\n",
      "         IAC     1.0000    0.9683    0.9839        63\n",
      "         IQC     0.9920    0.9920    0.9920       125\n",
      "      others     0.9999    1.0000    0.9999     27233\n",
      "\n",
      "    accuracy                         0.9999     27436\n",
      "   macro avg     0.9984    0.9920    0.9952     27436\n",
      "weighted avg     0.9999    0.9999    0.9999     27436\n",
      "\n",
      "              precision    recall  f1-score   support\n",
      "\n",
      "         DAC     0.5000    1.0000    0.6667         1\n",
      "         DQC     0.7500    1.0000    0.8571         3\n",
      "         IAC     0.8800    0.9167    0.8980        24\n",
      "         IQC     0.8519    0.8214    0.8364        28\n",
      "      others     0.9995    0.9992    0.9993      7298\n",
      "\n",
      "    accuracy                         0.9982      7354\n",
      "   macro avg     0.7963    0.9475    0.8515      7354\n",
      "weighted avg     0.9983    0.9982    0.9983      7354\n",
      "\n",
      "              precision    recall  f1-score   support\n",
      "\n",
      "         DAC     1.0000    1.0000    1.0000         9\n",
      "         DQC     1.0000    1.0000    1.0000         8\n",
      "         IAC     1.0000    0.9672    0.9833        61\n",
      "         IQC     0.9916    0.9672    0.9793       122\n",
      "      others     0.9998    1.0000    0.9999     27236\n",
      "\n",
      "    accuracy                         0.9997     27436\n",
      "   macro avg     0.9983    0.9869    0.9925     27436\n",
      "weighted avg     0.9997    0.9997    0.9997     27436\n",
      "\n",
      "              precision    recall  f1-score   support\n",
      "\n",
      "         DAC     0.5000    1.0000    0.6667         1\n",
      "         DQC     0.7500    1.0000    0.8571         3\n",
      "         IAC     0.8750    0.8750    0.8750        24\n",
      "         IQC     0.8462    0.7857    0.8148        28\n",
      "      others     0.9993    0.9993    0.9993      7298\n",
      "\n",
      "    accuracy                         0.9981      7354\n",
      "   macro avg     0.7941    0.9320    0.8426      7354\n",
      "weighted avg     0.9982    0.9981    0.9981      7354\n",
      "\n",
      "              precision    recall  f1-score   support\n",
      "\n",
      "         DAC     1.0000    1.0000    1.0000         6\n",
      "         DQC     1.0000    1.0000    1.0000         7\n",
      "         IAC     1.0000    0.9688    0.9841        64\n",
      "         IQC     0.9829    0.9746    0.9787       118\n",
      "      others     0.9998    0.9999    0.9999     27241\n",
      "\n",
      "    accuracy                         0.9997     27436\n",
      "   macro avg     0.9965    0.9887    0.9925     27436\n",
      "weighted avg     0.9997    0.9997    0.9997     27436\n",
      "\n",
      "              precision    recall  f1-score   support\n",
      "\n",
      "         DAC     0.5000    1.0000    0.6667         1\n",
      "         DQC     0.7500    1.0000    0.8571         3\n",
      "         IAC     0.8462    0.9167    0.8800        24\n",
      "         IQC     0.8400    0.7500    0.7925        28\n",
      "      others     0.9993    0.9992    0.9992      7298\n",
      "\n",
      "    accuracy                         0.9980      7354\n",
      "   macro avg     0.7871    0.9332    0.8391      7354\n",
      "weighted avg     0.9980    0.9980    0.9980      7354\n",
      "\n",
      "              precision    recall  f1-score   support\n",
      "\n",
      "         DAC     1.0000    1.0000    1.0000        12\n",
      "         DQC     1.0000    1.0000    1.0000         5\n",
      "         IAC     1.0000    0.9710    0.9853        69\n",
      "         IQC     0.9922    0.9621    0.9769       132\n",
      "      others     0.9997    1.0000    0.9999     27218\n",
      "\n",
      "    accuracy                         0.9997     27436\n",
      "   macro avg     0.9984    0.9866    0.9924     27436\n",
      "weighted avg     0.9997    0.9997    0.9997     27436\n",
      "\n",
      "              precision    recall  f1-score   support\n",
      "\n",
      "         DAC     0.5000    1.0000    0.6667         1\n",
      "         DQC     0.7500    1.0000    0.8571         3\n",
      "         IAC     0.8462    0.9167    0.8800        24\n",
      "         IQC     0.8846    0.8214    0.8519        28\n",
      "      others     0.9995    0.9992    0.9993      7298\n",
      "\n",
      "    accuracy                         0.9982      7354\n",
      "   macro avg     0.7960    0.9475    0.8510      7354\n",
      "weighted avg     0.9983    0.9982    0.9983      7354\n",
      "\n",
      "              precision    recall  f1-score   support\n",
      "\n",
      "         DAC     1.0000    1.0000    1.0000         7\n",
      "         DQC     1.0000    1.0000    1.0000         8\n",
      "         IAC     1.0000    1.0000    1.0000        71\n",
      "         IQC     0.9833    0.9752    0.9793       121\n",
      "      others     0.9999    0.9999    0.9999     27229\n",
      "\n",
      "    accuracy                         0.9998     27436\n",
      "   macro avg     0.9966    0.9950    0.9958     27436\n",
      "weighted avg     0.9998    0.9998    0.9998     27436\n",
      "\n",
      "              precision    recall  f1-score   support\n",
      "\n",
      "         DAC     0.5000    1.0000    0.6667         1\n",
      "         DQC     0.7500    1.0000    0.8571         3\n",
      "         IAC     0.8519    0.9583    0.9020        24\n",
      "         IQC     0.8462    0.7857    0.8148        28\n",
      "      others     0.9996    0.9992    0.9994      7298\n",
      "\n",
      "    accuracy                         0.9982      7354\n",
      "   macro avg     0.7895    0.9486    0.8480      7354\n",
      "weighted avg     0.9984    0.9982    0.9983      7354\n",
      "\n",
      "              precision    recall  f1-score   support\n",
      "\n",
      "         DAC     1.0000    1.0000    1.0000        10\n",
      "         DQC     1.0000    1.0000    1.0000         9\n",
      "         IAC     1.0000    0.9565    0.9778        69\n",
      "         IQC     0.9735    0.9649    0.9692       114\n",
      "      others     0.9998    0.9999    0.9999     27234\n",
      "\n",
      "    accuracy                         0.9997     27436\n",
      "   macro avg     0.9946    0.9843    0.9894     27436\n",
      "weighted avg     0.9997    0.9997    0.9997     27436\n",
      "\n",
      "              precision    recall  f1-score   support\n",
      "\n",
      "         DAC     0.5000    1.0000    0.6667         1\n",
      "         DQC     0.7500    1.0000    0.8571         3\n",
      "         IAC     0.8400    0.8750    0.8571        24\n",
      "         IQC     0.8462    0.7857    0.8148        28\n",
      "      others     0.9993    0.9992    0.9992      7298\n",
      "\n",
      "    accuracy                         0.9980      7354\n",
      "   macro avg     0.7871    0.9320    0.8390      7354\n",
      "weighted avg     0.9980    0.9980    0.9980      7354\n",
      "\n",
      "              precision    recall  f1-score   support\n",
      "\n",
      "         DAC     1.0000    1.0000    1.0000        10\n",
      "         DQC     1.0000    1.0000    1.0000         7\n",
      "         IAC     1.0000    1.0000    1.0000        70\n",
      "         IQC     0.9683    0.9839    0.9760       124\n",
      "      others     0.9999    0.9999    0.9999     27225\n",
      "\n",
      "    accuracy                         0.9998     27436\n",
      "   macro avg     0.9936    0.9967    0.9952     27436\n",
      "weighted avg     0.9998    0.9998    0.9998     27436\n",
      "\n",
      "              precision    recall  f1-score   support\n",
      "\n",
      "         DAC     0.5000    1.0000    0.6667         1\n",
      "         DQC     0.7500    1.0000    0.8571         3\n",
      "         IAC     0.8400    0.8750    0.8571        24\n",
      "         IQC     0.8333    0.7143    0.7692        28\n",
      "      others     0.9990    0.9992    0.9991      7298\n",
      "\n",
      "    accuracy                         0.9977      7354\n",
      "   macro avg     0.7845    0.9177    0.8299      7354\n",
      "weighted avg     0.9977    0.9977    0.9977      7354\n",
      "\n",
      "              precision    recall  f1-score   support\n",
      "\n",
      "         DAC     1.0000    1.0000    1.0000         9\n",
      "         DQC     1.0000    1.0000    1.0000         8\n",
      "         IAC     1.0000    1.0000    1.0000        68\n",
      "         IQC     0.9915    0.9831    0.9872       118\n",
      "      others     0.9999    1.0000    0.9999     27233\n",
      "\n",
      "    accuracy                         0.9999     27436\n",
      "   macro avg     0.9983    0.9966    0.9974     27436\n",
      "weighted avg     0.9999    0.9999    0.9999     27436\n",
      "\n",
      "              precision    recall  f1-score   support\n",
      "\n",
      "         DAC     0.5000    1.0000    0.6667         1\n",
      "         DQC     0.7500    1.0000    0.8571         3\n",
      "         IAC     0.8462    0.9167    0.8800        24\n",
      "         IQC     0.8800    0.7857    0.8302        28\n",
      "      others     0.9993    0.9992    0.9992      7298\n",
      "\n",
      "    accuracy                         0.9981      7354\n",
      "   macro avg     0.7951    0.9403    0.8466      7354\n",
      "weighted avg     0.9982    0.9981    0.9981      7354\n",
      "\n",
      "              precision    recall  f1-score   support\n",
      "\n",
      "         DAC     1.0000    1.0000    1.0000        11\n",
      "         DQC     1.0000    1.0000    1.0000         9\n",
      "         IAC     1.0000    0.9863    0.9931        73\n",
      "         IQC     0.9758    1.0000    0.9878       121\n",
      "      others     1.0000    0.9999    0.9999     27222\n",
      "\n",
      "    accuracy                         0.9999     27436\n",
      "   macro avg     0.9952    0.9972    0.9962     27436\n",
      "weighted avg     0.9999    0.9999    0.9999     27436\n",
      "\n",
      "              precision    recall  f1-score   support\n",
      "\n",
      "         DAC     0.5000    1.0000    0.6667         1\n",
      "         DQC     0.7500    1.0000    0.8571         3\n",
      "         IAC     0.8462    0.9167    0.8800        24\n",
      "         IQC     0.8846    0.8214    0.8519        28\n",
      "      others     0.9996    0.9993    0.9995      7298\n",
      "\n",
      "    accuracy                         0.9984      7354\n",
      "   macro avg     0.7961    0.9475    0.8510      7354\n",
      "weighted avg     0.9985    0.9984    0.9984      7354\n",
      "\n",
      "              precision    recall  f1-score   support\n",
      "\n",
      "         DAC     1.0000    1.0000    1.0000         8\n",
      "         DQC     1.0000    1.0000    1.0000         6\n",
      "         IAC     1.0000    0.9559    0.9774        68\n",
      "         IQC     0.9906    0.9722    0.9813       108\n",
      "      others     0.9998    1.0000    0.9999     27246\n",
      "\n",
      "    accuracy                         0.9998     27436\n",
      "   macro avg     0.9981    0.9856    0.9917     27436\n",
      "weighted avg     0.9998    0.9998    0.9998     27436\n",
      "\n",
      "              precision    recall  f1-score   support\n",
      "\n",
      "         DAC     0.5000    1.0000    0.6667         1\n",
      "         DQC     0.7500    1.0000    0.8571         3\n",
      "         IAC     0.7931    0.9583    0.8679        24\n",
      "         IQC     0.7917    0.6786    0.7308        28\n",
      "      others     0.9992    0.9988    0.9990      7298\n",
      "\n",
      "    accuracy                         0.9974      7354\n",
      "   macro avg     0.7668    0.9271    0.8243      7354\n",
      "weighted avg     0.9975    0.9974    0.9974      7354\n",
      "\n",
      "              precision    recall  f1-score   support\n",
      "\n",
      "         DAC     1.0000    1.0000    1.0000         8\n",
      "         DQC     1.0000    1.0000    1.0000         6\n",
      "         IAC     1.0000    1.0000    1.0000        65\n",
      "         IQC     0.9896    0.9694    0.9794        98\n",
      "      others     0.9999    1.0000    0.9999     23829\n",
      "\n",
      "    accuracy                         0.9998     24006\n",
      "   macro avg     0.9979    0.9939    0.9959     24006\n",
      "weighted avg     0.9998    0.9998    0.9998     24006\n",
      "\n",
      "              precision    recall  f1-score   support\n",
      "\n",
      "         DAC     0.5000    1.0000    0.6667         1\n",
      "         DQC     0.7500    1.0000    0.8571         3\n",
      "         IAC     0.8462    0.9167    0.8800        24\n",
      "         IQC     0.8462    0.7857    0.8148        28\n",
      "      others     0.9995    0.9992    0.9993      7298\n",
      "\n",
      "    accuracy                         0.9981      7354\n",
      "   macro avg     0.7884    0.9403    0.8436      7354\n",
      "weighted avg     0.9982    0.9981    0.9981      7354\n",
      "\n",
      "              precision    recall  f1-score   support\n",
      "\n",
      "         DAC     1.0000    1.0000    1.0000         7\n",
      "         DQC     1.0000    1.0000    1.0000         7\n",
      "         IAC     1.0000    0.9841    0.9920        63\n",
      "         IQC     0.9739    0.9825    0.9782       114\n",
      "      others     0.9999    0.9999    0.9999     23815\n",
      "\n",
      "    accuracy                         0.9998     24006\n",
      "   macro avg     0.9948    0.9933    0.9940     24006\n",
      "weighted avg     0.9998    0.9998    0.9998     24006\n",
      "\n",
      "              precision    recall  f1-score   support\n",
      "\n",
      "         DAC     0.5000    1.0000    0.6667         1\n",
      "         DQC     0.7500    1.0000    0.8571         3\n",
      "         IAC     0.8400    0.8750    0.8571        24\n",
      "         IQC     0.8462    0.7857    0.8148        28\n",
      "      others     0.9993    0.9992    0.9992      7298\n",
      "\n",
      "    accuracy                         0.9980      7354\n",
      "   macro avg     0.7871    0.9320    0.8390      7354\n",
      "weighted avg     0.9980    0.9980    0.9980      7354\n",
      "\n",
      "              precision    recall  f1-score   support\n",
      "\n",
      "         DAC     1.0000    1.0000    1.0000         8\n",
      "         DQC     1.0000    1.0000    1.0000         7\n",
      "         IAC     1.0000    0.9804    0.9901        51\n",
      "         IQC     0.9748    0.9748    0.9748       119\n",
      "      others     0.9999    0.9999    0.9999     23821\n",
      "\n",
      "    accuracy                         0.9998     24006\n",
      "   macro avg     0.9949    0.9910    0.9930     24006\n",
      "weighted avg     0.9998    0.9998    0.9997     24006\n",
      "\n",
      "              precision    recall  f1-score   support\n",
      "\n",
      "         DAC     0.5000    1.0000    0.6667         1\n",
      "         DQC     0.7500    1.0000    0.8571         3\n",
      "         IAC     0.8750    0.8750    0.8750        24\n",
      "         IQC     0.8621    0.8929    0.8772        28\n",
      "      others     0.9997    0.9993    0.9995      7298\n",
      "\n",
      "    accuracy                         0.9985      7354\n",
      "   macro avg     0.7974    0.9534    0.8551      7354\n",
      "weighted avg     0.9986    0.9985    0.9985      7354\n",
      "\n",
      "              precision    recall  f1-score   support\n",
      "\n",
      "         DAC     1.0000    1.0000    1.0000         6\n",
      "         DQC     1.0000    1.0000    1.0000         8\n",
      "         IAC     1.0000    0.9808    0.9903        52\n",
      "         IQC     0.9744    0.9828    0.9785       116\n",
      "      others     0.9999    0.9999    0.9999     23824\n",
      "\n",
      "    accuracy                         0.9998     24006\n",
      "   macro avg     0.9948    0.9927    0.9937     24006\n",
      "weighted avg     0.9998    0.9998    0.9998     24006\n",
      "\n",
      "              precision    recall  f1-score   support\n",
      "\n",
      "         DAC     0.0000    0.0000    0.0000         1\n",
      "         DQC     0.7500    1.0000    0.8571         3\n",
      "         IAC     0.8400    0.8750    0.8571        24\n",
      "         IQC     0.8214    0.8214    0.8214        28\n",
      "      others     0.9995    0.9992    0.9993      7298\n",
      "\n",
      "    accuracy                         0.9980      7354\n",
      "   macro avg     0.6822    0.7391    0.7070      7354\n",
      "weighted avg     0.9980    0.9980    0.9980      7354\n",
      "\n",
      "              precision    recall  f1-score   support\n",
      "\n",
      "         DAC     1.0000    1.0000    1.0000         8\n",
      "         DQC     1.0000    1.0000    1.0000         4\n",
      "         IAC     1.0000    0.9808    0.9903        52\n",
      "         IQC     0.9909    0.9909    0.9909       110\n",
      "      others     0.9999    1.0000    0.9999     23832\n",
      "\n",
      "    accuracy                         0.9999     24006\n",
      "   macro avg     0.9982    0.9943    0.9962     24006\n",
      "weighted avg     0.9999    0.9999    0.9999     24006\n",
      "\n",
      "              precision    recall  f1-score   support\n",
      "\n",
      "         DAC     0.0000    0.0000    0.0000         1\n",
      "         DQC     0.6000    1.0000    0.7500         3\n",
      "         IAC     0.8462    0.9167    0.8800        24\n",
      "         IQC     0.8462    0.7857    0.8148        28\n",
      "      others     0.9993    0.9990    0.9992      7298\n",
      "\n",
      "    accuracy                         0.9978      7354\n",
      "   macro avg     0.6583    0.7403    0.6888      7354\n",
      "weighted avg     0.9979    0.9978    0.9978      7354\n",
      "\n",
      "              precision    recall  f1-score   support\n",
      "\n",
      "         DAC     1.0000    1.0000    1.0000         6\n",
      "         DQC     1.0000    1.0000    1.0000         9\n",
      "         IAC     1.0000    1.0000    1.0000        61\n",
      "         IQC     0.9910    0.9821    0.9865       112\n",
      "      others     0.9999    1.0000    0.9999     23818\n",
      "\n",
      "    accuracy                         0.9999     24006\n",
      "   macro avg     0.9982    0.9964    0.9973     24006\n",
      "weighted avg     0.9999    0.9999    0.9999     24006\n",
      "\n",
      "              precision    recall  f1-score   support\n",
      "\n",
      "         DAC     0.5000    1.0000    0.6667         1\n",
      "         DQC     0.7500    1.0000    0.8571         3\n",
      "         IAC     0.8148    0.9167    0.8627        24\n",
      "         IQC     0.8519    0.8214    0.8364        28\n",
      "      others     0.9997    0.9992    0.9995      7298\n",
      "\n",
      "    accuracy                         0.9982      7354\n",
      "   macro avg     0.7833    0.9475    0.8445      7354\n",
      "weighted avg     0.9984    0.9982    0.9983      7354\n",
      "\n",
      "              precision    recall  f1-score   support\n",
      "\n",
      "         DAC     1.0000    1.0000    1.0000         8\n",
      "         DQC     1.0000    1.0000    1.0000         5\n",
      "         IAC     1.0000    0.9655    0.9825        58\n",
      "         IQC     0.9664    0.9829    0.9746       117\n",
      "      others     0.9999    0.9999    0.9999     23818\n",
      "\n",
      "    accuracy                         0.9997     24006\n",
      "   macro avg     0.9933    0.9897    0.9914     24006\n",
      "weighted avg     0.9997    0.9997    0.9997     24006\n",
      "\n",
      "              precision    recall  f1-score   support\n",
      "\n",
      "         DAC     0.5000    1.0000    0.6667         1\n",
      "         DQC     0.7500    1.0000    0.8571         3\n",
      "         IAC     0.8077    0.8750    0.8400        24\n",
      "         IQC     0.7500    0.7500    0.7500        28\n",
      "      others     0.9995    0.9989    0.9992      7298\n",
      "\n",
      "    accuracy                         0.9976      7354\n",
      "   macro avg     0.7614    0.9248    0.8226      7354\n",
      "weighted avg     0.9977    0.9976    0.9976      7354\n",
      "\n",
      "              precision    recall  f1-score   support\n",
      "\n",
      "         DAC     1.0000    1.0000    1.0000         7\n",
      "         DQC     1.0000    1.0000    1.0000         5\n",
      "         IAC     1.0000    1.0000    1.0000        55\n",
      "         IQC     0.9714    0.9903    0.9808       103\n",
      "      others     1.0000    0.9999    0.9999     23836\n",
      "\n",
      "    accuracy                         0.9998     24006\n",
      "   macro avg     0.9943    0.9980    0.9961     24006\n",
      "weighted avg     0.9998    0.9998    0.9998     24006\n",
      "\n",
      "              precision    recall  f1-score   support\n",
      "\n",
      "         DAC     0.5000    1.0000    0.6667         1\n",
      "         DQC     0.7500    1.0000    0.8571         3\n",
      "         IAC     0.7931    0.9583    0.8679        24\n",
      "         IQC     0.8889    0.8571    0.8727        28\n",
      "      others     0.9997    0.9989    0.9993      7298\n",
      "\n",
      "    accuracy                         0.9982      7354\n",
      "   macro avg     0.7863    0.9629    0.8528      7354\n",
      "weighted avg     0.9985    0.9982    0.9983      7354\n",
      "\n",
      "              precision    recall  f1-score   support\n",
      "\n",
      "         DAC     1.0000    1.0000    1.0000         8\n",
      "         DQC     1.0000    1.0000    1.0000         6\n",
      "         IAC     1.0000    1.0000    1.0000        59\n",
      "         IQC     0.9909    0.9820    0.9864       111\n",
      "      others     0.9999    1.0000    0.9999     23822\n",
      "\n",
      "    accuracy                         0.9999     24006\n",
      "   macro avg     0.9982    0.9964    0.9973     24006\n",
      "weighted avg     0.9999    0.9999    0.9999     24006\n",
      "\n",
      "              precision    recall  f1-score   support\n",
      "\n",
      "         DAC     0.3333    1.0000    0.5000         1\n",
      "         DQC     0.5000    0.6667    0.5714         3\n",
      "         IAC     0.9048    0.7917    0.8444        24\n",
      "         IQC     0.7857    0.7857    0.7857        28\n",
      "      others     0.9993    0.9993    0.9993      7298\n",
      "\n",
      "    accuracy                         0.9977      7354\n",
      "   macro avg     0.7046    0.8487    0.7402      7354\n",
      "weighted avg     0.9979    0.9977    0.9978      7354\n",
      "\n",
      "              precision    recall  f1-score   support\n",
      "\n",
      "         DAC     1.0000    1.0000    1.0000        10\n",
      "         DQC     1.0000    1.0000    1.0000         3\n",
      "         IAC     1.0000    0.9649    0.9821        57\n",
      "         IQC     1.0000    0.9802    0.9900       101\n",
      "      others     0.9998    1.0000    0.9999     23835\n",
      "\n",
      "    accuracy                         0.9998     24006\n",
      "   macro avg     1.0000    0.9890    0.9944     24006\n",
      "weighted avg     0.9998    0.9998    0.9998     24006\n",
      "\n",
      "              precision    recall  f1-score   support\n",
      "\n",
      "         DAC     0.5000    1.0000    0.6667         1\n",
      "         DQC     0.7500    1.0000    0.8571         3\n",
      "         IAC     0.8696    0.8333    0.8511        24\n",
      "         IQC     0.8462    0.7857    0.8148        28\n",
      "      others     0.9990    0.9992    0.9991      7298\n",
      "\n",
      "    accuracy                         0.9978      7354\n",
      "   macro avg     0.7930    0.9236    0.8378      7354\n",
      "weighted avg     0.9979    0.9978    0.9978      7354\n",
      "\n",
      "              precision    recall  f1-score   support\n",
      "\n",
      "         DAC     1.0000    1.0000    1.0000         9\n",
      "         DQC     1.0000    1.0000    1.0000         7\n",
      "         IAC     1.0000    0.9796    0.9897        49\n",
      "         IQC     0.9828    0.9913    0.9870       115\n",
      "      others     0.9999    0.9999    0.9999     23826\n",
      "\n",
      "    accuracy                         0.9998     24006\n",
      "   macro avg     0.9965    0.9942    0.9953     24006\n",
      "weighted avg     0.9998    0.9998    0.9998     24006\n",
      "\n",
      "              precision    recall  f1-score   support\n",
      "\n",
      "         DAC     0.5000    1.0000    0.6667         1\n",
      "         DQC     0.7500    1.0000    0.8571         3\n",
      "         IAC     0.8400    0.8750    0.8571        24\n",
      "         IQC     0.8462    0.7857    0.8148        28\n",
      "      others     0.9995    0.9993    0.9994      7298\n",
      "\n",
      "    accuracy                         0.9981      7354\n",
      "   macro avg     0.7871    0.9320    0.8390      7354\n",
      "weighted avg     0.9982    0.9981    0.9981      7354\n",
      "\n",
      "              precision    recall  f1-score   support\n",
      "\n",
      "         DAC     1.0000    1.0000    1.0000         7\n",
      "         DQC     1.0000    1.0000    1.0000         6\n",
      "         IAC     0.9815    1.0000    0.9907        53\n",
      "         IQC     0.9913    0.9828    0.9870       116\n",
      "      others     0.9999    0.9999    0.9999     23824\n",
      "\n",
      "    accuracy                         0.9998     24006\n",
      "   macro avg     0.9945    0.9965    0.9955     24006\n",
      "weighted avg     0.9998    0.9998    0.9998     24006\n",
      "\n",
      "              precision    recall  f1-score   support\n",
      "\n",
      "         DAC     1.0000    1.0000    1.0000         1\n",
      "         DQC     0.6000    1.0000    0.7500         3\n",
      "         IAC     0.8462    0.9167    0.8800        24\n",
      "         IQC     0.8696    0.7143    0.7843        28\n",
      "      others     0.9992    0.9993    0.9992      7298\n",
      "\n",
      "    accuracy                         0.9980      7354\n",
      "   macro avg     0.8630    0.9261    0.8827      7354\n",
      "weighted avg     0.9980    0.9980    0.9979      7354\n",
      "\n",
      "              precision    recall  f1-score   support\n",
      "\n",
      "         DAC     1.0000    1.0000    1.0000         8\n",
      "         DQC     1.0000    1.0000    1.0000         7\n",
      "         IAC     1.0000    1.0000    1.0000        59\n",
      "         IQC     0.9787    0.9892    0.9840        93\n",
      "      others     1.0000    0.9999    0.9999     23839\n",
      "\n",
      "    accuracy                         0.9999     24006\n",
      "   macro avg     0.9957    0.9978    0.9968     24006\n",
      "weighted avg     0.9999    0.9999    0.9999     24006\n",
      "\n"
     ]
    },
    {
     "name": "stderr",
     "output_type": "stream",
     "text": [
      "/data/foundation_model/.venv/lib/python3.12/site-packages/sklearn/metrics/_classification.py:1731: UndefinedMetricWarning: Precision is ill-defined and being set to 0.0 in labels with no predicted samples. Use `zero_division` parameter to control this behavior.\n",
      "  _warn_prf(average, modifier, f\"{metric.capitalize()} is\", result.shape[0])\n",
      "/data/foundation_model/.venv/lib/python3.12/site-packages/sklearn/metrics/_classification.py:1731: UndefinedMetricWarning: Precision is ill-defined and being set to 0.0 in labels with no predicted samples. Use `zero_division` parameter to control this behavior.\n",
      "  _warn_prf(average, modifier, f\"{metric.capitalize()} is\", result.shape[0])\n",
      "/data/foundation_model/.venv/lib/python3.12/site-packages/sklearn/metrics/_classification.py:1731: UndefinedMetricWarning: Precision is ill-defined and being set to 0.0 in labels with no predicted samples. Use `zero_division` parameter to control this behavior.\n",
      "  _warn_prf(average, modifier, f\"{metric.capitalize()} is\", result.shape[0])\n",
      "/data/foundation_model/.venv/lib/python3.12/site-packages/sklearn/metrics/_classification.py:1731: UndefinedMetricWarning: Precision is ill-defined and being set to 0.0 in labels with no predicted samples. Use `zero_division` parameter to control this behavior.\n",
      "  _warn_prf(average, modifier, f\"{metric.capitalize()} is\", result.shape[0])\n",
      "/data/foundation_model/.venv/lib/python3.12/site-packages/sklearn/metrics/_classification.py:1731: UndefinedMetricWarning: Precision is ill-defined and being set to 0.0 in labels with no predicted samples. Use `zero_division` parameter to control this behavior.\n",
      "  _warn_prf(average, modifier, f\"{metric.capitalize()} is\", result.shape[0])\n",
      "/data/foundation_model/.venv/lib/python3.12/site-packages/sklearn/metrics/_classification.py:1731: UndefinedMetricWarning: Precision is ill-defined and being set to 0.0 in labels with no predicted samples. Use `zero_division` parameter to control this behavior.\n",
      "  _warn_prf(average, modifier, f\"{metric.capitalize()} is\", result.shape[0])\n"
     ]
    },
    {
     "name": "stdout",
     "output_type": "stream",
     "text": [
      "              precision    recall  f1-score   support\n",
      "\n",
      "         DAC     0.0000    0.0000    0.0000         1\n",
      "         DQC     0.5000    0.6667    0.5714         3\n",
      "         IAC     0.9091    0.8333    0.8696        24\n",
      "         IQC     0.8333    0.8929    0.8621        28\n",
      "      others     0.9993    0.9993    0.9993      7298\n",
      "\n",
      "    accuracy                         0.9981      7354\n",
      "   macro avg     0.6483    0.6784    0.6605      7354\n",
      "weighted avg     0.9980    0.9981    0.9981      7354\n",
      "\n",
      "              precision    recall  f1-score   support\n",
      "\n",
      "         DAC     1.0000    1.0000    1.0000         3\n",
      "         DQC     1.0000    1.0000    1.0000         5\n",
      "         IAC     1.0000    0.9815    0.9907        54\n",
      "         IQC     0.9905    0.9811    0.9858       106\n",
      "      others     0.9999    1.0000    0.9999     23838\n",
      "\n",
      "    accuracy                         0.9998     24006\n",
      "   macro avg     0.9981    0.9925    0.9953     24006\n",
      "weighted avg     0.9998    0.9998    0.9998     24006\n",
      "\n",
      "              precision    recall  f1-score   support\n",
      "\n",
      "         DAC     1.0000    1.0000    1.0000         1\n",
      "         DQC     0.7500    1.0000    0.8571         3\n",
      "         IAC     0.8462    0.9167    0.8800        24\n",
      "         IQC     0.8571    0.8571    0.8571        28\n",
      "      others     0.9996    0.9992    0.9994      7298\n",
      "\n",
      "    accuracy                         0.9984      7354\n",
      "   macro avg     0.8906    0.9546    0.9187      7354\n",
      "weighted avg     0.9984    0.9984    0.9984      7354\n",
      "\n",
      "              precision    recall  f1-score   support\n",
      "\n",
      "         DAC     1.0000    1.0000    1.0000         5\n",
      "         DQC     1.0000    1.0000    1.0000         6\n",
      "         IAC     0.9846    0.9846    0.9846        65\n",
      "         IQC     1.0000    1.0000    1.0000       105\n",
      "      others     1.0000    1.0000    1.0000     23825\n",
      "\n",
      "    accuracy                         0.9999     24006\n",
      "   macro avg     0.9969    0.9969    0.9969     24006\n",
      "weighted avg     0.9999    0.9999    0.9999     24006\n",
      "\n",
      "              precision    recall  f1-score   support\n",
      "\n",
      "         DAC     0.5000    1.0000    0.6667         1\n",
      "         DQC     0.7500    1.0000    0.8571         3\n",
      "         IAC     0.8696    0.8333    0.8511        24\n",
      "         IQC     0.7931    0.8214    0.8070        28\n",
      "      others     0.9993    0.9990    0.9992      7298\n",
      "\n",
      "    accuracy                         0.9978      7354\n",
      "   macro avg     0.7824    0.9308    0.8362      7354\n",
      "weighted avg     0.9979    0.9978    0.9979      7354\n",
      "\n",
      "              precision    recall  f1-score   support\n",
      "\n",
      "         DAC     1.0000    1.0000    1.0000         9\n",
      "         DQC     1.0000    1.0000    1.0000         7\n",
      "         IAC     1.0000    0.9608    0.9800        51\n",
      "         IQC     0.9890    0.9890    0.9890        91\n",
      "      others     0.9999    1.0000    0.9999     23848\n",
      "\n",
      "    accuracy                         0.9998     24006\n",
      "   macro avg     0.9978    0.9900    0.9938     24006\n",
      "weighted avg     0.9998    0.9998    0.9998     24006\n",
      "\n",
      "              precision    recall  f1-score   support\n",
      "\n",
      "         DAC     1.0000    1.0000    1.0000         1\n",
      "         DQC     1.0000    1.0000    1.0000         3\n",
      "         IAC     0.7500    0.7500    0.7500        24\n",
      "         IQC     0.7931    0.8214    0.8070        28\n",
      "      others     0.9990    0.9989    0.9990      7298\n",
      "\n",
      "    accuracy                         0.9974      7354\n",
      "   macro avg     0.9084    0.9141    0.9112      7354\n",
      "weighted avg     0.9974    0.9974    0.9974      7354\n",
      "\n",
      "              precision    recall  f1-score   support\n",
      "\n",
      "         DAC     1.0000    1.0000    1.0000         5\n",
      "         DQC     1.0000    1.0000    1.0000         8\n",
      "         IAC     0.9825    1.0000    0.9912        56\n",
      "         IQC     0.9811    0.9720    0.9765       107\n",
      "      others     0.9999    0.9999    0.9999     23830\n",
      "\n",
      "    accuracy                         0.9998     24006\n",
      "   macro avg     0.9927    0.9944    0.9935     24006\n",
      "weighted avg     0.9998    0.9998    0.9997     24006\n",
      "\n",
      "              precision    recall  f1-score   support\n",
      "\n",
      "         DAC     0.5000    1.0000    0.6667         1\n",
      "         DQC     0.7500    1.0000    0.8571         3\n",
      "         IAC     0.8333    0.8333    0.8333        24\n",
      "         IQC     0.8095    0.6071    0.6939        28\n",
      "      others     0.9985    0.9992    0.9988      7298\n",
      "\n",
      "    accuracy                         0.9971      7354\n",
      "   macro avg     0.7783    0.8879    0.8100      7354\n",
      "weighted avg     0.9971    0.9971    0.9970      7354\n",
      "\n",
      "              precision    recall  f1-score   support\n",
      "\n",
      "         DAC     1.0000    1.0000    1.0000         6\n",
      "         DQC     1.0000    1.0000    1.0000         9\n",
      "         IAC     1.0000    1.0000    1.0000        59\n",
      "         IQC     0.9811    0.9630    0.9720       108\n",
      "      others     0.9998    0.9999    0.9999     23824\n",
      "\n",
      "    accuracy                         0.9998     24006\n",
      "   macro avg     0.9962    0.9926    0.9944     24006\n",
      "weighted avg     0.9997    0.9998    0.9997     24006\n",
      "\n",
      "              precision    recall  f1-score   support\n",
      "\n",
      "         DAC     0.0000    0.0000    0.0000         1\n",
      "         DQC     0.6000    1.0000    0.7500         3\n",
      "         IAC     0.8333    0.8333    0.8333        24\n",
      "         IQC     0.8214    0.8214    0.8214        28\n",
      "      others     0.9993    0.9990    0.9992      7298\n",
      "\n",
      "    accuracy                         0.9977      7354\n",
      "   macro avg     0.6508    0.7308    0.6808      7354\n",
      "weighted avg     0.9978    0.9977    0.9977      7354\n",
      "\n",
      "              precision    recall  f1-score   support\n",
      "\n",
      "         DAC     1.0000    1.0000    1.0000         7\n",
      "         DQC     1.0000    1.0000    1.0000         7\n",
      "         IAC     1.0000    0.9455    0.9720        55\n",
      "         IQC     0.9754    0.9917    0.9835       120\n",
      "      others     0.9999    0.9999    0.9999     23817\n",
      "\n",
      "    accuracy                         0.9998     24006\n",
      "   macro avg     0.9951    0.9874    0.9911     24006\n",
      "weighted avg     0.9998    0.9998    0.9997     24006\n",
      "\n",
      "              precision    recall  f1-score   support\n",
      "\n",
      "         DAC     0.5000    1.0000    0.6667         1\n",
      "         DQC     1.0000    1.0000    1.0000         3\n",
      "         IAC     0.8696    0.8333    0.8511        24\n",
      "         IQC     0.8276    0.8571    0.8421        28\n",
      "      others     0.9992    0.9990    0.9991      7298\n",
      "\n",
      "    accuracy                         0.9980      7354\n",
      "   macro avg     0.8393    0.9379    0.8718      7354\n",
      "weighted avg     0.9980    0.9980    0.9980      7354\n",
      "\n",
      "              precision    recall  f1-score   support\n",
      "\n",
      "         DAC     1.0000    1.0000    1.0000         4\n",
      "         DQC     1.0000    1.0000    1.0000         7\n",
      "         IAC     1.0000    0.9444    0.9714        54\n",
      "         IQC     0.9903    0.9903    0.9903       103\n",
      "      others     0.9998    1.0000    0.9999     23838\n",
      "\n",
      "    accuracy                         0.9998     24006\n",
      "   macro avg     0.9980    0.9869    0.9923     24006\n",
      "weighted avg     0.9998    0.9998    0.9998     24006\n",
      "\n",
      "              precision    recall  f1-score   support\n",
      "\n",
      "         DAC     1.0000    1.0000    1.0000         1\n",
      "         DQC     0.7500    1.0000    0.8571         3\n",
      "         IAC     0.8462    0.9167    0.8800        24\n",
      "         IQC     0.8400    0.7500    0.7925        28\n",
      "      others     0.9992    0.9992    0.9992      7298\n",
      "\n",
      "    accuracy                         0.9980      7354\n",
      "   macro avg     0.8871    0.9332    0.9058      7354\n",
      "weighted avg     0.9980    0.9980    0.9979      7354\n",
      "\n",
      "              precision    recall  f1-score   support\n",
      "\n",
      "         DAC     1.0000    1.0000    1.0000         5\n",
      "         DQC     1.0000    1.0000    1.0000         4\n",
      "         IAC     1.0000    0.9608    0.9800        51\n",
      "         IQC     0.9888    0.9888    0.9888        89\n",
      "      others     0.9999    1.0000    1.0000     20428\n",
      "\n",
      "    accuracy                         0.9999     20577\n",
      "   macro avg     0.9977    0.9899    0.9937     20577\n",
      "weighted avg     0.9999    0.9999    0.9999     20577\n",
      "\n"
     ]
    },
    {
     "name": "stderr",
     "output_type": "stream",
     "text": [
      "/data/foundation_model/.venv/lib/python3.12/site-packages/sklearn/metrics/_classification.py:1731: UndefinedMetricWarning: Precision is ill-defined and being set to 0.0 in labels with no predicted samples. Use `zero_division` parameter to control this behavior.\n",
      "  _warn_prf(average, modifier, f\"{metric.capitalize()} is\", result.shape[0])\n",
      "/data/foundation_model/.venv/lib/python3.12/site-packages/sklearn/metrics/_classification.py:1731: UndefinedMetricWarning: Precision is ill-defined and being set to 0.0 in labels with no predicted samples. Use `zero_division` parameter to control this behavior.\n",
      "  _warn_prf(average, modifier, f\"{metric.capitalize()} is\", result.shape[0])\n",
      "/data/foundation_model/.venv/lib/python3.12/site-packages/sklearn/metrics/_classification.py:1731: UndefinedMetricWarning: Precision is ill-defined and being set to 0.0 in labels with no predicted samples. Use `zero_division` parameter to control this behavior.\n",
      "  _warn_prf(average, modifier, f\"{metric.capitalize()} is\", result.shape[0])\n",
      "/data/foundation_model/.venv/lib/python3.12/site-packages/sklearn/metrics/_classification.py:1731: UndefinedMetricWarning: Precision is ill-defined and being set to 0.0 in labels with no predicted samples. Use `zero_division` parameter to control this behavior.\n",
      "  _warn_prf(average, modifier, f\"{metric.capitalize()} is\", result.shape[0])\n",
      "/data/foundation_model/.venv/lib/python3.12/site-packages/sklearn/metrics/_classification.py:1731: UndefinedMetricWarning: Precision is ill-defined and being set to 0.0 in labels with no predicted samples. Use `zero_division` parameter to control this behavior.\n",
      "  _warn_prf(average, modifier, f\"{metric.capitalize()} is\", result.shape[0])\n",
      "/data/foundation_model/.venv/lib/python3.12/site-packages/sklearn/metrics/_classification.py:1731: UndefinedMetricWarning: Precision is ill-defined and being set to 0.0 in labels with no predicted samples. Use `zero_division` parameter to control this behavior.\n",
      "  _warn_prf(average, modifier, f\"{metric.capitalize()} is\", result.shape[0])\n"
     ]
    },
    {
     "name": "stdout",
     "output_type": "stream",
     "text": [
      "              precision    recall  f1-score   support\n",
      "\n",
      "         DAC     0.0000    0.0000    0.0000         1\n",
      "         DQC     0.6000    1.0000    0.7500         3\n",
      "         IAC     0.7857    0.9167    0.8462        24\n",
      "         IQC     0.8077    0.7500    0.7778        28\n",
      "      others     0.9992    0.9988    0.9990      7298\n",
      "\n",
      "    accuracy                         0.9974      7354\n",
      "   macro avg     0.6385    0.7331    0.6746      7354\n",
      "weighted avg     0.9975    0.9974    0.9974      7354\n",
      "\n",
      "              precision    recall  f1-score   support\n",
      "\n",
      "         DAC     1.0000    1.0000    1.0000         4\n",
      "         DQC     1.0000    1.0000    1.0000         5\n",
      "         IAC     1.0000    1.0000    1.0000        56\n",
      "         IQC     0.9884    0.9551    0.9714        89\n",
      "      others     0.9998    1.0000    0.9999     20423\n",
      "\n",
      "    accuracy                         0.9998     20577\n",
      "   macro avg     0.9976    0.9910    0.9943     20577\n",
      "weighted avg     0.9998    0.9998    0.9998     20577\n",
      "\n",
      "              precision    recall  f1-score   support\n",
      "\n",
      "         DAC     0.5000    1.0000    0.6667         1\n",
      "         DQC     0.7500    1.0000    0.8571         3\n",
      "         IAC     0.8800    0.9167    0.8980        24\n",
      "         IQC     0.9200    0.8214    0.8679        28\n",
      "      others     0.9993    0.9993    0.9993      7298\n",
      "\n",
      "    accuracy                         0.9984      7354\n",
      "   macro avg     0.8099    0.9475    0.8578      7354\n",
      "weighted avg     0.9985    0.9984    0.9984      7354\n",
      "\n",
      "              precision    recall  f1-score   support\n",
      "\n",
      "         DAC     1.0000    1.0000    1.0000         8\n",
      "         DQC     1.0000    1.0000    1.0000         8\n",
      "         IAC     1.0000    0.9811    0.9905        53\n",
      "         IQC     1.0000    0.9773    0.9885        88\n",
      "      others     0.9999    1.0000    0.9999     20420\n",
      "\n",
      "    accuracy                         0.9999     20577\n",
      "   macro avg     1.0000    0.9917    0.9958     20577\n",
      "weighted avg     0.9999    0.9999    0.9999     20577\n",
      "\n",
      "              precision    recall  f1-score   support\n",
      "\n",
      "         DAC     0.0000    0.0000    0.0000         1\n",
      "         DQC     0.7500    1.0000    0.8571         3\n",
      "         IAC     0.8261    0.7917    0.8085        24\n",
      "         IQC     0.7742    0.8571    0.8136        28\n",
      "      others     0.9995    0.9990    0.9992      7298\n",
      "\n",
      "    accuracy                         0.9977      7354\n",
      "   macro avg     0.6699    0.7296    0.6957      7354\n",
      "weighted avg     0.9978    0.9977    0.9977      7354\n",
      "\n",
      "              precision    recall  f1-score   support\n",
      "\n",
      "         DAC     1.0000    1.0000    1.0000         5\n",
      "         DQC     1.0000    1.0000    1.0000         5\n",
      "         IAC     1.0000    0.9762    0.9880        42\n",
      "         IQC     1.0000    0.9896    0.9948        96\n",
      "      others     0.9999    1.0000    1.0000     20429\n",
      "\n",
      "    accuracy                         0.9999     20577\n",
      "   macro avg     1.0000    0.9932    0.9965     20577\n",
      "weighted avg     0.9999    0.9999    0.9999     20577\n",
      "\n",
      "              precision    recall  f1-score   support\n",
      "\n",
      "         DAC     0.0000    0.0000    0.0000         1\n",
      "         DQC     0.6000    1.0000    0.7500         3\n",
      "         IAC     0.8696    0.8333    0.8511        24\n",
      "         IQC     0.7586    0.7857    0.7719        28\n",
      "      others     0.9993    0.9990    0.9992      7298\n",
      "\n",
      "    accuracy                         0.9976      7354\n",
      "   macro avg     0.6455    0.7236    0.6744      7354\n",
      "weighted avg     0.9977    0.9976    0.9976      7354\n",
      "\n",
      "              precision    recall  f1-score   support\n",
      "\n",
      "         DAC     1.0000    1.0000    1.0000         7\n",
      "         DQC     1.0000    1.0000    1.0000         7\n",
      "         IAC     1.0000    0.9600    0.9796        50\n",
      "         IQC     0.9778    0.9888    0.9832        89\n",
      "      others     0.9999    1.0000    0.9999     20424\n",
      "\n",
      "    accuracy                         0.9998     20577\n",
      "   macro avg     0.9955    0.9897    0.9926     20577\n",
      "weighted avg     0.9998    0.9998    0.9998     20577\n",
      "\n",
      "              precision    recall  f1-score   support\n",
      "\n",
      "         DAC     0.0000    0.0000    0.0000         1\n",
      "         DQC     0.6000    1.0000    0.7500         3\n",
      "         IAC     0.8400    0.8750    0.8571        24\n",
      "         IQC     0.8750    0.7500    0.8077        28\n",
      "      others     0.9992    0.9993    0.9992      7298\n",
      "\n",
      "    accuracy                         0.9978      7354\n",
      "   macro avg     0.6628    0.7249    0.6828      7354\n",
      "weighted avg     0.9979    0.9978    0.9978      7354\n",
      "\n",
      "              precision    recall  f1-score   support\n",
      "\n",
      "         DAC     1.0000    1.0000    1.0000         6\n",
      "         DQC     1.0000    1.0000    1.0000         6\n",
      "         IAC     1.0000    1.0000    1.0000        43\n",
      "         IQC     0.9877    0.9877    0.9877        81\n",
      "      others     1.0000    1.0000    1.0000     20441\n",
      "\n",
      "    accuracy                         0.9999     20577\n",
      "   macro avg     0.9975    0.9975    0.9975     20577\n",
      "weighted avg     0.9999    0.9999    0.9999     20577\n",
      "\n",
      "              precision    recall  f1-score   support\n",
      "\n",
      "         DAC     0.5000    1.0000    0.6667         1\n",
      "         DQC     0.6000    1.0000    0.7500         3\n",
      "         IAC     0.8261    0.7917    0.8085        24\n",
      "         IQC     0.8400    0.7500    0.7925        28\n",
      "      others     0.9990    0.9992    0.9991      7298\n",
      "\n",
      "    accuracy                         0.9976      7354\n",
      "   macro avg     0.7530    0.9082    0.8033      7354\n",
      "weighted avg     0.9976    0.9976    0.9976      7354\n",
      "\n",
      "              precision    recall  f1-score   support\n",
      "\n",
      "         DAC     1.0000    1.0000    1.0000         7\n",
      "         DQC     1.0000    1.0000    1.0000         7\n",
      "         IAC     1.0000    0.9821    0.9910        56\n",
      "         IQC     0.9897    0.9796    0.9846        98\n",
      "      others     0.9999    1.0000    0.9999     20409\n",
      "\n",
      "    accuracy                         0.9998     20577\n",
      "   macro avg     0.9979    0.9923    0.9951     20577\n",
      "weighted avg     0.9998    0.9998    0.9998     20577\n",
      "\n",
      "              precision    recall  f1-score   support\n",
      "\n",
      "         DAC     0.0000    0.0000    0.0000         1\n",
      "         DQC     0.7500    1.0000    0.8571         3\n",
      "         IAC     0.8636    0.7917    0.8261        24\n",
      "         IQC     0.7353    0.8929    0.8065        28\n",
      "      others     0.9996    0.9989    0.9992      7298\n",
      "\n",
      "    accuracy                         0.9977      7354\n",
      "   macro avg     0.6697    0.7367    0.6978      7354\n",
      "weighted avg     0.9979    0.9977    0.9978      7354\n",
      "\n",
      "              precision    recall  f1-score   support\n",
      "\n",
      "         DAC     1.0000    1.0000    1.0000         5\n",
      "         DQC     1.0000    1.0000    1.0000         5\n",
      "         IAC     1.0000    0.9792    0.9895        48\n",
      "         IQC     0.9785    0.9785    0.9785        93\n",
      "      others     0.9999    1.0000    0.9999     20426\n",
      "\n",
      "    accuracy                         0.9998     20577\n",
      "   macro avg     0.9957    0.9915    0.9936     20577\n",
      "weighted avg     0.9998    0.9998    0.9998     20577\n",
      "\n",
      "              precision    recall  f1-score   support\n",
      "\n",
      "         DAC     0.5000    1.0000    0.6667         1\n",
      "         DQC     0.7500    1.0000    0.8571         3\n",
      "         IAC     0.8261    0.7917    0.8085        24\n",
      "         IQC     0.7500    0.7500    0.7500        28\n",
      "      others     0.9992    0.9990    0.9991      7298\n",
      "\n",
      "    accuracy                         0.9974      7354\n",
      "   macro avg     0.7651    0.9081    0.8163      7354\n",
      "weighted avg     0.9975    0.9974    0.9974      7354\n",
      "\n",
      "              precision    recall  f1-score   support\n",
      "\n",
      "         DAC     1.0000    1.0000    1.0000         7\n",
      "         DQC     1.0000    1.0000    1.0000         7\n",
      "         IAC     1.0000    1.0000    1.0000        44\n",
      "         IQC     0.9895    1.0000    0.9947        94\n",
      "      others     1.0000    1.0000    1.0000     20425\n",
      "\n",
      "    accuracy                         1.0000     20577\n",
      "   macro avg     0.9979    1.0000    0.9989     20577\n",
      "weighted avg     1.0000    1.0000    1.0000     20577\n",
      "\n",
      "              precision    recall  f1-score   support\n",
      "\n",
      "         DAC     0.0000    0.0000    0.0000         1\n",
      "         DQC     0.6000    1.0000    0.7500         3\n",
      "         IAC     0.8750    0.8750    0.8750        24\n",
      "         IQC     0.8214    0.8214    0.8214        28\n",
      "      others     0.9995    0.9992    0.9993      7298\n",
      "\n",
      "    accuracy                         0.9980      7354\n",
      "   macro avg     0.6592    0.7391    0.6891      7354\n",
      "weighted avg     0.9981    0.9980    0.9980      7354\n",
      "\n",
      "              precision    recall  f1-score   support\n",
      "\n",
      "         DAC     1.0000    1.0000    1.0000         7\n",
      "         DQC     1.0000    1.0000    1.0000         6\n",
      "         IAC     1.0000    0.9583    0.9787        48\n",
      "         IQC     0.9706    0.9900    0.9802       100\n",
      "      others     0.9999    0.9999    0.9999     20416\n",
      "\n",
      "    accuracy                         0.9998     20577\n",
      "   macro avg     0.9941    0.9896    0.9918     20577\n",
      "weighted avg     0.9998    0.9998    0.9998     20577\n",
      "\n",
      "              precision    recall  f1-score   support\n",
      "\n",
      "         DAC     0.5000    1.0000    0.6667         1\n",
      "         DQC     0.7500    1.0000    0.8571         3\n",
      "         IAC     0.8333    0.8333    0.8333        24\n",
      "         IQC     0.8519    0.8214    0.8364        28\n",
      "      others     0.9993    0.9992    0.9992      7298\n",
      "\n",
      "    accuracy                         0.9980      7354\n",
      "   macro avg     0.7869    0.9308    0.8386      7354\n",
      "weighted avg     0.9980    0.9980    0.9980      7354\n",
      "\n",
      "              precision    recall  f1-score   support\n",
      "\n",
      "         DAC     1.0000    1.0000    1.0000         9\n",
      "         DQC     1.0000    1.0000    1.0000         8\n",
      "         IAC     1.0000    0.9649    0.9821        57\n",
      "         IQC     0.9800    0.9703    0.9751       101\n",
      "      others     0.9998    0.9999    0.9998     20402\n",
      "\n",
      "    accuracy                         0.9997     20577\n",
      "   macro avg     0.9960    0.9870    0.9914     20577\n",
      "weighted avg     0.9997    0.9997    0.9997     20577\n",
      "\n",
      "              precision    recall  f1-score   support\n",
      "\n",
      "         DAC     0.5000    1.0000    0.6667         1\n",
      "         DQC     0.6667    0.6667    0.6667         3\n",
      "         IAC     0.8182    0.7500    0.7826        24\n",
      "         IQC     0.8214    0.8214    0.8214        28\n",
      "      others     0.9990    0.9992    0.9991      7298\n",
      "\n",
      "    accuracy                         0.9976      7354\n",
      "   macro avg     0.7611    0.8475    0.7873      7354\n",
      "weighted avg     0.9976    0.9976    0.9975      7354\n",
      "\n",
      "              precision    recall  f1-score   support\n",
      "\n",
      "         DAC     1.0000    1.0000    1.0000         7\n",
      "         DQC     1.0000    1.0000    1.0000         5\n",
      "         IAC     1.0000    0.9825    0.9912        57\n",
      "         IQC     0.9604    0.9898    0.9749        98\n",
      "      others     1.0000    0.9999    0.9999     20410\n",
      "\n",
      "    accuracy                         0.9998     20577\n",
      "   macro avg     0.9921    0.9944    0.9932     20577\n",
      "weighted avg     0.9998    0.9998    0.9998     20577\n",
      "\n",
      "              precision    recall  f1-score   support\n",
      "\n",
      "         DAC     0.5000    1.0000    0.6667         1\n",
      "         DQC     0.7500    1.0000    0.8571         3\n",
      "         IAC     0.8696    0.8333    0.8511        24\n",
      "         IQC     0.8077    0.7500    0.7778        28\n",
      "      others     0.9992    0.9993    0.9992      7298\n",
      "\n",
      "    accuracy                         0.9978      7354\n",
      "   macro avg     0.7853    0.9165    0.8304      7354\n",
      "weighted avg     0.9979    0.9978    0.9978      7354\n",
      "\n",
      "              precision    recall  f1-score   support\n",
      "\n",
      "         DAC     1.0000    1.0000    1.0000         5\n",
      "         DQC     1.0000    1.0000    1.0000         6\n",
      "         IAC     1.0000    0.9750    0.9873        40\n",
      "         IQC     0.9881    1.0000    0.9940        83\n",
      "      others     1.0000    1.0000    1.0000     20443\n",
      "\n",
      "    accuracy                         0.9999     20577\n",
      "   macro avg     0.9976    0.9950    0.9963     20577\n",
      "weighted avg     0.9999    0.9999    0.9999     20577\n",
      "\n",
      "              precision    recall  f1-score   support\n",
      "\n",
      "         DAC     0.5000    1.0000    0.6667         1\n",
      "         DQC     0.7500    1.0000    0.8571         3\n",
      "         IAC     0.8462    0.9167    0.8800        24\n",
      "         IQC     0.7931    0.8214    0.8070        28\n",
      "      others     0.9996    0.9989    0.9992      7298\n",
      "\n",
      "    accuracy                         0.9980      7354\n",
      "   macro avg     0.7778    0.9474    0.8420      7354\n",
      "weighted avg     0.9981    0.9980    0.9980      7354\n",
      "\n",
      "              precision    recall  f1-score   support\n",
      "\n",
      "         DAC     1.0000    1.0000    1.0000        11\n",
      "         DQC     1.0000    1.0000    1.0000         6\n",
      "         IAC     1.0000    1.0000    1.0000        52\n",
      "         IQC     1.0000    1.0000    1.0000       100\n",
      "      others     1.0000    1.0000    1.0000     20408\n",
      "\n",
      "    accuracy                         1.0000     20577\n",
      "   macro avg     1.0000    1.0000    1.0000     20577\n",
      "weighted avg     1.0000    1.0000    1.0000     20577\n",
      "\n",
      "              precision    recall  f1-score   support\n",
      "\n",
      "         DAC     0.5000    1.0000    0.6667         1\n",
      "         DQC     0.7500    1.0000    0.8571         3\n",
      "         IAC     0.7857    0.9167    0.8462        24\n",
      "         IQC     0.8621    0.8929    0.8772        28\n",
      "      others     0.9997    0.9988    0.9992      7298\n",
      "\n",
      "    accuracy                         0.9981      7354\n",
      "   macro avg     0.7795    0.9617    0.8493      7354\n",
      "weighted avg     0.9983    0.9981    0.9982      7354\n",
      "\n",
      "              precision    recall  f1-score   support\n",
      "\n",
      "         DAC     1.0000    1.0000    1.0000         8\n",
      "         DQC     1.0000    1.0000    1.0000         6\n",
      "         IAC     1.0000    0.9800    0.9899        50\n",
      "         IQC     1.0000    0.9890    0.9945        91\n",
      "      others     0.9999    1.0000    1.0000     20422\n",
      "\n",
      "    accuracy                         0.9999     20577\n",
      "   macro avg     1.0000    0.9938    0.9969     20577\n",
      "weighted avg     0.9999    0.9999    0.9999     20577\n",
      "\n",
      "              precision    recall  f1-score   support\n",
      "\n",
      "         DAC     0.5000    1.0000    0.6667         1\n",
      "         DQC     1.0000    1.0000    1.0000         3\n",
      "         IAC     0.8077    0.8750    0.8400        24\n",
      "         IQC     0.8276    0.8571    0.8421        28\n",
      "      others     0.9996    0.9990    0.9993      7298\n",
      "\n",
      "    accuracy                         0.9981      7354\n",
      "   macro avg     0.8270    0.9462    0.8696      7354\n",
      "weighted avg     0.9982    0.9981    0.9982      7354\n",
      "\n",
      "              precision    recall  f1-score   support\n",
      "\n",
      "         DAC     1.0000    1.0000    1.0000         7\n",
      "         DQC     1.0000    1.0000    1.0000         4\n",
      "         IAC     1.0000    0.9811    0.9905        53\n",
      "         IQC     0.9896    0.9896    0.9896        96\n",
      "      others     1.0000    1.0000    1.0000     20417\n",
      "\n",
      "    accuracy                         0.9999     20577\n",
      "   macro avg     0.9979    0.9941    0.9960     20577\n",
      "weighted avg     0.9999    0.9999    0.9999     20577\n",
      "\n",
      "              precision    recall  f1-score   support\n",
      "\n",
      "         DAC     0.5000    1.0000    0.6667         1\n",
      "         DQC     0.7500    1.0000    0.8571         3\n",
      "         IAC     0.8462    0.9167    0.8800        24\n",
      "         IQC     0.8519    0.8214    0.8364        28\n",
      "      others     0.9996    0.9992    0.9994      7298\n",
      "\n",
      "    accuracy                         0.9982      7354\n",
      "   macro avg     0.7895    0.9475    0.8479      7354\n",
      "weighted avg     0.9984    0.9982    0.9983      7354\n",
      "\n",
      "              precision    recall  f1-score   support\n",
      "\n",
      "         DAC     1.0000    1.0000    1.0000         7\n",
      "         DQC     1.0000    1.0000    1.0000         7\n",
      "         IAC     1.0000    0.9655    0.9825        58\n",
      "         IQC     1.0000    1.0000    1.0000        87\n",
      "      others     0.9999    1.0000    1.0000     20418\n",
      "\n",
      "    accuracy                         0.9999     20577\n",
      "   macro avg     1.0000    0.9931    0.9965     20577\n",
      "weighted avg     0.9999    0.9999    0.9999     20577\n",
      "\n",
      "              precision    recall  f1-score   support\n",
      "\n",
      "         DAC     0.5000    1.0000    0.6667         1\n",
      "         DQC     0.7500    1.0000    0.8571         3\n",
      "         IAC     0.8696    0.8333    0.8511        24\n",
      "         IQC     0.8148    0.7857    0.8000        28\n",
      "      others     0.9992    0.9992    0.9992      7298\n",
      "\n",
      "    accuracy                         0.9978      7354\n",
      "   macro avg     0.7867    0.9236    0.8348      7354\n",
      "weighted avg     0.9979    0.9978    0.9978      7354\n",
      "\n",
      "              precision    recall  f1-score   support\n",
      "\n",
      "         DAC     1.0000    1.0000    1.0000         9\n",
      "         DQC     1.0000    1.0000    1.0000         5\n",
      "         IAC     1.0000    0.9600    0.9796        50\n",
      "         IQC     0.9884    0.9884    0.9884        86\n",
      "      others     0.9999    1.0000    0.9999     20427\n",
      "\n",
      "    accuracy                         0.9998     20577\n",
      "   macro avg     0.9976    0.9897    0.9936     20577\n",
      "weighted avg     0.9998    0.9998    0.9998     20577\n",
      "\n",
      "              precision    recall  f1-score   support\n",
      "\n",
      "         DAC     0.5000    1.0000    0.6667         1\n",
      "         DQC     0.7500    1.0000    0.8571         3\n",
      "         IAC     0.8696    0.8333    0.8511        24\n",
      "         IQC     0.7692    0.7143    0.7407        28\n",
      "      others     0.9992    0.9993    0.9992      7298\n",
      "\n",
      "    accuracy                         0.9977      7354\n",
      "   macro avg     0.7776    0.9094    0.8230      7354\n",
      "weighted avg     0.9977    0.9977    0.9977      7354\n",
      "\n",
      "              precision    recall  f1-score   support\n",
      "\n",
      "         DAC     1.0000    1.0000    1.0000         8\n",
      "         DQC     1.0000    1.0000    1.0000         7\n",
      "         IAC     1.0000    0.9592    0.9792        49\n",
      "         IQC     0.9892    1.0000    0.9946        92\n",
      "      others     0.9999    1.0000    0.9999     20421\n",
      "\n",
      "    accuracy                         0.9999     20577\n",
      "   macro avg     0.9978    0.9918    0.9947     20577\n",
      "weighted avg     0.9999    0.9999    0.9999     20577\n",
      "\n",
      "              precision    recall  f1-score   support\n",
      "\n",
      "         DAC     0.5000    1.0000    0.6667         1\n",
      "         DQC     1.0000    1.0000    1.0000         3\n",
      "         IAC     0.8750    0.8750    0.8750        24\n",
      "         IQC     0.8519    0.8214    0.8364        28\n",
      "      others     0.9992    0.9992    0.9992      7298\n",
      "\n",
      "    accuracy                         0.9981      7354\n",
      "   macro avg     0.8452    0.9391    0.8754      7354\n",
      "weighted avg     0.9981    0.9981    0.9981      7354\n",
      "\n",
      "              precision    recall  f1-score   support\n",
      "\n",
      "         DAC     1.0000    1.0000    1.0000         4\n",
      "         DQC     1.0000    1.0000    1.0000         6\n",
      "         IAC     1.0000    1.0000    1.0000        48\n",
      "         IQC     0.9891    0.9891    0.9891        92\n",
      "      others     1.0000    1.0000    1.0000     20427\n",
      "\n",
      "    accuracy                         0.9999     20577\n",
      "   macro avg     0.9978    0.9978    0.9978     20577\n",
      "weighted avg     0.9999    0.9999    0.9999     20577\n",
      "\n",
      "              precision    recall  f1-score   support\n",
      "\n",
      "         DAC     1.0000    1.0000    1.0000         1\n",
      "         DQC     0.7500    1.0000    0.8571         3\n",
      "         IAC     0.7778    0.8750    0.8235        24\n",
      "         IQC     0.9048    0.6786    0.7755        28\n",
      "      others     0.9986    0.9990    0.9988      7298\n",
      "\n",
      "    accuracy                         0.9974      7354\n",
      "   macro avg     0.8862    0.9105    0.8910      7354\n",
      "weighted avg     0.9975    0.9974    0.9974      7354\n",
      "\n",
      "              precision    recall  f1-score   support\n",
      "\n",
      "         DAC     1.0000    1.0000    1.0000         5\n",
      "         DQC     1.0000    1.0000    1.0000         5\n",
      "         IAC     1.0000    0.9762    0.9880        42\n",
      "         IQC     0.9639    0.9877    0.9756        81\n",
      "      others     0.9999    0.9999    0.9999     17015\n",
      "\n",
      "    accuracy                         0.9998     17148\n",
      "   macro avg     0.9928    0.9927    0.9927     17148\n",
      "weighted avg     0.9998    0.9998    0.9998     17148\n",
      "\n",
      "              precision    recall  f1-score   support\n",
      "\n",
      "         DAC     0.5000    1.0000    0.6667         1\n",
      "         DQC     0.5000    0.3333    0.4000         3\n",
      "         IAC     0.8182    0.7500    0.7826        24\n",
      "         IQC     0.8077    0.7500    0.7778        28\n",
      "      others     0.9988    0.9993    0.9990      7298\n",
      "\n",
      "    accuracy                         0.9973      7354\n",
      "   macro avg     0.7249    0.7665    0.7252      7354\n",
      "weighted avg     0.9972    0.9973    0.9972      7354\n",
      "\n",
      "              precision    recall  f1-score   support\n",
      "\n",
      "         DAC     1.0000    1.0000    1.0000         9\n",
      "         DQC     1.0000    1.0000    1.0000         3\n",
      "         IAC     1.0000    0.9556    0.9773        45\n",
      "         IQC     0.9855    0.9714    0.9784        70\n",
      "      others     0.9998    1.0000    0.9999     17021\n",
      "\n",
      "    accuracy                         0.9998     17148\n",
      "   macro avg     0.9971    0.9854    0.9911     17148\n",
      "weighted avg     0.9998    0.9998    0.9998     17148\n",
      "\n",
      "              precision    recall  f1-score   support\n",
      "\n",
      "         DAC     0.0000    0.0000    0.0000         1\n",
      "         DQC     0.7500    1.0000    0.8571         3\n",
      "         IAC     0.9524    0.8333    0.8889        24\n",
      "         IQC     0.8333    0.8929    0.8621        28\n",
      "      others     0.9993    0.9993    0.9993      7298\n",
      "\n",
      "    accuracy                         0.9982      7354\n",
      "   macro avg     0.7070    0.7451    0.7215      7354\n",
      "weighted avg     0.9983    0.9982    0.9982      7354\n",
      "\n",
      "              precision    recall  f1-score   support\n",
      "\n",
      "         DAC     1.0000    1.0000    1.0000         8\n",
      "         DQC     1.0000    1.0000    1.0000         4\n",
      "         IAC     1.0000    0.9744    0.9870        39\n",
      "         IQC     0.9733    0.9865    0.9799        74\n",
      "      others     0.9999    0.9999    0.9999     17023\n",
      "\n",
      "    accuracy                         0.9998     17148\n",
      "   macro avg     0.9947    0.9922    0.9934     17148\n",
      "weighted avg     0.9998    0.9998    0.9998     17148\n",
      "\n",
      "              precision    recall  f1-score   support\n",
      "\n",
      "         DAC     0.0000    0.0000    0.0000         1\n",
      "         DQC     0.6000    1.0000    0.7500         3\n",
      "         IAC     0.8696    0.8333    0.8511        24\n",
      "         IQC     0.8800    0.7857    0.8302        28\n",
      "      others     0.9990    0.9993    0.9992      7298\n",
      "\n",
      "    accuracy                         0.9978      7354\n",
      "   macro avg     0.6697    0.7237    0.6861      7354\n",
      "weighted avg     0.9979    0.9978    0.9978      7354\n",
      "\n",
      "              precision    recall  f1-score   support\n",
      "\n",
      "         DAC     1.0000    1.0000    1.0000         4\n",
      "         DQC     1.0000    1.0000    1.0000         6\n",
      "         IAC     1.0000    1.0000    1.0000        43\n",
      "         IQC     0.9861    0.9726    0.9793        73\n",
      "      others     0.9999    0.9999    0.9999     17022\n",
      "\n",
      "    accuracy                         0.9998     17148\n",
      "   macro avg     0.9972    0.9945    0.9958     17148\n",
      "weighted avg     0.9998    0.9998    0.9998     17148\n",
      "\n",
      "              precision    recall  f1-score   support\n",
      "\n",
      "         DAC     0.5000    1.0000    0.6667         1\n",
      "         DQC     0.7500    1.0000    0.8571         3\n",
      "         IAC     0.7241    0.8750    0.7925        24\n",
      "         IQC     0.8261    0.6786    0.7451        28\n",
      "      others     0.9995    0.9992    0.9993      7298\n",
      "\n",
      "    accuracy                         0.9976      7354\n",
      "   macro avg     0.7599    0.9105    0.8121      7354\n",
      "weighted avg     0.9977    0.9976    0.9976      7354\n",
      "\n",
      "              precision    recall  f1-score   support\n",
      "\n",
      "         DAC     1.0000    1.0000    1.0000         6\n",
      "         DQC     1.0000    1.0000    1.0000         6\n",
      "         IAC     1.0000    0.9737    0.9867        38\n",
      "         IQC     0.9753    0.9875    0.9814        80\n",
      "      others     0.9999    0.9999    0.9999     17018\n",
      "\n",
      "    accuracy                         0.9998     17148\n",
      "   macro avg     0.9950    0.9922    0.9936     17148\n",
      "weighted avg     0.9998    0.9998    0.9998     17148\n",
      "\n",
      "              precision    recall  f1-score   support\n",
      "\n",
      "         DAC     0.5000    1.0000    0.6667         1\n",
      "         DQC     1.0000    1.0000    1.0000         3\n",
      "         IAC     0.8333    0.8333    0.8333        24\n",
      "         IQC     0.7778    0.7500    0.7636        28\n",
      "      others     0.9989    0.9989    0.9989      7298\n",
      "\n",
      "    accuracy                         0.9974      7354\n",
      "   macro avg     0.8220    0.9164    0.8525      7354\n",
      "weighted avg     0.9975    0.9974    0.9974      7354\n",
      "\n",
      "              precision    recall  f1-score   support\n",
      "\n",
      "         DAC     1.0000    1.0000    1.0000         6\n",
      "         DQC     1.0000    1.0000    1.0000         8\n",
      "         IAC     1.0000    0.9574    0.9783        47\n",
      "         IQC     0.9639    1.0000    0.9816        80\n",
      "      others     0.9999    0.9999    0.9999     17007\n",
      "\n",
      "    accuracy                         0.9998     17148\n",
      "   macro avg     0.9928    0.9915    0.9920     17148\n",
      "weighted avg     0.9998    0.9998    0.9998     17148\n",
      "\n",
      "              precision    recall  f1-score   support\n",
      "\n",
      "         DAC     0.3333    1.0000    0.5000         1\n",
      "         DQC     1.0000    0.6667    0.8000         3\n",
      "         IAC     0.8750    0.8750    0.8750        24\n",
      "         IQC     0.9231    0.8571    0.8889        28\n",
      "      others     0.9992    0.9993    0.9992      7298\n",
      "\n",
      "    accuracy                         0.9982      7354\n",
      "   macro avg     0.8261    0.8796    0.8126      7354\n",
      "weighted avg     0.9984    0.9982    0.9983      7354\n",
      "\n",
      "              precision    recall  f1-score   support\n",
      "\n",
      "         DAC     1.0000    1.0000    1.0000         7\n",
      "         DQC     1.0000    1.0000    1.0000         6\n",
      "         IAC     1.0000    1.0000    1.0000        41\n",
      "         IQC     0.9880    0.9762    0.9820        84\n",
      "      others     0.9999    0.9999    0.9999     17010\n",
      "\n",
      "    accuracy                         0.9998     17148\n",
      "   macro avg     0.9976    0.9952    0.9964     17148\n",
      "weighted avg     0.9998    0.9998    0.9998     17148\n",
      "\n",
      "              precision    recall  f1-score   support\n",
      "\n",
      "         DAC     0.5000    1.0000    0.6667         1\n",
      "         DQC     0.6667    0.6667    0.6667         3\n",
      "         IAC     0.8696    0.8333    0.8511        24\n",
      "         IQC     0.8148    0.7857    0.8000        28\n",
      "      others     0.9990    0.9992    0.9991      7298\n",
      "\n",
      "    accuracy                         0.9977      7354\n",
      "   macro avg     0.7700    0.8570    0.7967      7354\n",
      "weighted avg     0.9977    0.9977    0.9977      7354\n",
      "\n",
      "              precision    recall  f1-score   support\n",
      "\n",
      "         DAC     1.0000    1.0000    1.0000         5\n",
      "         DQC     1.0000    1.0000    1.0000         5\n",
      "         IAC     1.0000    0.9750    0.9873        40\n",
      "         IQC     0.9877    1.0000    0.9938        80\n",
      "      others     0.9999    0.9999    0.9999     17018\n",
      "\n",
      "    accuracy                         0.9999     17148\n",
      "   macro avg     0.9975    0.9950    0.9962     17148\n",
      "weighted avg     0.9999    0.9999    0.9999     17148\n",
      "\n",
      "              precision    recall  f1-score   support\n",
      "\n",
      "         DAC     0.5000    1.0000    0.6667         1\n",
      "         DQC     0.7500    1.0000    0.8571         3\n",
      "         IAC     0.8696    0.8333    0.8511        24\n",
      "         IQC     0.8333    0.7143    0.7692        28\n",
      "      others     0.9990    0.9995    0.9992      7298\n",
      "\n",
      "    accuracy                         0.9978      7354\n",
      "   macro avg     0.7904    0.9094    0.8287      7354\n",
      "weighted avg     0.9978    0.9978    0.9978      7354\n",
      "\n",
      "              precision    recall  f1-score   support\n",
      "\n",
      "         DAC     1.0000    1.0000    1.0000         8\n",
      "         DQC     1.0000    1.0000    1.0000         7\n",
      "         IAC     1.0000    0.9756    0.9877        41\n",
      "         IQC     0.9630    0.9873    0.9750        79\n",
      "      others     0.9999    0.9999    0.9999     17013\n",
      "\n",
      "    accuracy                         0.9998     17148\n",
      "   macro avg     0.9926    0.9926    0.9925     17148\n",
      "weighted avg     0.9998    0.9998    0.9998     17148\n",
      "\n",
      "              precision    recall  f1-score   support\n",
      "\n",
      "         DAC     0.5000    1.0000    0.6667         1\n",
      "         DQC     0.7500    1.0000    0.8571         3\n",
      "         IAC     0.9048    0.7917    0.8444        24\n",
      "         IQC     0.7931    0.8214    0.8070        28\n",
      "      others     0.9990    0.9990    0.9990      7298\n",
      "\n",
      "    accuracy                         0.9977      7354\n",
      "   macro avg     0.7894    0.9224    0.8349      7354\n",
      "weighted avg     0.9978    0.9977    0.9977      7354\n",
      "\n",
      "              precision    recall  f1-score   support\n",
      "\n",
      "         DAC     1.0000    1.0000    1.0000         4\n",
      "         DQC     1.0000    1.0000    1.0000         6\n",
      "         IAC     1.0000    1.0000    1.0000        45\n",
      "         IQC     0.9863    0.9863    0.9863        73\n",
      "      others     0.9999    0.9999    0.9999     17020\n",
      "\n",
      "    accuracy                         0.9999     17148\n",
      "   macro avg     0.9972    0.9972    0.9972     17148\n",
      "weighted avg     0.9999    0.9999    0.9999     17148\n",
      "\n",
      "              precision    recall  f1-score   support\n",
      "\n",
      "         DAC     0.5000    1.0000    0.6667         1\n",
      "         DQC     0.7500    1.0000    0.8571         3\n",
      "         IAC     0.8400    0.8750    0.8571        24\n",
      "         IQC     0.8400    0.7500    0.7925        28\n",
      "      others     0.9993    0.9993    0.9993      7298\n",
      "\n",
      "    accuracy                         0.9980      7354\n",
      "   macro avg     0.7859    0.9249    0.8345      7354\n",
      "weighted avg     0.9980    0.9980    0.9980      7354\n",
      "\n",
      "              precision    recall  f1-score   support\n",
      "\n",
      "         DAC     1.0000    1.0000    1.0000         9\n",
      "         DQC     1.0000    1.0000    1.0000         5\n",
      "         IAC     1.0000    0.9444    0.9714        36\n",
      "         IQC     0.9744    0.9870    0.9806        77\n",
      "      others     0.9998    0.9999    0.9999     17021\n",
      "\n",
      "    accuracy                         0.9997     17148\n",
      "   macro avg     0.9948    0.9863    0.9904     17148\n",
      "weighted avg     0.9997    0.9997    0.9997     17148\n",
      "\n",
      "              precision    recall  f1-score   support\n",
      "\n",
      "         DAC     0.0000    0.0000    0.0000         1\n",
      "         DQC     0.6000    1.0000    0.7500         3\n",
      "         IAC     0.7586    0.9167    0.8302        24\n",
      "         IQC     0.8095    0.6071    0.6939        28\n",
      "      others     0.9993    0.9993    0.9993      7298\n",
      "\n",
      "    accuracy                         0.9974      7354\n",
      "   macro avg     0.6335    0.7046    0.6547      7354\n",
      "weighted avg     0.9975    0.9974    0.9974      7354\n",
      "\n",
      "              precision    recall  f1-score   support\n",
      "\n",
      "         DAC     1.0000    1.0000    1.0000         6\n",
      "         DQC     1.0000    1.0000    1.0000         5\n",
      "         IAC     1.0000    0.9545    0.9767        44\n",
      "         IQC     0.9762    0.9762    0.9762        84\n",
      "      others     0.9998    0.9999    0.9999     17009\n",
      "\n",
      "    accuracy                         0.9997     17148\n",
      "   macro avg     0.9952    0.9861    0.9906     17148\n",
      "weighted avg     0.9997    0.9997    0.9997     17148\n",
      "\n",
      "              precision    recall  f1-score   support\n",
      "\n",
      "         DAC     0.5000    1.0000    0.6667         1\n",
      "         DQC     0.6667    0.6667    0.6667         3\n",
      "         IAC     0.7917    0.7917    0.7917        24\n",
      "         IQC     0.8750    0.7500    0.8077        28\n",
      "      others     0.9988    0.9992    0.9990      7298\n",
      "\n",
      "    accuracy                         0.9974      7354\n",
      "   macro avg     0.7664    0.8415    0.7863      7354\n",
      "weighted avg     0.9974    0.9974    0.9974      7354\n",
      "\n",
      "              precision    recall  f1-score   support\n",
      "\n",
      "         DAC     1.0000    1.0000    1.0000         5\n",
      "         DQC     1.0000    1.0000    1.0000         3\n",
      "         IAC     1.0000    0.9444    0.9714        36\n",
      "         IQC     0.9861    0.9861    0.9861        72\n",
      "      others     0.9999    1.0000    0.9999     17032\n",
      "\n",
      "    accuracy                         0.9998     17148\n",
      "   macro avg     0.9972    0.9861    0.9915     17148\n",
      "weighted avg     0.9998    0.9998    0.9998     17148\n",
      "\n",
      "              precision    recall  f1-score   support\n",
      "\n",
      "         DAC     0.0000    0.0000    0.0000         1\n",
      "         DQC     0.7500    1.0000    0.8571         3\n",
      "         IAC     0.8400    0.8750    0.8571        24\n",
      "         IQC     0.7778    0.7500    0.7636        28\n",
      "      others     0.9992    0.9990    0.9991      7298\n",
      "\n",
      "    accuracy                         0.9976      7354\n",
      "   macro avg     0.6734    0.7248    0.6954      7354\n",
      "weighted avg     0.9976    0.9976    0.9976      7354\n",
      "\n",
      "              precision    recall  f1-score   support\n",
      "\n",
      "         DAC     1.0000    1.0000    1.0000         4\n",
      "         DQC     1.0000    1.0000    1.0000         3\n",
      "         IAC     1.0000    1.0000    1.0000        39\n",
      "         IQC     1.0000    1.0000    1.0000        80\n",
      "      others     1.0000    1.0000    1.0000     17022\n",
      "\n",
      "    accuracy                         1.0000     17148\n",
      "   macro avg     1.0000    1.0000    1.0000     17148\n",
      "weighted avg     1.0000    1.0000    1.0000     17148\n",
      "\n",
      "              precision    recall  f1-score   support\n",
      "\n",
      "         DAC     0.0000    0.0000    0.0000         1\n",
      "         DQC     0.4000    0.6667    0.5000         3\n",
      "         IAC     0.9091    0.8333    0.8696        24\n",
      "         IQC     0.7188    0.8214    0.7667        28\n",
      "      others     0.9995    0.9989    0.9992      7298\n",
      "\n",
      "    accuracy                         0.9974      7354\n",
      "   macro avg     0.6055    0.6641    0.6271      7354\n",
      "weighted avg     0.9977    0.9974    0.9975      7354\n",
      "\n",
      "              precision    recall  f1-score   support\n",
      "\n",
      "         DAC     1.0000    1.0000    1.0000         6\n",
      "         DQC     1.0000    1.0000    1.0000         7\n",
      "         IAC     1.0000    1.0000    1.0000        45\n",
      "         IQC     0.9873    1.0000    0.9936        78\n",
      "      others     1.0000    0.9999    1.0000     17012\n",
      "\n",
      "    accuracy                         0.9999     17148\n",
      "   macro avg     0.9975    1.0000    0.9987     17148\n",
      "weighted avg     0.9999    0.9999    0.9999     17148\n",
      "\n",
      "              precision    recall  f1-score   support\n",
      "\n",
      "         DAC     0.0000    0.0000    0.0000         1\n",
      "         DQC     0.5000    1.0000    0.6667         3\n",
      "         IAC     0.9130    0.8750    0.8936        24\n",
      "         IQC     0.7500    0.7500    0.7500        28\n",
      "      others     0.9995    0.9992    0.9993      7298\n",
      "\n",
      "    accuracy                         0.9977      7354\n",
      "   macro avg     0.6325    0.7248    0.6619      7354\n",
      "weighted avg     0.9979    0.9977    0.9977      7354\n",
      "\n",
      "              precision    recall  f1-score   support\n",
      "\n",
      "         DAC     1.0000    1.0000    1.0000         5\n",
      "         DQC     1.0000    1.0000    1.0000         8\n",
      "         IAC     1.0000    1.0000    1.0000        38\n",
      "         IQC     0.9651    1.0000    0.9822        83\n",
      "      others     1.0000    0.9998    0.9999     17014\n",
      "\n",
      "    accuracy                         0.9998     17148\n",
      "   macro avg     0.9930    1.0000    0.9964     17148\n",
      "weighted avg     0.9998    0.9998    0.9998     17148\n",
      "\n",
      "              precision    recall  f1-score   support\n",
      "\n",
      "         DAC     0.0000    0.0000    0.0000         1\n",
      "         DQC     0.6000    1.0000    0.7500         3\n",
      "         IAC     0.8636    0.7917    0.8261        24\n",
      "         IQC     0.8400    0.7500    0.7925        28\n",
      "      others     0.9988    0.9992    0.9990      7298\n",
      "\n",
      "    accuracy                         0.9974      7354\n",
      "   macro avg     0.6605    0.7082    0.6735      7354\n",
      "weighted avg     0.9974    0.9974    0.9974      7354\n",
      "\n",
      "              precision    recall  f1-score   support\n",
      "\n",
      "         DAC     1.0000    1.0000    1.0000         7\n",
      "         DQC     1.0000    1.0000    1.0000         4\n",
      "         IAC     1.0000    1.0000    1.0000        28\n",
      "         IQC     0.9867    1.0000    0.9933        74\n",
      "      others     1.0000    0.9999    1.0000     17035\n",
      "\n",
      "    accuracy                         0.9999     17148\n",
      "   macro avg     0.9973    1.0000    0.9987     17148\n",
      "weighted avg     0.9999    0.9999    0.9999     17148\n",
      "\n"
     ]
    },
    {
     "name": "stderr",
     "output_type": "stream",
     "text": [
      "/data/foundation_model/.venv/lib/python3.12/site-packages/sklearn/metrics/_classification.py:1731: UndefinedMetricWarning: Precision is ill-defined and being set to 0.0 in labels with no predicted samples. Use `zero_division` parameter to control this behavior.\n",
      "  _warn_prf(average, modifier, f\"{metric.capitalize()} is\", result.shape[0])\n",
      "/data/foundation_model/.venv/lib/python3.12/site-packages/sklearn/metrics/_classification.py:1731: UndefinedMetricWarning: Precision is ill-defined and being set to 0.0 in labels with no predicted samples. Use `zero_division` parameter to control this behavior.\n",
      "  _warn_prf(average, modifier, f\"{metric.capitalize()} is\", result.shape[0])\n",
      "/data/foundation_model/.venv/lib/python3.12/site-packages/sklearn/metrics/_classification.py:1731: UndefinedMetricWarning: Precision is ill-defined and being set to 0.0 in labels with no predicted samples. Use `zero_division` parameter to control this behavior.\n",
      "  _warn_prf(average, modifier, f\"{metric.capitalize()} is\", result.shape[0])\n",
      "/data/foundation_model/.venv/lib/python3.12/site-packages/sklearn/metrics/_classification.py:1731: UndefinedMetricWarning: Precision is ill-defined and being set to 0.0 in labels with no predicted samples. Use `zero_division` parameter to control this behavior.\n",
      "  _warn_prf(average, modifier, f\"{metric.capitalize()} is\", result.shape[0])\n",
      "/data/foundation_model/.venv/lib/python3.12/site-packages/sklearn/metrics/_classification.py:1731: UndefinedMetricWarning: Precision is ill-defined and being set to 0.0 in labels with no predicted samples. Use `zero_division` parameter to control this behavior.\n",
      "  _warn_prf(average, modifier, f\"{metric.capitalize()} is\", result.shape[0])\n",
      "/data/foundation_model/.venv/lib/python3.12/site-packages/sklearn/metrics/_classification.py:1731: UndefinedMetricWarning: Precision is ill-defined and being set to 0.0 in labels with no predicted samples. Use `zero_division` parameter to control this behavior.\n",
      "  _warn_prf(average, modifier, f\"{metric.capitalize()} is\", result.shape[0])\n"
     ]
    },
    {
     "name": "stdout",
     "output_type": "stream",
     "text": [
      "              precision    recall  f1-score   support\n",
      "\n",
      "         DAC     0.0000    0.0000    0.0000         1\n",
      "         DQC     0.6000    1.0000    0.7500         3\n",
      "         IAC     0.8333    0.8333    0.8333        24\n",
      "         IQC     0.8519    0.8214    0.8364        28\n",
      "      others     0.9993    0.9993    0.9993      7298\n",
      "\n",
      "    accuracy                         0.9980      7354\n",
      "   macro avg     0.6569    0.7308    0.6838      7354\n",
      "weighted avg     0.9979    0.9980    0.9979      7354\n",
      "\n",
      "              precision    recall  f1-score   support\n",
      "\n",
      "         DAC     1.0000    1.0000    1.0000         3\n",
      "         DQC     1.0000    1.0000    1.0000         3\n",
      "         IAC     1.0000    1.0000    1.0000        42\n",
      "         IQC     0.9733    0.9865    0.9799        74\n",
      "      others     0.9999    0.9999    0.9999     17026\n",
      "\n",
      "    accuracy                         0.9998     17148\n",
      "   macro avg     0.9947    0.9973    0.9960     17148\n",
      "weighted avg     0.9998    0.9998    0.9998     17148\n",
      "\n"
     ]
    },
    {
     "name": "stderr",
     "output_type": "stream",
     "text": [
      "/data/foundation_model/.venv/lib/python3.12/site-packages/sklearn/metrics/_classification.py:1731: UndefinedMetricWarning: Precision is ill-defined and being set to 0.0 in labels with no predicted samples. Use `zero_division` parameter to control this behavior.\n",
      "  _warn_prf(average, modifier, f\"{metric.capitalize()} is\", result.shape[0])\n",
      "/data/foundation_model/.venv/lib/python3.12/site-packages/sklearn/metrics/_classification.py:1731: UndefinedMetricWarning: Precision is ill-defined and being set to 0.0 in labels with no predicted samples. Use `zero_division` parameter to control this behavior.\n",
      "  _warn_prf(average, modifier, f\"{metric.capitalize()} is\", result.shape[0])\n",
      "/data/foundation_model/.venv/lib/python3.12/site-packages/sklearn/metrics/_classification.py:1731: UndefinedMetricWarning: Precision is ill-defined and being set to 0.0 in labels with no predicted samples. Use `zero_division` parameter to control this behavior.\n",
      "  _warn_prf(average, modifier, f\"{metric.capitalize()} is\", result.shape[0])\n",
      "/data/foundation_model/.venv/lib/python3.12/site-packages/sklearn/metrics/_classification.py:1731: UndefinedMetricWarning: Precision is ill-defined and being set to 0.0 in labels with no predicted samples. Use `zero_division` parameter to control this behavior.\n",
      "  _warn_prf(average, modifier, f\"{metric.capitalize()} is\", result.shape[0])\n",
      "/data/foundation_model/.venv/lib/python3.12/site-packages/sklearn/metrics/_classification.py:1731: UndefinedMetricWarning: Precision is ill-defined and being set to 0.0 in labels with no predicted samples. Use `zero_division` parameter to control this behavior.\n",
      "  _warn_prf(average, modifier, f\"{metric.capitalize()} is\", result.shape[0])\n",
      "/data/foundation_model/.venv/lib/python3.12/site-packages/sklearn/metrics/_classification.py:1731: UndefinedMetricWarning: Precision is ill-defined and being set to 0.0 in labels with no predicted samples. Use `zero_division` parameter to control this behavior.\n",
      "  _warn_prf(average, modifier, f\"{metric.capitalize()} is\", result.shape[0])\n"
     ]
    },
    {
     "name": "stdout",
     "output_type": "stream",
     "text": [
      "              precision    recall  f1-score   support\n",
      "\n",
      "         DAC     0.0000    0.0000    0.0000         1\n",
      "         DQC     0.6000    1.0000    0.7500         3\n",
      "         IAC     0.8636    0.7917    0.8261        24\n",
      "         IQC     0.8065    0.8929    0.8475        28\n",
      "      others     0.9995    0.9992    0.9993      7298\n",
      "\n",
      "    accuracy                         0.9980      7354\n",
      "   macro avg     0.6539    0.7367    0.6846      7354\n",
      "weighted avg     0.9980    0.9980    0.9979      7354\n",
      "\n",
      "              precision    recall  f1-score   support\n",
      "\n",
      "         DAC     1.0000    1.0000    1.0000         4\n",
      "         DQC     1.0000    1.0000    1.0000         5\n",
      "         IAC     1.0000    0.9722    0.9859        36\n",
      "         IQC     1.0000    1.0000    1.0000        88\n",
      "      others     0.9999    1.0000    1.0000     17015\n",
      "\n",
      "    accuracy                         0.9999     17148\n",
      "   macro avg     1.0000    0.9944    0.9972     17148\n",
      "weighted avg     0.9999    0.9999    0.9999     17148\n",
      "\n",
      "              precision    recall  f1-score   support\n",
      "\n",
      "         DAC     1.0000    1.0000    1.0000         1\n",
      "         DQC     0.5000    0.6667    0.5714         3\n",
      "         IAC     0.8400    0.8750    0.8571        24\n",
      "         IQC     0.7692    0.7143    0.7407        28\n",
      "      others     0.9990    0.9990    0.9990      7298\n",
      "\n",
      "    accuracy                         0.9974      7354\n",
      "   macro avg     0.8217    0.8510    0.8337      7354\n",
      "weighted avg     0.9974    0.9974    0.9974      7354\n",
      "\n",
      "              precision    recall  f1-score   support\n",
      "\n",
      "         DAC     1.0000    1.0000    1.0000         2\n",
      "         DQC     1.0000    1.0000    1.0000         3\n",
      "         IAC     1.0000    1.0000    1.0000        44\n",
      "         IQC     0.9710    0.9853    0.9781        68\n",
      "      others     0.9999    0.9999    0.9999     17031\n",
      "\n",
      "    accuracy                         0.9998     17148\n",
      "   macro avg     0.9942    0.9970    0.9956     17148\n",
      "weighted avg     0.9998    0.9998    0.9998     17148\n",
      "\n",
      "              precision    recall  f1-score   support\n",
      "\n",
      "         DAC     0.0000    0.0000    0.0000         1\n",
      "         DQC     0.6000    1.0000    0.7500         3\n",
      "         IAC     0.8261    0.7917    0.8085        24\n",
      "         IQC     0.7586    0.7857    0.7719        28\n",
      "      others     0.9992    0.9989    0.9990      7298\n",
      "\n",
      "    accuracy                         0.9973      7354\n",
      "   macro avg     0.6368    0.7153    0.6659      7354\n",
      "weighted avg     0.9974    0.9973    0.9973      7354\n",
      "\n",
      "              precision    recall  f1-score   support\n",
      "\n",
      "         DAC     1.0000    1.0000    1.0000         4\n",
      "         DQC     1.0000    1.0000    1.0000         4\n",
      "         IAC     1.0000    0.9655    0.9825        29\n",
      "         IQC     0.9836    1.0000    0.9917        60\n",
      "      others     0.9999    0.9999    0.9999     13621\n",
      "\n",
      "    accuracy                         0.9999     13718\n",
      "   macro avg     0.9967    0.9931    0.9948     13718\n",
      "weighted avg     0.9999    0.9999    0.9999     13718\n",
      "\n"
     ]
    },
    {
     "name": "stderr",
     "output_type": "stream",
     "text": [
      "/data/foundation_model/.venv/lib/python3.12/site-packages/sklearn/metrics/_classification.py:1731: UndefinedMetricWarning: Precision is ill-defined and being set to 0.0 in labels with no predicted samples. Use `zero_division` parameter to control this behavior.\n",
      "  _warn_prf(average, modifier, f\"{metric.capitalize()} is\", result.shape[0])\n",
      "/data/foundation_model/.venv/lib/python3.12/site-packages/sklearn/metrics/_classification.py:1731: UndefinedMetricWarning: Precision is ill-defined and being set to 0.0 in labels with no predicted samples. Use `zero_division` parameter to control this behavior.\n",
      "  _warn_prf(average, modifier, f\"{metric.capitalize()} is\", result.shape[0])\n",
      "/data/foundation_model/.venv/lib/python3.12/site-packages/sklearn/metrics/_classification.py:1731: UndefinedMetricWarning: Precision is ill-defined and being set to 0.0 in labels with no predicted samples. Use `zero_division` parameter to control this behavior.\n",
      "  _warn_prf(average, modifier, f\"{metric.capitalize()} is\", result.shape[0])\n",
      "/data/foundation_model/.venv/lib/python3.12/site-packages/sklearn/metrics/_classification.py:1731: UndefinedMetricWarning: Precision is ill-defined and being set to 0.0 in labels with no predicted samples. Use `zero_division` parameter to control this behavior.\n",
      "  _warn_prf(average, modifier, f\"{metric.capitalize()} is\", result.shape[0])\n",
      "/data/foundation_model/.venv/lib/python3.12/site-packages/sklearn/metrics/_classification.py:1731: UndefinedMetricWarning: Precision is ill-defined and being set to 0.0 in labels with no predicted samples. Use `zero_division` parameter to control this behavior.\n",
      "  _warn_prf(average, modifier, f\"{metric.capitalize()} is\", result.shape[0])\n",
      "/data/foundation_model/.venv/lib/python3.12/site-packages/sklearn/metrics/_classification.py:1731: UndefinedMetricWarning: Precision is ill-defined and being set to 0.0 in labels with no predicted samples. Use `zero_division` parameter to control this behavior.\n",
      "  _warn_prf(average, modifier, f\"{metric.capitalize()} is\", result.shape[0])\n"
     ]
    },
    {
     "name": "stdout",
     "output_type": "stream",
     "text": [
      "              precision    recall  f1-score   support\n",
      "\n",
      "         DAC     0.0000    0.0000    0.0000         1\n",
      "         DQC     0.5000    1.0000    0.6667         3\n",
      "         IAC     0.9048    0.7917    0.8444        24\n",
      "         IQC     0.8333    0.7143    0.7692        28\n",
      "      others     0.9986    0.9993    0.9990      7298\n",
      "\n",
      "    accuracy                         0.9974      7354\n",
      "   macro avg     0.6473    0.7011    0.6559      7354\n",
      "weighted avg     0.9974    0.9974    0.9973      7354\n",
      "\n",
      "              precision    recall  f1-score   support\n",
      "\n",
      "         DAC     1.0000    1.0000    1.0000         4\n",
      "         DQC     1.0000    1.0000    1.0000         3\n",
      "         IAC     1.0000    1.0000    1.0000        34\n",
      "         IQC     0.9815    1.0000    0.9907        53\n",
      "      others     1.0000    0.9999    1.0000     13624\n",
      "\n",
      "    accuracy                         0.9999     13718\n",
      "   macro avg     0.9963    1.0000    0.9981     13718\n",
      "weighted avg     0.9999    0.9999    0.9999     13718\n",
      "\n",
      "              precision    recall  f1-score   support\n",
      "\n",
      "         DAC     0.0000    0.0000    0.0000         1\n",
      "         DQC     0.5000    1.0000    0.6667         3\n",
      "         IAC     0.7333    0.9167    0.8148        24\n",
      "         IQC     0.7917    0.6786    0.7308        28\n",
      "      others     0.9993    0.9986    0.9990      7298\n",
      "\n",
      "    accuracy                         0.9970      7354\n",
      "   macro avg     0.6049    0.7188    0.6422      7354\n",
      "weighted avg     0.9973    0.9970    0.9971      7354\n",
      "\n",
      "              precision    recall  f1-score   support\n",
      "\n",
      "         DAC     1.0000    1.0000    1.0000         3\n",
      "         DQC     1.0000    1.0000    1.0000         6\n",
      "         IAC     1.0000    1.0000    1.0000        34\n",
      "         IQC     1.0000    1.0000    1.0000        58\n",
      "      others     1.0000    1.0000    1.0000     13617\n",
      "\n",
      "    accuracy                         1.0000     13718\n",
      "   macro avg     1.0000    1.0000    1.0000     13718\n",
      "weighted avg     1.0000    1.0000    1.0000     13718\n",
      "\n",
      "              precision    recall  f1-score   support\n",
      "\n",
      "         DAC     0.5000    1.0000    0.6667         1\n",
      "         DQC     0.6000    1.0000    0.7500         3\n",
      "         IAC     0.7778    0.8750    0.8235        24\n",
      "         IQC     0.8800    0.7857    0.8302        28\n",
      "      others     0.9993    0.9989    0.9991      7298\n",
      "\n",
      "    accuracy                         0.9977      7354\n",
      "   macro avg     0.7514    0.9319    0.8139      7354\n",
      "weighted avg     0.9979    0.9977    0.9977      7354\n",
      "\n",
      "              precision    recall  f1-score   support\n",
      "\n",
      "         DAC     1.0000    1.0000    1.0000         4\n",
      "         DQC     1.0000    1.0000    1.0000         6\n",
      "         IAC     0.9737    0.9737    0.9737        38\n",
      "         IQC     0.9828    0.9828    0.9828        58\n",
      "      others     0.9999    0.9999    0.9999     13612\n",
      "\n",
      "    accuracy                         0.9997     13718\n",
      "   macro avg     0.9913    0.9913    0.9913     13718\n",
      "weighted avg     0.9997    0.9997    0.9997     13718\n",
      "\n"
     ]
    },
    {
     "name": "stderr",
     "output_type": "stream",
     "text": [
      "/data/foundation_model/.venv/lib/python3.12/site-packages/sklearn/metrics/_classification.py:1731: UndefinedMetricWarning: Precision is ill-defined and being set to 0.0 in labels with no predicted samples. Use `zero_division` parameter to control this behavior.\n",
      "  _warn_prf(average, modifier, f\"{metric.capitalize()} is\", result.shape[0])\n",
      "/data/foundation_model/.venv/lib/python3.12/site-packages/sklearn/metrics/_classification.py:1731: UndefinedMetricWarning: Precision is ill-defined and being set to 0.0 in labels with no predicted samples. Use `zero_division` parameter to control this behavior.\n",
      "  _warn_prf(average, modifier, f\"{metric.capitalize()} is\", result.shape[0])\n",
      "/data/foundation_model/.venv/lib/python3.12/site-packages/sklearn/metrics/_classification.py:1731: UndefinedMetricWarning: Precision is ill-defined and being set to 0.0 in labels with no predicted samples. Use `zero_division` parameter to control this behavior.\n",
      "  _warn_prf(average, modifier, f\"{metric.capitalize()} is\", result.shape[0])\n",
      "/data/foundation_model/.venv/lib/python3.12/site-packages/sklearn/metrics/_classification.py:1731: UndefinedMetricWarning: Precision is ill-defined and being set to 0.0 in labels with no predicted samples. Use `zero_division` parameter to control this behavior.\n",
      "  _warn_prf(average, modifier, f\"{metric.capitalize()} is\", result.shape[0])\n",
      "/data/foundation_model/.venv/lib/python3.12/site-packages/sklearn/metrics/_classification.py:1731: UndefinedMetricWarning: Precision is ill-defined and being set to 0.0 in labels with no predicted samples. Use `zero_division` parameter to control this behavior.\n",
      "  _warn_prf(average, modifier, f\"{metric.capitalize()} is\", result.shape[0])\n",
      "/data/foundation_model/.venv/lib/python3.12/site-packages/sklearn/metrics/_classification.py:1731: UndefinedMetricWarning: Precision is ill-defined and being set to 0.0 in labels with no predicted samples. Use `zero_division` parameter to control this behavior.\n",
      "  _warn_prf(average, modifier, f\"{metric.capitalize()} is\", result.shape[0])\n"
     ]
    },
    {
     "name": "stdout",
     "output_type": "stream",
     "text": [
      "              precision    recall  f1-score   support\n",
      "\n",
      "         DAC     0.0000    0.0000    0.0000         1\n",
      "         DQC     1.0000    0.3333    0.5000         3\n",
      "         IAC     0.8000    0.8333    0.8163        24\n",
      "         IQC     0.7353    0.8929    0.8065        28\n",
      "      others     0.9996    0.9990    0.9993      7298\n",
      "\n",
      "    accuracy                         0.9977      7354\n",
      "   macro avg     0.7070    0.6117    0.6244      7354\n",
      "weighted avg     0.9978    0.9977    0.9976      7354\n",
      "\n",
      "              precision    recall  f1-score   support\n",
      "\n",
      "         DAC     1.0000    1.0000    1.0000         1\n",
      "         DQC     1.0000    1.0000    1.0000         2\n",
      "         IAC     1.0000    0.9706    0.9851        34\n",
      "         IQC     0.9848    0.9848    0.9848        66\n",
      "      others     0.9999    0.9999    0.9999     13615\n",
      "\n",
      "    accuracy                         0.9998     13718\n",
      "   macro avg     0.9969    0.9911    0.9940     13718\n",
      "weighted avg     0.9998    0.9998    0.9998     13718\n",
      "\n",
      "              precision    recall  f1-score   support\n",
      "\n",
      "         DAC     0.5000    1.0000    0.6667         1\n",
      "         DQC     1.0000    0.3333    0.5000         3\n",
      "         IAC     0.8095    0.7083    0.7556        24\n",
      "         IQC     0.7188    0.8214    0.7667        28\n",
      "      others     0.9992    0.9992    0.9992      7298\n",
      "\n",
      "    accuracy                         0.9973      7354\n",
      "   macro avg     0.8055    0.7725    0.7376      7354\n",
      "weighted avg     0.9974    0.9973    0.9972      7354\n",
      "\n",
      "              precision    recall  f1-score   support\n",
      "\n",
      "         DAC     1.0000    1.0000    1.0000         4\n",
      "         DQC     1.0000    1.0000    1.0000         1\n",
      "         IAC     1.0000    1.0000    1.0000        29\n",
      "         IQC     1.0000    1.0000    1.0000        65\n",
      "      others     1.0000    1.0000    1.0000     13619\n",
      "\n",
      "    accuracy                         1.0000     13718\n",
      "   macro avg     1.0000    1.0000    1.0000     13718\n",
      "weighted avg     1.0000    1.0000    1.0000     13718\n",
      "\n",
      "              precision    recall  f1-score   support\n",
      "\n",
      "         DAC     0.0000    0.0000    0.0000         1\n",
      "         DQC     0.5000    0.3333    0.4000         3\n",
      "         IAC     0.7600    0.7917    0.7755        24\n",
      "         IQC     0.7188    0.8214    0.7667        28\n",
      "      others     0.9992    0.9986    0.9989      7298\n",
      "\n",
      "    accuracy                         0.9969      7354\n",
      "   macro avg     0.5956    0.5890    0.5882      7354\n",
      "weighted avg     0.9970    0.9969    0.9969      7354\n",
      "\n",
      "              precision    recall  f1-score   support\n",
      "\n",
      "         DAC     1.0000    1.0000    1.0000         3\n",
      "         DQC     1.0000    1.0000    1.0000         2\n",
      "         IAC     1.0000    0.9688    0.9841        32\n",
      "         IQC     0.9825    1.0000    0.9912        56\n",
      "      others     0.9999    0.9999    0.9999     13625\n",
      "\n",
      "    accuracy                         0.9999     13718\n",
      "   macro avg     0.9965    0.9937    0.9950     13718\n",
      "weighted avg     0.9999    0.9999    0.9999     13718\n",
      "\n"
     ]
    },
    {
     "name": "stderr",
     "output_type": "stream",
     "text": [
      "/data/foundation_model/.venv/lib/python3.12/site-packages/sklearn/metrics/_classification.py:1731: UndefinedMetricWarning: Precision is ill-defined and being set to 0.0 in labels with no predicted samples. Use `zero_division` parameter to control this behavior.\n",
      "  _warn_prf(average, modifier, f\"{metric.capitalize()} is\", result.shape[0])\n",
      "/data/foundation_model/.venv/lib/python3.12/site-packages/sklearn/metrics/_classification.py:1731: UndefinedMetricWarning: Precision is ill-defined and being set to 0.0 in labels with no predicted samples. Use `zero_division` parameter to control this behavior.\n",
      "  _warn_prf(average, modifier, f\"{metric.capitalize()} is\", result.shape[0])\n",
      "/data/foundation_model/.venv/lib/python3.12/site-packages/sklearn/metrics/_classification.py:1731: UndefinedMetricWarning: Precision is ill-defined and being set to 0.0 in labels with no predicted samples. Use `zero_division` parameter to control this behavior.\n",
      "  _warn_prf(average, modifier, f\"{metric.capitalize()} is\", result.shape[0])\n",
      "/data/foundation_model/.venv/lib/python3.12/site-packages/sklearn/metrics/_classification.py:1731: UndefinedMetricWarning: Precision is ill-defined and being set to 0.0 in labels with no predicted samples. Use `zero_division` parameter to control this behavior.\n",
      "  _warn_prf(average, modifier, f\"{metric.capitalize()} is\", result.shape[0])\n",
      "/data/foundation_model/.venv/lib/python3.12/site-packages/sklearn/metrics/_classification.py:1731: UndefinedMetricWarning: Precision is ill-defined and being set to 0.0 in labels with no predicted samples. Use `zero_division` parameter to control this behavior.\n",
      "  _warn_prf(average, modifier, f\"{metric.capitalize()} is\", result.shape[0])\n",
      "/data/foundation_model/.venv/lib/python3.12/site-packages/sklearn/metrics/_classification.py:1731: UndefinedMetricWarning: Precision is ill-defined and being set to 0.0 in labels with no predicted samples. Use `zero_division` parameter to control this behavior.\n",
      "  _warn_prf(average, modifier, f\"{metric.capitalize()} is\", result.shape[0])\n"
     ]
    },
    {
     "name": "stdout",
     "output_type": "stream",
     "text": [
      "              precision    recall  f1-score   support\n",
      "\n",
      "         DAC     0.5000    1.0000    0.6667         1\n",
      "         DQC     0.0000    0.0000    0.0000         3\n",
      "         IAC     0.8947    0.7083    0.7907        24\n",
      "         IQC     0.7419    0.8214    0.7797        28\n",
      "      others     0.9989    0.9995    0.9992      7298\n",
      "\n",
      "    accuracy                         0.9974      7354\n",
      "   macro avg     0.6271    0.7058    0.6472      7354\n",
      "weighted avg     0.9971    0.9974    0.9972      7354\n",
      "\n",
      "              precision    recall  f1-score   support\n",
      "\n",
      "         DAC     1.0000    1.0000    1.0000         4\n",
      "         DQC     1.0000    1.0000    1.0000         1\n",
      "         IAC     1.0000    0.9643    0.9818        28\n",
      "         IQC     1.0000    1.0000    1.0000        61\n",
      "      others     0.9999    1.0000    1.0000     13624\n",
      "\n",
      "    accuracy                         0.9999     13718\n",
      "   macro avg     1.0000    0.9929    0.9964     13718\n",
      "weighted avg     0.9999    0.9999    0.9999     13718\n",
      "\n",
      "              precision    recall  f1-score   support\n",
      "\n",
      "         DAC     0.3333    1.0000    0.5000         1\n",
      "         DQC     1.0000    0.3333    0.5000         3\n",
      "         IAC     0.8261    0.7917    0.8085        24\n",
      "         IQC     0.7586    0.7857    0.7719        28\n",
      "      others     0.9990    0.9990    0.9990      7298\n",
      "\n",
      "    accuracy                         0.9973      7354\n",
      "   macro avg     0.7834    0.7820    0.7159      7354\n",
      "weighted avg     0.9975    0.9973    0.9973      7354\n",
      "\n",
      "              precision    recall  f1-score   support\n",
      "\n",
      "         DAC     1.0000    1.0000    1.0000         3\n",
      "         DQC     1.0000    1.0000    1.0000         1\n",
      "         IAC     1.0000    1.0000    1.0000        35\n",
      "         IQC     0.9857    0.9857    0.9857        70\n",
      "      others     0.9999    0.9999    0.9999     13609\n",
      "\n",
      "    accuracy                         0.9999     13718\n",
      "   macro avg     0.9971    0.9971    0.9971     13718\n",
      "weighted avg     0.9999    0.9999    0.9999     13718\n",
      "\n"
     ]
    },
    {
     "name": "stderr",
     "output_type": "stream",
     "text": [
      "/data/foundation_model/.venv/lib/python3.12/site-packages/sklearn/metrics/_classification.py:1731: UndefinedMetricWarning: Precision is ill-defined and being set to 0.0 in labels with no predicted samples. Use `zero_division` parameter to control this behavior.\n",
      "  _warn_prf(average, modifier, f\"{metric.capitalize()} is\", result.shape[0])\n",
      "/data/foundation_model/.venv/lib/python3.12/site-packages/sklearn/metrics/_classification.py:1731: UndefinedMetricWarning: Precision is ill-defined and being set to 0.0 in labels with no predicted samples. Use `zero_division` parameter to control this behavior.\n",
      "  _warn_prf(average, modifier, f\"{metric.capitalize()} is\", result.shape[0])\n",
      "/data/foundation_model/.venv/lib/python3.12/site-packages/sklearn/metrics/_classification.py:1731: UndefinedMetricWarning: Precision is ill-defined and being set to 0.0 in labels with no predicted samples. Use `zero_division` parameter to control this behavior.\n",
      "  _warn_prf(average, modifier, f\"{metric.capitalize()} is\", result.shape[0])\n",
      "/data/foundation_model/.venv/lib/python3.12/site-packages/sklearn/metrics/_classification.py:1731: UndefinedMetricWarning: Precision is ill-defined and being set to 0.0 in labels with no predicted samples. Use `zero_division` parameter to control this behavior.\n",
      "  _warn_prf(average, modifier, f\"{metric.capitalize()} is\", result.shape[0])\n",
      "/data/foundation_model/.venv/lib/python3.12/site-packages/sklearn/metrics/_classification.py:1731: UndefinedMetricWarning: Precision is ill-defined and being set to 0.0 in labels with no predicted samples. Use `zero_division` parameter to control this behavior.\n",
      "  _warn_prf(average, modifier, f\"{metric.capitalize()} is\", result.shape[0])\n",
      "/data/foundation_model/.venv/lib/python3.12/site-packages/sklearn/metrics/_classification.py:1731: UndefinedMetricWarning: Precision is ill-defined and being set to 0.0 in labels with no predicted samples. Use `zero_division` parameter to control this behavior.\n",
      "  _warn_prf(average, modifier, f\"{metric.capitalize()} is\", result.shape[0])\n"
     ]
    },
    {
     "name": "stdout",
     "output_type": "stream",
     "text": [
      "              precision    recall  f1-score   support\n",
      "\n",
      "         DAC     0.5000    1.0000    0.6667         1\n",
      "         DQC     0.0000    0.0000    0.0000         3\n",
      "         IAC     0.8077    0.8750    0.8400        24\n",
      "         IQC     0.7778    0.7500    0.7636        28\n",
      "      others     0.9990    0.9992    0.9991      7298\n",
      "\n",
      "    accuracy                         0.9974      7354\n",
      "   macro avg     0.6169    0.7248    0.6539      7354\n",
      "weighted avg     0.9971    0.9974    0.9972      7354\n",
      "\n",
      "              precision    recall  f1-score   support\n",
      "\n",
      "         DAC     1.0000    1.0000    1.0000         3\n",
      "         DQC     1.0000    1.0000    1.0000         1\n",
      "         IAC     1.0000    1.0000    1.0000        25\n",
      "         IQC     1.0000    0.9839    0.9919        62\n",
      "      others     0.9999    1.0000    1.0000     13627\n",
      "\n",
      "    accuracy                         0.9999     13718\n",
      "   macro avg     1.0000    0.9968    0.9984     13718\n",
      "weighted avg     0.9999    0.9999    0.9999     13718\n",
      "\n"
     ]
    },
    {
     "name": "stderr",
     "output_type": "stream",
     "text": [
      "/data/foundation_model/.venv/lib/python3.12/site-packages/sklearn/metrics/_classification.py:1731: UndefinedMetricWarning: Precision is ill-defined and being set to 0.0 in labels with no predicted samples. Use `zero_division` parameter to control this behavior.\n",
      "  _warn_prf(average, modifier, f\"{metric.capitalize()} is\", result.shape[0])\n",
      "/data/foundation_model/.venv/lib/python3.12/site-packages/sklearn/metrics/_classification.py:1731: UndefinedMetricWarning: Precision is ill-defined and being set to 0.0 in labels with no predicted samples. Use `zero_division` parameter to control this behavior.\n",
      "  _warn_prf(average, modifier, f\"{metric.capitalize()} is\", result.shape[0])\n",
      "/data/foundation_model/.venv/lib/python3.12/site-packages/sklearn/metrics/_classification.py:1731: UndefinedMetricWarning: Precision is ill-defined and being set to 0.0 in labels with no predicted samples. Use `zero_division` parameter to control this behavior.\n",
      "  _warn_prf(average, modifier, f\"{metric.capitalize()} is\", result.shape[0])\n",
      "/data/foundation_model/.venv/lib/python3.12/site-packages/sklearn/metrics/_classification.py:1731: UndefinedMetricWarning: Precision is ill-defined and being set to 0.0 in labels with no predicted samples. Use `zero_division` parameter to control this behavior.\n",
      "  _warn_prf(average, modifier, f\"{metric.capitalize()} is\", result.shape[0])\n",
      "/data/foundation_model/.venv/lib/python3.12/site-packages/sklearn/metrics/_classification.py:1731: UndefinedMetricWarning: Precision is ill-defined and being set to 0.0 in labels with no predicted samples. Use `zero_division` parameter to control this behavior.\n",
      "  _warn_prf(average, modifier, f\"{metric.capitalize()} is\", result.shape[0])\n",
      "/data/foundation_model/.venv/lib/python3.12/site-packages/sklearn/metrics/_classification.py:1731: UndefinedMetricWarning: Precision is ill-defined and being set to 0.0 in labels with no predicted samples. Use `zero_division` parameter to control this behavior.\n",
      "  _warn_prf(average, modifier, f\"{metric.capitalize()} is\", result.shape[0])\n"
     ]
    },
    {
     "name": "stdout",
     "output_type": "stream",
     "text": [
      "              precision    recall  f1-score   support\n",
      "\n",
      "         DAC     0.0000    0.0000    0.0000         1\n",
      "         DQC     0.7500    1.0000    0.8571         3\n",
      "         IAC     0.7500    0.8750    0.8077        24\n",
      "         IQC     0.8636    0.6786    0.7600        28\n",
      "      others     0.9990    0.9993    0.9992      7298\n",
      "\n",
      "    accuracy                         0.9976      7354\n",
      "   macro avg     0.6725    0.7106    0.6848      7354\n",
      "weighted avg     0.9975    0.9976    0.9974      7354\n",
      "\n",
      "              precision    recall  f1-score   support\n",
      "\n",
      "         DAC     1.0000    1.0000    1.0000         4\n",
      "         DQC     1.0000    1.0000    1.0000         4\n",
      "         IAC     1.0000    1.0000    1.0000        29\n",
      "         IQC     0.9818    1.0000    0.9908        54\n",
      "      others     1.0000    0.9999    1.0000     13627\n",
      "\n",
      "    accuracy                         0.9999     13718\n",
      "   macro avg     0.9964    1.0000    0.9982     13718\n",
      "weighted avg     0.9999    0.9999    0.9999     13718\n",
      "\n"
     ]
    },
    {
     "name": "stderr",
     "output_type": "stream",
     "text": [
      "/data/foundation_model/.venv/lib/python3.12/site-packages/sklearn/metrics/_classification.py:1731: UndefinedMetricWarning: Precision is ill-defined and being set to 0.0 in labels with no predicted samples. Use `zero_division` parameter to control this behavior.\n",
      "  _warn_prf(average, modifier, f\"{metric.capitalize()} is\", result.shape[0])\n",
      "/data/foundation_model/.venv/lib/python3.12/site-packages/sklearn/metrics/_classification.py:1731: UndefinedMetricWarning: Precision is ill-defined and being set to 0.0 in labels with no predicted samples. Use `zero_division` parameter to control this behavior.\n",
      "  _warn_prf(average, modifier, f\"{metric.capitalize()} is\", result.shape[0])\n",
      "/data/foundation_model/.venv/lib/python3.12/site-packages/sklearn/metrics/_classification.py:1731: UndefinedMetricWarning: Precision is ill-defined and being set to 0.0 in labels with no predicted samples. Use `zero_division` parameter to control this behavior.\n",
      "  _warn_prf(average, modifier, f\"{metric.capitalize()} is\", result.shape[0])\n",
      "/data/foundation_model/.venv/lib/python3.12/site-packages/sklearn/metrics/_classification.py:1731: UndefinedMetricWarning: Precision is ill-defined and being set to 0.0 in labels with no predicted samples. Use `zero_division` parameter to control this behavior.\n",
      "  _warn_prf(average, modifier, f\"{metric.capitalize()} is\", result.shape[0])\n",
      "/data/foundation_model/.venv/lib/python3.12/site-packages/sklearn/metrics/_classification.py:1731: UndefinedMetricWarning: Precision is ill-defined and being set to 0.0 in labels with no predicted samples. Use `zero_division` parameter to control this behavior.\n",
      "  _warn_prf(average, modifier, f\"{metric.capitalize()} is\", result.shape[0])\n",
      "/data/foundation_model/.venv/lib/python3.12/site-packages/sklearn/metrics/_classification.py:1731: UndefinedMetricWarning: Precision is ill-defined and being set to 0.0 in labels with no predicted samples. Use `zero_division` parameter to control this behavior.\n",
      "  _warn_prf(average, modifier, f\"{metric.capitalize()} is\", result.shape[0])\n"
     ]
    },
    {
     "name": "stdout",
     "output_type": "stream",
     "text": [
      "              precision    recall  f1-score   support\n",
      "\n",
      "         DAC     0.0000    0.0000    0.0000         1\n",
      "         DQC     0.2500    0.3333    0.2857         3\n",
      "         IAC     0.8095    0.7083    0.7556        24\n",
      "         IQC     0.7692    0.7143    0.7407        28\n",
      "      others     0.9985    0.9992    0.9988      7298\n",
      "\n",
      "    accuracy                         0.9967      7354\n",
      "   macro avg     0.5654    0.5510    0.5562      7354\n",
      "weighted avg     0.9966    0.9967    0.9966      7354\n",
      "\n",
      "              precision    recall  f1-score   support\n",
      "\n",
      "         DAC     1.0000    1.0000    1.0000         6\n",
      "         DQC     1.0000    1.0000    1.0000         5\n",
      "         IAC     1.0000    0.9730    0.9863        37\n",
      "         IQC     0.9841    0.9688    0.9764        64\n",
      "      others     0.9998    0.9999    0.9999     13606\n",
      "\n",
      "    accuracy                         0.9997     13718\n",
      "   macro avg     0.9968    0.9883    0.9925     13718\n",
      "weighted avg     0.9997    0.9997    0.9997     13718\n",
      "\n",
      "              precision    recall  f1-score   support\n",
      "\n",
      "         DAC     0.5000    1.0000    0.6667         1\n",
      "         DQC     0.6667    0.6667    0.6667         3\n",
      "         IAC     0.9000    0.7500    0.8182        24\n",
      "         IQC     0.7667    0.8214    0.7931        28\n",
      "      others     0.9989    0.9990    0.9990      7298\n",
      "\n",
      "    accuracy                         0.9974      7354\n",
      "   macro avg     0.7664    0.8474    0.7887      7354\n",
      "weighted avg     0.9975    0.9974    0.9974      7354\n",
      "\n",
      "              precision    recall  f1-score   support\n",
      "\n",
      "         DAC     1.0000    1.0000    1.0000         5\n",
      "         DQC     1.0000    1.0000    1.0000         3\n",
      "         IAC     1.0000    0.9722    0.9859        36\n",
      "         IQC     1.0000    1.0000    1.0000        60\n",
      "      others     0.9999    1.0000    1.0000     13614\n",
      "\n",
      "    accuracy                         0.9999     13718\n",
      "   macro avg     1.0000    0.9944    0.9972     13718\n",
      "weighted avg     0.9999    0.9999    0.9999     13718\n",
      "\n"
     ]
    },
    {
     "name": "stderr",
     "output_type": "stream",
     "text": [
      "/data/foundation_model/.venv/lib/python3.12/site-packages/sklearn/metrics/_classification.py:1731: UndefinedMetricWarning: Precision is ill-defined and being set to 0.0 in labels with no predicted samples. Use `zero_division` parameter to control this behavior.\n",
      "  _warn_prf(average, modifier, f\"{metric.capitalize()} is\", result.shape[0])\n",
      "/data/foundation_model/.venv/lib/python3.12/site-packages/sklearn/metrics/_classification.py:1731: UndefinedMetricWarning: Precision is ill-defined and being set to 0.0 in labels with no predicted samples. Use `zero_division` parameter to control this behavior.\n",
      "  _warn_prf(average, modifier, f\"{metric.capitalize()} is\", result.shape[0])\n",
      "/data/foundation_model/.venv/lib/python3.12/site-packages/sklearn/metrics/_classification.py:1731: UndefinedMetricWarning: Precision is ill-defined and being set to 0.0 in labels with no predicted samples. Use `zero_division` parameter to control this behavior.\n",
      "  _warn_prf(average, modifier, f\"{metric.capitalize()} is\", result.shape[0])\n",
      "/data/foundation_model/.venv/lib/python3.12/site-packages/sklearn/metrics/_classification.py:1731: UndefinedMetricWarning: Precision is ill-defined and being set to 0.0 in labels with no predicted samples. Use `zero_division` parameter to control this behavior.\n",
      "  _warn_prf(average, modifier, f\"{metric.capitalize()} is\", result.shape[0])\n",
      "/data/foundation_model/.venv/lib/python3.12/site-packages/sklearn/metrics/_classification.py:1731: UndefinedMetricWarning: Precision is ill-defined and being set to 0.0 in labels with no predicted samples. Use `zero_division` parameter to control this behavior.\n",
      "  _warn_prf(average, modifier, f\"{metric.capitalize()} is\", result.shape[0])\n",
      "/data/foundation_model/.venv/lib/python3.12/site-packages/sklearn/metrics/_classification.py:1731: UndefinedMetricWarning: Precision is ill-defined and being set to 0.0 in labels with no predicted samples. Use `zero_division` parameter to control this behavior.\n",
      "  _warn_prf(average, modifier, f\"{metric.capitalize()} is\", result.shape[0])\n"
     ]
    },
    {
     "name": "stdout",
     "output_type": "stream",
     "text": [
      "              precision    recall  f1-score   support\n",
      "\n",
      "         DAC     0.0000    0.0000    0.0000         1\n",
      "         DQC     0.7500    1.0000    0.8571         3\n",
      "         IAC     0.9444    0.7083    0.8095        24\n",
      "         IQC     0.7778    0.7500    0.7636        28\n",
      "      others     0.9984    0.9993    0.9988      7298\n",
      "\n",
      "    accuracy                         0.9973      7354\n",
      "   macro avg     0.6941    0.6915    0.6858      7354\n",
      "weighted avg     0.9971    0.9973    0.9971      7354\n",
      "\n",
      "              precision    recall  f1-score   support\n",
      "\n",
      "         DAC     1.0000    1.0000    1.0000         2\n",
      "         DQC     1.0000    1.0000    1.0000         6\n",
      "         IAC     1.0000    1.0000    1.0000        22\n",
      "         IQC     1.0000    1.0000    1.0000        54\n",
      "      others     1.0000    1.0000    1.0000     13634\n",
      "\n",
      "    accuracy                         1.0000     13718\n",
      "   macro avg     1.0000    1.0000    1.0000     13718\n",
      "weighted avg     1.0000    1.0000    1.0000     13718\n",
      "\n",
      "              precision    recall  f1-score   support\n",
      "\n",
      "         DAC     0.0000    0.0000    0.0000         1\n",
      "         DQC     0.7500    1.0000    0.8571         3\n",
      "         IAC     0.8333    0.8333    0.8333        24\n",
      "         IQC     0.8696    0.7143    0.7843        28\n",
      "      others     0.9988    0.9993    0.9990      7298\n",
      "\n",
      "    accuracy                         0.9976      7354\n",
      "   macro avg     0.6903    0.7094    0.6948      7354\n",
      "weighted avg     0.9975    0.9976    0.9975      7354\n",
      "\n",
      "              precision    recall  f1-score   support\n",
      "\n",
      "         DAC     1.0000    1.0000    1.0000         3\n",
      "         DQC     1.0000    1.0000    1.0000         2\n",
      "         IAC     1.0000    1.0000    1.0000        39\n",
      "         IQC     1.0000    0.9841    0.9920        63\n",
      "      others     0.9999    1.0000    1.0000     13611\n",
      "\n",
      "    accuracy                         0.9999     13718\n",
      "   macro avg     1.0000    0.9968    0.9984     13718\n",
      "weighted avg     0.9999    0.9999    0.9999     13718\n",
      "\n",
      "              precision    recall  f1-score   support\n",
      "\n",
      "         DAC     0.5000    1.0000    0.6667         1\n",
      "         DQC     1.0000    1.0000    1.0000         3\n",
      "         IAC     0.8500    0.7083    0.7727        24\n",
      "         IQC     0.7586    0.7857    0.7719        28\n",
      "      others     0.9988    0.9990    0.9989      7298\n",
      "\n",
      "    accuracy                         0.9973      7354\n",
      "   macro avg     0.8215    0.8986    0.8420      7354\n",
      "weighted avg     0.9973    0.9973    0.9973      7354\n",
      "\n",
      "              precision    recall  f1-score   support\n",
      "\n",
      "         DAC     1.0000    1.0000    1.0000         8\n",
      "         DQC     1.0000    1.0000    1.0000         4\n",
      "         IAC     1.0000    1.0000    1.0000        29\n",
      "         IQC     1.0000    1.0000    1.0000        59\n",
      "      others     1.0000    1.0000    1.0000     13618\n",
      "\n",
      "    accuracy                         1.0000     13718\n",
      "   macro avg     1.0000    1.0000    1.0000     13718\n",
      "weighted avg     1.0000    1.0000    1.0000     13718\n",
      "\n",
      "              precision    recall  f1-score   support\n",
      "\n",
      "         DAC     0.3333    1.0000    0.5000         1\n",
      "         DQC     0.5000    0.6667    0.5714         3\n",
      "         IAC     0.8400    0.8750    0.8571        24\n",
      "         IQC     0.7407    0.7143    0.7273        28\n",
      "      others     0.9993    0.9989    0.9991      7298\n",
      "\n",
      "    accuracy                         0.9973      7354\n",
      "   macro avg     0.6827    0.8510    0.7310      7354\n",
      "weighted avg     0.9975    0.9973    0.9974      7354\n",
      "\n",
      "              precision    recall  f1-score   support\n",
      "\n",
      "         DAC     1.0000    1.0000    1.0000         6\n",
      "         DQC     1.0000    1.0000    1.0000         3\n",
      "         IAC     1.0000    1.0000    1.0000        34\n",
      "         IQC     1.0000    0.9855    0.9927        69\n",
      "      others     0.9999    1.0000    1.0000     13606\n",
      "\n",
      "    accuracy                         0.9999     13718\n",
      "   macro avg     1.0000    0.9971    0.9985     13718\n",
      "weighted avg     0.9999    0.9999    0.9999     13718\n",
      "\n",
      "              precision    recall  f1-score   support\n",
      "\n",
      "         DAC     0.0000    0.0000    0.0000         1\n",
      "         DQC     0.6000    1.0000    0.7500         3\n",
      "         IAC     0.8800    0.9167    0.8980        24\n",
      "         IQC     0.8276    0.8571    0.8421        28\n",
      "      others     0.9996    0.9990    0.9993      7298\n",
      "\n",
      "    accuracy                         0.9981      7354\n",
      "   macro avg     0.6614    0.7546    0.6979      7354\n",
      "weighted avg     0.9982    0.9981    0.9981      7354\n",
      "\n",
      "              precision    recall  f1-score   support\n",
      "\n",
      "         DAC     1.0000    1.0000    1.0000         5\n",
      "         DQC     1.0000    1.0000    1.0000         6\n",
      "         IAC     1.0000    1.0000    1.0000        44\n",
      "         IQC     1.0000    0.9851    0.9925        67\n",
      "      others     0.9999    1.0000    1.0000     13596\n",
      "\n",
      "    accuracy                         0.9999     13718\n",
      "   macro avg     1.0000    0.9970    0.9985     13718\n",
      "weighted avg     0.9999    0.9999    0.9999     13718\n",
      "\n",
      "              precision    recall  f1-score   support\n",
      "\n",
      "         DAC     0.0000    0.0000    0.0000         1\n",
      "         DQC     0.6000    1.0000    0.7500         3\n",
      "         IAC     0.7917    0.7917    0.7917        24\n",
      "         IQC     0.8261    0.6786    0.7451        28\n",
      "      others     0.9985    0.9989    0.9987      7298\n",
      "\n",
      "    accuracy                         0.9969      7354\n",
      "   macro avg     0.6432    0.6938    0.6571      7354\n",
      "weighted avg     0.9969    0.9969    0.9968      7354\n",
      "\n",
      "              precision    recall  f1-score   support\n",
      "\n",
      "         DAC     1.0000    1.0000    1.0000         4\n",
      "         DQC     1.0000    1.0000    1.0000         6\n",
      "         IAC     1.0000    1.0000    1.0000        31\n",
      "         IQC     1.0000    1.0000    1.0000        47\n",
      "      others     1.0000    1.0000    1.0000     13630\n",
      "\n",
      "    accuracy                         1.0000     13718\n",
      "   macro avg     1.0000    1.0000    1.0000     13718\n",
      "weighted avg     1.0000    1.0000    1.0000     13718\n",
      "\n"
     ]
    },
    {
     "name": "stderr",
     "output_type": "stream",
     "text": [
      "/data/foundation_model/.venv/lib/python3.12/site-packages/sklearn/metrics/_classification.py:1731: UndefinedMetricWarning: Precision is ill-defined and being set to 0.0 in labels with no predicted samples. Use `zero_division` parameter to control this behavior.\n",
      "  _warn_prf(average, modifier, f\"{metric.capitalize()} is\", result.shape[0])\n",
      "/data/foundation_model/.venv/lib/python3.12/site-packages/sklearn/metrics/_classification.py:1731: UndefinedMetricWarning: Precision is ill-defined and being set to 0.0 in labels with no predicted samples. Use `zero_division` parameter to control this behavior.\n",
      "  _warn_prf(average, modifier, f\"{metric.capitalize()} is\", result.shape[0])\n",
      "/data/foundation_model/.venv/lib/python3.12/site-packages/sklearn/metrics/_classification.py:1731: UndefinedMetricWarning: Precision is ill-defined and being set to 0.0 in labels with no predicted samples. Use `zero_division` parameter to control this behavior.\n",
      "  _warn_prf(average, modifier, f\"{metric.capitalize()} is\", result.shape[0])\n",
      "/data/foundation_model/.venv/lib/python3.12/site-packages/sklearn/metrics/_classification.py:1731: UndefinedMetricWarning: Precision is ill-defined and being set to 0.0 in labels with no predicted samples. Use `zero_division` parameter to control this behavior.\n",
      "  _warn_prf(average, modifier, f\"{metric.capitalize()} is\", result.shape[0])\n",
      "/data/foundation_model/.venv/lib/python3.12/site-packages/sklearn/metrics/_classification.py:1731: UndefinedMetricWarning: Precision is ill-defined and being set to 0.0 in labels with no predicted samples. Use `zero_division` parameter to control this behavior.\n",
      "  _warn_prf(average, modifier, f\"{metric.capitalize()} is\", result.shape[0])\n",
      "/data/foundation_model/.venv/lib/python3.12/site-packages/sklearn/metrics/_classification.py:1731: UndefinedMetricWarning: Precision is ill-defined and being set to 0.0 in labels with no predicted samples. Use `zero_division` parameter to control this behavior.\n",
      "  _warn_prf(average, modifier, f\"{metric.capitalize()} is\", result.shape[0])\n"
     ]
    },
    {
     "name": "stdout",
     "output_type": "stream",
     "text": [
      "              precision    recall  f1-score   support\n",
      "\n",
      "         DAC     0.0000    0.0000    0.0000         1\n",
      "         DQC     0.7500    1.0000    0.8571         3\n",
      "         IAC     0.9444    0.7083    0.8095        24\n",
      "         IQC     0.7692    0.7143    0.7407        28\n",
      "      others     0.9981    0.9992    0.9986      7298\n",
      "\n",
      "    accuracy                         0.9970      7354\n",
      "   macro avg     0.6924    0.6844    0.6812      7354\n",
      "weighted avg     0.9968    0.9970    0.9968      7354\n",
      "\n",
      "              precision    recall  f1-score   support\n",
      "\n",
      "         DAC     1.0000    1.0000    1.0000         2\n",
      "         DQC     1.0000    1.0000    1.0000         3\n",
      "         IAC     1.0000    1.0000    1.0000        26\n",
      "         IQC     1.0000    1.0000    1.0000        61\n",
      "      others     1.0000    1.0000    1.0000     13626\n",
      "\n",
      "    accuracy                         1.0000     13718\n",
      "   macro avg     1.0000    1.0000    1.0000     13718\n",
      "weighted avg     1.0000    1.0000    1.0000     13718\n",
      "\n",
      "              precision    recall  f1-score   support\n",
      "\n",
      "         DAC     0.0000    0.0000    0.0000         1\n",
      "         DQC     0.7500    1.0000    0.8571         3\n",
      "         IAC     0.8077    0.8750    0.8400        24\n",
      "         IQC     0.7727    0.6071    0.6800        28\n",
      "      others     0.9985    0.9989    0.9987      7298\n",
      "\n",
      "    accuracy                         0.9969      7354\n",
      "   macro avg     0.6658    0.6962    0.6752      7354\n",
      "weighted avg     0.9968    0.9969    0.9968      7354\n",
      "\n",
      "              precision    recall  f1-score   support\n",
      "\n",
      "         DAC     1.0000    1.0000    1.0000         2\n",
      "         DQC     1.0000    1.0000    1.0000         2\n",
      "         IAC     1.0000    1.0000    1.0000        29\n",
      "         IQC     1.0000    1.0000    1.0000        44\n",
      "      others     1.0000    1.0000    1.0000     10211\n",
      "\n",
      "    accuracy                         1.0000     10288\n",
      "   macro avg     1.0000    1.0000    1.0000     10288\n",
      "weighted avg     1.0000    1.0000    1.0000     10288\n",
      "\n",
      "              precision    recall  f1-score   support\n",
      "\n",
      "         DAC     0.0000    0.0000    0.0000         1\n",
      "         DQC     0.3333    0.3333    0.3333         3\n",
      "         IAC     0.8000    0.8333    0.8163        24\n",
      "         IQC     0.7143    0.7143    0.7143        28\n",
      "      others     0.9990    0.9989    0.9990      7298\n",
      "\n",
      "    accuracy                         0.9969      7354\n",
      "   macro avg     0.5693    0.5760    0.5726      7354\n",
      "weighted avg     0.9969    0.9969    0.9969      7354\n",
      "\n",
      "              precision    recall  f1-score   support\n",
      "\n",
      "         DAC     1.0000    1.0000    1.0000         2\n",
      "         DQC     1.0000    1.0000    1.0000         2\n",
      "         IAC     1.0000    1.0000    1.0000        25\n",
      "         IQC     0.9592    1.0000    0.9792        47\n",
      "      others     1.0000    0.9998    0.9999     10212\n",
      "\n",
      "    accuracy                         0.9998     10288\n",
      "   macro avg     0.9918    1.0000    0.9958     10288\n",
      "weighted avg     0.9998    0.9998    0.9998     10288\n",
      "\n",
      "              precision    recall  f1-score   support\n",
      "\n",
      "         DAC     0.0000    0.0000    0.0000         1\n",
      "         DQC     0.7500    1.0000    0.8571         3\n",
      "         IAC     0.8000    0.8333    0.8163        24\n",
      "         IQC     0.7857    0.7857    0.7857        28\n",
      "      others     0.9990    0.9988    0.9989      7298\n",
      "\n",
      "    accuracy                         0.9973      7354\n",
      "   macro avg     0.6670    0.7236    0.6916      7354\n",
      "weighted avg     0.9973    0.9973    0.9973      7354\n",
      "\n",
      "              precision    recall  f1-score   support\n",
      "\n",
      "         DAC     1.0000    1.0000    1.0000         3\n",
      "         DQC     1.0000    1.0000    1.0000         2\n",
      "         IAC     1.0000    1.0000    1.0000        31\n",
      "         IQC     1.0000    0.9773    0.9885        44\n",
      "      others     0.9999    1.0000    1.0000     10208\n",
      "\n",
      "    accuracy                         0.9999     10288\n",
      "   macro avg     1.0000    0.9955    0.9977     10288\n",
      "weighted avg     0.9999    0.9999    0.9999     10288\n",
      "\n",
      "              precision    recall  f1-score   support\n",
      "\n",
      "         DAC     0.5000    1.0000    0.6667         1\n",
      "         DQC     0.7500    1.0000    0.8571         3\n",
      "         IAC     0.6667    0.9167    0.7719        24\n",
      "         IQC     0.8000    0.7143    0.7547        28\n",
      "      others     0.9992    0.9981    0.9986      7298\n",
      "\n",
      "    accuracy                         0.9967      7354\n",
      "   macro avg     0.7432    0.9258    0.8098      7354\n",
      "weighted avg     0.9972    0.9967    0.9969      7354\n",
      "\n",
      "              precision    recall  f1-score   support\n",
      "\n",
      "         DAC     1.0000    1.0000    1.0000         6\n",
      "         DQC     1.0000    1.0000    1.0000         3\n",
      "         IAC     1.0000    1.0000    1.0000        31\n",
      "         IQC     0.9800    1.0000    0.9899        49\n",
      "      others     1.0000    0.9999    1.0000     10199\n",
      "\n",
      "    accuracy                         0.9999     10288\n",
      "   macro avg     0.9960    1.0000    0.9980     10288\n",
      "weighted avg     0.9999    0.9999    0.9999     10288\n",
      "\n",
      "              precision    recall  f1-score   support\n",
      "\n",
      "         DAC     0.5000    1.0000    0.6667         1\n",
      "         DQC     0.7500    1.0000    0.8571         3\n",
      "         IAC     0.6957    0.6667    0.6809        24\n",
      "         IQC     0.7500    0.7500    0.7500        28\n",
      "      others     0.9988    0.9986    0.9987      7298\n",
      "\n",
      "    accuracy                         0.9966      7354\n",
      "   macro avg     0.7389    0.8831    0.7907      7354\n",
      "weighted avg     0.9967    0.9966    0.9966      7354\n",
      "\n",
      "              precision    recall  f1-score   support\n",
      "\n",
      "         DAC     1.0000    1.0000    1.0000         5\n",
      "         DQC     1.0000    1.0000    1.0000         3\n",
      "         IAC     1.0000    1.0000    1.0000        29\n",
      "         IQC     1.0000    1.0000    1.0000        49\n",
      "      others     1.0000    1.0000    1.0000     10202\n",
      "\n",
      "    accuracy                         1.0000     10288\n",
      "   macro avg     1.0000    1.0000    1.0000     10288\n",
      "weighted avg     1.0000    1.0000    1.0000     10288\n",
      "\n",
      "              precision    recall  f1-score   support\n",
      "\n",
      "         DAC     0.5000    1.0000    0.6667         1\n",
      "         DQC     0.7500    1.0000    0.8571         3\n",
      "         IAC     0.8261    0.7917    0.8085        24\n",
      "         IQC     0.6786    0.6786    0.6786        28\n",
      "      others     0.9989    0.9988    0.9988      7298\n",
      "\n",
      "    accuracy                         0.9969      7354\n",
      "   macro avg     0.7507    0.8938    0.8019      7354\n",
      "weighted avg     0.9970    0.9969    0.9969      7354\n",
      "\n",
      "              precision    recall  f1-score   support\n",
      "\n",
      "         DAC     1.0000    1.0000    1.0000         8\n",
      "         DQC     1.0000    1.0000    1.0000         5\n",
      "         IAC     1.0000    0.9259    0.9615        27\n",
      "         IQC     0.9773    0.9773    0.9773        44\n",
      "      others     0.9998    1.0000    0.9999     10204\n",
      "\n",
      "    accuracy                         0.9997     10288\n",
      "   macro avg     0.9954    0.9806    0.9877     10288\n",
      "weighted avg     0.9997    0.9997    0.9997     10288\n",
      "\n"
     ]
    },
    {
     "name": "stderr",
     "output_type": "stream",
     "text": [
      "/data/foundation_model/.venv/lib/python3.12/site-packages/sklearn/metrics/_classification.py:1731: UndefinedMetricWarning: Precision is ill-defined and being set to 0.0 in labels with no predicted samples. Use `zero_division` parameter to control this behavior.\n",
      "  _warn_prf(average, modifier, f\"{metric.capitalize()} is\", result.shape[0])\n",
      "/data/foundation_model/.venv/lib/python3.12/site-packages/sklearn/metrics/_classification.py:1731: UndefinedMetricWarning: Precision is ill-defined and being set to 0.0 in labels with no predicted samples. Use `zero_division` parameter to control this behavior.\n",
      "  _warn_prf(average, modifier, f\"{metric.capitalize()} is\", result.shape[0])\n",
      "/data/foundation_model/.venv/lib/python3.12/site-packages/sklearn/metrics/_classification.py:1731: UndefinedMetricWarning: Precision is ill-defined and being set to 0.0 in labels with no predicted samples. Use `zero_division` parameter to control this behavior.\n",
      "  _warn_prf(average, modifier, f\"{metric.capitalize()} is\", result.shape[0])\n",
      "/data/foundation_model/.venv/lib/python3.12/site-packages/sklearn/metrics/_classification.py:1731: UndefinedMetricWarning: Precision is ill-defined and being set to 0.0 in labels with no predicted samples. Use `zero_division` parameter to control this behavior.\n",
      "  _warn_prf(average, modifier, f\"{metric.capitalize()} is\", result.shape[0])\n",
      "/data/foundation_model/.venv/lib/python3.12/site-packages/sklearn/metrics/_classification.py:1731: UndefinedMetricWarning: Precision is ill-defined and being set to 0.0 in labels with no predicted samples. Use `zero_division` parameter to control this behavior.\n",
      "  _warn_prf(average, modifier, f\"{metric.capitalize()} is\", result.shape[0])\n",
      "/data/foundation_model/.venv/lib/python3.12/site-packages/sklearn/metrics/_classification.py:1731: UndefinedMetricWarning: Precision is ill-defined and being set to 0.0 in labels with no predicted samples. Use `zero_division` parameter to control this behavior.\n",
      "  _warn_prf(average, modifier, f\"{metric.capitalize()} is\", result.shape[0])\n"
     ]
    },
    {
     "name": "stdout",
     "output_type": "stream",
     "text": [
      "              precision    recall  f1-score   support\n",
      "\n",
      "         DAC     0.0000    0.0000    0.0000         1\n",
      "         DQC     1.0000    0.3333    0.5000         3\n",
      "         IAC     0.6667    0.8333    0.7407        24\n",
      "         IQC     0.7895    0.5357    0.6383        28\n",
      "      others     0.9982    0.9990    0.9986      7298\n",
      "\n",
      "    accuracy                         0.9963      7354\n",
      "   macro avg     0.6909    0.5403    0.5755      7354\n",
      "weighted avg     0.9962    0.9963    0.9961      7354\n",
      "\n",
      "              precision    recall  f1-score   support\n",
      "\n",
      "         DAC     1.0000    1.0000    1.0000         1\n",
      "         DQC     1.0000    1.0000    1.0000         2\n",
      "         IAC     1.0000    1.0000    1.0000        23\n",
      "         IQC     0.9787    0.9787    0.9787        47\n",
      "      others     0.9999    0.9999    0.9999     10215\n",
      "\n",
      "    accuracy                         0.9998     10288\n",
      "   macro avg     0.9957    0.9957    0.9957     10288\n",
      "weighted avg     0.9998    0.9998    0.9998     10288\n",
      "\n",
      "              precision    recall  f1-score   support\n",
      "\n",
      "         DAC     0.5000    1.0000    0.6667         1\n",
      "         DQC     1.0000    0.6667    0.8000         3\n",
      "         IAC     0.7241    0.8750    0.7925        24\n",
      "         IQC     0.8421    0.5714    0.6809        28\n",
      "      others     0.9988    0.9993    0.9990      7298\n",
      "\n",
      "    accuracy                         0.9971      7354\n",
      "   macro avg     0.8130    0.8225    0.7878      7354\n",
      "weighted avg     0.9972    0.9971    0.9970      7354\n",
      "\n",
      "              precision    recall  f1-score   support\n",
      "\n",
      "         DAC     1.0000    1.0000    1.0000         5\n",
      "         DQC     1.0000    1.0000    1.0000         2\n",
      "         IAC     1.0000    1.0000    1.0000        26\n",
      "         IQC     1.0000    0.9756    0.9877        41\n",
      "      others     0.9999    1.0000    1.0000     10214\n",
      "\n",
      "    accuracy                         0.9999     10288\n",
      "   macro avg     1.0000    0.9951    0.9975     10288\n",
      "weighted avg     0.9999    0.9999    0.9999     10288\n",
      "\n",
      "              precision    recall  f1-score   support\n",
      "\n",
      "         DAC     0.0000    0.0000    0.0000         1\n",
      "         DQC     0.0000    0.0000    0.0000         3\n",
      "         IAC     0.8400    0.8750    0.8571        24\n",
      "         IQC     0.7200    0.6429    0.6792        28\n",
      "      others     0.9985    0.9990    0.9988      7298\n",
      "\n",
      "    accuracy                         0.9967      7354\n",
      "   macro avg     0.5117    0.5034    0.5070      7354\n",
      "weighted avg     0.9964    0.9967    0.9965      7354\n",
      "\n",
      "              precision    recall  f1-score   support\n",
      "\n",
      "         DAC     1.0000    1.0000    1.0000         2\n",
      "         DQC     1.0000    1.0000    1.0000         1\n",
      "         IAC     1.0000    1.0000    1.0000        28\n",
      "         IQC     1.0000    1.0000    1.0000        46\n",
      "      others     1.0000    1.0000    1.0000     10211\n",
      "\n",
      "    accuracy                         1.0000     10288\n",
      "   macro avg     1.0000    1.0000    1.0000     10288\n",
      "weighted avg     1.0000    1.0000    1.0000     10288\n",
      "\n",
      "              precision    recall  f1-score   support\n",
      "\n",
      "         DAC     0.5000    1.0000    0.6667         1\n",
      "         DQC     0.5000    0.3333    0.4000         3\n",
      "         IAC     0.8095    0.7083    0.7556        24\n",
      "         IQC     0.6154    0.5714    0.5926        28\n",
      "      others     0.9982    0.9989    0.9986      7298\n",
      "\n",
      "    accuracy                         0.9961      7354\n",
      "   macro avg     0.6846    0.7224    0.6827      7354\n",
      "weighted avg     0.9959    0.9961    0.9959      7354\n",
      "\n",
      "              precision    recall  f1-score   support\n",
      "\n",
      "         DAC     1.0000    1.0000    1.0000         5\n",
      "         DQC     1.0000    1.0000    1.0000         3\n",
      "         IAC     1.0000    1.0000    1.0000        19\n",
      "         IQC     1.0000    1.0000    1.0000        43\n",
      "      others     1.0000    1.0000    1.0000     10218\n",
      "\n",
      "    accuracy                         1.0000     10288\n",
      "   macro avg     1.0000    1.0000    1.0000     10288\n",
      "weighted avg     1.0000    1.0000    1.0000     10288\n",
      "\n",
      "              precision    recall  f1-score   support\n",
      "\n",
      "         DAC     0.5000    1.0000    0.6667         1\n",
      "         DQC     1.0000    0.3333    0.5000         3\n",
      "         IAC     0.8636    0.7917    0.8261        24\n",
      "         IQC     0.6786    0.6786    0.6786        28\n",
      "      others     0.9985    0.9989    0.9987      7298\n",
      "\n",
      "    accuracy                         0.9967      7354\n",
      "   macro avg     0.8081    0.7605    0.7340      7354\n",
      "weighted avg     0.9968    0.9967    0.9967      7354\n",
      "\n",
      "              precision    recall  f1-score   support\n",
      "\n",
      "         DAC     1.0000    1.0000    1.0000         6\n",
      "         DQC     1.0000    1.0000    1.0000         3\n",
      "         IAC     1.0000    1.0000    1.0000        26\n",
      "         IQC     0.9821    1.0000    0.9910        55\n",
      "      others     1.0000    0.9999    1.0000     10198\n",
      "\n",
      "    accuracy                         0.9999     10288\n",
      "   macro avg     0.9964    1.0000    0.9982     10288\n",
      "weighted avg     0.9999    0.9999    0.9999     10288\n",
      "\n"
     ]
    },
    {
     "name": "stderr",
     "output_type": "stream",
     "text": [
      "/data/foundation_model/.venv/lib/python3.12/site-packages/sklearn/metrics/_classification.py:1731: UndefinedMetricWarning: Precision is ill-defined and being set to 0.0 in labels with no predicted samples. Use `zero_division` parameter to control this behavior.\n",
      "  _warn_prf(average, modifier, f\"{metric.capitalize()} is\", result.shape[0])\n",
      "/data/foundation_model/.venv/lib/python3.12/site-packages/sklearn/metrics/_classification.py:1731: UndefinedMetricWarning: Precision is ill-defined and being set to 0.0 in labels with no predicted samples. Use `zero_division` parameter to control this behavior.\n",
      "  _warn_prf(average, modifier, f\"{metric.capitalize()} is\", result.shape[0])\n",
      "/data/foundation_model/.venv/lib/python3.12/site-packages/sklearn/metrics/_classification.py:1731: UndefinedMetricWarning: Precision is ill-defined and being set to 0.0 in labels with no predicted samples. Use `zero_division` parameter to control this behavior.\n",
      "  _warn_prf(average, modifier, f\"{metric.capitalize()} is\", result.shape[0])\n"
     ]
    },
    {
     "ename": "ValueError",
     "evalue": "Number of classes, 4, does not match size of target_names, 5. Try specifying the labels parameter",
     "output_type": "error",
     "traceback": [
      "\u001b[31m---------------------------------------------------------------------------\u001b[39m",
      "\u001b[31mValueError\u001b[39m                                Traceback (most recent call last)",
      "\u001b[36mCell\u001b[39m\u001b[36m \u001b[39m\u001b[32mIn[4]\u001b[39m\u001b[32m, line 65\u001b[39m\n\u001b[32m     62\u001b[39m joblib.dump(clf, save_dir / \u001b[33m\"\u001b[39m\u001b[33mclf_model.pkl.z\u001b[39m\u001b[33m\"\u001b[39m)\n\u001b[32m     64\u001b[39m test_report = classification_report(y_test, y_pred, target_names=le.classes_, digits=\u001b[32m4\u001b[39m, output_dict=\u001b[38;5;28;01mTrue\u001b[39;00m)\n\u001b[32m---> \u001b[39m\u001b[32m65\u001b[39m train_report = \u001b[43mclassification_report\u001b[49m\u001b[43m(\u001b[49m\n\u001b[32m     66\u001b[39m \u001b[43m    \u001b[49m\u001b[43my_fit_true\u001b[49m\u001b[43m,\u001b[49m\u001b[43m \u001b[49m\u001b[43my_fit_pred\u001b[49m\u001b[43m,\u001b[49m\u001b[43m \u001b[49m\u001b[43mtarget_names\u001b[49m\u001b[43m=\u001b[49m\u001b[43mle\u001b[49m\u001b[43m.\u001b[49m\u001b[43mclasses_\u001b[49m\u001b[43m,\u001b[49m\u001b[43m \u001b[49m\u001b[43mdigits\u001b[49m\u001b[43m=\u001b[49m\u001b[32;43m4\u001b[39;49m\u001b[43m,\u001b[49m\u001b[43m \u001b[49m\u001b[43moutput_dict\u001b[49m\u001b[43m=\u001b[49m\u001b[38;5;28;43;01mTrue\u001b[39;49;00m\n\u001b[32m     67\u001b[39m \u001b[43m\u001b[49m\u001b[43m)\u001b[49m\n\u001b[32m     69\u001b[39m \u001b[38;5;66;03m# 混淆矩阵\u001b[39;00m\n\u001b[32m     70\u001b[39m fig, (ax1, ax2) = plt.subplots(\u001b[32m1\u001b[39m, \u001b[32m2\u001b[39m, figsize=(\u001b[32m21\u001b[39m, \u001b[32m8\u001b[39m), sharey=\u001b[38;5;28;01mTrue\u001b[39;00m, dpi=\u001b[32m130\u001b[39m)\n",
      "\u001b[36mFile \u001b[39m\u001b[32m/data/foundation_model/.venv/lib/python3.12/site-packages/sklearn/utils/_param_validation.py:218\u001b[39m, in \u001b[36mvalidate_params.<locals>.decorator.<locals>.wrapper\u001b[39m\u001b[34m(*args, **kwargs)\u001b[39m\n\u001b[32m    212\u001b[39m \u001b[38;5;28;01mtry\u001b[39;00m:\n\u001b[32m    213\u001b[39m     \u001b[38;5;28;01mwith\u001b[39;00m config_context(\n\u001b[32m    214\u001b[39m         skip_parameter_validation=(\n\u001b[32m    215\u001b[39m             prefer_skip_nested_validation \u001b[38;5;129;01mor\u001b[39;00m global_skip_validation\n\u001b[32m    216\u001b[39m         )\n\u001b[32m    217\u001b[39m     ):\n\u001b[32m--> \u001b[39m\u001b[32m218\u001b[39m         \u001b[38;5;28;01mreturn\u001b[39;00m \u001b[43mfunc\u001b[49m\u001b[43m(\u001b[49m\u001b[43m*\u001b[49m\u001b[43margs\u001b[49m\u001b[43m,\u001b[49m\u001b[43m \u001b[49m\u001b[43m*\u001b[49m\u001b[43m*\u001b[49m\u001b[43mkwargs\u001b[49m\u001b[43m)\u001b[49m\n\u001b[32m    219\u001b[39m \u001b[38;5;28;01mexcept\u001b[39;00m InvalidParameterError \u001b[38;5;28;01mas\u001b[39;00m e:\n\u001b[32m    220\u001b[39m     \u001b[38;5;66;03m# When the function is just a wrapper around an estimator, we allow\u001b[39;00m\n\u001b[32m    221\u001b[39m     \u001b[38;5;66;03m# the function to delegate validation to the estimator, but we replace\u001b[39;00m\n\u001b[32m    222\u001b[39m     \u001b[38;5;66;03m# the name of the estimator by the name of the function in the error\u001b[39;00m\n\u001b[32m    223\u001b[39m     \u001b[38;5;66;03m# message to avoid confusion.\u001b[39;00m\n\u001b[32m    224\u001b[39m     msg = re.sub(\n\u001b[32m    225\u001b[39m         \u001b[33mr\u001b[39m\u001b[33m\"\u001b[39m\u001b[33mparameter of \u001b[39m\u001b[33m\\\u001b[39m\u001b[33mw+ must be\u001b[39m\u001b[33m\"\u001b[39m,\n\u001b[32m    226\u001b[39m         \u001b[33mf\u001b[39m\u001b[33m\"\u001b[39m\u001b[33mparameter of \u001b[39m\u001b[38;5;132;01m{\u001b[39;00mfunc.\u001b[34m__qualname__\u001b[39m\u001b[38;5;132;01m}\u001b[39;00m\u001b[33m must be\u001b[39m\u001b[33m\"\u001b[39m,\n\u001b[32m    227\u001b[39m         \u001b[38;5;28mstr\u001b[39m(e),\n\u001b[32m    228\u001b[39m     )\n",
      "\u001b[36mFile \u001b[39m\u001b[32m/data/foundation_model/.venv/lib/python3.12/site-packages/sklearn/metrics/_classification.py:2970\u001b[39m, in \u001b[36mclassification_report\u001b[39m\u001b[34m(y_true, y_pred, labels, target_names, sample_weight, digits, output_dict, zero_division)\u001b[39m\n\u001b[32m   2964\u001b[39m         warnings.warn(\n\u001b[32m   2965\u001b[39m             \u001b[33m\"\u001b[39m\u001b[33mlabels size, \u001b[39m\u001b[38;5;132;01m{0}\u001b[39;00m\u001b[33m, does not match size of target_names, \u001b[39m\u001b[38;5;132;01m{1}\u001b[39;00m\u001b[33m\"\u001b[39m.format(\n\u001b[32m   2966\u001b[39m                 \u001b[38;5;28mlen\u001b[39m(labels), \u001b[38;5;28mlen\u001b[39m(target_names)\n\u001b[32m   2967\u001b[39m             )\n\u001b[32m   2968\u001b[39m         )\n\u001b[32m   2969\u001b[39m     \u001b[38;5;28;01melse\u001b[39;00m:\n\u001b[32m-> \u001b[39m\u001b[32m2970\u001b[39m         \u001b[38;5;28;01mraise\u001b[39;00m \u001b[38;5;167;01mValueError\u001b[39;00m(\n\u001b[32m   2971\u001b[39m             \u001b[33m\"\u001b[39m\u001b[33mNumber of classes, \u001b[39m\u001b[38;5;132;01m{0}\u001b[39;00m\u001b[33m, does not match size of \u001b[39m\u001b[33m\"\u001b[39m\n\u001b[32m   2972\u001b[39m             \u001b[33m\"\u001b[39m\u001b[33mtarget_names, \u001b[39m\u001b[38;5;132;01m{1}\u001b[39;00m\u001b[33m. Try specifying the labels \u001b[39m\u001b[33m\"\u001b[39m\n\u001b[32m   2973\u001b[39m             \u001b[33m\"\u001b[39m\u001b[33mparameter\u001b[39m\u001b[33m\"\u001b[39m.format(\u001b[38;5;28mlen\u001b[39m(labels), \u001b[38;5;28mlen\u001b[39m(target_names))\n\u001b[32m   2974\u001b[39m         )\n\u001b[32m   2975\u001b[39m \u001b[38;5;28;01mif\u001b[39;00m target_names \u001b[38;5;129;01mis\u001b[39;00m \u001b[38;5;28;01mNone\u001b[39;00m:\n\u001b[32m   2976\u001b[39m     target_names = [\u001b[33m\"\u001b[39m\u001b[38;5;132;01m%s\u001b[39;00m\u001b[33m\"\u001b[39m % l \u001b[38;5;28;01mfor\u001b[39;00m l \u001b[38;5;129;01min\u001b[39;00m labels]\n",
      "\u001b[31mValueError\u001b[39m: Number of classes, 4, does not match size of target_names, 5. Try specifying the labels parameter"
     ]
    },
    {
     "data": {
      "text/plain": [
       "<Figure size 2730x1040 with 0 Axes>"
      ]
     },
     "metadata": {},
     "output_type": "display_data"
    },
    {
     "data": {
      "text/plain": [
       "<Figure size 3150x1200 with 0 Axes>"
      ]
     },
     "metadata": {},
     "output_type": "display_data"
    },
    {
     "data": {
      "text/plain": [
       "<Figure size 2730x1040 with 0 Axes>"
      ]
     },
     "metadata": {},
     "output_type": "display_data"
    },
    {
     "data": {
      "text/plain": [
       "<Figure size 3150x1200 with 0 Axes>"
      ]
     },
     "metadata": {},
     "output_type": "display_data"
    },
    {
     "data": {
      "text/plain": [
       "<Figure size 2730x1040 with 0 Axes>"
      ]
     },
     "metadata": {},
     "output_type": "display_data"
    },
    {
     "data": {
      "text/plain": [
       "<Figure size 3150x1200 with 0 Axes>"
      ]
     },
     "metadata": {},
     "output_type": "display_data"
    },
    {
     "data": {
      "text/plain": [
       "<Figure size 2730x1040 with 0 Axes>"
      ]
     },
     "metadata": {},
     "output_type": "display_data"
    },
    {
     "data": {
      "text/plain": [
       "<Figure size 3150x1200 with 0 Axes>"
      ]
     },
     "metadata": {},
     "output_type": "display_data"
    },
    {
     "data": {
      "text/plain": [
       "<Figure size 2730x1040 with 0 Axes>"
      ]
     },
     "metadata": {},
     "output_type": "display_data"
    },
    {
     "data": {
      "text/plain": [
       "<Figure size 3150x1200 with 0 Axes>"
      ]
     },
     "metadata": {},
     "output_type": "display_data"
    },
    {
     "data": {
      "text/plain": [
       "<Figure size 2730x1040 with 0 Axes>"
      ]
     },
     "metadata": {},
     "output_type": "display_data"
    },
    {
     "data": {
      "text/plain": [
       "<Figure size 3150x1200 with 0 Axes>"
      ]
     },
     "metadata": {},
     "output_type": "display_data"
    },
    {
     "data": {
      "text/plain": [
       "<Figure size 2730x1040 with 0 Axes>"
      ]
     },
     "metadata": {},
     "output_type": "display_data"
    },
    {
     "data": {
      "text/plain": [
       "<Figure size 3150x1200 with 0 Axes>"
      ]
     },
     "metadata": {},
     "output_type": "display_data"
    },
    {
     "data": {
      "text/plain": [
       "<Figure size 2730x1040 with 0 Axes>"
      ]
     },
     "metadata": {},
     "output_type": "display_data"
    },
    {
     "data": {
      "text/plain": [
       "<Figure size 3150x1200 with 0 Axes>"
      ]
     },
     "metadata": {},
     "output_type": "display_data"
    },
    {
     "data": {
      "text/plain": [
       "<Figure size 2730x1040 with 0 Axes>"
      ]
     },
     "metadata": {},
     "output_type": "display_data"
    },
    {
     "data": {
      "text/plain": [
       "<Figure size 3150x1200 with 0 Axes>"
      ]
     },
     "metadata": {},
     "output_type": "display_data"
    },
    {
     "data": {
      "text/plain": [
       "<Figure size 2730x1040 with 0 Axes>"
      ]
     },
     "metadata": {},
     "output_type": "display_data"
    },
    {
     "data": {
      "text/plain": [
       "<Figure size 3150x1200 with 0 Axes>"
      ]
     },
     "metadata": {},
     "output_type": "display_data"
    },
    {
     "data": {
      "text/plain": [
       "<Figure size 2730x1040 with 0 Axes>"
      ]
     },
     "metadata": {},
     "output_type": "display_data"
    },
    {
     "data": {
      "text/plain": [
       "<Figure size 3150x1200 with 0 Axes>"
      ]
     },
     "metadata": {},
     "output_type": "display_data"
    },
    {
     "data": {
      "text/plain": [
       "<Figure size 2730x1040 with 0 Axes>"
      ]
     },
     "metadata": {},
     "output_type": "display_data"
    },
    {
     "data": {
      "text/plain": [
       "<Figure size 3150x1200 with 0 Axes>"
      ]
     },
     "metadata": {},
     "output_type": "display_data"
    },
    {
     "data": {
      "text/plain": [
       "<Figure size 2730x1040 with 0 Axes>"
      ]
     },
     "metadata": {},
     "output_type": "display_data"
    },
    {
     "data": {
      "text/plain": [
       "<Figure size 3150x1200 with 0 Axes>"
      ]
     },
     "metadata": {},
     "output_type": "display_data"
    },
    {
     "data": {
      "text/plain": [
       "<Figure size 2730x1040 with 0 Axes>"
      ]
     },
     "metadata": {},
     "output_type": "display_data"
    },
    {
     "data": {
      "text/plain": [
       "<Figure size 3150x1200 with 0 Axes>"
      ]
     },
     "metadata": {},
     "output_type": "display_data"
    },
    {
     "data": {
      "text/plain": [
       "<Figure size 2730x1040 with 0 Axes>"
      ]
     },
     "metadata": {},
     "output_type": "display_data"
    },
    {
     "data": {
      "text/plain": [
       "<Figure size 3150x1200 with 0 Axes>"
      ]
     },
     "metadata": {},
     "output_type": "display_data"
    },
    {
     "data": {
      "text/plain": [
       "<Figure size 2730x1040 with 0 Axes>"
      ]
     },
     "metadata": {},
     "output_type": "display_data"
    },
    {
     "data": {
      "text/plain": [
       "<Figure size 3150x1200 with 0 Axes>"
      ]
     },
     "metadata": {},
     "output_type": "display_data"
    },
    {
     "data": {
      "text/plain": [
       "<Figure size 2730x1040 with 0 Axes>"
      ]
     },
     "metadata": {},
     "output_type": "display_data"
    },
    {
     "data": {
      "text/plain": [
       "<Figure size 3150x1200 with 0 Axes>"
      ]
     },
     "metadata": {},
     "output_type": "display_data"
    },
    {
     "data": {
      "text/plain": [
       "<Figure size 2730x1040 with 0 Axes>"
      ]
     },
     "metadata": {},
     "output_type": "display_data"
    },
    {
     "data": {
      "text/plain": [
       "<Figure size 3150x1200 with 0 Axes>"
      ]
     },
     "metadata": {},
     "output_type": "display_data"
    },
    {
     "data": {
      "text/plain": [
       "<Figure size 2730x1040 with 0 Axes>"
      ]
     },
     "metadata": {},
     "output_type": "display_data"
    },
    {
     "data": {
      "text/plain": [
       "<Figure size 3150x1200 with 0 Axes>"
      ]
     },
     "metadata": {},
     "output_type": "display_data"
    },
    {
     "data": {
      "text/plain": [
       "<Figure size 2730x1040 with 0 Axes>"
      ]
     },
     "metadata": {},
     "output_type": "display_data"
    },
    {
     "data": {
      "text/plain": [
       "<Figure size 3150x1200 with 0 Axes>"
      ]
     },
     "metadata": {},
     "output_type": "display_data"
    },
    {
     "data": {
      "text/plain": [
       "<Figure size 2730x1040 with 0 Axes>"
      ]
     },
     "metadata": {},
     "output_type": "display_data"
    },
    {
     "data": {
      "text/plain": [
       "<Figure size 3150x1200 with 0 Axes>"
      ]
     },
     "metadata": {},
     "output_type": "display_data"
    },
    {
     "data": {
      "text/plain": [
       "<Figure size 2730x1040 with 0 Axes>"
      ]
     },
     "metadata": {},
     "output_type": "display_data"
    },
    {
     "data": {
      "text/plain": [
       "<Figure size 3150x1200 with 0 Axes>"
      ]
     },
     "metadata": {},
     "output_type": "display_data"
    },
    {
     "data": {
      "text/plain": [
       "<Figure size 2730x1040 with 0 Axes>"
      ]
     },
     "metadata": {},
     "output_type": "display_data"
    },
    {
     "data": {
      "text/plain": [
       "<Figure size 3150x1200 with 0 Axes>"
      ]
     },
     "metadata": {},
     "output_type": "display_data"
    },
    {
     "data": {
      "text/plain": [
       "<Figure size 2730x1040 with 0 Axes>"
      ]
     },
     "metadata": {},
     "output_type": "display_data"
    },
    {
     "data": {
      "text/plain": [
       "<Figure size 3150x1200 with 0 Axes>"
      ]
     },
     "metadata": {},
     "output_type": "display_data"
    },
    {
     "data": {
      "text/plain": [
       "<Figure size 2730x1040 with 0 Axes>"
      ]
     },
     "metadata": {},
     "output_type": "display_data"
    },
    {
     "data": {
      "text/plain": [
       "<Figure size 3150x1200 with 0 Axes>"
      ]
     },
     "metadata": {},
     "output_type": "display_data"
    },
    {
     "data": {
      "text/plain": [
       "<Figure size 2730x1040 with 0 Axes>"
      ]
     },
     "metadata": {},
     "output_type": "display_data"
    },
    {
     "data": {
      "text/plain": [
       "<Figure size 3150x1200 with 0 Axes>"
      ]
     },
     "metadata": {},
     "output_type": "display_data"
    },
    {
     "data": {
      "text/plain": [
       "<Figure size 2730x1040 with 0 Axes>"
      ]
     },
     "metadata": {},
     "output_type": "display_data"
    },
    {
     "data": {
      "text/plain": [
       "<Figure size 3150x1200 with 0 Axes>"
      ]
     },
     "metadata": {},
     "output_type": "display_data"
    },
    {
     "data": {
      "text/plain": [
       "<Figure size 2730x1040 with 0 Axes>"
      ]
     },
     "metadata": {},
     "output_type": "display_data"
    },
    {
     "data": {
      "text/plain": [
       "<Figure size 3150x1200 with 0 Axes>"
      ]
     },
     "metadata": {},
     "output_type": "display_data"
    },
    {
     "data": {
      "text/plain": [
       "<Figure size 2730x1040 with 0 Axes>"
      ]
     },
     "metadata": {},
     "output_type": "display_data"
    },
    {
     "data": {
      "text/plain": [
       "<Figure size 3150x1200 with 0 Axes>"
      ]
     },
     "metadata": {},
     "output_type": "display_data"
    },
    {
     "data": {
      "text/plain": [
       "<Figure size 2730x1040 with 0 Axes>"
      ]
     },
     "metadata": {},
     "output_type": "display_data"
    },
    {
     "data": {
      "text/plain": [
       "<Figure size 3150x1200 with 0 Axes>"
      ]
     },
     "metadata": {},
     "output_type": "display_data"
    },
    {
     "data": {
      "text/plain": [
       "<Figure size 2730x1040 with 0 Axes>"
      ]
     },
     "metadata": {},
     "output_type": "display_data"
    },
    {
     "data": {
      "text/plain": [
       "<Figure size 3150x1200 with 0 Axes>"
      ]
     },
     "metadata": {},
     "output_type": "display_data"
    },
    {
     "data": {
      "text/plain": [
       "<Figure size 2730x1040 with 0 Axes>"
      ]
     },
     "metadata": {},
     "output_type": "display_data"
    },
    {
     "data": {
      "text/plain": [
       "<Figure size 3150x1200 with 0 Axes>"
      ]
     },
     "metadata": {},
     "output_type": "display_data"
    },
    {
     "data": {
      "text/plain": [
       "<Figure size 2730x1040 with 0 Axes>"
      ]
     },
     "metadata": {},
     "output_type": "display_data"
    },
    {
     "data": {
      "text/plain": [
       "<Figure size 3150x1200 with 0 Axes>"
      ]
     },
     "metadata": {},
     "output_type": "display_data"
    },
    {
     "data": {
      "text/plain": [
       "<Figure size 2730x1040 with 0 Axes>"
      ]
     },
     "metadata": {},
     "output_type": "display_data"
    },
    {
     "data": {
      "text/plain": [
       "<Figure size 3150x1200 with 0 Axes>"
      ]
     },
     "metadata": {},
     "output_type": "display_data"
    },
    {
     "data": {
      "text/plain": [
       "<Figure size 2730x1040 with 0 Axes>"
      ]
     },
     "metadata": {},
     "output_type": "display_data"
    },
    {
     "data": {
      "text/plain": [
       "<Figure size 3150x1200 with 0 Axes>"
      ]
     },
     "metadata": {},
     "output_type": "display_data"
    },
    {
     "data": {
      "text/plain": [
       "<Figure size 2730x1040 with 0 Axes>"
      ]
     },
     "metadata": {},
     "output_type": "display_data"
    },
    {
     "data": {
      "text/plain": [
       "<Figure size 3150x1200 with 0 Axes>"
      ]
     },
     "metadata": {},
     "output_type": "display_data"
    },
    {
     "data": {
      "text/plain": [
       "<Figure size 2730x1040 with 0 Axes>"
      ]
     },
     "metadata": {},
     "output_type": "display_data"
    },
    {
     "data": {
      "text/plain": [
       "<Figure size 3150x1200 with 0 Axes>"
      ]
     },
     "metadata": {},
     "output_type": "display_data"
    },
    {
     "data": {
      "text/plain": [
       "<Figure size 2730x1040 with 0 Axes>"
      ]
     },
     "metadata": {},
     "output_type": "display_data"
    },
    {
     "data": {
      "text/plain": [
       "<Figure size 3150x1200 with 0 Axes>"
      ]
     },
     "metadata": {},
     "output_type": "display_data"
    },
    {
     "data": {
      "text/plain": [
       "<Figure size 2730x1040 with 0 Axes>"
      ]
     },
     "metadata": {},
     "output_type": "display_data"
    },
    {
     "data": {
      "text/plain": [
       "<Figure size 3150x1200 with 0 Axes>"
      ]
     },
     "metadata": {},
     "output_type": "display_data"
    },
    {
     "data": {
      "text/plain": [
       "<Figure size 2730x1040 with 0 Axes>"
      ]
     },
     "metadata": {},
     "output_type": "display_data"
    },
    {
     "data": {
      "text/plain": [
       "<Figure size 3150x1200 with 0 Axes>"
      ]
     },
     "metadata": {},
     "output_type": "display_data"
    },
    {
     "data": {
      "text/plain": [
       "<Figure size 2730x1040 with 0 Axes>"
      ]
     },
     "metadata": {},
     "output_type": "display_data"
    },
    {
     "data": {
      "text/plain": [
       "<Figure size 3150x1200 with 0 Axes>"
      ]
     },
     "metadata": {},
     "output_type": "display_data"
    },
    {
     "data": {
      "text/plain": [
       "<Figure size 2730x1040 with 0 Axes>"
      ]
     },
     "metadata": {},
     "output_type": "display_data"
    },
    {
     "data": {
      "text/plain": [
       "<Figure size 3150x1200 with 0 Axes>"
      ]
     },
     "metadata": {},
     "output_type": "display_data"
    },
    {
     "data": {
      "text/plain": [
       "<Figure size 2730x1040 with 0 Axes>"
      ]
     },
     "metadata": {},
     "output_type": "display_data"
    },
    {
     "data": {
      "text/plain": [
       "<Figure size 3150x1200 with 0 Axes>"
      ]
     },
     "metadata": {},
     "output_type": "display_data"
    },
    {
     "data": {
      "text/plain": [
       "<Figure size 2730x1040 with 0 Axes>"
      ]
     },
     "metadata": {},
     "output_type": "display_data"
    },
    {
     "data": {
      "text/plain": [
       "<Figure size 3150x1200 with 0 Axes>"
      ]
     },
     "metadata": {},
     "output_type": "display_data"
    },
    {
     "data": {
      "text/plain": [
       "<Figure size 2730x1040 with 0 Axes>"
      ]
     },
     "metadata": {},
     "output_type": "display_data"
    },
    {
     "data": {
      "text/plain": [
       "<Figure size 3150x1200 with 0 Axes>"
      ]
     },
     "metadata": {},
     "output_type": "display_data"
    },
    {
     "data": {
      "text/plain": [
       "<Figure size 2730x1040 with 0 Axes>"
      ]
     },
     "metadata": {},
     "output_type": "display_data"
    },
    {
     "data": {
      "text/plain": [
       "<Figure size 3150x1200 with 0 Axes>"
      ]
     },
     "metadata": {},
     "output_type": "display_data"
    },
    {
     "data": {
      "text/plain": [
       "<Figure size 2730x1040 with 0 Axes>"
      ]
     },
     "metadata": {},
     "output_type": "display_data"
    },
    {
     "data": {
      "text/plain": [
       "<Figure size 3150x1200 with 0 Axes>"
      ]
     },
     "metadata": {},
     "output_type": "display_data"
    },
    {
     "data": {
      "text/plain": [
       "<Figure size 2730x1040 with 0 Axes>"
      ]
     },
     "metadata": {},
     "output_type": "display_data"
    },
    {
     "data": {
      "text/plain": [
       "<Figure size 3150x1200 with 0 Axes>"
      ]
     },
     "metadata": {},
     "output_type": "display_data"
    },
    {
     "data": {
      "text/plain": [
       "<Figure size 2730x1040 with 0 Axes>"
      ]
     },
     "metadata": {},
     "output_type": "display_data"
    },
    {
     "data": {
      "text/plain": [
       "<Figure size 3150x1200 with 0 Axes>"
      ]
     },
     "metadata": {},
     "output_type": "display_data"
    },
    {
     "data": {
      "text/plain": [
       "<Figure size 2730x1040 with 0 Axes>"
      ]
     },
     "metadata": {},
     "output_type": "display_data"
    },
    {
     "data": {
      "text/plain": [
       "<Figure size 3150x1200 with 0 Axes>"
      ]
     },
     "metadata": {},
     "output_type": "display_data"
    },
    {
     "data": {
      "text/plain": [
       "<Figure size 2730x1040 with 0 Axes>"
      ]
     },
     "metadata": {},
     "output_type": "display_data"
    },
    {
     "data": {
      "text/plain": [
       "<Figure size 3150x1200 with 0 Axes>"
      ]
     },
     "metadata": {},
     "output_type": "display_data"
    },
    {
     "data": {
      "text/plain": [
       "<Figure size 2730x1040 with 0 Axes>"
      ]
     },
     "metadata": {},
     "output_type": "display_data"
    },
    {
     "data": {
      "text/plain": [
       "<Figure size 3150x1200 with 0 Axes>"
      ]
     },
     "metadata": {},
     "output_type": "display_data"
    },
    {
     "data": {
      "text/plain": [
       "<Figure size 2730x1040 with 0 Axes>"
      ]
     },
     "metadata": {},
     "output_type": "display_data"
    },
    {
     "data": {
      "text/plain": [
       "<Figure size 3150x1200 with 0 Axes>"
      ]
     },
     "metadata": {},
     "output_type": "display_data"
    },
    {
     "data": {
      "text/plain": [
       "<Figure size 2730x1040 with 0 Axes>"
      ]
     },
     "metadata": {},
     "output_type": "display_data"
    },
    {
     "data": {
      "text/plain": [
       "<Figure size 3150x1200 with 0 Axes>"
      ]
     },
     "metadata": {},
     "output_type": "display_data"
    },
    {
     "data": {
      "text/plain": [
       "<Figure size 2730x1040 with 0 Axes>"
      ]
     },
     "metadata": {},
     "output_type": "display_data"
    },
    {
     "data": {
      "text/plain": [
       "<Figure size 3150x1200 with 0 Axes>"
      ]
     },
     "metadata": {},
     "output_type": "display_data"
    },
    {
     "data": {
      "text/plain": [
       "<Figure size 2730x1040 with 0 Axes>"
      ]
     },
     "metadata": {},
     "output_type": "display_data"
    },
    {
     "data": {
      "text/plain": [
       "<Figure size 3150x1200 with 0 Axes>"
      ]
     },
     "metadata": {},
     "output_type": "display_data"
    },
    {
     "data": {
      "text/plain": [
       "<Figure size 2730x1040 with 0 Axes>"
      ]
     },
     "metadata": {},
     "output_type": "display_data"
    },
    {
     "data": {
      "text/plain": [
       "<Figure size 3150x1200 with 0 Axes>"
      ]
     },
     "metadata": {},
     "output_type": "display_data"
    },
    {
     "data": {
      "text/plain": [
       "<Figure size 2730x1040 with 0 Axes>"
      ]
     },
     "metadata": {},
     "output_type": "display_data"
    },
    {
     "data": {
      "text/plain": [
       "<Figure size 3150x1200 with 0 Axes>"
      ]
     },
     "metadata": {},
     "output_type": "display_data"
    },
    {
     "data": {
      "text/plain": [
       "<Figure size 2730x1040 with 0 Axes>"
      ]
     },
     "metadata": {},
     "output_type": "display_data"
    },
    {
     "data": {
      "text/plain": [
       "<Figure size 3150x1200 with 0 Axes>"
      ]
     },
     "metadata": {},
     "output_type": "display_data"
    },
    {
     "data": {
      "text/plain": [
       "<Figure size 2730x1040 with 0 Axes>"
      ]
     },
     "metadata": {},
     "output_type": "display_data"
    },
    {
     "data": {
      "text/plain": [
       "<Figure size 3150x1200 with 0 Axes>"
      ]
     },
     "metadata": {},
     "output_type": "display_data"
    },
    {
     "data": {
      "text/plain": [
       "<Figure size 2730x1040 with 0 Axes>"
      ]
     },
     "metadata": {},
     "output_type": "display_data"
    },
    {
     "data": {
      "text/plain": [
       "<Figure size 3150x1200 with 0 Axes>"
      ]
     },
     "metadata": {},
     "output_type": "display_data"
    },
    {
     "data": {
      "text/plain": [
       "<Figure size 2730x1040 with 0 Axes>"
      ]
     },
     "metadata": {},
     "output_type": "display_data"
    },
    {
     "data": {
      "text/plain": [
       "<Figure size 3150x1200 with 0 Axes>"
      ]
     },
     "metadata": {},
     "output_type": "display_data"
    },
    {
     "data": {
      "text/plain": [
       "<Figure size 2730x1040 with 0 Axes>"
      ]
     },
     "metadata": {},
     "output_type": "display_data"
    },
    {
     "data": {
      "text/plain": [
       "<Figure size 3150x1200 with 0 Axes>"
      ]
     },
     "metadata": {},
     "output_type": "display_data"
    },
    {
     "data": {
      "text/plain": [
       "<Figure size 2730x1040 with 0 Axes>"
      ]
     },
     "metadata": {},
     "output_type": "display_data"
    },
    {
     "data": {
      "text/plain": [
       "<Figure size 3150x1200 with 0 Axes>"
      ]
     },
     "metadata": {},
     "output_type": "display_data"
    },
    {
     "data": {
      "text/plain": [
       "<Figure size 2730x1040 with 0 Axes>"
      ]
     },
     "metadata": {},
     "output_type": "display_data"
    },
    {
     "data": {
      "text/plain": [
       "<Figure size 3150x1200 with 0 Axes>"
      ]
     },
     "metadata": {},
     "output_type": "display_data"
    },
    {
     "data": {
      "text/plain": [
       "<Figure size 2730x1040 with 0 Axes>"
      ]
     },
     "metadata": {},
     "output_type": "display_data"
    },
    {
     "data": {
      "text/plain": [
       "<Figure size 3150x1200 with 0 Axes>"
      ]
     },
     "metadata": {},
     "output_type": "display_data"
    },
    {
     "data": {
      "text/plain": [
       "<Figure size 2730x1040 with 0 Axes>"
      ]
     },
     "metadata": {},
     "output_type": "display_data"
    },
    {
     "data": {
      "text/plain": [
       "<Figure size 3150x1200 with 0 Axes>"
      ]
     },
     "metadata": {},
     "output_type": "display_data"
    },
    {
     "data": {
      "text/plain": [
       "<Figure size 2730x1040 with 0 Axes>"
      ]
     },
     "metadata": {},
     "output_type": "display_data"
    },
    {
     "data": {
      "text/plain": [
       "<Figure size 3150x1200 with 0 Axes>"
      ]
     },
     "metadata": {},
     "output_type": "display_data"
    },
    {
     "data": {
      "text/plain": [
       "<Figure size 2730x1040 with 0 Axes>"
      ]
     },
     "metadata": {},
     "output_type": "display_data"
    },
    {
     "data": {
      "text/plain": [
       "<Figure size 3150x1200 with 0 Axes>"
      ]
     },
     "metadata": {},
     "output_type": "display_data"
    },
    {
     "data": {
      "text/plain": [
       "<Figure size 2730x1040 with 0 Axes>"
      ]
     },
     "metadata": {},
     "output_type": "display_data"
    },
    {
     "data": {
      "text/plain": [
       "<Figure size 3150x1200 with 0 Axes>"
      ]
     },
     "metadata": {},
     "output_type": "display_data"
    },
    {
     "data": {
      "text/plain": [
       "<Figure size 2730x1040 with 0 Axes>"
      ]
     },
     "metadata": {},
     "output_type": "display_data"
    },
    {
     "data": {
      "text/plain": [
       "<Figure size 3150x1200 with 0 Axes>"
      ]
     },
     "metadata": {},
     "output_type": "display_data"
    },
    {
     "data": {
      "text/plain": [
       "<Figure size 2730x1040 with 0 Axes>"
      ]
     },
     "metadata": {},
     "output_type": "display_data"
    },
    {
     "data": {
      "text/plain": [
       "<Figure size 3150x1200 with 0 Axes>"
      ]
     },
     "metadata": {},
     "output_type": "display_data"
    },
    {
     "data": {
      "text/plain": [
       "<Figure size 2730x1040 with 0 Axes>"
      ]
     },
     "metadata": {},
     "output_type": "display_data"
    },
    {
     "data": {
      "text/plain": [
       "<Figure size 3150x1200 with 0 Axes>"
      ]
     },
     "metadata": {},
     "output_type": "display_data"
    },
    {
     "data": {
      "text/plain": [
       "<Figure size 2730x1040 with 0 Axes>"
      ]
     },
     "metadata": {},
     "output_type": "display_data"
    },
    {
     "data": {
      "text/plain": [
       "<Figure size 3150x1200 with 0 Axes>"
      ]
     },
     "metadata": {},
     "output_type": "display_data"
    },
    {
     "data": {
      "text/plain": [
       "<Figure size 2730x1040 with 0 Axes>"
      ]
     },
     "metadata": {},
     "output_type": "display_data"
    },
    {
     "data": {
      "text/plain": [
       "<Figure size 3150x1200 with 0 Axes>"
      ]
     },
     "metadata": {},
     "output_type": "display_data"
    },
    {
     "data": {
      "text/plain": [
       "<Figure size 2730x1040 with 0 Axes>"
      ]
     },
     "metadata": {},
     "output_type": "display_data"
    },
    {
     "data": {
      "text/plain": [
       "<Figure size 3150x1200 with 0 Axes>"
      ]
     },
     "metadata": {},
     "output_type": "display_data"
    },
    {
     "data": {
      "text/plain": [
       "<Figure size 2730x1040 with 0 Axes>"
      ]
     },
     "metadata": {},
     "output_type": "display_data"
    },
    {
     "data": {
      "text/plain": [
       "<Figure size 3150x1200 with 0 Axes>"
      ]
     },
     "metadata": {},
     "output_type": "display_data"
    },
    {
     "data": {
      "text/plain": [
       "<Figure size 2730x1040 with 0 Axes>"
      ]
     },
     "metadata": {},
     "output_type": "display_data"
    },
    {
     "data": {
      "text/plain": [
       "<Figure size 3150x1200 with 0 Axes>"
      ]
     },
     "metadata": {},
     "output_type": "display_data"
    },
    {
     "data": {
      "text/plain": [
       "<Figure size 2730x1040 with 0 Axes>"
      ]
     },
     "metadata": {},
     "output_type": "display_data"
    },
    {
     "data": {
      "text/plain": [
       "<Figure size 3150x1200 with 0 Axes>"
      ]
     },
     "metadata": {},
     "output_type": "display_data"
    },
    {
     "data": {
      "text/plain": [
       "<Figure size 2730x1040 with 0 Axes>"
      ]
     },
     "metadata": {},
     "output_type": "display_data"
    },
    {
     "data": {
      "text/plain": [
       "<Figure size 3150x1200 with 0 Axes>"
      ]
     },
     "metadata": {},
     "output_type": "display_data"
    },
    {
     "data": {
      "text/plain": [
       "<Figure size 2730x1040 with 0 Axes>"
      ]
     },
     "metadata": {},
     "output_type": "display_data"
    },
    {
     "data": {
      "text/plain": [
       "<Figure size 3150x1200 with 0 Axes>"
      ]
     },
     "metadata": {},
     "output_type": "display_data"
    },
    {
     "data": {
      "text/plain": [
       "<Figure size 2730x1040 with 0 Axes>"
      ]
     },
     "metadata": {},
     "output_type": "display_data"
    },
    {
     "data": {
      "text/plain": [
       "<Figure size 3150x1200 with 0 Axes>"
      ]
     },
     "metadata": {},
     "output_type": "display_data"
    },
    {
     "data": {
      "text/plain": [
       "<Figure size 2730x1040 with 0 Axes>"
      ]
     },
     "metadata": {},
     "output_type": "display_data"
    },
    {
     "data": {
      "text/plain": [
       "<Figure size 3150x1200 with 0 Axes>"
      ]
     },
     "metadata": {},
     "output_type": "display_data"
    },
    {
     "data": {
      "text/plain": [
       "<Figure size 2730x1040 with 0 Axes>"
      ]
     },
     "metadata": {},
     "output_type": "display_data"
    },
    {
     "data": {
      "text/plain": [
       "<Figure size 3150x1200 with 0 Axes>"
      ]
     },
     "metadata": {},
     "output_type": "display_data"
    },
    {
     "data": {
      "text/plain": [
       "<Figure size 2730x1040 with 0 Axes>"
      ]
     },
     "metadata": {},
     "output_type": "display_data"
    },
    {
     "data": {
      "text/plain": [
       "<Figure size 3150x1200 with 0 Axes>"
      ]
     },
     "metadata": {},
     "output_type": "display_data"
    },
    {
     "data": {
      "text/plain": [
       "<Figure size 2730x1040 with 0 Axes>"
      ]
     },
     "metadata": {},
     "output_type": "display_data"
    },
    {
     "data": {
      "text/plain": [
       "<Figure size 3150x1200 with 0 Axes>"
      ]
     },
     "metadata": {},
     "output_type": "display_data"
    },
    {
     "data": {
      "text/plain": [
       "<Figure size 2730x1040 with 0 Axes>"
      ]
     },
     "metadata": {},
     "output_type": "display_data"
    },
    {
     "data": {
      "text/plain": [
       "<Figure size 3150x1200 with 0 Axes>"
      ]
     },
     "metadata": {},
     "output_type": "display_data"
    },
    {
     "data": {
      "text/plain": [
       "<Figure size 2730x1040 with 0 Axes>"
      ]
     },
     "metadata": {},
     "output_type": "display_data"
    },
    {
     "data": {
      "text/plain": [
       "<Figure size 3150x1200 with 0 Axes>"
      ]
     },
     "metadata": {},
     "output_type": "display_data"
    },
    {
     "data": {
      "text/plain": [
       "<Figure size 2730x1040 with 0 Axes>"
      ]
     },
     "metadata": {},
     "output_type": "display_data"
    },
    {
     "data": {
      "text/plain": [
       "<Figure size 3150x1200 with 0 Axes>"
      ]
     },
     "metadata": {},
     "output_type": "display_data"
    },
    {
     "data": {
      "text/plain": [
       "<Figure size 2730x1040 with 0 Axes>"
      ]
     },
     "metadata": {},
     "output_type": "display_data"
    },
    {
     "data": {
      "text/plain": [
       "<Figure size 3150x1200 with 0 Axes>"
      ]
     },
     "metadata": {},
     "output_type": "display_data"
    },
    {
     "data": {
      "text/plain": [
       "<Figure size 2730x1040 with 0 Axes>"
      ]
     },
     "metadata": {},
     "output_type": "display_data"
    },
    {
     "data": {
      "text/plain": [
       "<Figure size 3150x1200 with 0 Axes>"
      ]
     },
     "metadata": {},
     "output_type": "display_data"
    },
    {
     "data": {
      "text/plain": [
       "<Figure size 2730x1040 with 0 Axes>"
      ]
     },
     "metadata": {},
     "output_type": "display_data"
    },
    {
     "data": {
      "text/plain": [
       "<Figure size 3150x1200 with 0 Axes>"
      ]
     },
     "metadata": {},
     "output_type": "display_data"
    },
    {
     "data": {
      "text/plain": [
       "<Figure size 2730x1040 with 0 Axes>"
      ]
     },
     "metadata": {},
     "output_type": "display_data"
    },
    {
     "data": {
      "text/plain": [
       "<Figure size 3150x1200 with 0 Axes>"
      ]
     },
     "metadata": {},
     "output_type": "display_data"
    },
    {
     "data": {
      "text/plain": [
       "<Figure size 2730x1040 with 0 Axes>"
      ]
     },
     "metadata": {},
     "output_type": "display_data"
    },
    {
     "data": {
      "text/plain": [
       "<Figure size 3150x1200 with 0 Axes>"
      ]
     },
     "metadata": {},
     "output_type": "display_data"
    },
    {
     "data": {
      "text/plain": [
       "<Figure size 2730x1040 with 0 Axes>"
      ]
     },
     "metadata": {},
     "output_type": "display_data"
    },
    {
     "data": {
      "text/plain": [
       "<Figure size 3150x1200 with 0 Axes>"
      ]
     },
     "metadata": {},
     "output_type": "display_data"
    },
    {
     "data": {
      "text/plain": [
       "<Figure size 2730x1040 with 0 Axes>"
      ]
     },
     "metadata": {},
     "output_type": "display_data"
    },
    {
     "data": {
      "text/plain": [
       "<Figure size 3150x1200 with 0 Axes>"
      ]
     },
     "metadata": {},
     "output_type": "display_data"
    },
    {
     "data": {
      "text/plain": [
       "<Figure size 2730x1040 with 0 Axes>"
      ]
     },
     "metadata": {},
     "output_type": "display_data"
    },
    {
     "data": {
      "text/plain": [
       "<Figure size 3150x1200 with 0 Axes>"
      ]
     },
     "metadata": {},
     "output_type": "display_data"
    },
    {
     "data": {
      "text/plain": [
       "<Figure size 2730x1040 with 0 Axes>"
      ]
     },
     "metadata": {},
     "output_type": "display_data"
    },
    {
     "data": {
      "text/plain": [
       "<Figure size 3150x1200 with 0 Axes>"
      ]
     },
     "metadata": {},
     "output_type": "display_data"
    },
    {
     "data": {
      "text/plain": [
       "<Figure size 2730x1040 with 0 Axes>"
      ]
     },
     "metadata": {},
     "output_type": "display_data"
    },
    {
     "data": {
      "text/plain": [
       "<Figure size 3150x1200 with 0 Axes>"
      ]
     },
     "metadata": {},
     "output_type": "display_data"
    },
    {
     "data": {
      "text/plain": [
       "<Figure size 2730x1040 with 0 Axes>"
      ]
     },
     "metadata": {},
     "output_type": "display_data"
    },
    {
     "data": {
      "text/plain": [
       "<Figure size 3150x1200 with 0 Axes>"
      ]
     },
     "metadata": {},
     "output_type": "display_data"
    },
    {
     "data": {
      "text/plain": [
       "<Figure size 2730x1040 with 0 Axes>"
      ]
     },
     "metadata": {},
     "output_type": "display_data"
    },
    {
     "data": {
      "text/plain": [
       "<Figure size 3150x1200 with 0 Axes>"
      ]
     },
     "metadata": {},
     "output_type": "display_data"
    },
    {
     "data": {
      "text/plain": [
       "<Figure size 2730x1040 with 0 Axes>"
      ]
     },
     "metadata": {},
     "output_type": "display_data"
    },
    {
     "data": {
      "text/plain": [
       "<Figure size 3150x1200 with 0 Axes>"
      ]
     },
     "metadata": {},
     "output_type": "display_data"
    },
    {
     "data": {
      "text/plain": [
       "<Figure size 2730x1040 with 0 Axes>"
      ]
     },
     "metadata": {},
     "output_type": "display_data"
    },
    {
     "data": {
      "text/plain": [
       "<Figure size 3150x1200 with 0 Axes>"
      ]
     },
     "metadata": {},
     "output_type": "display_data"
    },
    {
     "data": {
      "text/plain": [
       "<Figure size 2730x1040 with 0 Axes>"
      ]
     },
     "metadata": {},
     "output_type": "display_data"
    },
    {
     "data": {
      "text/plain": [
       "<Figure size 3150x1200 with 0 Axes>"
      ]
     },
     "metadata": {},
     "output_type": "display_data"
    },
    {
     "data": {
      "text/plain": [
       "<Figure size 2730x1040 with 0 Axes>"
      ]
     },
     "metadata": {},
     "output_type": "display_data"
    },
    {
     "data": {
      "text/plain": [
       "<Figure size 3150x1200 with 0 Axes>"
      ]
     },
     "metadata": {},
     "output_type": "display_data"
    },
    {
     "data": {
      "text/plain": [
       "<Figure size 2730x1040 with 0 Axes>"
      ]
     },
     "metadata": {},
     "output_type": "display_data"
    },
    {
     "data": {
      "text/plain": [
       "<Figure size 3150x1200 with 0 Axes>"
      ]
     },
     "metadata": {},
     "output_type": "display_data"
    },
    {
     "data": {
      "text/plain": [
       "<Figure size 2730x1040 with 0 Axes>"
      ]
     },
     "metadata": {},
     "output_type": "display_data"
    },
    {
     "data": {
      "text/plain": [
       "<Figure size 3150x1200 with 0 Axes>"
      ]
     },
     "metadata": {},
     "output_type": "display_data"
    },
    {
     "data": {
      "text/plain": [
       "<Figure size 2730x1040 with 0 Axes>"
      ]
     },
     "metadata": {},
     "output_type": "display_data"
    },
    {
     "data": {
      "text/plain": [
       "<Figure size 3150x1200 with 0 Axes>"
      ]
     },
     "metadata": {},
     "output_type": "display_data"
    },
    {
     "data": {
      "text/plain": [
       "<Figure size 2730x1040 with 0 Axes>"
      ]
     },
     "metadata": {},
     "output_type": "display_data"
    },
    {
     "data": {
      "text/plain": [
       "<Figure size 3150x1200 with 0 Axes>"
      ]
     },
     "metadata": {},
     "output_type": "display_data"
    },
    {
     "data": {
      "text/plain": [
       "<Figure size 2730x1040 with 0 Axes>"
      ]
     },
     "metadata": {},
     "output_type": "display_data"
    },
    {
     "data": {
      "text/plain": [
       "<Figure size 3150x1200 with 0 Axes>"
      ]
     },
     "metadata": {},
     "output_type": "display_data"
    },
    {
     "data": {
      "text/plain": [
       "<Figure size 2730x1040 with 0 Axes>"
      ]
     },
     "metadata": {},
     "output_type": "display_data"
    },
    {
     "data": {
      "text/plain": [
       "<Figure size 3150x1200 with 0 Axes>"
      ]
     },
     "metadata": {},
     "output_type": "display_data"
    },
    {
     "data": {
      "text/plain": [
       "<Figure size 2730x1040 with 0 Axes>"
      ]
     },
     "metadata": {},
     "output_type": "display_data"
    },
    {
     "data": {
      "text/plain": [
       "<Figure size 3150x1200 with 0 Axes>"
      ]
     },
     "metadata": {},
     "output_type": "display_data"
    },
    {
     "data": {
      "text/plain": [
       "<Figure size 2730x1040 with 0 Axes>"
      ]
     },
     "metadata": {},
     "output_type": "display_data"
    },
    {
     "data": {
      "text/plain": [
       "<Figure size 3150x1200 with 0 Axes>"
      ]
     },
     "metadata": {},
     "output_type": "display_data"
    },
    {
     "data": {
      "text/plain": [
       "<Figure size 2730x1040 with 0 Axes>"
      ]
     },
     "metadata": {},
     "output_type": "display_data"
    },
    {
     "data": {
      "text/plain": [
       "<Figure size 3150x1200 with 0 Axes>"
      ]
     },
     "metadata": {},
     "output_type": "display_data"
    },
    {
     "data": {
      "text/plain": [
       "<Figure size 2730x1040 with 0 Axes>"
      ]
     },
     "metadata": {},
     "output_type": "display_data"
    },
    {
     "data": {
      "text/plain": [
       "<Figure size 3150x1200 with 0 Axes>"
      ]
     },
     "metadata": {},
     "output_type": "display_data"
    },
    {
     "data": {
      "text/plain": [
       "<Figure size 2730x1040 with 0 Axes>"
      ]
     },
     "metadata": {},
     "output_type": "display_data"
    },
    {
     "data": {
      "text/plain": [
       "<Figure size 3150x1200 with 0 Axes>"
      ]
     },
     "metadata": {},
     "output_type": "display_data"
    },
    {
     "data": {
      "text/plain": [
       "<Figure size 2730x1040 with 0 Axes>"
      ]
     },
     "metadata": {},
     "output_type": "display_data"
    },
    {
     "data": {
      "text/plain": [
       "<Figure size 3150x1200 with 0 Axes>"
      ]
     },
     "metadata": {},
     "output_type": "display_data"
    },
    {
     "data": {
      "text/plain": [
       "<Figure size 2730x1040 with 0 Axes>"
      ]
     },
     "metadata": {},
     "output_type": "display_data"
    },
    {
     "data": {
      "text/plain": [
       "<Figure size 3150x1200 with 0 Axes>"
      ]
     },
     "metadata": {},
     "output_type": "display_data"
    },
    {
     "data": {
      "text/plain": [
       "<Figure size 2730x1040 with 0 Axes>"
      ]
     },
     "metadata": {},
     "output_type": "display_data"
    },
    {
     "data": {
      "text/plain": [
       "<Figure size 3150x1200 with 0 Axes>"
      ]
     },
     "metadata": {},
     "output_type": "display_data"
    },
    {
     "data": {
      "text/plain": [
       "<Figure size 2730x1040 with 0 Axes>"
      ]
     },
     "metadata": {},
     "output_type": "display_data"
    },
    {
     "data": {
      "text/plain": [
       "<Figure size 3150x1200 with 0 Axes>"
      ]
     },
     "metadata": {},
     "output_type": "display_data"
    },
    {
     "data": {
      "text/plain": [
       "<Figure size 2730x1040 with 0 Axes>"
      ]
     },
     "metadata": {},
     "output_type": "display_data"
    },
    {
     "data": {
      "text/plain": [
       "<Figure size 3150x1200 with 0 Axes>"
      ]
     },
     "metadata": {},
     "output_type": "display_data"
    },
    {
     "data": {
      "text/plain": [
       "<Figure size 2730x1040 with 0 Axes>"
      ]
     },
     "metadata": {},
     "output_type": "display_data"
    },
    {
     "data": {
      "text/plain": [
       "<Figure size 3150x1200 with 0 Axes>"
      ]
     },
     "metadata": {},
     "output_type": "display_data"
    },
    {
     "data": {
      "text/plain": [
       "<Figure size 2730x1040 with 0 Axes>"
      ]
     },
     "metadata": {},
     "output_type": "display_data"
    },
    {
     "data": {
      "text/plain": [
       "<Figure size 3150x1200 with 0 Axes>"
      ]
     },
     "metadata": {},
     "output_type": "display_data"
    },
    {
     "data": {
      "text/plain": [
       "<Figure size 2730x1040 with 0 Axes>"
      ]
     },
     "metadata": {},
     "output_type": "display_data"
    },
    {
     "data": {
      "text/plain": [
       "<Figure size 3150x1200 with 0 Axes>"
      ]
     },
     "metadata": {},
     "output_type": "display_data"
    },
    {
     "data": {
      "text/plain": [
       "<Figure size 2730x1040 with 0 Axes>"
      ]
     },
     "metadata": {},
     "output_type": "display_data"
    },
    {
     "data": {
      "text/plain": [
       "<Figure size 3150x1200 with 0 Axes>"
      ]
     },
     "metadata": {},
     "output_type": "display_data"
    },
    {
     "data": {
      "text/plain": [
       "<Figure size 2730x1040 with 0 Axes>"
      ]
     },
     "metadata": {},
     "output_type": "display_data"
    },
    {
     "data": {
      "text/plain": [
       "<Figure size 3150x1200 with 0 Axes>"
      ]
     },
     "metadata": {},
     "output_type": "display_data"
    },
    {
     "data": {
      "text/plain": [
       "<Figure size 2730x1040 with 0 Axes>"
      ]
     },
     "metadata": {},
     "output_type": "display_data"
    },
    {
     "data": {
      "text/plain": [
       "<Figure size 3150x1200 with 0 Axes>"
      ]
     },
     "metadata": {},
     "output_type": "display_data"
    },
    {
     "data": {
      "text/plain": [
       "<Figure size 2730x1040 with 0 Axes>"
      ]
     },
     "metadata": {},
     "output_type": "display_data"
    },
    {
     "data": {
      "text/plain": [
       "<Figure size 3150x1200 with 0 Axes>"
      ]
     },
     "metadata": {},
     "output_type": "display_data"
    },
    {
     "data": {
      "text/plain": [
       "<Figure size 2730x1040 with 0 Axes>"
      ]
     },
     "metadata": {},
     "output_type": "display_data"
    },
    {
     "data": {
      "text/plain": [
       "<Figure size 3150x1200 with 0 Axes>"
      ]
     },
     "metadata": {},
     "output_type": "display_data"
    },
    {
     "data": {
      "text/plain": [
       "<Figure size 2730x1040 with 0 Axes>"
      ]
     },
     "metadata": {},
     "output_type": "display_data"
    },
    {
     "data": {
      "text/plain": [
       "<Figure size 3150x1200 with 0 Axes>"
      ]
     },
     "metadata": {},
     "output_type": "display_data"
    },
    {
     "data": {
      "text/plain": [
       "<Figure size 2730x1040 with 0 Axes>"
      ]
     },
     "metadata": {},
     "output_type": "display_data"
    },
    {
     "data": {
      "text/plain": [
       "<Figure size 3150x1200 with 0 Axes>"
      ]
     },
     "metadata": {},
     "output_type": "display_data"
    },
    {
     "data": {
      "text/plain": [
       "<Figure size 2730x1040 with 0 Axes>"
      ]
     },
     "metadata": {},
     "output_type": "display_data"
    },
    {
     "data": {
      "text/plain": [
       "<Figure size 3150x1200 with 0 Axes>"
      ]
     },
     "metadata": {},
     "output_type": "display_data"
    },
    {
     "data": {
      "text/plain": [
       "<Figure size 2730x1040 with 0 Axes>"
      ]
     },
     "metadata": {},
     "output_type": "display_data"
    },
    {
     "data": {
      "text/plain": [
       "<Figure size 3150x1200 with 0 Axes>"
      ]
     },
     "metadata": {},
     "output_type": "display_data"
    },
    {
     "data": {
      "text/plain": [
       "<Figure size 2730x1040 with 0 Axes>"
      ]
     },
     "metadata": {},
     "output_type": "display_data"
    },
    {
     "data": {
      "text/plain": [
       "<Figure size 3150x1200 with 0 Axes>"
      ]
     },
     "metadata": {},
     "output_type": "display_data"
    },
    {
     "data": {
      "text/plain": [
       "<Figure size 2730x1040 with 0 Axes>"
      ]
     },
     "metadata": {},
     "output_type": "display_data"
    },
    {
     "data": {
      "text/plain": [
       "<Figure size 3150x1200 with 0 Axes>"
      ]
     },
     "metadata": {},
     "output_type": "display_data"
    },
    {
     "data": {
      "text/plain": [
       "<Figure size 2730x1040 with 0 Axes>"
      ]
     },
     "metadata": {},
     "output_type": "display_data"
    },
    {
     "data": {
      "text/plain": [
       "<Figure size 3150x1200 with 0 Axes>"
      ]
     },
     "metadata": {},
     "output_type": "display_data"
    },
    {
     "data": {
      "text/plain": [
       "<Figure size 2730x1040 with 0 Axes>"
      ]
     },
     "metadata": {},
     "output_type": "display_data"
    },
    {
     "data": {
      "text/plain": [
       "<Figure size 3150x1200 with 0 Axes>"
      ]
     },
     "metadata": {},
     "output_type": "display_data"
    },
    {
     "data": {
      "text/plain": [
       "<Figure size 2730x1040 with 0 Axes>"
      ]
     },
     "metadata": {},
     "output_type": "display_data"
    },
    {
     "data": {
      "text/plain": [
       "<Figure size 3150x1200 with 0 Axes>"
      ]
     },
     "metadata": {},
     "output_type": "display_data"
    },
    {
     "data": {
      "text/plain": [
       "<Figure size 2730x1040 with 0 Axes>"
      ]
     },
     "metadata": {},
     "output_type": "display_data"
    },
    {
     "data": {
      "text/plain": [
       "<Figure size 3150x1200 with 0 Axes>"
      ]
     },
     "metadata": {},
     "output_type": "display_data"
    },
    {
     "data": {
      "text/plain": [
       "<Figure size 2730x1040 with 0 Axes>"
      ]
     },
     "metadata": {},
     "output_type": "display_data"
    },
    {
     "data": {
      "text/plain": [
       "<Figure size 3150x1200 with 0 Axes>"
      ]
     },
     "metadata": {},
     "output_type": "display_data"
    },
    {
     "data": {
      "text/plain": [
       "<Figure size 2730x1040 with 0 Axes>"
      ]
     },
     "metadata": {},
     "output_type": "display_data"
    },
    {
     "data": {
      "text/plain": [
       "<Figure size 3150x1200 with 0 Axes>"
      ]
     },
     "metadata": {},
     "output_type": "display_data"
    },
    {
     "data": {
      "text/plain": [
       "<Figure size 2730x1040 with 0 Axes>"
      ]
     },
     "metadata": {},
     "output_type": "display_data"
    },
    {
     "data": {
      "text/plain": [
       "<Figure size 3150x1200 with 0 Axes>"
      ]
     },
     "metadata": {},
     "output_type": "display_data"
    },
    {
     "data": {
      "text/plain": [
       "<Figure size 2730x1040 with 0 Axes>"
      ]
     },
     "metadata": {},
     "output_type": "display_data"
    },
    {
     "data": {
      "text/plain": [
       "<Figure size 3150x1200 with 0 Axes>"
      ]
     },
     "metadata": {},
     "output_type": "display_data"
    },
    {
     "data": {
      "text/plain": [
       "<Figure size 2730x1040 with 0 Axes>"
      ]
     },
     "metadata": {},
     "output_type": "display_data"
    },
    {
     "data": {
      "text/plain": [
       "<Figure size 3150x1200 with 0 Axes>"
      ]
     },
     "metadata": {},
     "output_type": "display_data"
    },
    {
     "data": {
      "text/plain": [
       "<Figure size 2730x1040 with 0 Axes>"
      ]
     },
     "metadata": {},
     "output_type": "display_data"
    },
    {
     "data": {
      "text/plain": [
       "<Figure size 3150x1200 with 0 Axes>"
      ]
     },
     "metadata": {},
     "output_type": "display_data"
    },
    {
     "data": {
      "text/plain": [
       "<Figure size 2730x1040 with 0 Axes>"
      ]
     },
     "metadata": {},
     "output_type": "display_data"
    },
    {
     "data": {
      "text/plain": [
       "<Figure size 3150x1200 with 0 Axes>"
      ]
     },
     "metadata": {},
     "output_type": "display_data"
    },
    {
     "data": {
      "text/plain": [
       "<Figure size 2730x1040 with 0 Axes>"
      ]
     },
     "metadata": {},
     "output_type": "display_data"
    },
    {
     "data": {
      "text/plain": [
       "<Figure size 3150x1200 with 0 Axes>"
      ]
     },
     "metadata": {},
     "output_type": "display_data"
    },
    {
     "data": {
      "text/plain": [
       "<Figure size 2730x1040 with 0 Axes>"
      ]
     },
     "metadata": {},
     "output_type": "display_data"
    },
    {
     "data": {
      "text/plain": [
       "<Figure size 3150x1200 with 0 Axes>"
      ]
     },
     "metadata": {},
     "output_type": "display_data"
    },
    {
     "data": {
      "text/plain": [
       "<Figure size 2730x1040 with 0 Axes>"
      ]
     },
     "metadata": {},
     "output_type": "display_data"
    },
    {
     "data": {
      "text/plain": [
       "<Figure size 3150x1200 with 0 Axes>"
      ]
     },
     "metadata": {},
     "output_type": "display_data"
    },
    {
     "data": {
      "text/plain": [
       "<Figure size 2730x1040 with 0 Axes>"
      ]
     },
     "metadata": {},
     "output_type": "display_data"
    },
    {
     "data": {
      "text/plain": [
       "<Figure size 3150x1200 with 0 Axes>"
      ]
     },
     "metadata": {},
     "output_type": "display_data"
    },
    {
     "data": {
      "text/plain": [
       "<Figure size 2730x1040 with 0 Axes>"
      ]
     },
     "metadata": {},
     "output_type": "display_data"
    },
    {
     "data": {
      "text/plain": [
       "<Figure size 3150x1200 with 0 Axes>"
      ]
     },
     "metadata": {},
     "output_type": "display_data"
    }
   ],
   "source": [
    "import json\n",
    "from datetime import datetime\n",
    "from pathlib import Path\n",
    "\n",
    "import matplotlib.pyplot as plt\n",
    "import seaborn as sns\n",
    "from sklearn.ensemble import RandomForestClassifier\n",
    "from sklearn.metrics import classification_report, confusion_matrix\n",
    "\n",
    "N_TRY = 20\n",
    "prop_name = \"Material type\"\n",
    "# Experiment 1: Use Fourier features\n",
    "print(\"training for property:\", prop_name)\n",
    "\n",
    "for ratio in [1.0, 0.9, 0.8, 0.7, 0.6, 0.5, 0.4, 0.3, 0.2]:\n",
    "    base_dir = Path(f\"logs/classification/{prop_name}/{datetime.now().strftime('%m%d_%H%M')}_r{ratio}\")\n",
    "\n",
    "    mask = all_data[f\"{prop_name}\"].notnull()\n",
    "    org_splits = all_data.loc[mask, \"split\"]\n",
    "    prop = all_data.loc[mask, f\"{prop_name}\"]\n",
    "\n",
    "    for n_try in range(N_TRY):\n",
    "        # 1. Setup logging directory\n",
    "        version = f\"trial_{n_try + 1}\"\n",
    "        save_dir = base_dir / \"predictions\" / version\n",
    "        save_dir.mkdir(parents=True, exist_ok=True)\n",
    "\n",
    "        splits = swap_train_val_split(org_splits, swap_ratio=0.5, random_seed=None, train_ratio=ratio)\n",
    "        splits.to_csv(f\"{save_dir}/data_split.csv\")\n",
    "\n",
    "        X_train = desc_trans.loc[splits[splits == \"train\"].index]\n",
    "        y_train = prop.loc[splits[splits == \"train\"].index]\n",
    "        X_test = desc_trans.loc[splits[splits == \"test\"].index]\n",
    "        y_test = prop.loc[splits[splits == \"test\"].index]\n",
    "\n",
    "        # 编码类别\n",
    "        le = preprocessing_object[\"material_type_label_encoder\"]\n",
    "        y_train_enc = le.transform(y_train)\n",
    "        y_test_enc = le.transform(y_test)\n",
    "\n",
    "        # 训练随机森林分类器\n",
    "        clf = RandomForestClassifier(\n",
    "            n_estimators=300, random_state=n_try, bootstrap=True, max_features=\"sqrt\", n_jobs=60\n",
    "        )\n",
    "        clf = clf.fit(X_train, y_train_enc)\n",
    "        y_pred_enc = clf.predict(X_test)\n",
    "        y_fit_pred_enc = clf.predict(X_train)\n",
    "        y_pred, y_true = le.inverse_transform(y_pred_enc), y_test.values\n",
    "        y_fit_pred, y_fit_true = le.inverse_transform(y_fit_pred_enc), y_train.values\n",
    "\n",
    "        # 保存预测结果\n",
    "        results = pd.concat(\n",
    "            [\n",
    "                pd.DataFrame({\"y_true\": y_fit_true, \"y_pred\": y_fit_pred, \"label\": \"train\"}, index=X_train.index),\n",
    "                pd.DataFrame({\"y_true\": y_true, \"y_pred\": y_pred, \"label\": \"test\"}, index=X_test.index),\n",
    "            ]\n",
    "        )\n",
    "        results.to_parquet(save_dir / \"clf_predictions.parquet\")\n",
    "        results.to_csv(save_dir / \"clf_predictions.csv\")\n",
    "\n",
    "        # 保存模型\n",
    "        joblib.dump(clf, save_dir / \"clf_model.pkl.z\")\n",
    "\n",
    "        test_report = classification_report(y_test, y_pred, target_names=le.classes_, digits=4, output_dict=True)\n",
    "        train_report = classification_report(\n",
    "            y_fit_true, y_fit_pred, target_names=le.classes_, digits=4, output_dict=True\n",
    "        )\n",
    "\n",
    "        # 混淆矩阵\n",
    "        fig, (ax1, ax2) = plt.subplots(1, 2, figsize=(21, 8), sharey=True, dpi=130)\n",
    "        plt.subplots_adjust(wspace=0.05)\n",
    "\n",
    "        # Confusion matrix\n",
    "        cm = confusion_matrix(y_true, y_pred, labels=le.classes_)\n",
    "        hm1 = sns.heatmap(\n",
    "            cm,\n",
    "            annot=True,\n",
    "            fmt=\"d\",\n",
    "            cmap=\"Blues\",\n",
    "            xticklabels=le.classes_,\n",
    "            yticklabels=le.classes_,\n",
    "            ax=ax1,\n",
    "            annot_kws={\"size\": 13},\n",
    "        )\n",
    "        ax1.set_xlabel(\"Predicted\", fontsize=18)\n",
    "        ax1.set_ylabel(\"True\", fontsize=18)\n",
    "        ax1.set_title(f\"{prop_name}\", fontsize=18)\n",
    "        ax1.tick_params(axis=\"both\", labelsize=13)\n",
    "        cbar1 = hm1.collections[0].colorbar\n",
    "        cbar1.ax.tick_params(labelsize=13)\n",
    "\n",
    "        # Normalized confusion matrix\n",
    "        cm_norm = confusion_matrix(y_test, y_pred, labels=le.classes_, normalize=\"true\")\n",
    "        hm2 = sns.heatmap(\n",
    "            cm_norm,\n",
    "            annot=True,\n",
    "            fmt=\".2f\",\n",
    "            cmap=\"Blues\",\n",
    "            xticklabels=le.classes_,\n",
    "            yticklabels=le.classes_,\n",
    "            ax=ax2,\n",
    "            annot_kws={\"size\": 13},\n",
    "        )\n",
    "        ax2.set_xlabel(\"Predicted\", fontsize=18)\n",
    "        ax2.set_title(f\"{prop_name} (Normalized)\", fontsize=18)\n",
    "        ax2.tick_params(axis=\"both\", labelsize=13)\n",
    "        cbar2 = hm2.collections[0].colorbar\n",
    "        cbar2.ax.tick_params(labelsize=13)\n",
    "\n",
    "        _ = fig.savefig(f\"{save_dir}/test_cm.png\", bbox_inches=\"tight\")\n",
    "        plt.cla()\n",
    "        plt.clf()\n",
    "\n",
    "        # 分类指标\n",
    "        print(classification_report(y_true, y_pred, target_names=le.classes_, digits=4))\n",
    "\n",
    "        # 混淆矩阵\n",
    "        fig, (ax1, ax2) = plt.subplots(1, 2, figsize=(21, 8), sharey=True, dpi=150)\n",
    "        plt.subplots_adjust(wspace=0.05)\n",
    "\n",
    "        # Confusion matrix\n",
    "        cm = confusion_matrix(y_fit_true, y_fit_pred, labels=le.classes_)\n",
    "        hm1 = sns.heatmap(\n",
    "            cm,\n",
    "            annot=True,\n",
    "            fmt=\"d\",\n",
    "            cmap=\"Blues\",\n",
    "            xticklabels=le.classes_,\n",
    "            yticklabels=le.classes_,\n",
    "            ax=ax1,\n",
    "            annot_kws={\"size\": 15},\n",
    "        )\n",
    "        ax1.set_xlabel(\"Predicted\", fontsize=18)\n",
    "        ax1.set_ylabel(\"True\", fontsize=18)\n",
    "        ax1.set_title(f\"{prop_name}\", fontsize=18)\n",
    "        ax1.tick_params(axis=\"both\", labelsize=13)\n",
    "        cbar1 = hm1.collections[0].colorbar\n",
    "        cbar1.ax.tick_params(labelsize=13)\n",
    "\n",
    "        # Normalized confusion matrix\n",
    "        cm_norm = confusion_matrix(y_fit_true, y_fit_pred, labels=le.classes_, normalize=\"true\")\n",
    "        hm2 = sns.heatmap(\n",
    "            cm_norm,\n",
    "            annot=True,\n",
    "            fmt=\".2f\",\n",
    "            cmap=\"Blues\",\n",
    "            xticklabels=le.classes_,\n",
    "            yticklabels=le.classes_,\n",
    "            ax=ax2,\n",
    "            annot_kws={\"size\": 13},\n",
    "        )\n",
    "        ax2.set_xlabel(\"Predicted\", fontsize=18)\n",
    "        ax2.set_title(f\"{prop_name} (Normalized)\", fontsize=18)\n",
    "        ax2.tick_params(axis=\"both\", labelsize=13)\n",
    "        cbar2 = hm2.collections[0].colorbar\n",
    "        cbar2.ax.tick_params(labelsize=13)\n",
    "\n",
    "        _ = fig.savefig(f\"{save_dir}/train_cm.png\", bbox_inches=\"tight\")\n",
    "        plt.cla()\n",
    "        plt.clf()\n",
    "\n",
    "        print(classification_report(y_fit_true, y_fit_pred, target_names=le.classes_, digits=4))\n",
    "\n",
    "        metrics = {\"train\": train_report, \"test\": test_report}\n",
    "        with open(f\"{save_dir}/metrics.json\", \"w\") as f:\n",
    "            json.dump(metrics, f, indent=2)\n"
   ]
  },
  {
   "cell_type": "code",
   "execution_count": null,
   "id": "8d57a3d6",
   "metadata": {},
   "outputs": [],
   "source": []
  }
 ],
 "metadata": {
  "kernelspec": {
   "display_name": "foundation_model",
   "language": "python",
   "name": "python3"
  },
  "language_info": {
   "codemirror_mode": {
    "name": "ipython",
    "version": 3
   },
   "file_extension": ".py",
   "mimetype": "text/x-python",
   "name": "python",
   "nbconvert_exporter": "python",
   "pygments_lexer": "ipython3",
   "version": "3.12.3"
  }
 },
 "nbformat": 4,
 "nbformat_minor": 5
}
