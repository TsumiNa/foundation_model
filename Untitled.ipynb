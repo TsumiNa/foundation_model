{
 "cells": [
  {
   "cell_type": "code",
   "execution_count": 2,
   "id": "36e35519-eee6-4f9b-a0a0-006e513ba1ea",
   "metadata": {},
   "outputs": [],
   "source": [
    "import pandas as pd\n",
    "import numpy as np\n",
    "import joblib"
   ]
  },
  {
   "cell_type": "code",
   "execution_count": 5,
   "id": "49ca0f51-4315-4f68-8672-c3dfd92b7f7f",
   "metadata": {},
   "outputs": [],
   "source": [
    "a = joblib.load('scaling_results.pkl.z')"
   ]
  },
  {
   "cell_type": "code",
   "execution_count": 9,
   "id": "cc2e09b5",
   "metadata": {},
   "outputs": [
    {
     "data": {
      "text/plain": [
       "55"
      ]
     },
     "execution_count": 9,
     "metadata": {},
     "output_type": "execute_result"
    }
   ],
   "source": [
    "len(a)\n"
   ]
  },
  {
   "cell_type": "code",
   "execution_count": 10,
   "id": "83800025",
   "metadata": {},
   "outputs": [],
   "source": [
    "a = {}"
   ]
  },
  {
   "cell_type": "code",
   "execution_count": 11,
   "id": "cf3bff9d",
   "metadata": {},
   "outputs": [],
   "source": [
    "a.update({'a': 1})"
   ]
  },
  {
   "cell_type": "code",
   "execution_count": 12,
   "id": "b00af3a8",
   "metadata": {},
   "outputs": [
    {
     "data": {
      "text/plain": [
       "{'a': 1}"
      ]
     },
     "execution_count": 12,
     "metadata": {},
     "output_type": "execute_result"
    }
   ],
   "source": [
    "a"
   ]
  },
  {
   "cell_type": "code",
   "execution_count": null,
   "id": "d21aab48",
   "metadata": {},
   "outputs": [],
   "source": [
    "a = np.array([1, 2, 3])\n",
    "b = np.array([4, 0, 6])"
   ]
  }
 ],
 "metadata": {
  "kernelspec": {
   "display_name": "crygen",
   "language": "python",
   "name": "crygen"
  },
  "language_info": {
   "codemirror_mode": {
    "name": "ipython",
    "version": 3
   },
   "file_extension": ".py",
   "mimetype": "text/x-python",
   "name": "python",
   "nbconvert_exporter": "python",
   "pygments_lexer": "ipython3",
   "version": "3.11.6"
  }
 },
 "nbformat": 4,
 "nbformat_minor": 5
}
